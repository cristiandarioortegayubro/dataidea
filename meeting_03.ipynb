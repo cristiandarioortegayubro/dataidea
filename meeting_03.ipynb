{
  "nbformat": 4,
  "nbformat_minor": 0,
  "metadata": {
    "colab": {
      "name": "meeting_03.ipynb",
      "provenance": [],
      "collapsed_sections": [],
      "authorship_tag": "ABX9TyNHkUGecCih27l7YaZOqaPa",
      "include_colab_link": true
    },
    "kernelspec": {
      "name": "python3",
      "display_name": "Python 3"
    },
    "language_info": {
      "name": "python"
    }
  },
  "cells": [
    {
      "cell_type": "markdown",
      "metadata": {
        "id": "view-in-github",
        "colab_type": "text"
      },
      "source": [
        "<a href=\"https://colab.research.google.com/github/cristiandarioortegayubro/dataidea/blob/main/meeting_03.ipynb\" target=\"_parent\"><img src=\"https://colab.research.google.com/assets/colab-badge.svg\" alt=\"Open In Colab\"/></a>"
      ]
    },
    {
      "cell_type": "markdown",
      "metadata": {
        "id": "GTX990AbkZ4O"
      },
      "source": [
        "<center>\n",
        "\n",
        "![Logo.png](data:image/png;base64,iVBORw0KGgoAAAANSUhEUgAAATQAAAEzCAYAAAC/hP8nAAAACXBIWXMAAAsTAAALEwEAmpwYAAAgAElEQVR4nOy9e3xU533n/3nOZW4aSaO7kAAdkARIIAEChLlYc4xd3Dj52Q2bOq3bRErSpt0k23Sb3Wx3s7tRut02adPm8kudJvFFOI4TOw4JxMYG2/JI5ipAgLgIEJcjhJCEhK5zP5dn/xhBwIA0MxppRqPn/XrNy3hmzjnPHJ3zOd/n+3wvBAzGA2hr7XCqnqDs9frhdYdefq8ffm8w9PIFEfSHXoGgBi2oQdM0aBpgGAZgGDAMADDG98iB4wCO40IvARAEAYJJgNkkwGQxwWIxwZJiCv3bZoHNboLNboHNboPVbHFV1ZQ1xfGUMBIcEu8BMBKD1gPtzps9g3Lv9QEMdA9j+OaYNDw4Jo8MuiWP24egX4Ua1BAMqNA0HYZugFIKalBQitC/QQEa4YEJQEBACAHhbv03JHqiKEA0iTBZBJjNIlJSLUpaZqorIyNVceSmIbcwE7kF2cjISXNVbWRCx2CCNudoaW5z9nUPyb3KDVzvHEDf9UEMDgxLIzfdctAflDRVh64bAKUhbbr931t7CAnYTEAIcPsSJeP/IgQEAOEIeJ4HL3Aw20yKIzPNlZnjUPLmZ6JgQTbypWzMW5DLhG6OwQQtiWltbnN2dfbLVzt60X31Bvp7hiXvqFf2eQPSLYtLVTUYmgHdMELWVjRWVpy4JXghcePA8xwEUYBoEWA2mWBNMSupDpsrJz9LKSzKxsIlBZhXxEQumWGClkQc2Nvq7O8Zkq8rN3Dtar/Ue3VAHh4cldwjXgR8KjRVg2FQ0JkyseIMIQQcz0EUeZitJtjTbcjMTlfmFWW7ChbmKQVSNvLmZbmqt1QygUsSmKDNchp3HXB2nOqWL5zplHqUG/Jg/4jkGfNB14w5I1yRQgiBaBKQkmpFVm66UrA4z7VkxUKldPkCV80T1UzcZjFM0GYZrc1tzo72bvncscu4cOaqdLN/RPZ7A5KhGzB0AwYdt8CYlk0IIRhfgODAjU9ZrakWJWdepmtJ+UJl2ZrFWLR0PpuezjKYoM0Cmne3OM+f6pQvnr0m9V0dkIdvjkqeMT8C/iB0TYdhMPWKBRzHQRB5mCwi7Gk2ZGSlKfkLslylK4uUpcuLXBu3VjFxS3CYoCUoLY1tzisd3fLZ1kvS5XPdcv/1Qcnr9kNTdTaVnCEIRyCKAmypVuQVZiolZQtcZWuLlQXFea7qGuZ3S0SYoCUYO17a6zy5v6PuQlun3Nc9IAV8aihIlRF3OJ6D1WZG3oJspaxKclVtWtLwxNNbmLAlEEzQEoDGXS3O4/vOyG2Hz0t9PcNywBuUNFWDrjPHfqJxK0REEAVY7WYlvyDTtXLDMmX1xqVsQSEBYIIWJ1oPtDvPHLkgn2m9LHVd7JVv3hgOTSk1HZT5xGYFHEfACzzsaVZk5WcoUkmhq3ztImX5msWuymq2mBAPmKDNMC3Nbc62AxfqWppOy1cv9UreMR9UVWOrkrOcW6Eg9nQbpCUFyjp5haty/dIGtko6szBBmyEad7U4D77TWnfiwAX5Rs+gFAyo8R4SYxqx2EyYtyBbqdpU7tr4eysb2ArpzMAEbZrZ9Uqjc/+bx+vOtSmye9QrBQMqC3qdAxCOQBB4mMwi0hwpStmaYpfzo6satm6rYcI2jTBBmyZee2Gv8+S+s3UXTl2VB2+MSH5vgMWLzVE4noM1xYyc/AxlaaXkqtxU1rDt02x1dDpgghZjdr/W7HxvR0vdubYr8sjAqGQYxoxVp2AkNrdySzOzU5UV60pdj22rbtjy5EYmbDGECVqM2PVKo7NpV0vdqZbLsmfMJ7HYMcZE8DwHuyNFWbVxmWvLk9UNW7cxYYsFTNCmyO7Xmp3v7zxSd+GUIo8Ne6SAX4WhMzFjTAwhoVQrs9WE9MxUpaxqsevRpx5q2PIki2WbCkzQoqRxd4vz6Hun6k4cPC/3dd9kPjJG1HAcB5vdjHkLc5SqzWWuaucKtioaJUzQouDZb7xae/Dd4/VXL/VKwaDKYsgYMYEQArNFxKKlBcrmj66p/+zfbNse7zHNNpigRcBrL+x1vv2zprrOi72y3xeU2NSSEWtuTUWtdotSWrbA9ft/srnhyWfYimi4MEELg8ZdB5zv7mipaz9+WR7sH5VuVX5lMKYLjuNgMgvIzHUoFQ8tcW35g/UNNWwaOilM0CagraXD2dJ4sq7pzaNyT9eA5HX7WUAsY0YhhCAlzYr5i3IV+cnq+tovP8WmoRPABO0BvPXqvtq3Xvug/nRLhxTwB5lFxogrHMfBkmJS1m4qdz3+yYfZaugDYIJ2H/71q9tr973TWn+zb1hSg6ygIiMxIIRANAvIn5+lOJ+orv/C1z/JrLUPwQTtDna91Oh87zeH6y6c6ZTdIz5JU7V4D4nBuAfRJCA1I0VZVim5Hn96MwvKvQMmaADaWzucrjeO1TXtPiJ3K/0SSx5nJDqEEAgijwUl85RHP17NQjzGmfOCtm/P0dpfPf9O/ZmjlyX3qJflXTJmFwRIz0xVVm1Y6tr2ud9vqK6Z2/XX5rSgvfy9nbW//Vlzfd/1QUkNaKx2P2NWwvEczBYR84pylY/XPlL/iT97fM5aa3NS0Fqa25zv/epQ3ZHms3J/z6CkazqzzBizmltT0PwF2cqGLRWuR7dtaqisLp1z1tqcE7Smt47Wvv7jt+vPneiUPGM+5itjJBWEI0hzpKCyeonyHz7/eP1654o5Za3NKUF7+Qdv1L7xclN916VeVt6HkdTwAo/isvnKU5/eUr/ts4/NGVGbM4L27a+8UPvB3uP1QwOjEmtKwkh2bjVtyc53KI8+tWHOxKwlvaC1NLY5f/vz5rpjzWfksWGPpGl6vIfEYMwYgiggI8uurH+swvWRTzqTvgtVUgta0xuHa1/90Tv1p450jDv+mVnGmHsQjsBkElC1uVz5w798vH7DIyuT1lpLWkF7/bk9tbt+2lR/+VyXpGvMX8ZgCAKPZasWKU99dkv9xz7pTEpRS0pBe+5br9e+9eq++pt9I1IgEGT+MgYDoVprZqsZeYUZypOffqz+mS98JOlEjY/3AGLNs994tXbP6/vrB3qGQ9VkGQzGbTRVh88TcHRf6V31la/81+Gde149Ge8xxZKkErR/+Ksf1e799cH6gd5hFpbBYDwAXTcwOuR2dF7oWfWXf/al4T37fpM0opY0gvbfP/O92kPvnqwfG/FIbIrJYEyO3xtwXFf6V33mT/58+L3DbySFqM16QWs90O50BEvqW/edrfOO+SRWiJHBCA9KAS2oOXqu3Vz1qac/O+w6+uasF7VZvShwdN/p2h3Pv1t/uPGU5PMGQJmYMRgRw/EcbHaL4vzIGte2z9XUl1eVd8Z7TNEixHsA0XLycHttw7/sqj958Lzk8wbiPZxZBccBhAuteiUjlAKGDlZwIEwM3YB7xCu53jxa5/X4AeAz8R5TtMzKS/r4wfba5/7xV/XnTl5hllmE8DxgTzeQk2+AF5LwvBECTQX6rnHwejgYLDEkbDiOwJZqVSo3LK3/l5/9l1kZ0jHrBO3gu8drX/3hnvq2Ix1SwBdkNcwixJpCsd4ZxEc/6YdgArQki2wRTUDAT/Dac1acPiog4J91l3hc4XgOthSLsqam3PX05x+vr9o0u6afs2rK2Xqg3fmLf9tdf/LwBSngD7JUpigQBCAz20BRqYZL7SZ0K1y8hxQ7CMWiJRoWL9GQnmEGP+uXvGYeQzfgGfNJR94/XWe2mIBZNv2cVYL20nd21p08dEHy+5jPbCpQAD4Ph/ffFOHabU6aKBeOAz72ST/yC1mdu6lAKYXX48e+Pa3y1z73vdr/+/yXZ830c9YI2n/+42/Xnj50Xg76g/EeSlJAAegaoAVJ0jjPCUehs0ZdMcPvCUrHXGfr//fnf4C/+/GXZoWoJfx8o3X/2aL/9ec/eLHtYHu91+NncWYxhtJkepHx38SukVhgGAbcbq90+L1T9d/6z8/Vxns84ZDwgvbWa831B989Ued1+yVDZwsADMZMomsGxkY80vtvHKn/3tdeTnhRS2hB+/ZXX6j94K0TsmfUxypmMCaGAGT8ImHrmrGFUoqRQbf07m8O1j/7968ktKglrA/tuW+9Xrtz+/v1nhGvFO+xJCOiSJGZY2DBYh2gs/95QQAQQuHIMsAn7FU9uxm+6Zbe+eWh+leefQPPfOFjCelTS8g//evP7an9+Q/fqh8ZcrOS2TGGUkDXCAhH8chHg6hYm0T9FQiQX6jDoASGnjyLHYmCpmoYHBiVfvtyc/0brzYhEYtEJlykzluvNtX+4tm367su9zGf2TTACYDNDtjsFGog+SZn7lEOVy/zOHnYhIEbHHQt+X5jPNE1AyODbkfv1YFV3//Bt4cbXnkuoRLaE+qv3dLY5tz+3V0NJw+dl3QmZtMCIQDHA6KZJtYfP4ZQAKqfQDeQPNZngiEIPKofrVRq//qpukRqaJxQU85X/m133YVTnUzMppHQlBMw9GSVsxBsujm96LqO0y0XpF88+2YdgIQRtIRZ5fz2V1+oPXP8kuxx++I9lDlB/GPGpvfFmF4oBdwjXrQeOCf/6O9fTZiVz4QQtO3f21n7zq8O13vdfolVzmAwZgeGQeEe8Uq7Xmmq37H93YQQtbgL2hsvv1+7+5Xm+rFRD1sEYDBmGbqmY7h/VPrNC+/Vv7vzcNxFLa6C1tLc5tz92v76vu5BZpkxGLMUw6C4dqVPeusXTfVtLR3OeI4lrmEbhaYV9W2HL8hetz+ew2AwGFNEU3W4R3wOg+rYu3/nzniNI24W2nPffr32wDsn5bERb7yGwGAwYsjI4Bje33VEfvVHe+I29YyLoO15fV/tW6/sr/d6/BKrjMBgJAeGQTE25JF2vvReffPe1rhMPWd8ytl6oN2547l3v3vx7FVJ19giAIORTFBK4RnzOYLeAD448faMTz1nXNAW2lfWH20+I/s8rOosg5GM6HooPepLX/zr4bebdsxoatSMTjl3bH+39tgHZ+XRYc9MHpbBYMwwwzfHpEPvnKzfu+PAjE49Z8xCa2vpcDZ8+zff7bk6IOmsggaDkfQEfEHHQO8wjlxonLGp54zlcr75s/frOjuuS8FAkvVNm2VwPGCxUNjsNGm7Imka4HETBP0ErMth/Aj4g+g4fUX+3v9+ufbLf/enM1JqaEYE7fXn9tS+9J1dcjCgsnrvcUYUKZZUaHhIDkI0JV+SOsdTBAJA81smXDonwAgm1++bTRgGhc8TlJrfOFa/+7Vm5Ymna6Y9iX3aBa31QLvz+X/aUT/QN8JCNBIA0QwUlWj4yCd8CAYJxkZ5gCaJGUM4pDsMcBzFhVMCrl4CVNYkLK7ouoGern6paeeROsxAVY5pF7TdP3PVdZzqZGKWKNCQfrnHOOz6mRWHXGLSVKfgOOCRjwWw9eOhzJMk+VmzHmpQnDraIX/vay/Xfvn/Tu/Uc1oFbfdrzc7nv7lD9o6xkkAJBQU0jeBmP0HXZSGJBI1i+CbHenMmIGPDXqnFdaq+eXeLUvNE9bRZatMqaHt+sb9uqH+UFWxMUJKtfphBWR+BREXTdPR135Tefu1AHaZx6jltcWgv/2BnbdvhC7Lfx5wYDAYD8Hn8ONJ0Rt758vvTlus5LYLWvLfV+dbPD9YHgirznTEYDAC3Vj390ps/a6pvbW6bloDbaZlyHnrnZF1PVz+rcZaokJC/KcVOkZltJM00jXCALYWC41ioRqJiGBRXzndLh11n6zANU8+YC9reXQecDd/6jezzsBpniQqlAC8AqzdoyMhKgi7DwHinYWDJCg2EJI9fMNmglMI94sWRpjNyS2Obs3pLZUxFLeaC9vbPmut6rg5Isd4vIzYYBuD3cRgbIVhcpqKoNLnS0ATBwPAQQcDPFggSmauXeqTf/ry5DjG20mIqaDte2Ot8/ts75aCfpTclKsEAwfFDInqv2SGI8R7N9KAGge5OHirLEkhY/N4ATrd0yHt3HHBu3bYxZqIWU0FrevNYnXfUKxksgS5h0VRgoJfDzb6498eZVph1ltjouoHRIbfk2tVShxhaaTG7ql9/bk/tqZYOOcCSz2cF8e6byfpyMvy+II40n5FjWWIoJoLWeqDd2bjzSL3fF2QrmwwGIywMw4BnzCfteW1fXaz2GRNBO77/rHz5/DUWc8ZgMCKCGhTn2hT5tR/vjomVFhsLbd85aYxVoWUwGFEwctMtHWtqr4vFvqYsaC/80w7n1Y7rMut6zmAwokHXdHScvSq/9sLeKVtpU65ZmqGX1PdduymzBHQGgxEtWlBzeEZ9OHJ+auW6p2ShvfLsbmdP54CsBlm9FgaDET3BgIrOC9flXa80TslKm5KFli+U1V/v7JdZ0xMGgzEVxsNtHIZGsb9tT9RWWtQW2q6XGp0X2jplVWXWGYPBmDrBgIqTh8/Ljbuij0uLWtAOvHeyzuvxs7gzBoMRE6hhwD3skQ6+d7ou2n1Elfq065VG5/Zv72Irm7MQQkIvjg/9NxmhFDB0wKBIjkoicwRKQylRp1s65MZdB5xbnow8xzMqQTvWdLbu5o0RKZptGfGF4wFHhoGcAgOCkHxpQoQAqkrR28XDPcpBZ+7dWceN7kGp9YPzdYgixzNiQTvQ2Or8t6+/xipqzFIsVopqOYg//aIXKXYDlCaXmcZxBKPDBP/+zRQcOyBC9yTX75sL+LwBXDjVKbe1dDgrq0sjErWIBe34B+flwRvDLM1plkIIIAoUPE9w8D0Tzp8Wk2ZaRjigYq2K8tU6BJGCSdnshFKK3msD0smD52REaKVFLGhHmk5L3jFWjXa2EwwQtB0R4dptifdQYgbhKAQBWFqhMTGb5YyNeHGosU2KdLuIBG3XK43O733t5yyQNgmglCIYJPD7kqeyK+EIVDX02xizm4AviCvnrsmNu1ucWyLo4xlR2Mbhd0/XaQHWyYnBYEwvlFL4vAGp5d1TdZFsF7agNe9ucV44qbCsAAaDMSNoqoYzxy7KkbS8C3vKeam9W+7vG5IMFkibNPA8IIo0eaac/K34OuZBSwZ03UBPZ790qaNHRpiLA2EL2tljl6SgX2X+iWSAADxvIDvPwMJiPXkEjQMys42kDRiea1CDwuv248yRi1K424QlaLtfa3Y+/80dMhOzJIGGGvJ+4jN+PPF0ICmiNm5pWEqqAV3jkkak5zqUUpw/qcjNu1ucNWEsDoQlaCf3nZdHBt3SlEfHiDtqELh0XsCvf2qDyZw8000AAAkJm99H0HWFh8Ziv5OCwf4R6dSRSzLCmHaGJWgXz1+T/N7AVMfFSACCAYLzp0RcOick7dSMUkANEhhs/Sop8Lr9uHBSkcL57qSCtvu1ZudP/uFXrCJtkkBpqDenpiapmjGSDk3V0Xd9QG7e2+qs2Vo1oZU2adjGmUMdsmfUK8VsdAwGgxEho0NeqT007ZyQyQXtxGUpwBLRGQxGHPF5Azh9bPLVzgkFrXl3i7NbucGq0jIYjLgSDKi43N4ltx5onzDIdkJBO3Xkkuz3BlhVWgaDEVcM3YBn1Cu1H78sT/S9CQXtbOsllhnAYDASAl2nOHXkgjTRdx4oaI27Djh7uwbmVjDtrfLUXHQvwgGzuW4NIaHfwI+nEN354vnQb5zKvqM9r9PxIgTT9re6/VsfcB6TNVxmuqGGga6OXvlA44NzOx8YttF1pV8eGhiTkivycmJMZorUdAqBpxFfdBSAoYfK12hqKAbKAKCrofcNI/HLXQsiRZqDwpZC73uzBwMEg/0EmhpZySFBBFLsBqy2xDgBlAKBAIFnjEANxlZdCAEsNoq0DAMm0/2/MzrMwTNKoDHXdEQYBsVA75DU19kn4wFBtg8UtGuXeuH3BRL+JowVhAALF+v41Je8yM7VwfORXei3gjk9Hg4jg0B/L4frXTyud/Lo6+YwMsglfO2xnHwdn/pPPixfrYPn7447JAA6L4v48bes6LoiRBSFn+Yw8NSf+LBeDgIJUPJbVYFTrSJ2/tSKvu7YjofjgIp1Kv7oz/3IK7hXsQjh8O5OE3a+bMHN/in1+Z5zUErhHvPh2pXeB37nwRbapb45txhgtVEsXqpj3nwdQoS1fG8JlaEDmhYSN7+fg3sUGBzg0a0QdJwRca5NwI0eDu5RklDBrRwHSKUGVq8PIr+QguPu/dubLAQr1mrovcZHNHZBoMgroFhWkRih+wE/cKOHgyDE9vomBBAtFJsfC2JphYrU1PsFo+vY+ChFS7PIBC0KDN2AcqFbetDn971td7/W7HzxW7+Rp2tQiQrhANEEmEwUgjhVsaEAdFBKYWgqKtdy2PSYim6FQ9tRE9paBHRd4TA0wCPgD01J44k1hWJZpYbceQZE0/1L8KQ7DKzdHMQHe0wRWZuEALxAYbIgIfoXUDruy4rxfgWBIjdfx5qNAaTajQdeQ/Pm6yhfpaP9hMi6UkVBb9fQA7MG7itoHac75dERloweCwgh4EUCmwjYUgzkFxpYsVbD7/0Bh9b9Jrz3WxPOnxLgcXMw9Pj52TJzDCyvUmGxPvg2t1h0rKgiyM4z4B7lWPL3hzDbgNUbVGRmA4LpwecxNZ1iaaUKe5oJoyMcKMsqjIjhwTGps71Lxn38aPe1eTvarsLnDU73uOYsJhPFvAINWz/uw1e/6UbtX/lQvEyL+RQoElatVyGVTmwucAJBRjZF1UYVNju7Cz9MmsNAtVOFyTrxueEFYGGJgQXFOnh+hgaXRHjHfGg/rtz3s/sKWn/PoKSz7IBpI2S1cbBYCfIKdGz9uB9/+bdubPn/AsjMMcDN4EXOcUBKKsWGLUE4siYWNEIIBM7A2s0qsnITYO6YQAgiRf58A+UrVZgmeTARQpCbr2NltQqeZ+cxUtSght6uAel+n90jaI27Dji9br/MAmpnBkEkyMw2ULVBw6e+5MGWjwWQkz9zoiaYKBaVaihepsPygDCDO+F4oHiZhgWSxqyLO0ixU6ysDiI7j4ITJvfOpaZTrN2swmanU4rvm4sYBsXYqEduuU+vgXtOZWdHn6wGNWlGRsYAEHpim8zA4iUUn/qSDx//lA9pDmNGLnSLBVhXoyE13QAJI1SF4wlycilKlusQLeyhd4uChQbWbgqOB85Ofh7NZgMlyzQsWKxDMLHzGAmUUvg9Aamro0/+8Gf33DJXOq5DDbKll3iRkanj8W1+fPLPfUidZlEjBLCl6qh2BiIKeuVFA+WrVOTkMT8aEJq2L69SUVQS/n1DCIHFRrFeDiLFzgQtUgIBFUrH9Xvev+d2uXaxDxrzn4UNpTT0ggGKqd/ggkiQmUPx+McDeHxbABnZ0ycaZhtF8TIdi5eqEMXwtyOEoKhYR9kqtszJcYAjy8DyNSrsaZEJkygCFWs1ZOWyxi6RogY1dF68V9DuCdvovXpDYr03JyfgBzxuQA1yoU5YhAPHUQhC6EIVTRQCD/Bi5G3VRBHIztXx5DN+XO/kceQDEQF/7K/4dIeBh7cGkZKCiH12GdkGNjyiwrXbDDUwcUyargN+HzAyhLDiUggh4IVQI5dwzp2uGggEOGhaeF3Tg4FQx3g9Bn5inqeQSnQsKtUhmigiiW4TBGDxUh0FC3V0XuRjnoaVzGiqhp4rfdKH379L0Bp3HXB+4y9+zBYEwuD6VR6/fNGCvm4ehhGavpksFNk5BgolHUUlOhYW68jOM2AyUXBcZBerIBJIxRoe3+bHNYWH0hF7D3xRSWiljUQxrbXaKIqXaZg3X0d358SZA4EAQetBEcOD4R2I54GcfAOPPRWAyTS5qHk8HA42mtB7PbzGKLoOdF3m4XVPfT7Pi8Dah4PIyacg4fftBhB6iDgydJSv1nDisMgELQIM3cDwUGhhoLqm8nY82l2C1tnRJ2uaLs2pChtR4nGHmo1cvchDN3C749Ct5r1mC4Uji6JoiYr1NRqWV6nIK9Ah8gjL+Q6EHPCrNwTx2FM8XvqBbVJLKBLMFoqylRqy84yoGvMSQpCeSbGqWsVA38RC4nVzONRoxrH94Q1eFIFllSrkjwRhCsNh7nUDTW+bcea4iIA/jANQQFUJgoGpCQgvAOkZBtbVBJESZVwexxFUrNVQuFDH6BBb7gwXSikCvqDUc6Vfxh0BtncJ2rVLvTDinYMzSzB0IBgItUy7N32FgBCgvw+4eoXH2VYDi5dqWO8MYu3DKrLzKCxhrhCmpVGsdwbwwR4zLp+PzbSEECA7z8CylTqs1simSXdiSzGw9mEVH7xjhtf9YLHVNcCnEfi84R1HNFF4xsIXb03j4HETjA6RaZmaPwiLlWLFGg2FRUbE0807mb9IQ3mVhvOnxLinwM0WKAV0TcfVS3cnqt/1SOjpuinN5KCSmdAJB7xjBF2Xeex/x4znvp2Cl39gQ+dFPjxLAqEUmvz5odUwsyU2Y+M4oLhMx+IlGrgIq4rcidlMsXyNiswcIzECRGfYwElLN/CQHITFGrmf9E7SHQZWVrOYtEihAK5e6pXufO/26TvQ2Oa82Tckz/CY5gyaBgzd5LDn12a8+F0rLpwVYOjhiUBqGsXm3wvCnq5H5e+6E0JCUe3yRwLIzJna4g8vUmTlGFj1kAprytTGNdsgBJi3wMCKNSpEfmrnURSBBZIGqVQDH8f0t1kHBW5035TbWn7XZ+D27THSPyJ73H4pLgObI1AaWmE7fkjE9u9b0XmZRzCM/s2CQFFUrGHxUh1m69QueNFMsbBYR9nqICzmqc1vCDjwHLDxURVZuXNrZdxmpyhdoSGvMLzMgIkghCArFyFxjCB8hgGMjXqloX63fOv/bwva4I1hsO7o0w+lgHuEw+ljIna/ZsXoMDdpqAHHE1gsFFUbNaSkTE3QLFaKNZtUODIpeHHq8xvCAVJJEIuWanNqupSdZ6BqYxBmiz6l6eYtUtJ0rNmswmJj085woaDwuv0YHhy9/d7tUzc86IYaZAG1MwGlgHcsVLn0SgcPNYxQA46jWFKuITMnequKkNAiQ7UzAKmG0qEAACAASURBVLMlNs5zQggys4GlK6ZuPc4WCAHKV6soXmZEHKrxIMwmYMlyHfMllgoVNhQI+oMYHnTffuv2X2P0phssoHbm0HSgv4/HwUYRI0OTx5gRjiBvvj4lQRNEisJFOpauMGASY3fTiCaK0hXqeAhIzHabkNzqGbBmo4asKfog74TjCVLTKdZsVmFPZYIWLmpQx+jN+wjayLAbLKB2BqGh0I8Th0X0dk/+lCdcqEJDZrYetWikOSjW1ahIcxgg9ymxfd9hhhnZv2CRgWWVWtILmiBSSKXaeLpY7M4hAAicgaoNKrJyWexGuBi6jtH7WWget58F1MaBgT4enR38pHmgBKHo/LQMgIsmRIIA8xfpWP2QGlZFCEopAgHA7w/vhnRkUjz0SABmS+Qds2YTJlOoGGZWHg0r5IVSirERAjU4+TnkeGBhsY6FiyPvaTFXCZUS8t7+fw4AWg+0Oz0jXjleg5rLeEYJers5GPokVhohEAQgNd2I6mIXBIqKNSoKF4bnJ9VVDj1dAq53cdDD2MRmM7B8tYrcAj2ulXenE0JCvRce2hJEavrkv5FSCjVIcHS/Ce6xyd0KHE+QkaljSYUGK6vAETZjIx7p1r85APCMeGWvxyc9aAPG9KFpwOgQh2CQTmoJEVCk2BGxoHEckJlNUb5KQ0pKeNOZkRHgwHsi2lpM0CYTW4RuxrT0UE19iy2y8c0WzFaKRUs1lJbpMImTn0c1SKBc4uF6y4yuy2HmsQqhBYe8AubPDhf3qO92LBoHAKOjXvh9rIdAPDCM8coPYVbi4QQ9bP/XLXieonR5KFk+3FCNris8DrlEtDSbEPAZYU07zRaKNZs0pKQm5+JAmoNi06NBWG3hTTf9PuDoPhM6Tgu4cEaAFkbaGiEE84t0VKxVk/IcTgd+b0AaG/PLwLigDQ8MQ2MhG3GBji8OGNPUgJcQQDQD1c4AsvImf+pTSqGpFMcPmnDlvIDzJwVcvyqElUMqmn6X8J4QqVAxhHBA/nwdKx9SIfCTW2eGTuEe49HSLGKgj8OF0wLG3OH5I9MzgaqNGkuFChM1oGL4RigWjQOAwb5RaCxkIy4QAIQHCJkeAeD4UIu6dQ8HYU+d/PuGQTA8yOPkYQHDgxzGRji0HjLB65lc0AQx1PSlfJUOizUGg08gBIGipFzDfEkPKzNA0wi6LnNoPy7A5yFQOnhc7+TDallnsVAsWhI6FkuFmhw1qGFwYBjAbQttFJrKBC0ecDyFzUYhmMJ7FBs6B8MI35qzpVCs3awhI9u4bzf0D6OqBGdP8ujp4mHogKoBx/aLGLoZ3jF5HlhXE0DOvOS6njJzKSrWaLBYwis6OTIEHGgU4R7lYBhAbzePU8dEGGGelnSHgVUbYleQIJlRVQ3D/aHQDQ4IxaDpOot9iQeiKdTPUeQnr0tGQeAZI9Ai8A44sgysqwnAbAkzVMNPcfQDE0aGQuV7dJXgynkB1xQeWhihBwCweJmK4vLo4+USkdJyDUtWqODDDNXovCTg+EHT7RJI7lGCI80ivF4SVlECa0ooeNdqS+4wmFigqTpGh+8QNL87CIMJWlywpVDkFhoQxHCmMcDYCAd9guqwdyKIwLwFOspWhpf0bGgUw4MEJ1pEBIMk1KaOAMM3CS6eFeHzhXfcjCyC5atVWKyz/2YkJOQb3LAliOwwfJBAaHXzXJsJ/b0ceD5ktWoqcPUSj65OHpoWRlcoC1C2UkXOPB1CDLM6khFDN+AZDdXjCgmaPxB2NDMjtuTM0yftWA6Mt+7yAaPDJOwigDa7gYq1KrJzaVg9NAMBDpfaRfjcBPZUA45sHY4sHfZ0A1cvcRgcCK8MuNlsYNESHXmF+qx3avMCxbwFBpZVqkgJo0QSpRSjIwTXLhOIJho6h9k60jNDRSA7Tovwh1ELj+eB9PTxargsFWpCDIPC6w2dVAEAgkENlKU9zSwE4AhQtSFUl38yqAGMDnMYvMGFXcm1YIGOqg1B8IKBcKofmkwUyyp1fO1fx+5Jg7OnARmTdFa/BSEEhQt1LK0I9RvQ9dlrppnNwOr1KrJzw69FZ08DPvFZP7Zuu1u5BBHIyjXCrhLM8QRrNqk48J4Zwzdn+ZNhGjEMA35vKOwsJGj+IAxmoc0ookCRN9/AejkQXtQ5CPq6OQwOhJH3SULBtJXVGhYsDr8iBC8CeQU6cvNpqBzoXfukIBxBuGWm0zNDVXb3vWOCpobV7CnhuJUZUC0HkWIPryotIWTcQqWgH/aVkVCRgXCtVsJRFBUbWFSq43K7cJ9S7wwAoAa9XfqMAxCKQZuNV9wsheNCBQIf3hrAolIdZvPk2xgaxaVzAobCFLS0DAOV1SrSHeH7RgkJ+c0EkUAw3f3iRS6ict1WG0X5qiDyC2evD0gQKfLn66hYo8EcQTHM2+fxQ+dQEEnYndVv7ceRqWPJCg2WOVKaKRoMShH0hyw0DgBUXZeYns0cFmuoFv+2Wl9YgkMphaoSHN0vYmwsjHgwE0VJmYaixQaEOFVA5XnAkRXqChVJV/ZEwp4Wss4cmeFnWMQaQaQoXa4hr1CPtgdL0kMNiuB4YgDX1tLhNFRDZosCM0NqeqgqxWf+yofceRR8GIITDBBcuiDgyjkeahit10QRWPtwqHlJLKqpRovJTLDmYRVpYUypE5F5CwxU12jg4+i+IuCwYJGK8iqN6dkDoJTeznTidF2TDUql+A4pueG40BRswWIdjz7pxx993o+Scg1imF3V3WMEh943YXSYnzQwUxBCXc2rNkXfKzJWCLyB0nINefOjqxAST0QTRelyFQskfca7SX2YNAewYUuQleeegFvtNwVD0wC2whk19ztzhPzOMc8LFNYUiuIyDb+/LYCH5CAcWeGFUQChLt83ejgcfM8UVus7s5WifJWKokUaRBMQz3kKLwC5BQaWrFBx/pQA9+gssTFIyMdZvkpDuiM2PQOmgsUSciEsWKRDucgjOIO9R2cbgqYBlKl+VFAKYHxB8NYlxnEUvAmw2yly8kMWytrNQVSsVZGVSyGKofzKcBkZJDjYaMLlCzy0MAJqMzINbHwsCJOZxD2olRACQTRQtUHDwfd1uEdnh5lGACxaoqF0uTqlvqWxguMJUtMoVj+koqeLRzDMnq5zEcEwWJWNaEjPDDWHLVhowDAoOEJgTaFIcxjInacjf76BvAIDWbkG0jNCydrhZAPcglIKTQu1vGv8rTmspzLPA/MX61hWoYJPEO0g4CAtUbF0hYbODiHhF9MJCVnVD8kq8goTZ7Bmq4E1m4JwvWWCe5RP+PM405Bxt5lgGMAk1Z8Z9yG3QEftX3kQ8HMAJSBcaBppMlNYrBRmU8jhH5quRP6U11Xg6mUBe35tQXdneCadxUaxtEJDXgEdT0QPL+8wWsKdimVkUaxYq+ODvRQ+D0nom5HngawcA9XOAOx2A9N9DoHwzqNJoFhaoSKv0MBgPxdWOae5hAHIbS0dzgR5js8+rFYCqxV48NMg+gtO14GRYQ6/fsmMM8cEBML0meTOC6U6hSo0hJEbGqQIqtEJDEdC4SFiGFan1UZRvExF7jwD167wESXXzzQmC8WKtRpy8ihEU3hiFghwMDR6X3/qRIRKR1GYTJjUp8qLHLJyKFZWq+js4DHCBO1uCJEID1lg7rPEglKKGz0cfvtzCxrfNGNsJLy/ECFAxVoVi5eFpxaUUpw8asLeX5vDFsw7sdkB50f8WF8zealdQgjyCgwsX6Oit5sLKzk7XqTYKTY8El7sHKUU/gCHXz5nwdVL4SWd3wnHGcjKBZ76Ex8KJW3SjA6OJ6iuCeJgowkjQ+zOvRNCqUIJXAIncHFflmaEMHSK7i4ee3aYsWdHSMzCaVDCcUBKqoF1NSrSMyf/PqUUXg/B0X0imt82RTV9MVspdJ1i1XoVJtPkNcJS00N12fbtMSHgS8xppyAA2fkGVqxVIYaRvaGpwPVODu/uMqP32uQhNR+GcEBqmoHK9SryCvWwKqLMX6SjpFzF5fNCxMdLZgjgqqwqbRI4TgBhPrS4YugUQZXDjesEv3nZivd+a8JAb/iOX8FEsWipjkVLgrCYJ/f7UAPo7+XQ3iZgdDj8ZPc78fsI2k8K6LnGoXDh5DejxWKgoiqA7HwLvB6SkD4gq91A5ToV8+bf6lw18Rh9XoKTh0X0XOXhcUf3e3weHmeP86hcS5DumPz7joxQAYF9eyk8Y4n5YIgHlBAFADjBxIUcIoy44Q8A59p4PPuPdrz5qgX9PZGtYpnNwNpNKhyZ4VVTpSA43Sqi61J0YgYAhgGM3ORw6qiIYBjZC4JI4MgMhR5YE7QrVO48A+udgbADnoducmhpEqfkEzQM4MwxE/q6wyzNZAGKyzTkFoRf/WMuwfG84AKgxHkcc45QugZF5yUOr79gwz//rR1Hmk3wRvik57hQRYj1sooU++TfN3SKgB/4YI8Jw4MRBMTdB6+b4Nj+8AJ+gVD5nHXjKVmJBscBSys0lJSFNzZdNXD9Kh/q5hRmwc0H0XmRR8cZIezV0oIFBpav1ljWwJ2Mnwuusrq0SRB4V7yjoecKmkoxOgxcbBfwxi+t+PdvpuDXL1nRdSXUTCPSEjFmK8WyShVFxSrEMKpaqCrBlQscLp8TphxxHggQnD0qYHBAgKZOfmxeAIrLdBQUaWFnSswEhIQaOC9frSI1PTxB83g4nD0p4OYNLuyCmw9ibIzgxGERPi+5t+TQfUhzGKiuCcJqZalQwHgA93hunQAAvMgrILh/Hg8jaiilMAwCXQNUFQgGOAwOELQdEbH/HRPOnhDgHuWghdmT836kZxjY9FgQtpRwe0USHNtvxthw5OL5YXQN6Ovh0H6CR36BCvskfjSOo8jO01BaruPEIRqxNTpdcDxQsFBHyXIdJkt4xTD7ewWcOCjGxBcY8BJ0XuTRc41H0SINwiRib7WGynPPW6BD6eARTEB/5ExCCIHJdIegCYIAQggij6RhPAhKKYIBirFRDj1dAi6e43H6mIBzJ0X0XePgH1/pm6pTd+FiHZVr1bCf1CPDHI7tExEIw+81GZSG2rUdaDRh1XoN9rSJFZIQAtFkYHmVhqa3dCgdiREGyXMUVZtUzCsMrxgmpRQnDvPovBSb8VMK3LwRWmQpWKhhsr1yfKi00eoNKvquc0zQOAKTxQRgXNBMJiHuCbjxhtJQZ57zp3kM3ODAh9FM9t59EHhGOAwPEtzo4dHTRdDTxWNwgIN7hIPPSxDwh0QgnP6Mk8HxgD2dovsah6EhbtLenoZBcKmdx8X2qft9bkEBnG8TceB9EctuhrMFD58v1IV8onGOjXJo+UCEaJo8RHhwgGD4Jhd29/k7IQQQTKEKJZc7eHR3TdYZi0DXKfa9E7JyY8XIEI+DjSJyCwyYLZNfHAE/h5Q0GlFecLLCcQQWSyjOJiRoFiZoANB3jceL37HBZEJUid2UAmoQCPgBnzdkhamB0NRuWpbXKXDysIiuyzwIN/mNbxiAZwwYGZq63+fOMQwOELz2EwvSHOE1kQwECEYGHzxaagA9V3n85J9TwrI8gwFgcICDEUXvAjq+/c6XrbCE4ZOi4+PrvcaHtbobLgE/wdEPzLh6SQir1JKhA14Pgc/L7lvCEVhsd1poFjM4FroBj5vAcyExpkHhYBjAzRscbt6Ir2c46Cfo6RLQ0xWb/RlG6GbtvDgD5gcFNJWg6/LUjxV6CN7/PqK3yrI8AF0DxkYIxkZmz/WXKHAcB4st9DAVAMBiMTELDeMXZBTnYbKOWYRMvZQPDeM4M0ksftN0EfJNzuy54gUOHM/hgYJmGNA1g7WLnAZ4jkOK/Q5BS3PYwc/1rE4C5BZmYa1zuZJiM7vA8cpkm+i6JnVfuSGfPnJRco96790lIbCn21C1aZmSvyDXRSiddJ8T4fcHMTrik8aGx+Sh/hFpdMgDr8cPvzcIXdNn5GYhJGTer960TJm/ON/F0VCEdqJggEqjQ2656c2jkt8XnPaHACEEFqsJ8pPrlPLVi1yE3P+66e0akN7bdVju7RqQEunBlAzwIoe0zFC0tgAA6dl2CJOtFSc5BARZeQ7lDz79aP2KtSXbw93uV8/vffHS2a66BwlaSpoVv7dto+vRP3joM7Eaa3vrFefo0Kg8cGMYyoXruN7ZJ/VeG5SHb45K7hEvfJ4ANHX6BM5kFrH58TWuj9c9GrPfFEuO72uvPew6VR/wq9J0r9xzPIf8BdnK7338ofoNj62e8Lr5+l/84MUb3YN1OkvCjCmCKMCRlRb6NwBk5qSBN81tQQMAURRckYgZANjSrMoDHwYEEAQe9vQUJQbDu01Z1aImAE13vtfedsWptF+TTx+5iLYj56XeqzflgD8o6boBQ49hZD4J+SzsqTYldjuNLas3l23/aPkXZALUTfexBIFD+apFrsnEDADWP1rZ0PTGMdnQDYlNPWOHKApwZN8paLkOiLOti8V0QBJr+hQJZZV3i9yOlxqdh/ccr2tvuyzf7B2VjJgta84OyAyk8xFCYLKIysbfX9OAZyf//hNP1zT90UNfcV3vHKhTgwlcFG6WIZoEZN4paGmZNpjHA9MYycG2T29pAtC0+5Vm58H32upOHmqXR4bcUjDAbqRYYTILKCotcG15srpp8m+HWL2xXBnsPwwmaLHDZDUpqRl2FzCe45GSanVZ7WYljmNiTBNPPFPT9H+e/9Jn/sPnt9aXrChS0hwpICxEJybY7FZUO1cokWyzenOZy55mjWgbxsSkpllcVRvLmoBxQauuqWyy2m2uuI6KMa3Ufvmp7V+s/+O6h5+oakixmxUunt1zk4TsfIeyxrnCFck2W7dtbMrKdbg4llUeM+ypv/NRc79706wkalwRIzZUbSxr+p///19+pvYrT9bnFWYposj8ptEimgQUlRTetgwioXz1YsVmDy+rgjExhBCkOn5XYO+2oKU77CDsqTEn+NMvPbW99q+fqi9ZvlARzUzUoiE9045VG5cq0Wy7pqbMlZWXFtW2jLvheQ5pjt8VArytYGkOO3g2DZkzPFX7yPZtn3usPn9+tsILPMsUiZCFJfOU8nUlrmi2rXmiuqm4fIGLnfKpI4g80rLuJ2hZdvBzPLh2rvGxZ5zbP/fVj9enZ6cqLJc3fDiew9qa5a7xUJmoWLGmVDGZxYRNH5stiCYBaZn3EbTM3DRYbWG0umEkFY9/YvP2P/nix+ozctKUZFr9pIA0HfvlBR65BRnK8nXFDVPZT3HZAlfe/Cy2ODMFCCGw2a3IzEy7/d4dguaANYU5Kuciz3zhI9vXyxWuNEdKvIcSE5reOlqra4Y8HcH4osijbNViV3VNZdTWGQBUb6lsKllR5OITqRb5LMSWalVSs1Jct/7/tkc4PSPN5ciyK9c7b0jxGBjjd7TuP1v0ix++VRcK7g9F+HMch4zsNOQWZkMqyUdBcf6Upjwf5snaRxt6ugfkkwfOS3osU6XGOdt6uegXz75Z5/UG8eBu81OHGlT6xbO7ZZ/bH/P0IkIIzGaTsnZLZQMapr6/9Y+uaDj03klZDWosFSoaCJCRk3bXw+W2oFVWlzZ97bPfdZ1tvVwXl8ExbtN/fajuUGNbvaHTuwpDEhKqzmm2mGB32JS/+aNvupavKVUq1pdO2WKorC5tev25PfWXTnXVj454Yn6DjQyN1bU0n6n3jPpgTHe1CUoxHaleHE/gyEtzjWdhTJknn9nS9Mn1X3F1+/rrdI0lrEcKAbBwcb5y53t3TeALivIUttoVfwyEamfpmg5D/91L13SoQQ2eMR/6rw9KJw5cqNvxwnv13/vvLzd87XPff3HvjgPOqRz3E3/2+Pbl64pd0+LXMYzQb9Dv/k3T8pqmvNWUVBvW10SWGTAZqzYsU6wpzHcdDYTjsLA0/6737rpyF5YUgBc4toSf4FBKoWsGfJ4ABm+MQLlwXdr/9vG6F/751w3f//rLL7a1dEQtbI9ue6jBZrcoLJL9XrLzHMqaLRWuWO5z5calrrQMuxLLfc4FCEdgtohKYVGO687377pqCxfluiwWkWUMzDIMgyLgD6LzwnXptz9tqnvum79sOLqvvTaafT3xdE1T0dJ5LpGVk7oLnuewoHSeq2ZrVcz8lkDofOfNz2KpUBHCcRzsaTZXzRN3Fwa46yxWbSxryinMdrF4tNmLd8yHUy0d0g//7uf1h98/GZWoPfRIpWJLs8Z6aLMaW6oVy1cXK9Ox7+KlCxSzdZKmpoy7EAQeeYXZyoffv+exMH9RriKITNBmK4ZBEQiouHy2S3rtJ+/URzP9rFhf6kp32JmlfgcFRTnK8igzAyZj9eZSV1aOQ5mOfScroVza/Hvev0fQikoLILCk5VkNNSj8viBOt3RIe3+1ry7S7atrKpty52W6OBYjdXtledXDZVEloofDlic3NhWvYKlQkWCyiFhYWnDP+/cImrSk4HZbdcbsZnTIjdYP2uUDe1sjttLmL85VTLFMXOc4cFN6kbgsVhGOQ6ojRal2ljdM53FWbywfz6mdzqMkD2aLSSkqzXN9+P17rtgFxQUuk8WkgECa5v4SjBlgoG9Iatp9TMaHehBMRsnyhbDZj8HnCcRkHGbR5MrKdyi2FEtUMW6GbmB0xIugPzj9cWx3YDIJWLZqkWvjltguBnyY0rKFrvzCbKX32oCksZi0CSEcQUqa5Z4FAeA+glZZXdr0uce/7hroGapTVVYmeLbj8wZx4tA5KdLtCqRcpDnsuNk3EpNxVNWUNR3Y21qnqroczfbesYD06+3vyudPKlIwoMZkTOFgtohYJy9X8MvpPU5VTVnT//rc910DfUN1TNAmRhQF5ORlKPf77L5zipKl85XO891ggjb70VUNA73D8t4dB5xbt20M28pIS09zZeSkKVfOd0uxGsvGUMhD1JbO39Z+50Ve4OoQG6NxUnieQ1qGXal6OLKqtNGyetOyhhbXaTngD0osE+rBWGxmlC5feN/P7hv8smSlBHu67X4fMWYZlAK6akid7d1yJNuVVS1qsjtSXAmVY0inv5PTnZitJpRVLY5pzuxEbPvs1iZHtt3FCq1OTFpGilJcUeS632f3PXOlFfNdGdmpynQOijFzUEpxvWsg4u3sKZY5nQrnyE5TnB+taohmW0ppVCduxbqlio1VvZmQ3IJM14NmG/cVtMrqsqaCojzXXL6YkwlKKUYG3RFvZ7Nb5uyqG8cRlCyb79ryZPjT9FvseKnR+dVPfaexpbEt4tXlNTVlrrRMZkw8CI7jsHDRPOWBnz/og4XFeYrIwjeSAkopPG6PFOl2oXScualoZqsJy6oWK9Fse3jP8bpLpzvlIx+ckSPd9omna5oKinJcyVRsM1YQQmC2iFi49N6A2ls8UNDmL85HarqNJaonCYZBpWinQXMNQghy5mUoSx/gp5mItpZ25/lTijzQO4y2w+elaI5fUj5fMZlZKtSHIYQgIyddySu8OyH9Th4oaPOKcl25BVlJVZZ57kLA87xCCEkgD3/iQghBxdoS18YoEtEPvnNa9rr9kqbp6L12U27eHXlQc1lVsSszm3WF+jAcTzB/Ue6EneofKGhVG8uaSlcscHHMQpv1EALY03/XjDVcNM0A5lh0NcdxsNktysbH1zREs/3xA+1SIKCCUgqfJyAd3xf5tHPrto1Ni5YVuqI5fjLD8RyWVUrKhN+Z6MOVm5Y1iCZhTq90JQOEEGRlp03+xQ/hdfuRSFEbM4Fg4rFwScGEVsCDaNx1wHnpbKesBUPxmwFfEMejCGoGgOpHKhRBFJjLZ5xQ/TOTsnzDUtdE35tQ0J54uqYpK9/h4gUWFzObIRxB/oLsiLfzjnnnXK17a4oFD8nRVaVtaWqv87oD0q3ULFXV0NnRIzfvbol82rm6xJWdn866Qo0jiDzmFeVMWo9u0rO1tGKRYraYYjcyxoxCCIHJJCjFKyNzcLe3djiHh91yQlkI05xfTAhBarpNWeOMPDOgpbHNeaalQwYh4HgOHB+q/KwGNelw4yk50v1VVpc2lVeVuNjiQAir1YwVVSXKZN+bNC6jYn0JTh4+D8+YLyYDY8wsoknAvIVZEVdaHex3y0P9o1Isx9K4q8Wp61HkchqAz+eVdv60SZ6OjlS3MFtELF5WGFWZoDGfppQsL2rIW5B1z2dWh6UhmvGs2bys4di+s7LP65/zhSLs6TZleXWxa7LvTSpoZatLXI6sVOXmjWGJzmCVA0ZssNotWFtToWx3RbbdNeUGPCPemI2jpbHN+a3/+mKDZ8wnReOYC9V4C0ANTl/idnqmXVn/SEUDfhr5to9+tKoTwDdiOZ5tn93a9Mn1X3GNDXvqjGkU8kSH4zhk5ztcTzxdM+mDZtIpZ2V1aVPholyXycRM39kG4Qjmzc9SnB+rdkW67eUzV+H1xi4LXKdU9ox6JPeIB2PDUbxGvVCDGqbTp1dUUuDa9tmtM5K3GS5LVy9WLLa53RXKYjVBWlKohPPdsDyOqzcuU1KTpKv2XCIrN13Z9Pjq+srq0ohv0mudfZIayzI9hgHDoFG/qEGnbcWVEAKz1YQV6yb30cw0D22pcDmy5nYqVHpWqrKyeuLVzVuEJWhlq0tc86VcZY5mwcw6OI4gJc2K9XKF68/+2ye2R7r9gb2tzoGeoWn1VyUShCPIynMoSyNcOJkJnni6pmnB4rmbV00IwaKl+a4nnpl8ugmEKWiV1aVNS9cudvFsCTnh4TgCs9WkrNywrGHb57bWR7OPkwfPyyPDked+zlY4jkNpxcL7VkBNBEpXFM3JxkWEhMI1VqxbqoS7TdgKVb58YUN6VhprQJvAEEKQmZuuPPYH6+v/5ZX/8pnyqsWd0eznUNMpyef2x3p4CcmtsJaNW1c2xHssD6K0osiVMQdToTieQ05B5gNrn913m3C/uPXpmqaSZfNZkG0CIgg8Uh0pWLl+ifLHX/xI/f/4/l9EPM28xas/2lN77XKfPFeqFYsm1W7AvwAAFndJREFUAQWLclxPPrMlIa0zYDwVqrxwzk07BUHA0oqiiEKOIlKnNZuXslSoOENI6MklmgSkpFqRlefAoqWFytZPbGj4j1//47pnvvCxqMWsvbXD+f6uw/V+rzpnQnQsNjOqNi1X4j2OyVgvr1R4gZszqVDjpYKUtTWRdduKqODZp/9mW9O2qi+7Ar5gna7PjQs+HnDgwBECep+Llxc42FIsSlZ+hqtk+UKlYl0JVq1f4iqtXNSEb03tuIebztRdONUpUSP2iwGUUhfHEYUjRDJm4J4MN7zDkWVX1sjLXfiHaR7QFFm1fpkrIydVGbwxKula8t97vMAhOz8j4jCaiCs4rtlYrrh2H4U7hkGXjLtZUDyvYesfbgLuEBbBJMCRlYb8hdkoXJDjqt5S2YT9AH4cm2MeaGxz/vjvX5UDvuC0xHpt3FrV9ON/eq1O9enydK6dEsOQRobdcuNvWiSfN4CJLE3RJKBQmjw/MBEoq1rU9LW677oOvX+qzjsH/JspaTY89Gil8rP9kW0XsaCt21LhOnn4guIZ9c25xOWZYtyZH9Oo88nY+fw7ddcu90nGNFhnt/j8V5+eUtencDm673Tt/r0n6v2+oEQnyBmyO2xYvbFMwavTPaLYsKamvOHE4Quy1+2X4j2W6eRWgc01m8tckW4bsYd/67aNTQWLc1yCMPeWkZOVZ7/xSu3JIx1ysuTrrt28YjshxDXZzHa+lKes3FDumokxxYJtn93alJ6R6kr2ChyiSYC0pDCqAptRNQ1Y/VCZcuFEJ4YGRqPZnJFAvPLsG7UN/7Kr3jPqk+I9llhCMHHLO44nWLl+qSuaLIr3frW/aGBwtM7Qordm84pyXFuiiHsrWbFQ6b3WH7OO9omIIztVWb1hSQN+Evm20QnapnLXocZTytBAbKsxMGaW7f+6s/aXP3qn3jPqm9apZqLB8RyyctKUsqrihmi2b/j+b+uHb7rrprJ4Uly2QGlv7agrq4pMUB96rMJ1+kiH4vP0S1EfPIEhBFhSIUWdUxuV7VpZXdq0fstylzXFDNZzYHay/Xs7a3e/2lzf3zM4p8QMCMXtlVYURVWV9pVndzu7r9yQB3qGcLNvJOrXlfPdUtuRi3Kkx3/i6ZqmhUvykzImjeM4pKTZlA2PVjREvY9oNyxfU9wwryhHYelQs49//dr22teefbv+2pUb0lzJ17wFIYBg4pU1NSsaotm+5f22OjWoS1Mdh3vEi5b3T0W1n7LK4lCLySTTNEHksXhZ4ZQqnkStRtU1lU0btlS4TGZWzXa20LirxfnXf/jNF9/4aVP98JBbmos1tjiegyMr1fXMF56IomdAi/PS2S7Z0Kdek83vD+LCqU65raUj4vLcpRVFLkd2qpJsDYzMVpOy6fej61R/iymZVxsfX9OQlZs+JxNnZxNtLR3O7/6Pl158/p93NJxq6ajzeQNzUswAwGa3Rp0ZcP7E5brRIXdMwpWoMd4Vav9ZOdJttzxZ3bSorNBFkiivWjQJmDc/2/Xpv3pySmE9UzojVRvLmqpqyl0pdutUdsOYJtpbO5y/+Pe3X/zJP77asPvVD+o6L3RLXrd/rnWmuwtHVqqyTl7uinS7jrYrztOtl+RgQItZXTZV1XD8ULsUzbbrNi9XRBOfNKlQqY4UPPTYSmWq+5myxNd8dHVD/sJs1pA4gWhr6XA+/+1fvfid//mzhuf/6Vd1Rz9ol8aGvdCnEGaQDHA8h4JFOa6t2zZGbAWcOHxB7rrYI8VyPJqq49LpLvnA3sibEVc5V7jSM+wKlwT3HccRLFycr2x6vMo15X1NdQcbt1Q1rVhT4kqKzlCUSvEeQrS0Nrc7f/7Dt77+tc9998Vv/OW/Nfz8B2/VnTt+RfKO+eakRUYB6cPvpdgtWF5ZrESzv6Ou09LokHuqw7oLwzAwNDAmtbddqYt027LKRU3lVcUus3X233fWFAtWblgSVUzgh4kqDu3DVD+yvOHkofPyxbNdUiz2Fy8C/oB8tOl07VrnirArVgwPjEoPLLVDQ0/hscHYxuu1Hmh3jvSPyjd6h3H9Si96uwak79e/LA8NjEruES8CviCmbfWSArquY+jmiDQ9B5g6B989Wft/vvhD+cM6np6VigVL50mR7m/fu8drv/fffioHgzEuqUQBXdPRuq9dPr6vvXb15rKIKqUUr1iAE4fPYzbndhICFC0pUKoirKrx/9q799iorjsP4N9z5z3j8QO/jW2uARubhzGP2NhQ7sU2dgNenBgvzgKb8SIKGxoVKUpTabdSb1fqrlRVlba722rVbTretHRbtUiwhDQEyLWbOIlJnOAQnOAAJ2AgxuC3PZ6Hx/vH4KwTAQEz7/l9JLAsoXuPxtaX8/idc+75PH88BAB+ofzu17//5avNLpfnvhuCw1lKeiKKVi3kBrNBZYzxr/v3Ux632H9jSL54/qp4t18qxhjiEsxYvaGIZ2SnqoxNf+0z78oLuFwejI5MYGRwVBwdnpBHBsfE0aFxTDpccDs9CFYtme/8fR0KS/J4+vxklUHgQXnxA/LCK44Nj8vv/aVbdE26v7TRPq9wPgpL8nh8ovWBfxYe95R4jd+Uu965IAZqa1hiihUry5bwjJwH/x3xeKbEW58Pye+/2S0OD/i35xgsgiDAYNLxPS/UK7ufrZ/zsVez+S3QOtu7pZ88/2t776W+e/dYYpW/PuXI/H8ivMzlZxGszz2c2xYAeoMOi5ctsP/qtR/+nb+e6bd139UVRa2VdaWKyWLg/npm1Jj20x/y6ML5cw/ntgWA2WritX9dZvfnM/1ayLL3HxpbshemR8cCASEkYIxmAxYWzld37Hv4Auf78XtlXtWT5faE5Dg6ppsQcleMMaSkJfLapgq7v5/t90DbeWBL67LVi6Jy8ywh5NEJGgElGwoDcjFNQPZOrKsptqdmJdHFxISQL2ECQ3ZeKi+vmtvhAF8nIIG2bWdl67qqYlWv10XN1gxCyKMRBAaT2cA31q1RKrc9/G6NB3pHIB4KAFuekuxZYhrX6mnjOiEE0Bl0EAuz1QPf3+mXmrO7CVigFZfmt25tWq9YEyw8UO8ghEQI5jtae+uu9fZAviag54/sPljfsnhpjmqyGAL5GkJImLNYTVi2ZrHa8PTcD298EAE/UGnrLsk+X0yLilMBCCEPT9AIWJCfxbc2bbAH/F2BfkFNQ0Xr+toS1WQx0gIBITGGCQxxVhPftK1Umcu1dA8rKEdeVmxeaV9euohH+32ChJAv0+m0WCsvV3c/WxewhYDZgpIwxaVFrXW7KpW0rHm+yx0IIVFPb9AhOy+Nb90l24P1zqB1marry1oqnyhVrIkW2hZFSJQTBIaklHhes329UlFZHPCh5hfvDdaLAODZH+xsyV+eq1IvjZDopjfqseyxxartOf+cc/aggj6pte1vN9oXFGTyYL+XEBIcvtvPc/nWXYFf1fyqoAda5baK1qon1ynz0hNokYCQKKPRapCencJrGzcoFZWBX9X8qpAkiu1gfcvabyxTjSY9qD6NkOggCALMcUa+vmal0rCnOqhDzS/aEIqXAsD2/TV2sSCLa3U0n0ZINNAbdShamac+/+M9IQkzIISBVrw6v/VvntmiZC1IpV0EhEQ4jUaAmJ/Jm/6+1h7KdoR0Equ6obyl6okyJSUjiYeyHYSQR8CA9OwUvrmxPCi7Ae4n5LPye7/X2LKuaqVqMhtoPo2QCCNofPNmm+rWKDsPBGc3wH3bE+oGAMDWnZJ9RWkB7SIgJMIYDDqUySvUZ/9pd8jDDAiTQCsuzW996plaJWtBGtcbdKFuDiHkARjNBogFmbxxX2jnzWYLi0ADgPLqVS2N+2uU7Lx0rtHSKbeEhDOtTou8gvm86ZnHldUVRSGdN5stbAINABps1S1VT5Yp8bTfk5CwxQSGpOQ4XrujQqlt3BAWQ80ZYRVoALDn+YaW2sb1isGgo1AjJMwIAoPJYuDbnt6kNO1/PKzCDAjDQAOAgz/a3VLdWKbGxZvoUEhCwgQTGKxJcXzbro3K3u81hl2YAWEaaADQYKuyL38sn8fFm0LdFEIIA+ITLVjzjaXqwR/ZwjLMgDAOtKLV+a1NB2qVJSvzqJyDkBBizHdYY/G6At60/3F7qNtzP2GdFGXSypbXj72DifFJ5eMPLoveKW+om0RIzNFoNSguK+Db91QrxaX5YbOieTcRMUH1+pF3bC/97Jhy+UKvODnhCnVzCIkZ5jgjClfm8d3f2aqUV68K26HmjLAdcs62qb6spWFftZKzMIMbTfpQN4eQmGCyGLGwKJvv2Lc5IsIMiJBAA4C6Jqll+7dqlOxFGVxDB0MSEjgM0GgFLCrK5k37vqlIdWUREWZABAUaANTv3tTS+K0aJWdRBu0mICRAtFoNFi/L5U0HvqlUN5RHTJgBETKH9lVHWk7a/vBfJ5Xrl/vESQfNqRHiLyaLAXlL5vMd+2vDbhfAg4ioHtqMelt1y4691UpWXjo30JwaIX5hMhsg5mdGbJgBERpowJ1Q21+r5C7O4LSZgJBHIwgMi5fn8p3frovYMAMidMg528nDb9h+82+vKJc+7hXdLk+om0NIZGGAwai/U5rxV8qG2shYzbyXiA80AHj1j2/YDr94Srl4/qo4PuYApkPdIkLCH2NAXLwZhasW8u17NyvS42sjOsyAKAk0AGg99q7tf35xXLlw7jPRMe7E9DSlGiH3whiDOc6IFaX5/Klvb1XKpOURH2ZAFAUaALzz+lnb4RdPK2+d/ED0uKco1Ai5C8YY9AYdl+rWqPW2Kns4HdD4qKIq0ACgq6NH+t/fnmpuO9Ypj404RK+X9n8SMkOjERCfHMern1inPPcv4XtqxlxFXaDN+MkLL9raX+tS+m8Mih43LRYQotNrkZmbwqUta5QDP9gZdWEGAFFbbn/izSNnv/v8C0O9l/pKJh3ORBp9kljFBAadTouMnBT+RPMmZc93t0dlmAFR3EObcezQ67bf/cefld7LfaLL6Q51cwgJOqPJV/2/8zt1SnV95OzLnIuoDzQAeOPVd21/+tUp5XznJXFkaIzKOkhMYIwhMdnKV5UvUbc+vdFeURnaW82DISYCDQA627ul479tbT7T9pF8++aQ6J2aplVQEpUYY9BoNUjNTOIVm4uV53+8J6p7ZbPFTKDNePGnh21H7KoyeGtE9Lg8FGokqvhKMrRIzZrHG/fWKk37a2MmzIAYDDQAePXwW7Y//fJV5dOProiOcWeom0OI31isJixdvYjv2L9Z2VAb+ZX/DysmAw0AOk53Sa8debv5nZNn5YFbo+KUZyrUTSJkbpjvDLPUrHl8fU2JumlbWVQVyz6MmA20Gf/5z7+3tb78ntLXe1ucnHDC66UhKIkcgkaA2WJE5oJUXvNkmbL7YH3M9cpmi/lAA4DTR9uloy+1NX/Y0SM7JpziNIUaiQCCwGCOM/E1G5eqW3ZJ9o010b+K+XUo0Gb5+Q8P2U4dPaPcvD4geugoIhLG9AYdMnNTec2OcmXPcw0x3SubjQLtK44eOi21Huts/vj9S/LwwBjNrZGwotVpkJRs5SvK8lWprtRe01AR872y2SjQ7uFf/7HF1vbKB8pA/7DocrpBlxyTUNJoBOiNeqRkJPKqbaXK/u83Ua/sLijQ7uP00Q7p6EunfXNr406RatZIKDDGEJdg5qs2FKn1uyR7Bc2V3RMF2gP4zb8fsZ083KF81nNDnJygujUSHIz5LvtdtDSH12wvVxr3xlaR7FxQoD2gtuMd0psnuprPvv2JfPP6bdHpcFGJBwkIQRBgshiQnpPC164vVMtqimNiH6Y/UKA9pOOH2qSX//hm8+XuK/L4sEN00/Yp4idMYNDrtbAkWHhhSZ5a21hBk/4PiQJtjg79/Jjt1JEzysVzV0SX002hRh4JYwxGs4EXrspTq+tL7Q17aijI5oAC7RF0dXRLZ9TzzX/5c6d87fJNcXzUQcFGHgoTGKzxZuTmZ3Lp8ceU3QfraJ7sEVCg+UHbiU6p41RX87mOHvnGlX5xYnwSHjfVr5F7YIBOp4XZasJ8MY2vLF+irpVW2Csqi6lX9ogo0Pyo/USn1Pryu82db3ws3+4fEl1OD7xTXuq1EQAz55QJ0Bt0SMtK5mulpeo3tqy2l26kIPMXCrQAaD/dKbW/crb5TNs5+fPeAdFNc2wxjzEGg0mPrNxUXla9Qt1QVWxfTUHmdxRoAdR2olPqav+k+f32brn3Up84NjwBulYvdjAGMCbAmmSBmJ/JV29YppaUFdhLaWgZMBRoQdB+olM60/aRfO7di2Lf1X55bMQhOifdFG5RStAIMJr0sCZYeEZOirpy3RK+RipSaWgZeBRoQXboZ0elt9SPmns+/Ex2jE+KU54peL10v0GkY4xBEHxn+cdZTbxwVZ5aVrncvmPfFgqxIKJAC5ETh9t9K6PvXZT7bwyIjnEnhVqEYozBYjUhLTuZr3gsX62oXmHfuKWUgiwEKNBCrO14h9Tz0VX5/Hs9Iu/pk4dujYhOhwtTdLpHWNNoNTCa9ZiXmsDzirLUpSWLef6yHJU2jocWBVoYOfzfJ6Sz7ReaL3dfkwdvjYoTYw64nB5Meaao9xZijDFodRroDTpYrCaelBqv5i/P5avWFalbdm6kEAsTFGhhqKujR+p+/1P5/bc+Fns+vCoP9A3N2l41Dcq24GAMANidkgsdT8tKVguKc3nJuiUqbU0KTxRoYa6ro1vqPsvlc2/3iJ+evyoP9I+IE2MO2okQYFqdFpZ4E5JTE3h+iagWly2yNzxNIRbuKNAiSNuJTulqzw2Zf9KLa5/1i329t+Wx4QnRMTEJj4uGpXMlCAxanRYmixHxSRaenp2kZi/M5GJ+FnLy0mleLIJQoEWw4384LX3YcVm+3H1VvHl9UJ6ccIkupxse9xQ8nil4vV7QDVZfJggMgiBAo9NAp9NAZ9TBZDbyjOxkdfGyHL5sbZ5a00BzYpGKAi1KdLZ1Sxc/uSJ/2n0Fn31yQ/y895Y8PDAquibdmJ5GzPfeGGNgAoPBqEdSipVn5KSo4pL5fHFRNhYsyVZj9WLeaEOBFqU62rqk/muDMr/QC37hhth/fVAevDUiToxNwjnpKwuZjsKC3pkC15lqfbPVhHkpCTwte56aV5DFcwuykD4/hQIsSlGgxYj2053SYN+wfPP6EG5eG8DgrREM3R4VR0cmZMf4pOhwTMI96YHHfadMxDsN7/SdwAuXzGN3AosxsNnDRoMOJrMB5jgjtybGqYlJVp6UEo+0+fOQkpWIpFSrSkdYxwYKtBjXdqJTun1jUL51fQA3rw2g7/oABm4Nw+lwic5Jp+xyecQpj6835/X6jkL6omc3DXh941lfKcn0tC/7/v+ve2BffPFVRjBficSdsJr5ngnsTo9LABMYtFoN9AYNN5oMqsFk5ClpSUjNSvQFV0YiUtOTaAI/xlGgkXtqP90pjQ6OyyMDExgZGMPI4BhGhiYwOjIB56RDdE645UmHS3S63HA7PXC7fD28mb2p03fC7kuYL6QYY9AIDFq9Fjq9FjqDFnq9HkaTnptMBtVg1nNrvBlxiWbEJ8UhcV4c4ufFwZJgot4WuScKNDJnXR090tSUR/Z4PPB6vPB4PfB6vfB6cOerF4AXM4eKCAIACBC0AgRBgKAFtIIWgqCFVgtotVowjVYtLs2nwCJz8n+GPhnuUlGW9gAAAABJRU5ErkJggg==)"
      ]
    },
    {
      "cell_type": "markdown",
      "metadata": {
        "id": "LV5LZKnlpBBS"
      },
      "source": [
        "# **Funciones y sentencias if - for**"
      ]
    },
    {
      "cell_type": "markdown",
      "metadata": {
        "id": "le2nXpaJlTWn"
      },
      "source": [
        "## Funciones"
      ]
    },
    {
      "cell_type": "code",
      "metadata": {
        "id": "eBwG-1PllW3l"
      },
      "source": [
        "def potenciacuadrada(num):\n",
        "  return num ** 2"
      ],
      "execution_count": null,
      "outputs": []
    },
    {
      "cell_type": "code",
      "metadata": {
        "colab": {
          "base_uri": "https://localhost:8080/"
        },
        "id": "iikKV9KRKJs7",
        "outputId": "b2f63429-ffde-4bfc-d2ab-905d11bbdba9"
      },
      "source": [
        "potenciacuadrada(3)"
      ],
      "execution_count": null,
      "outputs": [
        {
          "output_type": "execute_result",
          "data": {
            "text/plain": [
              "9"
            ]
          },
          "metadata": {
            "tags": []
          },
          "execution_count": 12
        }
      ]
    },
    {
      "cell_type": "code",
      "metadata": {
        "id": "nnb2ZwKZNHCp"
      },
      "source": [
        "def raizcuadrada(num):\n",
        "  return num ** 0.5"
      ],
      "execution_count": null,
      "outputs": []
    },
    {
      "cell_type": "code",
      "metadata": {
        "colab": {
          "base_uri": "https://localhost:8080/"
        },
        "id": "398F_nvANRyF",
        "outputId": "377efccb-b417-4af5-ae7e-715b33169686"
      },
      "source": [
        "raizcuadrada(9)"
      ],
      "execution_count": null,
      "outputs": [
        {
          "output_type": "execute_result",
          "data": {
            "text/plain": [
              "3.0"
            ]
          },
          "metadata": {
            "tags": []
          },
          "execution_count": 14
        }
      ]
    },
    {
      "cell_type": "markdown",
      "metadata": {
        "id": "jGGs-MHkLYWe"
      },
      "source": [
        "Ahora puede probar realizando la función correspondiente para calcular la potencia cubica de un valor $x$, es decir, de un determinado valor."
      ]
    },
    {
      "cell_type": "code",
      "metadata": {
        "id": "LW_-VNKLlaGd"
      },
      "source": [
        "# codigo para generar la funcion y calcular potencia cubica"
      ],
      "execution_count": null,
      "outputs": []
    },
    {
      "cell_type": "markdown",
      "metadata": {
        "id": "nbYPtNt8O0TU"
      },
      "source": [
        "### Argumentos y parámetros de la función"
      ]
    },
    {
      "cell_type": "markdown",
      "metadata": {
        "id": "E5xNk6H_PExS"
      },
      "source": [
        "#### Por posición\n",
        "\n",
        "Los argumentos de la función,  se reciben por orden en los parámetros definidos. Se dice por tanto que son argumentos por posición..."
      ]
    },
    {
      "cell_type": "code",
      "metadata": {
        "id": "gL7JJK4DPb5X"
      },
      "source": [
        "def resta(a, b):\n",
        "  return a - b"
      ],
      "execution_count": null,
      "outputs": []
    },
    {
      "cell_type": "code",
      "metadata": {
        "colab": {
          "base_uri": "https://localhost:8080/"
        },
        "id": "VWKBn-qxPpnZ",
        "outputId": "c4bc4084-b2a9-4a17-aa70-b7bd980b449a"
      },
      "source": [
        "resta(40, 10)"
      ],
      "execution_count": null,
      "outputs": [
        {
          "output_type": "execute_result",
          "data": {
            "text/plain": [
              "30"
            ]
          },
          "metadata": {
            "tags": []
          },
          "execution_count": 16
        }
      ]
    },
    {
      "cell_type": "markdown",
      "metadata": {
        "id": "z59BtthfQSX4"
      },
      "source": [
        "#### Por nombre\n",
        "\n",
        "Es posible evadir el orden de los parámetros si se indica durante la llamada que valor tiene cada parámetro a partir de su nombre..."
      ]
    },
    {
      "cell_type": "code",
      "metadata": {
        "id": "kKHOS346Qu-p"
      },
      "source": [
        "def suma(a, b):\n",
        "  return a + b"
      ],
      "execution_count": null,
      "outputs": []
    },
    {
      "cell_type": "code",
      "metadata": {
        "colab": {
          "base_uri": "https://localhost:8080/"
        },
        "id": "ABJ-DcirQzNT",
        "outputId": "4b1dd9d6-6053-42e1-c067-1107bb9f4a75"
      },
      "source": [
        "suma(b=50, a=100)"
      ],
      "execution_count": null,
      "outputs": [
        {
          "output_type": "execute_result",
          "data": {
            "text/plain": [
              "150"
            ]
          },
          "metadata": {
            "tags": []
          },
          "execution_count": 18
        }
      ]
    },
    {
      "cell_type": "markdown",
      "metadata": {
        "id": "srKYmkqsmHw2"
      },
      "source": [
        "## Sentencias if - for"
      ]
    },
    {
      "cell_type": "markdown",
      "metadata": {
        "id": "u2D0fuf6hguR"
      },
      "source": [
        "### if - elif - else"
      ]
    },
    {
      "cell_type": "markdown",
      "metadata": {
        "id": "OyPTygbfg2bI"
      },
      "source": [
        "Las sentencia if, acompañada de ... elif ... else ... permiten condicionar la ejecución de uno o varios bloques de sentencias al cumplimiento de una o varias condiciones.\n",
        "\n",
        "Para una sola condición, se usa if..."
      ]
    },
    {
      "cell_type": "code",
      "metadata": {
        "colab": {
          "base_uri": "https://localhost:8080/"
        },
        "id": "uSQiTL4jh2Rc",
        "outputId": "72bfdb4c-347b-4276-b599-2aa1ca1abfd9"
      },
      "source": [
        "positivo = int(input(\"Escriba un número positivo: \"))"
      ],
      "execution_count": null,
      "outputs": [
        {
          "output_type": "stream",
          "text": [
            "Escriba un número positivo: 2\n"
          ],
          "name": "stdout"
        }
      ]
    },
    {
      "cell_type": "code",
      "metadata": {
        "colab": {
          "base_uri": "https://localhost:8080/"
        },
        "id": "0bRZAivTiL8m",
        "outputId": "fb016409-5244-46c2-c2a8-be2646dbe9bb"
      },
      "source": [
        "if positivo < 0:\n",
        "  print(\"No es un número positivo!\")\n",
        "print(f\"El número es {positivo}\")"
      ],
      "execution_count": null,
      "outputs": [
        {
          "output_type": "stream",
          "text": [
            "El número es 2\n"
          ],
          "name": "stdout"
        }
      ]
    },
    {
      "cell_type": "markdown",
      "metadata": {
        "id": "9rTi7f72juQf"
      },
      "source": [
        "Los bloques de sentencias pertenecientes a la condición deben tener un espacio, lo que indica que están supeditadas al cumplimiento de la condición..."
      ]
    },
    {
      "cell_type": "code",
      "metadata": {
        "id": "WFr9Ftr7jEcA"
      },
      "source": [
        "if positivo < 0:\n",
        "  print(\"No es un número positivo!\")\n",
        "  print(f\"El número es {positivo}\")"
      ],
      "execution_count": null,
      "outputs": []
    },
    {
      "cell_type": "markdown",
      "metadata": {
        "id": "0as1VUG9kPLu"
      },
      "source": [
        "Por eso el resultado de la ejecución de este script es distinto del anterior..."
      ]
    },
    {
      "cell_type": "code",
      "metadata": {
        "id": "VuVqXT07kpH_"
      },
      "source": [
        "# genere un input para número negativo"
      ],
      "execution_count": null,
      "outputs": []
    },
    {
      "cell_type": "code",
      "metadata": {
        "id": "RJLMq8k_kvlx"
      },
      "source": [
        "# use la condicional if para evaluar el numero del input"
      ],
      "execution_count": null,
      "outputs": []
    },
    {
      "cell_type": "markdown",
      "metadata": {
        "id": "EQTiObXxou_X"
      },
      "source": [
        "La sentencia if con la bifurcación else permite que se ejecute una instruccion cuando se cumple una condición, y que se ejecuten otras instrucciones cuando no se cumple esa condición. \n",
        "\n",
        "En inglés \"if\" significa \"si\" (condición) y \"else\" significa \"si no\"."
      ]
    },
    {
      "cell_type": "code",
      "metadata": {
        "colab": {
          "base_uri": "https://localhost:8080/"
        },
        "id": "_kNdG-m_pjoj",
        "outputId": "eac59e46-cdf8-4d24-c8fc-92e08c41ac19"
      },
      "source": [
        "edad = int(input(\"¿Cuántos años tiene? \"))\n",
        "if edad < 18:\n",
        "  print(\"Es menor de edad, no le corresponde votar\")\n",
        "else:\n",
        "  print(\"Es mayor de edad, le corresponde votar\")\n",
        "print(\"¡Nos vemos!\")"
      ],
      "execution_count": null,
      "outputs": [
        {
          "output_type": "stream",
          "text": [
            "¿Cuántos años tiene? 18\n",
            "Es mayor de edad, le corresponde votar\n",
            "¡Nos vemos!\n"
          ],
          "name": "stdout"
        }
      ]
    },
    {
      "cell_type": "markdown",
      "metadata": {
        "id": "4rZ7S7PQrlve"
      },
      "source": [
        "otra forma de hacerlo..."
      ]
    },
    {
      "cell_type": "code",
      "metadata": {
        "colab": {
          "base_uri": "https://localhost:8080/"
        },
        "id": "oP4Q_VW3roP1",
        "outputId": "97e7b169-ed65-4166-b179-df21c0b8c981"
      },
      "source": [
        "edad = int(input(\"¿Cuántos años tiene? \"))\n",
        "if edad < 18:\n",
        "  print(\"Es usted menor de edad\")\n",
        "  print(\"Recuerde que no tiene la edad para votar\")\n",
        "else:\n",
        "  print(\"Es usted mayor de edad\")\n",
        "  print(\"Recuerde que debe votar\")\n",
        "print(\"¡Nos vemos!\")"
      ],
      "execution_count": null,
      "outputs": [
        {
          "output_type": "stream",
          "text": [
            "¿Cuántos años tiene? 13\n",
            "Es usted menor de edad\n",
            "Recuerde que no tiene la edad para votar\n",
            "¡Nos vemos!\n"
          ],
          "name": "stdout"
        }
      ]
    },
    {
      "cell_type": "code",
      "metadata": {
        "id": "hQWbKUXTscWZ"
      },
      "source": [
        "# genere un script con la edad para evaluar si puede una persona obtener el carnet de conducir"
      ],
      "execution_count": null,
      "outputs": []
    },
    {
      "cell_type": "markdown",
      "metadata": {
        "id": "Of1KUJYCtNG-"
      },
      "source": [
        "Ahora vamos a realizar condiciones anidadas... para evaluar la combinación de los colores primarios...\n",
        "\n",
        "![Colores.png](data:image/png;base64,iVBORw0KGgoAAAANSUhEUgAAAJEAAACLCAYAAABhlXveAAAACXBIWXMAAAsSAAALEgHS3X78AAAS2ElEQVR4nO2deXxUVZbHv1VJIBuJECAYAW3bBhRoERQF0bHRRlAZbBVEnHYG2pm27R63cWy6cd8+Kq6jjgsqDTOKij2jIohCD4sgEbHFZgsQEokhQbJA9q2qzvxxUyaQSlL1tvteyPd+zh+VvHr33Ht/dd923zk+jm/8v4Ph14GMhBM2weye0C8NSAbigJ5AAxAEaoFK9blkHCzcBkeWgO8F2AGEtLVCMz7dDjjJDZBxJwwpgatHQWoaDA/CmHggTmmmRwy7awxCMKC++1UN7PgGqvvDn1+B4mdhPyC2NMRldHUR9VgEA9JhyqWQGYCrU+AUH6TZWGfFYagLwrrPYe0RWPGP8D1qQuvGSyyEn+fBslooFBBdVg0H8uCjD+DnuvukmyjIgkE5MK0CVukUTnt2BFbnwLQsGKS7r7ppiz8PptdonnWitXooLITpgF93xx33jIOkL+GyelghUK9bHDFafQOs2AmXjYMk3X15XLIKBh+CpSGoc4EgDFsI6kph6WcwWHefHldshdmNsF+3AKy0Rtj/N5itu2+7PK/BaYdgmUBQ96DbZMESWPYanKa7r7skuTC+DrJdMNC2Wy1s3gXjdfd5l2IzPNgEpboH10lrgtLN8JDuvu8S7IR50nUPX51aDszTPQZexncA7tU9iG6w7+B+uv4jKsvxl8MjAk26B9Al1lQOj6AeEncTBb6D8IjX7/9YbSGoO6SE1D0jdcZueECgQfegudQadsMDusfI1ayCuS4YKNfbJ/AH3WPlSpbB9SEXDJBXbAVcr3vMXMViOL0WtugeGC9ZLWx5A87QPXauIB16F8FnugfFi1YEG9Kht+4x1L6eZQ3Myey+xW+ITBi3Bubo9kMrf4TRge57QaYsCE33wBjdY6mNEliiexC6gpXA27rHUgvrYZpAte4B6CJWvR6m6R5TR7kPBpTBLhd0fpexMth1HwzQMZ5aTqwnwaw+MExH3V2VPjBsMszS7YcjzIGsasjR/cvtilYFu+dAltNj6vhMNAdmpcAQp+s9HkiBIXM0zEaOi+gs+BndT6JtwQeMgolO1+uoiLbA6ES4wMk6jzeSYMIGONvJOh0VURrc4YdeTtZ5vOGHXn3hdifrdPKwkhCCHB+c6mCdxyUCeX44HWh0oj7HZqL1cGG3gJzBB6euggudqs8xEQ2Fy52qqxsYBVOcqssRES2GlCS4zIm6ulH0gMsXQ4oTdTkiolKY1AuGOlFXN4o0GFoGlzpRlyMiurQ7qJMWJjrU706IqGdfDTfAuoEBqt972l2P7SK6AvoKjLa7nm7aEoLRE6Gv3fXYLqK7IHSCCgPdjcOcAMH7HYivbbuIesHAnpBuWwWefwpnXwN6wgm9YKBtFTQTb3cFO+HKUUbeSEgG+gEZqBdjfoLqjpOA/kAC6s30OCCAmuvqgCLgACoU+XagAChHRZJ2NOa9H8gE+gAnAyNQ57kDUas1kpqdj292Pgg0AYeaG1AI7AV2AmVACSqmf/T4IH07XAl8abo5HWC7iAZBYlQb+oETUdGe/w7V56dg/ogeQI1JHpAN/B/wFXDY5H4jkg6MRS1UOA/4MUowZru5hJZfxTpgNVBMNGcJUfe/m9kFT3W4mGoUIg8h8jki4pDVIfIJIjchkmZ2MViaCDeJ8L4IFY41QfhKhEdFOLND/3bAU7o1YJqSSCIaiMjtiOxwUDgd2ceIXINIfLTCiRfhahH+V4SQdveFPSLcLsLANr6WdAURNbYW0VmIvIhIifZeb2shRPYhcjMime2JJ1OEX4mw1yXiOdZKRHhdhNE/+FzbFUQk8IychsgCRKq193J0lovIXEQywuJJF+E2EXK1uxadVYuwSITTReAZ3Rowx6mkl73JOjmivVcNWWgfUjpjuoTI0e2KQauRMt5ZB6fad4vFVpYwizLyc/X3pEEbLiIrRURE1orIKBe4ZMByEYEj+bDEQ68TzeVUdrMYoQZB/qa7F2O2eBG5X0Sq5CiqReQBEenhAhdjsG+Q8OlRDeQuhrt/rFsiHeFjCf/EEbYgLeUL3b0Ykw0WkU+lQ9Y0b6bb1Sgtu0VEzVa1HvaM0i2WyKzjbhpobC0gBFmuuxejtotFpLBjAYUpFJFJLnA5ClvWRkQi0HQQNv1et2RaSKUf+3gAIXSsgBDkZd29GJXdLCJ10QkoTIOI3OoC1zuxlyKKKGwFd+iWD/ySsylgdyTxhMs83b3Yqb0Sm3iO5RUXNKED+2OHIgoFoHgl3HSWHgHN5RwOsa0jASHItbp7sV1LEJEFRmTTloXi2hPuGR2KKGzf74C55zgroJsYQTm7OhMQgpwjSFB3T7axJLFMQGEWNO9Wd9NaWQCRs6MSkQiU74J/GemMgCYzlIPRCQhBThakWHdvtrHnjIulI55zQdNa2QFEBkctIhEo3QWTbA75M4lh5LMnWgEhSA9BNuvuzaPsKTMy6ZxnXNDEZvsSkYSYRCQCBzfBL2181egAr8UioHB5VXdv/mC3ikjQlEY6JSgit7igqYi8HLOARECaoOwebFlyuZ27CVFtRETX6e5NQUTGi7oud4AGETnfoWZ1YDONiaj57vb2u60VUDbnEaDKiIDC50UBrT3aX0TyzUojNvKbq9XU5CAipxgXkUCgCjaOi0YenS/UP4kMfsrzxJFqVIPFwGajXzaND3gWtdbWQU5prlbTiwTZqOXmxolLhdH/Ab0yOtuyMxHFs4HFJJkLmtQIrDSzA1P8K3CdnqqvA36rp+qPsSKuTOLZsHUxphaJr2I2IeqMHsZal6Fa5vUhIlJkxcHJOEXNbjjc9CGmDmWtLVQHK2cbE9B8fkQ5+VYIKFy+cVxE71imBVO8I442e6tlAgpbeT7M/1F7Umn/cDaV2fS29kRioZU765SLgRmO1tguM1BvETmE9f3c+xS4PMZENMs5mUYKrJyFECRDkArHfpJbLZ1MTPO1ONLsClotDbfUGgvg3YizUeSZaDQ3k2B9WJIyYLHVO43ITOBMR2qKmlE4MjH+CdXP1pMwCM7/TXTbPk8WQYqsnoXCZZQgh239OSaLyGbLJxJL+EKUezY1/TAiZ9oyC4UtVASPt4nY33YmupIb8XOiaeG2w1ZgmV07B+AiwOFVDdEyFvWKuE18CHxj3+4B34kw88aOt5lCPxr53q5ZKFxOF6TStpmokzXSuvlUbGl2JSJn2DoLha3xe5jUv7Vsjp6J7uW3JHDUBnawC3jZlj2PxcHIu8a4AOWmxbyMih9iPwn94elLWv+lRUTXk8ZgrnLED+AxVPAUa5mJA9HlzJEIXGvtLg8Aj1u7y04YeA2c0SP8qUVEkxnNAE5zyo1yYK6le0wErrZ0j7ZxDZYGfPk9dl2RtUfqFPi388OfWkR0LhPxk+SkK2+iou1Yw4WoCFgeIAuYYM2u1qL60VniEuHci8OflIgG0I8MPT/jf0A95TfPVFTkMQ8QD/y9+d0UofpPD1lXQmZ/CIvoQ3rRi04f+dtBIXArKqCZOTxyKAtj0t0m4DbU+ZAekvvBslQIi6iRiSTYH6q2PZYCT5vawyCw79aWPWRh6uj7DKrf9NEzA5ouhrCIBjIWzceCezBzE9Lll/XtYfDG43LgXksdMUQcnDgWlIjiOInhmh2iEZW8NNfQtz2azNGA9nNRa90arPbFEIPPAOL8/IbhBBij2x2AalS/7o3pW3Gop5se5Eximv/3oh7qVNnjjQECY+CG4X5uw0cPRLc7YYpR9+Kin5F6oIJce5CfoNyPgr2oRQD6TqQjkSBwl89PKZfgd1es469RU3ZOVFtnoAKOe5CMZuuEXNShfqvN7sSOPxEOX+Knxp0ZgLagUjV2PiMNsd0XW+lkEs1D3QHb4oQvhqid6OdEZ5MVxEIeKj1Rx3e1Bzvii210sPRvI6r90c3IusgM+d1+JKgCJgMvtbuFx/PxRUjfIqj2XgJUOOxO7PTF74Us9fXA74BfodKnHI3tK1fsJfPoj2XAr1HtrdfgTuz0wk+ybieiIwS8gbrE/fqo/ziSK9c+Wrn/Nap9C3A4IZIpkvF75ZllmF2o84S7gBoAcXThgfUkC/XAPGAMKo+Qt4h3JpGwHcwHzmiCt5pcvgitE95LbGIYTTwK7rlZFyOeFRFAQQJcn9DIOGAN3jkEBFH+jgeubUxgPwmaPTKH37PyD+OrJxuYBEwBPiLW/ITO0QB8CkxD5QbcBIRqvZ5/NIjfI5cAHaAkE0AN0FTUL/xFms+ZXEA98Brqof2lqKfwwdb/9DT1+KnW7YRZ2l70f4O6RE4FfgG8hUqA6SQVwP+gHt8kA/8MfBFpw+8ddMoWqomnFJWw17N0/M7I+82WhFrWfBnq6u401LowqyhGPST9K7ACdbc5qsPqdxY6oYVS4in1elLw6F48qgNWNVs8MAAlohHASGAYam1kCkpw/ubt4mjJFR1OeF2DEk0OsA11WV5EtKl9DbnvYsp88TSyG/Ws06Psi/kbAdTYFdI2DGBPIA31Rk9CszWhFs01AJVYvCAsz8qd6aBxj48aziKZz/Fs6usU1HmRR269t6YG9djDLVcAMRNqgMpxfh4haEFwP4004Pbn3O2Sg8evzgLA/KCfR9mPz8AxwTUEgB26nTDGDgycRLmKffDofj9QQU3kq0/v8LluB4zhUbdbqNoMVKjHHhs9/nvgM90OGGO9bgfMsjMPws/OGviAEHVa/THFDtR1k4eoRC1J8CyhQzD0LQiLaBFfU2kyALt23tftQGz8WbcDZqmogqvqoOVd/CKq+VirT6b5CE8tpliu2wGz1HwMG4ug9VKQ9azHO6spIvAXoFS3E9FRgloL4l1CsPaHE9EWERWwmhLytbhkCeXozCASEytQ7nqWymw4+MNc2iKiP3CYIlZo8cky3sD1k2kAFWza01S8Dv/+w332o1c2vsVLhFz0qnfMfAF8qduJjtmCyiPlWUJV8OyG1n85WkRPsIuDvOuoT5ZSh3pXwsW8iscfdRS9C0/vaf2Xtmus/8KziHcfCapr5291OxGZPDx3J+IYamDNs8f+sa2IbmA7JZqDcJniCPCUbici8yRwWLcTZjj4HtzQ5q2myG977OQ5Al65Xo7Ey7huNvoWtdDaswRKIa/NLATtiehnbOUgH9jqk60EgAd0O3E0D6JWt3mWgx/A+RGj27T/3tlqnqSBbbb5ZDt/op2l8c6TjdMZAy2mYRusftLYd3cy0+5kMfaWsYJU25GPJXqrFmGsE4lb7LTdM40LcBxJFLBJtxTMlYf0iugh3QIwa99tgukmAx7M42wC7NctBeMlTZA1egS0VoR03SIwY4H9MM9UOvsWcriGII265WC8jBQ7M6xFtEoRfqpbBGYs1Ag5060RkCKOvbytWwrmyixnRXS9bhGYtb1vY0OA/B6U8SpCSLccjJcnnBHQE7oFYMpCULIA2xLHLWQA5WzXLQXjxS/IUnsFtFQEv3YhmLCyHbA6s3MxmOFhplJNiW45GC/pgnxkj4BWitBHtwjMWFUZPDzVXgGFeZKraOSIbjkYL30F2WStgDaJ0E+3CMxYfQXM/4UzAgrzMFdTTZluORgvKYJssE5AqbpFYMaqy+EJTQnjHmMqZWzHsyfbPQVZbk5Ay0XoqVsEhi0E5dvhMYcOYe3xCf2br9o8WpIFeUGQYGziCYnwkgjJ2oVgwsoWwEaXBAK/iET2sAShQbckjBWfILcIUh+dgOpFuEM8fBUWaoTct+Ei10WCiWMvM2iiULckjJcLBDnUsYDKRbhQtwjMWKAQ8mbg6qzLjzOWYrJ1y8F4SRTkvyIL6L/F44ev4mx4eqxuiUTHFSTzOQ9Sw2HdkjBepgmyTYlntwjXiuDTLQKjVnMYsh+EKzwYCexNxlDM6zRRqlsSBkqIhv67+eST/ySrfjdISL8YYrWmUih+Hd50RXpWc2xhNKUsQqjWLo1oSoB8CpjH8+EAs49nQcE8COTrF0ZUVg2li2DLaL0DbwerGEkhiwi6VEx1FLGX25lF78gNmNUb8m+HuiIXCCWCBauhcBGsGunswOrgPkawnRcpJRfdNyqDVPAdf2UddzKhPfEcy4TesO5OKPwKpEK/eEpzYfuLcN8IewcuMjpjWPtYSDrxTOESJpDIZNLIciSpcYAKatjHAT7kC1aymB2sNZJb4KJUuGE4nDsZMqdBShYk9gG7M75IiYoPVL8SVm+AwMcwuwIQe+uNjHsCoU/nJGYyhhSmch5xJDEeHyeTgA/ja1sEoZ5GfISo5CCr2EoxPXmPX7OXQktjc2TAujRIHQ99LoRBwyBwjspZ7kvEeF83QJOA7IfaTbDzWxjxFtxYC0tdkeHcPSJqS28eYRC3Ec9G5pDCyfRD6AOko8LdH0sD6gXYMuAQfnqxglQ28ALCC1QC+x303we3DIeb/VB7PlRcDv1DKof5CUT+XQRQWUHKgRIfVBfAhNdhfgDu/w6Xvj/7/0op47xLW/dbAAAAAElFTkSuQmCC)\n"
      ]
    },
    {
      "cell_type": "code",
      "metadata": {
        "id": "seo3y_lssl9T",
        "colab": {
          "base_uri": "https://localhost:8080/"
        },
        "outputId": "e63ad3e0-9115-45eb-c77c-74edb20c7f5e"
      },
      "source": [
        "print(\"Elegimos entre colores primarios rojo y azul para mezclar..\")\n",
        "print(\"Rojo = r   Azul = a\")\n",
        "primera = input(\"Eligir un color (r o a): \")\n",
        "if primera == \"r\":\n",
        "  print(\"Azul = a   Verde = v\")\n",
        "  segunda = input(\"Eligir un color para mezclar (a o v): \")\n",
        "  if segunda == \"a\":\n",
        "    print(\"La mezcla del color Rojo y el color Azul da por resultado el color Magenta.\")\n",
        "  else:\n",
        "    print(\"La mezcla del color Rojo y el color Verde da por resultado el color Amarillo.\")\n",
        "else:\n",
        "  print(\"Verde = v   Rojo = r\")\n",
        "  segunda = input(\"Eligir un color para mezclar (v o r): \")\n",
        "  if segunda == \"v\":\n",
        "    print(\"La mezcla del color Azul y el color Verde da por resultado el color Cian.\")\n",
        "  else:\n",
        "    print(\"La mezcla del color Azul y el color Rojo da por resultado el color Magenta.\")\n",
        "print(\"¡Nos vemos!\")"
      ],
      "execution_count": 49,
      "outputs": [
        {
          "output_type": "stream",
          "text": [
            "Elegimos entre colores primarios rojo y azul para mezclar..\n",
            "Rojo = r   Azul = a\n",
            "Eligir un color (r o a): r\n",
            "Azul = a   Verde = v\n",
            "Eligir un color para mezclar (a o v): a\n",
            "La mezcla del color Rojo y el color Azul da por resultado el color Magenta.\n",
            "¡Nos vemos!\n"
          ],
          "name": "stdout"
        }
      ]
    },
    {
      "cell_type": "code",
      "metadata": {
        "id": "ToUtwnDrzzp3"
      },
      "source": [
        "# Realizar lo mismo, pero en la primer opción el color a elegir solo es Rojo o Verde"
      ],
      "execution_count": null,
      "outputs": []
    },
    {
      "cell_type": "markdown",
      "metadata": {
        "id": "ow0HUBpU0qbO"
      },
      "source": [
        "Más de dos alternativas: if ... elif ... else ...\n",
        "\n",
        "~~~\n",
        "if condicion_1:\n",
        "  sentencia_1\n",
        "elif condicion_2:\n",
        "  sentencia_2\n",
        "else:\n",
        "  sentencia_3\n",
        "~~~\n",
        "\n",
        "- Si se cumple la condición 1, se ejecuta la sentencia 1\n",
        "- Si no se cumple la condición 1 pero sí que se cumple la condición 2, se ejecuta la sentencia 2\n",
        "- Si no se cumplen ni la condición 1 ni la condición 2, se ejecuta la sentencia 3."
      ]
    },
    {
      "cell_type": "code",
      "metadata": {
        "colab": {
          "base_uri": "https://localhost:8080/"
        },
        "id": "SWrwrJrN1eYL",
        "outputId": "04744dd7-2262-41d3-c424-71c4c340c60b"
      },
      "source": [
        "x = int(input(\"Ingresar un número entero positivo o negativo, por favor: \"))\n",
        "if x < 0:\n",
        "  print(f\"El numero {x} ingresado es negativo\") \n",
        "elif x == 0:\n",
        "  print(f\"El numero {x} ingresado es cero\")\n",
        "else:\n",
        "  print(f\"El numero {x} ingresado es positivo\")"
      ],
      "execution_count": 54,
      "outputs": [
        {
          "output_type": "stream",
          "text": [
            "Ingresar un número entero positivo o negativo, por favor: 7\n",
            "El numero 7 ingresado es positivo\n"
          ],
          "name": "stdout"
        }
      ]
    },
    {
      "cell_type": "markdown",
      "metadata": {
        "id": "IjiFKG2I2_JN"
      },
      "source": [
        "otro ejemplo:\n"
      ]
    },
    {
      "cell_type": "code",
      "metadata": {
        "colab": {
          "base_uri": "https://localhost:8080/"
        },
        "id": "naPlS9x23EAT",
        "outputId": "24f1de23-47ab-4581-ca52-cd0165be7f06"
      },
      "source": [
        "x = int(input(\"Ingresar un número del rango -5 al 5, por favor: \"))\n",
        "if x == 0:\n",
        "  print(\"cero\")\n",
        "elif x == -3:\n",
        "  print(\"tres negativo\")\n",
        "elif x < 0:\n",
        "  print(\"valor negativo\")\n",
        "elif x == 3:\n",
        "  print(\"tres positivo\")\n",
        "else: \n",
        "  print(\"valor positivo\")"
      ],
      "execution_count": 61,
      "outputs": [
        {
          "output_type": "stream",
          "text": [
            "Ingresar un número del rango -5 al 5, por favor: -5\n",
            "valor negativo\n"
          ],
          "name": "stdout"
        }
      ]
    },
    {
      "cell_type": "code",
      "metadata": {
        "id": "XgXE9DrU3NyW"
      },
      "source": [
        "# realice un ejemplo usted, usando elif..."
      ],
      "execution_count": null,
      "outputs": []
    },
    {
      "cell_type": "markdown",
      "metadata": {
        "id": "m_Nr2J2eTnPv"
      },
      "source": [
        "### El bucle for"
      ]
    },
    {
      "cell_type": "markdown",
      "metadata": {
        "id": "S7lSv9Ne30bM"
      },
      "source": [
        "En general, un bucle es una estructura de control que repite un bloque de instrucciones un número prederminado de veces. \n",
        "\n",
        "El bloque de instrucciones que se repite se suele llamar cuerpo del bucle y cada repetición se suele llamar iteración. La sintaxis es la siguiente:\n",
        "~~~\n",
        "for variable in elemento iterable (lista, cadena, range, etc.):\n",
        "    cuerpo del bucle\n",
        "~~~"
      ]
    },
    {
      "cell_type": "code",
      "metadata": {
        "colab": {
          "base_uri": "https://localhost:8080/"
        },
        "id": "7klEUBNH3ymR",
        "outputId": "6ba8a29c-d79b-4de4-89f4-1878b927c8e3"
      },
      "source": [
        "for x in [3, 4, 5]:\n",
        "  print(f\"Si el valor asignado a x es {x}, entonces su cuadrado es {x ** 2}\")"
      ],
      "execution_count": 58,
      "outputs": [
        {
          "output_type": "stream",
          "text": [
            "Si el valor asignado a x es 3, entonces su cuadrado es 9\n",
            "Si el valor asignado a x es 4, entonces su cuadrado es 16\n",
            "Si el valor asignado a x es 5, entonces su cuadrado es 25\n"
          ],
          "name": "stdout"
        }
      ]
    },
    {
      "cell_type": "markdown",
      "metadata": {
        "id": "zluDOUAV63gP"
      },
      "source": [
        "otra forma:"
      ]
    },
    {
      "cell_type": "code",
      "metadata": {
        "colab": {
          "base_uri": "https://localhost:8080/"
        },
        "id": "QkGdErBX66bV",
        "outputId": "facf542c-e9b0-4413-c366-aa0e7a5c04ae"
      },
      "source": [
        "lista = [3, 4, 5, 6, 7]\n",
        "for x in lista:\n",
        "  print(f\"Si el valor asignado a x es {x}, entonces su cuadrado es {x ** 2}\")"
      ],
      "execution_count": 60,
      "outputs": [
        {
          "output_type": "stream",
          "text": [
            "Si el valor asignado a x es 3, entonces su cuadrado es 9\n",
            "Si el valor asignado a x es 4, entonces su cuadrado es 16\n",
            "Si el valor asignado a x es 5, entonces su cuadrado es 25\n",
            "Si el valor asignado a x es 6, entonces su cuadrado es 36\n",
            "Si el valor asignado a x es 7, entonces su cuadrado es 49\n"
          ],
          "name": "stdout"
        }
      ]
    },
    {
      "cell_type": "code",
      "metadata": {
        "id": "HLWyQktR7YIk"
      },
      "source": [
        "# hacer el cuadrado de numeros pares"
      ],
      "execution_count": null,
      "outputs": []
    },
    {
      "cell_type": "markdown",
      "metadata": {
        "id": "r1QB_vf17qvv"
      },
      "source": [
        "otro ejemplo:"
      ]
    },
    {
      "cell_type": "code",
      "metadata": {
        "colab": {
          "base_uri": "https://localhost:8080/"
        },
        "id": "mqBA47Cq8Rz1",
        "outputId": "fbb14fd9-66a2-47ae-dfcd-f0caf2635653"
      },
      "source": [
        "lista = [1, 2, 3, 4, 5]\n",
        "for i in lista:\n",
        "    print(f\"{i} x {i} = {i ** 2}\")"
      ],
      "execution_count": 62,
      "outputs": [
        {
          "output_type": "stream",
          "text": [
            "1 x 1 = 1\n",
            "2 x 2 = 4\n",
            "3 x 3 = 9\n",
            "4 x 4 = 16\n",
            "5 x 5 = 25\n"
          ],
          "name": "stdout"
        }
      ]
    },
    {
      "cell_type": "markdown",
      "metadata": {
        "id": "-QLUwpQH9SUx"
      },
      "source": [
        "la tabla del 5:"
      ]
    },
    {
      "cell_type": "code",
      "metadata": {
        "colab": {
          "base_uri": "https://localhost:8080/"
        },
        "id": "_SWEei2W85Ui",
        "outputId": "9abcedcd-8aeb-4ae0-e940-55a16d1180b1"
      },
      "source": [
        "tabla5 = [1, 2, 3, 4, 5, 6, 7, 8, 9, 10]\n",
        "for i in tabla5:\n",
        "    print(f\" 5 x {i} = {5 * i}\")"
      ],
      "execution_count": 63,
      "outputs": [
        {
          "output_type": "stream",
          "text": [
            " 5 x 1 = 5\n",
            " 5 x 2 = 10\n",
            " 5 x 3 = 15\n",
            " 5 x 4 = 20\n",
            " 5 x 5 = 25\n",
            " 5 x 6 = 30\n",
            " 5 x 7 = 35\n",
            " 5 x 8 = 40\n",
            " 5 x 9 = 45\n",
            " 5 x 10 = 50\n"
          ],
          "name": "stdout"
        }
      ]
    },
    {
      "cell_type": "code",
      "metadata": {
        "colab": {
          "base_uri": "https://localhost:8080/"
        },
        "id": "0U4fg6Zn9b5M",
        "outputId": "03e85203-b6ce-4e4d-89e9-cad1cf0b33bb"
      },
      "source": [
        "for i in \"DATA IDEA\":\n",
        "    print(f\"Dame una {i}\")\n",
        "print(\"¡DATA IDEA!\")\n"
      ],
      "execution_count": 64,
      "outputs": [
        {
          "output_type": "stream",
          "text": [
            "Dame una D\n",
            "Dame una A\n",
            "Dame una T\n",
            "Dame una A\n",
            "Dame una  \n",
            "Dame una I\n",
            "Dame una D\n",
            "Dame una E\n",
            "Dame una A\n",
            "¡DATA IDEA!\n"
          ],
          "name": "stdout"
        }
      ]
    },
    {
      "cell_type": "code",
      "metadata": {
        "id": "ngMH-Lsl8vby"
      },
      "source": [
        "# realizar un ejemplo con for"
      ],
      "execution_count": null,
      "outputs": []
    }
  ]
}