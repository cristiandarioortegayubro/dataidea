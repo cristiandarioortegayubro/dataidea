{
  "nbformat": 4,
  "nbformat_minor": 0,
  "metadata": {
    "colab": {
      "name": "meeting_02.ipynb",
      "provenance": [],
      "collapsed_sections": [
        "srKYmkqsmHw2",
        "2HbCixSgojZY",
        "zizVQK-posQr",
        "FysQLoGJro4X",
        "wM_XkeZ7s4i_"
      ],
      "authorship_tag": "ABX9TyNZgbEUfPC1ONBudyxrp3nj",
      "include_colab_link": true
    },
    "kernelspec": {
      "name": "python3",
      "display_name": "Python 3"
    },
    "language_info": {
      "name": "python"
    }
  },
  "cells": [
    {
      "cell_type": "markdown",
      "metadata": {
        "id": "view-in-github",
        "colab_type": "text"
      },
      "source": [
        "<a href=\"https://colab.research.google.com/github/cristiandarioortegayubro/dataidea/blob/main/meeting_02.ipynb\" target=\"_parent\"><img src=\"https://colab.research.google.com/assets/colab-badge.svg\" alt=\"Open In Colab\"/></a>"
      ]
    },
    {
      "cell_type": "markdown",
      "metadata": {
        "id": "GTX990AbkZ4O"
      },
      "source": [
        "<center>\n",
        "\n",
        "![Logo.png](data:image/png;base64,iVBORw0KGgoAAAANSUhEUgAAATQAAAEzCAYAAAC/hP8nAAAACXBIWXMAAAsTAAALEwEAmpwYAAAgAElEQVR4nOy9e3xU533n/3nOZW4aSaO7kAAdkARIIAEChLlYc4xd3Dj52Q2bOq3bRErSpt0k23Sb3Wx3s7tRut02adPm8kudJvFFOI4TOw4JxMYG2/JI5ipAgLgIEJcjhJCEhK5zP5dn/xhBwIA0MxppRqPn/XrNy3hmzjnPHJ3zOd/n+3wvBAzGA2hr7XCqnqDs9frhdYdefq8ffm8w9PIFEfSHXoGgBi2oQdM0aBpgGAZgGDAMADDG98iB4wCO40IvARAEAYJJgNkkwGQxwWIxwZJiCv3bZoHNboLNboHNboPVbHFV1ZQ1xfGUMBIcEu8BMBKD1gPtzps9g3Lv9QEMdA9j+OaYNDw4Jo8MuiWP24egX4Ua1BAMqNA0HYZugFIKalBQitC/QQEa4YEJQEBACAHhbv03JHqiKEA0iTBZBJjNIlJSLUpaZqorIyNVceSmIbcwE7kF2cjISXNVbWRCx2CCNudoaW5z9nUPyb3KDVzvHEDf9UEMDgxLIzfdctAflDRVh64bAKUhbbr931t7CAnYTEAIcPsSJeP/IgQEAOEIeJ4HL3Aw20yKIzPNlZnjUPLmZ6JgQTbypWzMW5DLhG6OwQQtiWltbnN2dfbLVzt60X31Bvp7hiXvqFf2eQPSLYtLVTUYmgHdMELWVjRWVpy4JXghcePA8xwEUYBoEWA2mWBNMSupDpsrJz9LKSzKxsIlBZhXxEQumWGClkQc2Nvq7O8Zkq8rN3Dtar/Ue3VAHh4cldwjXgR8KjRVg2FQ0JkyseIMIQQcz0EUeZitJtjTbcjMTlfmFWW7ChbmKQVSNvLmZbmqt1QygUsSmKDNchp3HXB2nOqWL5zplHqUG/Jg/4jkGfNB14w5I1yRQgiBaBKQkmpFVm66UrA4z7VkxUKldPkCV80T1UzcZjFM0GYZrc1tzo72bvncscu4cOaqdLN/RPZ7A5KhGzB0AwYdt8CYlk0IIRhfgODAjU9ZrakWJWdepmtJ+UJl2ZrFWLR0PpuezjKYoM0Cmne3OM+f6pQvnr0m9V0dkIdvjkqeMT8C/iB0TYdhMPWKBRzHQRB5mCwi7Gk2ZGSlKfkLslylK4uUpcuLXBu3VjFxS3CYoCUoLY1tzisd3fLZ1kvS5XPdcv/1Qcnr9kNTdTaVnCEIRyCKAmypVuQVZiolZQtcZWuLlQXFea7qGuZ3S0SYoCUYO17a6zy5v6PuQlun3Nc9IAV8aihIlRF3OJ6D1WZG3oJspaxKclVtWtLwxNNbmLAlEEzQEoDGXS3O4/vOyG2Hz0t9PcNywBuUNFWDrjPHfqJxK0REEAVY7WYlvyDTtXLDMmX1xqVsQSEBYIIWJ1oPtDvPHLkgn2m9LHVd7JVv3hgOTSk1HZT5xGYFHEfACzzsaVZk5WcoUkmhq3ztImX5msWuymq2mBAPmKDNMC3Nbc62AxfqWppOy1cv9UreMR9UVWOrkrOcW6Eg9nQbpCUFyjp5haty/dIGtko6szBBmyEad7U4D77TWnfiwAX5Rs+gFAyo8R4SYxqx2EyYtyBbqdpU7tr4eysb2ArpzMAEbZrZ9Uqjc/+bx+vOtSmye9QrBQMqC3qdAxCOQBB4mMwi0hwpStmaYpfzo6satm6rYcI2jTBBmyZee2Gv8+S+s3UXTl2VB2+MSH5vgMWLzVE4noM1xYyc/AxlaaXkqtxU1rDt02x1dDpgghZjdr/W7HxvR0vdubYr8sjAqGQYxoxVp2AkNrdySzOzU5UV60pdj22rbtjy5EYmbDGECVqM2PVKo7NpV0vdqZbLsmfMJ7HYMcZE8DwHuyNFWbVxmWvLk9UNW7cxYYsFTNCmyO7Xmp3v7zxSd+GUIo8Ne6SAX4WhMzFjTAwhoVQrs9WE9MxUpaxqsevRpx5q2PIki2WbCkzQoqRxd4vz6Hun6k4cPC/3dd9kPjJG1HAcB5vdjHkLc5SqzWWuaucKtioaJUzQouDZb7xae/Dd4/VXL/VKwaDKYsgYMYEQArNFxKKlBcrmj66p/+zfbNse7zHNNpigRcBrL+x1vv2zprrOi72y3xeU2NSSEWtuTUWtdotSWrbA9ft/srnhyWfYimi4MEELg8ZdB5zv7mipaz9+WR7sH5VuVX5lMKYLjuNgMgvIzHUoFQ8tcW35g/UNNWwaOilM0CagraXD2dJ4sq7pzaNyT9eA5HX7WUAsY0YhhCAlzYr5i3IV+cnq+tovP8WmoRPABO0BvPXqvtq3Xvug/nRLhxTwB5lFxogrHMfBkmJS1m4qdz3+yYfZaugDYIJ2H/71q9tr973TWn+zb1hSg6ygIiMxIIRANAvIn5+lOJ+orv/C1z/JrLUPwQTtDna91Oh87zeH6y6c6ZTdIz5JU7V4D4nBuAfRJCA1I0VZVim5Hn96MwvKvQMmaADaWzucrjeO1TXtPiJ3K/0SSx5nJDqEEAgijwUl85RHP17NQjzGmfOCtm/P0dpfPf9O/ZmjlyX3qJflXTJmFwRIz0xVVm1Y6tr2ud9vqK6Z2/XX5rSgvfy9nbW//Vlzfd/1QUkNaKx2P2NWwvEczBYR84pylY/XPlL/iT97fM5aa3NS0Fqa25zv/epQ3ZHms3J/z6CkazqzzBizmltT0PwF2cqGLRWuR7dtaqisLp1z1tqcE7Smt47Wvv7jt+vPneiUPGM+5itjJBWEI0hzpKCyeonyHz7/eP1654o5Za3NKUF7+Qdv1L7xclN916VeVt6HkdTwAo/isvnKU5/eUr/ts4/NGVGbM4L27a+8UPvB3uP1QwOjEmtKwkh2bjVtyc53KI8+tWHOxKwlvaC1NLY5f/vz5rpjzWfksWGPpGl6vIfEYMwYgiggI8uurH+swvWRTzqTvgtVUgta0xuHa1/90Tv1p450jDv+mVnGmHsQjsBkElC1uVz5w798vH7DIyuT1lpLWkF7/bk9tbt+2lR/+VyXpGvMX8ZgCAKPZasWKU99dkv9xz7pTEpRS0pBe+5br9e+9eq++pt9I1IgEGT+MgYDoVprZqsZeYUZypOffqz+mS98JOlEjY/3AGLNs994tXbP6/vrB3qGQ9VkGQzGbTRVh88TcHRf6V31la/81+Gde149Ge8xxZKkErR/+Ksf1e799cH6gd5hFpbBYDwAXTcwOuR2dF7oWfWXf/al4T37fpM0opY0gvbfP/O92kPvnqwfG/FIbIrJYEyO3xtwXFf6V33mT/58+L3DbySFqM16QWs90O50BEvqW/edrfOO+SRWiJHBCA9KAS2oOXqu3Vz1qac/O+w6+uasF7VZvShwdN/p2h3Pv1t/uPGU5PMGQJmYMRgRw/EcbHaL4vzIGte2z9XUl1eVd8Z7TNEixHsA0XLycHttw7/sqj958Lzk8wbiPZxZBccBhAuteiUjlAKGDlZwIEwM3YB7xCu53jxa5/X4AeAz8R5TtMzKS/r4wfba5/7xV/XnTl5hllmE8DxgTzeQk2+AF5LwvBECTQX6rnHwejgYLDEkbDiOwJZqVSo3LK3/l5/9l1kZ0jHrBO3gu8drX/3hnvq2Ix1SwBdkNcwixJpCsd4ZxEc/6YdgArQki2wRTUDAT/Dac1acPiog4J91l3hc4XgOthSLsqam3PX05x+vr9o0u6afs2rK2Xqg3fmLf9tdf/LwBSngD7JUpigQBCAz20BRqYZL7SZ0K1y8hxQ7CMWiJRoWL9GQnmEGP+uXvGYeQzfgGfNJR94/XWe2mIBZNv2cVYL20nd21p08dEHy+5jPbCpQAD4Ph/ffFOHabU6aKBeOAz72ST/yC1mdu6lAKYXX48e+Pa3y1z73vdr/+/yXZ830c9YI2n/+42/Xnj50Xg76g/EeSlJAAegaoAVJ0jjPCUehs0ZdMcPvCUrHXGfr//fnf4C/+/GXZoWoJfx8o3X/2aL/9ec/eLHtYHu91+NncWYxhtJkepHx38SukVhgGAbcbq90+L1T9d/6z8/Vxns84ZDwgvbWa831B989Ued1+yVDZwsADMZMomsGxkY80vtvHKn/3tdeTnhRS2hB+/ZXX6j94K0TsmfUxypmMCaGAGT8ImHrmrGFUoqRQbf07m8O1j/7968ktKglrA/tuW+9Xrtz+/v1nhGvFO+xJCOiSJGZY2DBYh2gs/95QQAQQuHIMsAn7FU9uxm+6Zbe+eWh+leefQPPfOFjCelTS8g//evP7an9+Q/fqh8ZcrOS2TGGUkDXCAhH8chHg6hYm0T9FQiQX6jDoASGnjyLHYmCpmoYHBiVfvtyc/0brzYhEYtEJlykzluvNtX+4tm367su9zGf2TTACYDNDtjsFGog+SZn7lEOVy/zOHnYhIEbHHQt+X5jPNE1AyODbkfv1YFV3//Bt4cbXnkuoRLaE+qv3dLY5tz+3V0NJw+dl3QmZtMCIQDHA6KZJtYfP4ZQAKqfQDeQPNZngiEIPKofrVRq//qpukRqaJxQU85X/m133YVTnUzMppHQlBMw9GSVsxBsujm96LqO0y0XpF88+2YdgIQRtIRZ5fz2V1+oPXP8kuxx++I9lDlB/GPGpvfFmF4oBdwjXrQeOCf/6O9fTZiVz4QQtO3f21n7zq8O13vdfolVzmAwZgeGQeEe8Uq7Xmmq37H93YQQtbgL2hsvv1+7+5Xm+rFRD1sEYDBmGbqmY7h/VPrNC+/Vv7vzcNxFLa6C1tLc5tz92v76vu5BZpkxGLMUw6C4dqVPeusXTfVtLR3OeI4lrmEbhaYV9W2HL8hetz+ew2AwGFNEU3W4R3wOg+rYu3/nzniNI24W2nPffr32wDsn5bERb7yGwGAwYsjI4Bje33VEfvVHe+I29YyLoO15fV/tW6/sr/d6/BKrjMBgJAeGQTE25JF2vvReffPe1rhMPWd8ytl6oN2547l3v3vx7FVJ19giAIORTFBK4RnzOYLeAD448faMTz1nXNAW2lfWH20+I/s8rOosg5GM6HooPepLX/zr4bebdsxoatSMTjl3bH+39tgHZ+XRYc9MHpbBYMwwwzfHpEPvnKzfu+PAjE49Z8xCa2vpcDZ8+zff7bk6IOmsggaDkfQEfEHHQO8wjlxonLGp54zlcr75s/frOjuuS8FAkvVNm2VwPGCxUNjsNGm7Imka4HETBP0ErMth/Aj4g+g4fUX+3v9+ufbLf/enM1JqaEYE7fXn9tS+9J1dcjCgsnrvcUYUKZZUaHhIDkI0JV+SOsdTBAJA81smXDonwAgm1++bTRgGhc8TlJrfOFa/+7Vm5Ymna6Y9iX3aBa31QLvz+X/aUT/QN8JCNBIA0QwUlWj4yCd8CAYJxkZ5gCaJGUM4pDsMcBzFhVMCrl4CVNYkLK7ouoGern6paeeROsxAVY5pF7TdP3PVdZzqZGKWKNCQfrnHOOz6mRWHXGLSVKfgOOCRjwWw9eOhzJMk+VmzHmpQnDraIX/vay/Xfvn/Tu/Uc1oFbfdrzc7nv7lD9o6xkkAJBQU0jeBmP0HXZSGJBI1i+CbHenMmIGPDXqnFdaq+eXeLUvNE9bRZatMqaHt+sb9uqH+UFWxMUJKtfphBWR+BREXTdPR135Tefu1AHaZx6jltcWgv/2BnbdvhC7Lfx5wYDAYD8Hn8ONJ0Rt758vvTlus5LYLWvLfV+dbPD9YHgirznTEYDAC3Vj390ps/a6pvbW6bloDbaZlyHnrnZF1PVz+rcZaokJC/KcVOkZltJM00jXCALYWC41ioRqJiGBRXzndLh11n6zANU8+YC9reXQecDd/6jezzsBpniQqlAC8AqzdoyMhKgi7DwHinYWDJCg2EJI9fMNmglMI94sWRpjNyS2Obs3pLZUxFLeaC9vbPmut6rg5Isd4vIzYYBuD3cRgbIVhcpqKoNLnS0ATBwPAQQcDPFggSmauXeqTf/ry5DjG20mIqaDte2Ot8/ts75aCfpTclKsEAwfFDInqv2SGI8R7N9KAGge5OHirLEkhY/N4ATrd0yHt3HHBu3bYxZqIWU0FrevNYnXfUKxksgS5h0VRgoJfDzb6498eZVph1ltjouoHRIbfk2tVShxhaaTG7ql9/bk/tqZYOOcCSz2cF8e6byfpyMvy+II40n5FjWWIoJoLWeqDd2bjzSL3fF2QrmwwGIywMw4BnzCfteW1fXaz2GRNBO77/rHz5/DUWc8ZgMCKCGhTn2hT5tR/vjomVFhsLbd85aYxVoWUwGFEwctMtHWtqr4vFvqYsaC/80w7n1Y7rMut6zmAwokHXdHScvSq/9sLeKVtpU65ZmqGX1PdduymzBHQGgxEtWlBzeEZ9OHJ+auW6p2ShvfLsbmdP54CsBlm9FgaDET3BgIrOC9flXa80TslKm5KFli+U1V/v7JdZ0xMGgzEVxsNtHIZGsb9tT9RWWtQW2q6XGp0X2jplVWXWGYPBmDrBgIqTh8/Ljbuij0uLWtAOvHeyzuvxs7gzBoMRE6hhwD3skQ6+d7ou2n1Elfq065VG5/Zv72Irm7MQQkIvjg/9NxmhFDB0wKBIjkoicwRKQylRp1s65MZdB5xbnow8xzMqQTvWdLbu5o0RKZptGfGF4wFHhoGcAgOCkHxpQoQAqkrR28XDPcpBZ+7dWceN7kGp9YPzdYgixzNiQTvQ2Or8t6+/xipqzFIsVopqOYg//aIXKXYDlCaXmcZxBKPDBP/+zRQcOyBC9yTX75sL+LwBXDjVKbe1dDgrq0sjErWIBe34B+flwRvDLM1plkIIIAoUPE9w8D0Tzp8Wk2ZaRjigYq2K8tU6BJGCSdnshFKK3msD0smD52REaKVFLGhHmk5L3jFWjXa2EwwQtB0R4dptifdQYgbhKAQBWFqhMTGb5YyNeHGosU2KdLuIBG3XK43O733t5yyQNgmglCIYJPD7kqeyK+EIVDX02xizm4AviCvnrsmNu1ucWyLo4xlR2Mbhd0/XaQHWyYnBYEwvlFL4vAGp5d1TdZFsF7agNe9ucV44qbCsAAaDMSNoqoYzxy7KkbS8C3vKeam9W+7vG5IMFkibNPA8IIo0eaac/K34OuZBSwZ03UBPZ790qaNHRpiLA2EL2tljl6SgX2X+iWSAADxvIDvPwMJiPXkEjQMys42kDRiea1CDwuv248yRi1K424QlaLtfa3Y+/80dMhOzJIGGGvJ+4jN+PPF0ICmiNm5pWEqqAV3jkkak5zqUUpw/qcjNu1ucNWEsDoQlaCf3nZdHBt3SlEfHiDtqELh0XsCvf2qDyZw8000AAAkJm99H0HWFh8Ziv5OCwf4R6dSRSzLCmHaGJWgXz1+T/N7AVMfFSACCAYLzp0RcOick7dSMUkANEhhs/Sop8Lr9uHBSkcL57qSCtvu1ZudP/uFXrCJtkkBpqDenpiapmjGSDk3V0Xd9QG7e2+qs2Vo1oZU2adjGmUMdsmfUK8VsdAwGgxEho0NeqT007ZyQyQXtxGUpwBLRGQxGHPF5Azh9bPLVzgkFrXl3i7NbucGq0jIYjLgSDKi43N4ltx5onzDIdkJBO3Xkkuz3BlhVWgaDEVcM3YBn1Cu1H78sT/S9CQXtbOsllhnAYDASAl2nOHXkgjTRdx4oaI27Djh7uwbmVjDtrfLUXHQvwgGzuW4NIaHfwI+nEN354vnQb5zKvqM9r9PxIgTT9re6/VsfcB6TNVxmuqGGga6OXvlA44NzOx8YttF1pV8eGhiTkivycmJMZorUdAqBpxFfdBSAoYfK12hqKAbKAKCrofcNI/HLXQsiRZqDwpZC73uzBwMEg/0EmhpZySFBBFLsBqy2xDgBlAKBAIFnjEANxlZdCAEsNoq0DAMm0/2/MzrMwTNKoDHXdEQYBsVA75DU19kn4wFBtg8UtGuXeuH3BRL+JowVhAALF+v41Je8yM7VwfORXei3gjk9Hg4jg0B/L4frXTyud/Lo6+YwMsglfO2xnHwdn/pPPixfrYPn7447JAA6L4v48bes6LoiRBSFn+Yw8NSf+LBeDgIJUPJbVYFTrSJ2/tSKvu7YjofjgIp1Kv7oz/3IK7hXsQjh8O5OE3a+bMHN/in1+Z5zUErhHvPh2pXeB37nwRbapb45txhgtVEsXqpj3nwdQoS1fG8JlaEDmhYSN7+fg3sUGBzg0a0QdJwRca5NwI0eDu5RklDBrRwHSKUGVq8PIr+QguPu/dubLAQr1mrovcZHNHZBoMgroFhWkRih+wE/cKOHgyDE9vomBBAtFJsfC2JphYrU1PsFo+vY+ChFS7PIBC0KDN2AcqFbetDn971td7/W7HzxW7+Rp2tQiQrhANEEmEwUgjhVsaEAdFBKYWgqKtdy2PSYim6FQ9tRE9paBHRd4TA0wCPgD01J44k1hWJZpYbceQZE0/1L8KQ7DKzdHMQHe0wRWZuEALxAYbIgIfoXUDruy4rxfgWBIjdfx5qNAaTajQdeQ/Pm6yhfpaP9hMi6UkVBb9fQA7MG7itoHac75dERloweCwgh4EUCmwjYUgzkFxpYsVbD7/0Bh9b9Jrz3WxPOnxLgcXMw9Pj52TJzDCyvUmGxPvg2t1h0rKgiyM4z4B7lWPL3hzDbgNUbVGRmA4LpwecxNZ1iaaUKe5oJoyMcKMsqjIjhwTGps71Lxn38aPe1eTvarsLnDU73uOYsJhPFvAINWz/uw1e/6UbtX/lQvEyL+RQoElatVyGVTmwucAJBRjZF1UYVNju7Cz9MmsNAtVOFyTrxueEFYGGJgQXFOnh+hgaXRHjHfGg/rtz3s/sKWn/PoKSz7IBpI2S1cbBYCfIKdGz9uB9/+bdubPn/AsjMMcDN4EXOcUBKKsWGLUE4siYWNEIIBM7A2s0qsnITYO6YQAgiRf58A+UrVZgmeTARQpCbr2NltQqeZ+cxUtSght6uAel+n90jaI27Dji9br/MAmpnBkEkyMw2ULVBw6e+5MGWjwWQkz9zoiaYKBaVaihepsPygDCDO+F4oHiZhgWSxqyLO0ixU6ysDiI7j4ITJvfOpaZTrN2swmanU4rvm4sYBsXYqEduuU+vgXtOZWdHn6wGNWlGRsYAEHpim8zA4iUUn/qSDx//lA9pDmNGLnSLBVhXoyE13QAJI1SF4wlycilKlusQLeyhd4uChQbWbgqOB85Ofh7NZgMlyzQsWKxDMLHzGAmUUvg9Aamro0/+8Gf33DJXOq5DDbKll3iRkanj8W1+fPLPfUidZlEjBLCl6qh2BiIKeuVFA+WrVOTkMT8aEJq2L69SUVQS/n1DCIHFRrFeDiLFzgQtUgIBFUrH9Xvev+d2uXaxDxrzn4UNpTT0ggGKqd/ggkiQmUPx+McDeHxbABnZ0ycaZhtF8TIdi5eqEMXwtyOEoKhYR9kqtszJcYAjy8DyNSrsaZEJkygCFWs1ZOWyxi6RogY1dF68V9DuCdvovXpDYr03JyfgBzxuQA1yoU5YhAPHUQhC6EIVTRQCD/Bi5G3VRBHIztXx5DN+XO/kceQDEQF/7K/4dIeBh7cGkZKCiH12GdkGNjyiwrXbDDUwcUyargN+HzAyhLDiUggh4IVQI5dwzp2uGggEOGhaeF3Tg4FQx3g9Bn5inqeQSnQsKtUhmigiiW4TBGDxUh0FC3V0XuRjnoaVzGiqhp4rfdKH379L0Bp3HXB+4y9+zBYEwuD6VR6/fNGCvm4ehhGavpksFNk5BgolHUUlOhYW68jOM2AyUXBcZBerIBJIxRoe3+bHNYWH0hF7D3xRSWiljUQxrbXaKIqXaZg3X0d358SZA4EAQetBEcOD4R2I54GcfAOPPRWAyTS5qHk8HA42mtB7PbzGKLoOdF3m4XVPfT7Pi8Dah4PIyacg4fftBhB6iDgydJSv1nDisMgELQIM3cDwUGhhoLqm8nY82l2C1tnRJ2uaLs2pChtR4nGHmo1cvchDN3C749Ct5r1mC4Uji6JoiYr1NRqWV6nIK9Ah8gjL+Q6EHPCrNwTx2FM8XvqBbVJLKBLMFoqylRqy84yoGvMSQpCeSbGqWsVA38RC4nVzONRoxrH94Q1eFIFllSrkjwRhCsNh7nUDTW+bcea4iIA/jANQQFUJgoGpCQgvAOkZBtbVBJESZVwexxFUrNVQuFDH6BBb7gwXSikCvqDUc6Vfxh0BtncJ2rVLvTDinYMzSzB0IBgItUy7N32FgBCgvw+4eoXH2VYDi5dqWO8MYu3DKrLzKCxhrhCmpVGsdwbwwR4zLp+PzbSEECA7z8CylTqs1simSXdiSzGw9mEVH7xjhtf9YLHVNcCnEfi84R1HNFF4xsIXb03j4HETjA6RaZmaPwiLlWLFGg2FRUbE0807mb9IQ3mVhvOnxLinwM0WKAV0TcfVS3cnqt/1SOjpuinN5KCSmdAJB7xjBF2Xeex/x4znvp2Cl39gQ+dFPjxLAqEUmvz5odUwsyU2Y+M4oLhMx+IlGrgIq4rcidlMsXyNiswcIzECRGfYwElLN/CQHITFGrmf9E7SHQZWVrOYtEihAK5e6pXufO/26TvQ2Oa82Tckz/CY5gyaBgzd5LDn12a8+F0rLpwVYOjhiUBqGsXm3wvCnq5H5e+6E0JCUe3yRwLIzJna4g8vUmTlGFj1kAprytTGNdsgBJi3wMCKNSpEfmrnURSBBZIGqVQDH8f0t1kHBW5035TbWn7XZ+D27THSPyJ73H4pLgObI1AaWmE7fkjE9u9b0XmZRzCM/s2CQFFUrGHxUh1m69QueNFMsbBYR9nqICzmqc1vCDjwHLDxURVZuXNrZdxmpyhdoSGvMLzMgIkghCArFyFxjCB8hgGMjXqloX63fOv/bwva4I1hsO7o0w+lgHuEw+ljIna/ZsXoMDdpqAHHE1gsFFUbNaSkTE3QLFaKNZtUODIpeHHq8xvCAVJJEIuWanNqupSdZ6BqYxBmiz6l6eYtUtJ0rNmswmJj085woaDwuv0YHhy9/d7tUzc86IYaZAG1MwGlgHcsVLn0SgcPNYxQA46jWFKuITMnequKkNAiQ7UzAKmG0qEAACAASURBVLMlNs5zQggys4GlK6ZuPc4WCAHKV6soXmZEHKrxIMwmYMlyHfMllgoVNhQI+oMYHnTffuv2X2P0phssoHbm0HSgv4/HwUYRI0OTx5gRjiBvvj4lQRNEisJFOpauMGASY3fTiCaK0hXqeAhIzHabkNzqGbBmo4asKfog74TjCVLTKdZsVmFPZYIWLmpQx+jN+wjayLAbLKB2BqGh0I8Th0X0dk/+lCdcqEJDZrYetWikOSjW1ahIcxgg9ymxfd9hhhnZv2CRgWWVWtILmiBSSKXaeLpY7M4hAAicgaoNKrJyWexGuBi6jtH7WWget58F1MaBgT4enR38pHmgBKHo/LQMgIsmRIIA8xfpWP2QGlZFCEopAgHA7w/vhnRkUjz0SABmS+Qds2YTJlOoGGZWHg0r5IVSirERAjU4+TnkeGBhsY6FiyPvaTFXCZUS8t7+fw4AWg+0Oz0jXjleg5rLeEYJers5GPokVhohEAQgNd2I6mIXBIqKNSoKF4bnJ9VVDj1dAq53cdDD2MRmM7B8tYrcAj2ulXenE0JCvRce2hJEavrkv5FSCjVIcHS/Ce6xyd0KHE+QkaljSYUGK6vAETZjIx7p1r85APCMeGWvxyc9aAPG9KFpwOgQh2CQTmoJEVCk2BGxoHEckJlNUb5KQ0pKeNOZkRHgwHsi2lpM0CYTW4RuxrT0UE19iy2y8c0WzFaKRUs1lJbpMImTn0c1SKBc4uF6y4yuy2HmsQqhBYe8AubPDhf3qO92LBoHAKOjXvh9rIdAPDCM8coPYVbi4QQ9bP/XLXieonR5KFk+3FCNris8DrlEtDSbEPAZYU07zRaKNZs0pKQm5+JAmoNi06NBWG3hTTf9PuDoPhM6Tgu4cEaAFkbaGiEE84t0VKxVk/IcTgd+b0AaG/PLwLigDQ8MQ2MhG3GBji8OGNPUgJcQQDQD1c4AsvImf+pTSqGpFMcPmnDlvIDzJwVcvyqElUMqmn6X8J4QqVAxhHBA/nwdKx9SIfCTW2eGTuEe49HSLGKgj8OF0wLG3OH5I9MzgaqNGkuFChM1oGL4RigWjQOAwb5RaCxkIy4QAIQHCJkeAeD4UIu6dQ8HYU+d/PuGQTA8yOPkYQHDgxzGRji0HjLB65lc0AQx1PSlfJUOizUGg08gBIGipFzDfEkPKzNA0wi6LnNoPy7A5yFQOnhc7+TDallnsVAsWhI6FkuFmhw1qGFwYBjAbQttFJrKBC0ecDyFzUYhmMJ7FBs6B8MI35qzpVCs3awhI9u4bzf0D6OqBGdP8ujp4mHogKoBx/aLGLoZ3jF5HlhXE0DOvOS6njJzKSrWaLBYwis6OTIEHGgU4R7lYBhAbzePU8dEGGGelnSHgVUbYleQIJlRVQ3D/aHQDQ4IxaDpOot9iQeiKdTPUeQnr0tGQeAZI9Ai8A44sgysqwnAbAkzVMNPcfQDE0aGQuV7dJXgynkB1xQeWhihBwCweJmK4vLo4+USkdJyDUtWqODDDNXovCTg+EHT7RJI7lGCI80ivF4SVlECa0ooeNdqS+4wmFigqTpGh+8QNL87CIMJWlywpVDkFhoQxHCmMcDYCAd9guqwdyKIwLwFOspWhpf0bGgUw4MEJ1pEBIMk1KaOAMM3CS6eFeHzhXfcjCyC5atVWKyz/2YkJOQb3LAliOwwfJBAaHXzXJsJ/b0ceD5ktWoqcPUSj65OHpoWRlcoC1C2UkXOPB1CDLM6khFDN+AZDdXjCgmaPxB2NDMjtuTM0yftWA6Mt+7yAaPDJOwigDa7gYq1KrJzaVg9NAMBDpfaRfjcBPZUA45sHY4sHfZ0A1cvcRgcCK8MuNlsYNESHXmF+qx3avMCxbwFBpZVqkgJo0QSpRSjIwTXLhOIJho6h9k60jNDRSA7Tovwh1ELj+eB9PTxargsFWpCDIPC6w2dVAEAgkENlKU9zSwE4AhQtSFUl38yqAGMDnMYvMGFXcm1YIGOqg1B8IKBcKofmkwUyyp1fO1fx+5Jg7OnARmTdFa/BSEEhQt1LK0I9RvQ9dlrppnNwOr1KrJzw69FZ08DPvFZP7Zuu1u5BBHIyjXCrhLM8QRrNqk48J4Zwzdn+ZNhGjEMA35vKOwsJGj+IAxmoc0ookCRN9/AejkQXtQ5CPq6OQwOhJH3SULBtJXVGhYsDr8iBC8CeQU6cvNpqBzoXfukIBxBuGWm0zNDVXb3vWOCpobV7CnhuJUZUC0HkWIPryotIWTcQqWgH/aVkVCRgXCtVsJRFBUbWFSq43K7cJ9S7wwAoAa9XfqMAxCKQZuNV9wsheNCBQIf3hrAolIdZvPk2xgaxaVzAobCFLS0DAOV1SrSHeH7RgkJ+c0EkUAw3f3iRS6ict1WG0X5qiDyC2evD0gQKfLn66hYo8EcQTHM2+fxQ+dQEEnYndVv7ceRqWPJCg2WOVKaKRoMShH0hyw0DgBUXZeYns0cFmuoFv+2Wl9YgkMphaoSHN0vYmwsjHgwE0VJmYaixQaEOFVA5XnAkRXqChVJV/ZEwp4Wss4cmeFnWMQaQaQoXa4hr1CPtgdL0kMNiuB4YgDX1tLhNFRDZosCM0NqeqgqxWf+yofceRR8GIITDBBcuiDgyjkeahit10QRWPtwqHlJLKqpRovJTLDmYRVpYUypE5F5CwxU12jg4+i+IuCwYJGK8iqN6dkDoJTeznTidF2TDUql+A4pueG40BRswWIdjz7pxx993o+Scg1imF3V3WMEh943YXSYnzQwUxBCXc2rNkXfKzJWCLyB0nINefOjqxAST0QTRelyFQskfca7SX2YNAewYUuQleeegFvtNwVD0wC2whk19ztzhPzOMc8LFNYUiuIyDb+/LYCH5CAcWeGFUQChLt83ejgcfM8UVus7s5WifJWKokUaRBMQz3kKLwC5BQaWrFBx/pQA9+gssTFIyMdZvkpDuiM2PQOmgsUSciEsWKRDucgjOIO9R2cbgqYBlKl+VFAKYHxB8NYlxnEUvAmw2yly8kMWytrNQVSsVZGVSyGKofzKcBkZJDjYaMLlCzy0MAJqMzINbHwsCJOZxD2olRACQTRQtUHDwfd1uEdnh5lGACxaoqF0uTqlvqWxguMJUtMoVj+koqeLRzDMnq5zEcEwWJWNaEjPDDWHLVhowDAoOEJgTaFIcxjInacjf76BvAIDWbkG0jNCydrhZAPcglIKTQu1vGv8rTmspzLPA/MX61hWoYJPEO0g4CAtUbF0hYbODiHhF9MJCVnVD8kq8goTZ7Bmq4E1m4JwvWWCe5RP+PM405Bxt5lgGMAk1Z8Z9yG3QEftX3kQ8HMAJSBcaBppMlNYrBRmU8jhH5quRP6U11Xg6mUBe35tQXdneCadxUaxtEJDXgEdT0QPL+8wWsKdimVkUaxYq+ODvRQ+D0nom5HngawcA9XOAOx2A9N9DoHwzqNJoFhaoSKv0MBgPxdWOae5hAHIbS0dzgR5js8+rFYCqxV48NMg+gtO14GRYQ6/fsmMM8cEBML0meTOC6U6hSo0hJEbGqQIqtEJDEdC4SFiGFan1UZRvExF7jwD167wESXXzzQmC8WKtRpy8ihEU3hiFghwMDR6X3/qRIRKR1GYTJjUp8qLHLJyKFZWq+js4DHCBO1uCJEID1lg7rPEglKKGz0cfvtzCxrfNGNsJLy/ECFAxVoVi5eFpxaUUpw8asLeX5vDFsw7sdkB50f8WF8zealdQgjyCgwsX6Oit5sLKzk7XqTYKTY8El7sHKUU/gCHXz5nwdVL4SWd3wnHGcjKBZ76Ex8KJW3SjA6OJ6iuCeJgowkjQ+zOvRNCqUIJXAIncHFflmaEMHSK7i4ee3aYsWdHSMzCaVDCcUBKqoF1NSrSMyf/PqUUXg/B0X0imt82RTV9MVspdJ1i1XoVJtPkNcJS00N12fbtMSHgS8xppyAA2fkGVqxVIYaRvaGpwPVODu/uMqP32uQhNR+GcEBqmoHK9SryCvWwKqLMX6SjpFzF5fNCxMdLZgjgqqwqbRI4TgBhPrS4YugUQZXDjesEv3nZivd+a8JAb/iOX8FEsWipjkVLgrCYJ/f7UAPo7+XQ3iZgdDj8ZPc78fsI2k8K6LnGoXDh5DejxWKgoiqA7HwLvB6SkD4gq91A5ToV8+bf6lw18Rh9XoKTh0X0XOXhcUf3e3weHmeP86hcS5DumPz7joxQAYF9eyk8Y4n5YIgHlBAFADjBxIUcIoy44Q8A59p4PPuPdrz5qgX9PZGtYpnNwNpNKhyZ4VVTpSA43Sqi61J0YgYAhgGM3ORw6qiIYBjZC4JI4MgMhR5YE7QrVO48A+udgbADnoducmhpEqfkEzQM4MwxE/q6wyzNZAGKyzTkFoRf/WMuwfG84AKgxHkcc45QugZF5yUOr79gwz//rR1Hmk3wRvik57hQRYj1sooU++TfN3SKgB/4YI8Jw4MRBMTdB6+b4Nj+8AJ+gVD5nHXjKVmJBscBSys0lJSFNzZdNXD9Kh/q5hRmwc0H0XmRR8cZIezV0oIFBpav1ljWwJ2Mnwuusrq0SRB4V7yjoecKmkoxOgxcbBfwxi+t+PdvpuDXL1nRdSXUTCPSEjFmK8WyShVFxSrEMKpaqCrBlQscLp8TphxxHggQnD0qYHBAgKZOfmxeAIrLdBQUaWFnSswEhIQaOC9frSI1PTxB83g4nD0p4OYNLuyCmw9ibIzgxGERPi+5t+TQfUhzGKiuCcJqZalQwHgA93hunQAAvMgrILh/Hg8jaiilMAwCXQNUFQgGOAwOELQdEbH/HRPOnhDgHuWghdmT836kZxjY9FgQtpRwe0USHNtvxthw5OL5YXQN6Ovh0H6CR36BCvskfjSOo8jO01BaruPEIRqxNTpdcDxQsFBHyXIdJkt4xTD7ewWcOCjGxBcY8BJ0XuTRc41H0SINwiRib7WGynPPW6BD6eARTEB/5ExCCIHJdIegCYIAQggij6RhPAhKKYIBirFRDj1dAi6e43H6mIBzJ0X0XePgH1/pm6pTd+FiHZVr1bCf1CPDHI7tExEIw+81GZSG2rUdaDRh1XoN9rSJFZIQAtFkYHmVhqa3dCgdiREGyXMUVZtUzCsMrxgmpRQnDvPovBSb8VMK3LwRWmQpWKhhsr1yfKi00eoNKvquc0zQOAKTxQRgXNBMJiHuCbjxhtJQZ57zp3kM3ODAh9FM9t59EHhGOAwPEtzo4dHTRdDTxWNwgIN7hIPPSxDwh0QgnP6Mk8HxgD2dovsah6EhbtLenoZBcKmdx8X2qft9bkEBnG8TceB9EctuhrMFD58v1IV8onGOjXJo+UCEaJo8RHhwgGD4Jhd29/k7IQQQTKEKJZc7eHR3TdYZi0DXKfa9E7JyY8XIEI+DjSJyCwyYLZNfHAE/h5Q0GlFecLLCcQQWSyjOJiRoFiZoANB3jceL37HBZEJUid2UAmoQCPgBnzdkhamB0NRuWpbXKXDysIiuyzwIN/mNbxiAZwwYGZq63+fOMQwOELz2EwvSHOE1kQwECEYGHzxaagA9V3n85J9TwrI8gwFgcICDEUXvAjq+/c6XrbCE4ZOi4+PrvcaHtbobLgE/wdEPzLh6SQir1JKhA14Pgc/L7lvCEVhsd1poFjM4FroBj5vAcyExpkHhYBjAzRscbt6Ir2c46Cfo6RLQ0xWb/RlG6GbtvDgD5gcFNJWg6/LUjxV6CN7/PqK3yrI8AF0DxkYIxkZmz/WXKHAcB4st9DAVAMBiMTELDeMXZBTnYbKOWYRMvZQPDeM4M0ksftN0EfJNzuy54gUOHM/hgYJmGNA1g7WLnAZ4jkOK/Q5BS3PYwc/1rE4C5BZmYa1zuZJiM7vA8cpkm+i6JnVfuSGfPnJRco96790lIbCn21C1aZmSvyDXRSiddJ8T4fcHMTrik8aGx+Sh/hFpdMgDr8cPvzcIXdNn5GYhJGTer960TJm/ON/F0VCEdqJggEqjQ2656c2jkt8XnPaHACEEFqsJ8pPrlPLVi1yE3P+66e0akN7bdVju7RqQEunBlAzwIoe0zFC0tgAA6dl2CJOtFSc5BARZeQ7lDz79aP2KtSXbw93uV8/vffHS2a66BwlaSpoVv7dto+vRP3joM7Eaa3vrFefo0Kg8cGMYyoXruN7ZJ/VeG5SHb45K7hEvfJ4ANHX6BM5kFrH58TWuj9c9GrPfFEuO72uvPew6VR/wq9J0r9xzPIf8BdnK7338ofoNj62e8Lr5+l/84MUb3YN1OkvCjCmCKMCRlRb6NwBk5qSBN81tQQMAURRckYgZANjSrMoDHwYEEAQe9vQUJQbDu01Z1aImAE13vtfedsWptF+TTx+5iLYj56XeqzflgD8o6boBQ49hZD4J+SzsqTYldjuNLas3l23/aPkXZALUTfexBIFD+apFrsnEDADWP1rZ0PTGMdnQDYlNPWOHKApwZN8paLkOiLOti8V0QBJr+hQJZZV3i9yOlxqdh/ccr2tvuyzf7B2VjJgta84OyAyk8xFCYLKIysbfX9OAZyf//hNP1zT90UNfcV3vHKhTgwlcFG6WIZoEZN4paGmZNpjHA9MYycG2T29pAtC0+5Vm58H32upOHmqXR4bcUjDAbqRYYTILKCotcG15srpp8m+HWL2xXBnsPwwmaLHDZDUpqRl2FzCe45GSanVZ7WYljmNiTBNPPFPT9H+e/9Jn/sPnt9aXrChS0hwpICxEJybY7FZUO1cokWyzenOZy55mjWgbxsSkpllcVRvLmoBxQauuqWyy2m2uuI6KMa3Ufvmp7V+s/+O6h5+oakixmxUunt1zk4TsfIeyxrnCFck2W7dtbMrKdbg4llUeM+ypv/NRc79706wkalwRIzZUbSxr+p///19+pvYrT9bnFWYposj8ptEimgQUlRTetgwioXz1YsVmDy+rgjExhBCkOn5XYO+2oKU77CDsqTEn+NMvPbW99q+fqi9ZvlARzUzUoiE9045VG5cq0Wy7pqbMlZWXFtW2jLvheQ5pjt8VArytYGkOO3g2DZkzPFX7yPZtn3usPn9+tsILPMsUiZCFJfOU8nUlrmi2rXmiuqm4fIGLnfKpI4g80rLuJ2hZdvBzPLh2rvGxZ5zbP/fVj9enZ6cqLJc3fDiew9qa5a7xUJmoWLGmVDGZxYRNH5stiCYBaZn3EbTM3DRYbWG0umEkFY9/YvP2P/nix+ozctKUZFr9pIA0HfvlBR65BRnK8nXFDVPZT3HZAlfe/Cy2ODMFCCGw2a3IzEy7/d4dguaANYU5Kuciz3zhI9vXyxWuNEdKvIcSE5reOlqra4Y8HcH4osijbNViV3VNZdTWGQBUb6lsKllR5OITqRb5LMSWalVSs1Jct/7/tkc4PSPN5ciyK9c7b0jxGBjjd7TuP1v0ix++VRcK7g9F+HMch4zsNOQWZkMqyUdBcf6Upjwf5snaRxt6ugfkkwfOS3osU6XGOdt6uegXz75Z5/UG8eBu81OHGlT6xbO7ZZ/bH/P0IkIIzGaTsnZLZQMapr6/9Y+uaDj03klZDWosFSoaCJCRk3bXw+W2oFVWlzZ97bPfdZ1tvVwXl8ExbtN/fajuUGNbvaHTuwpDEhKqzmm2mGB32JS/+aNvupavKVUq1pdO2WKorC5tev25PfWXTnXVj454Yn6DjQyN1bU0n6n3jPpgTHe1CUoxHaleHE/gyEtzjWdhTJknn9nS9Mn1X3F1+/rrdI0lrEcKAbBwcb5y53t3TeALivIUttoVfwyEamfpmg5D/91L13SoQQ2eMR/6rw9KJw5cqNvxwnv13/vvLzd87XPff3HvjgPOqRz3E3/2+Pbl64pd0+LXMYzQb9Dv/k3T8pqmvNWUVBvW10SWGTAZqzYsU6wpzHcdDYTjsLA0/6737rpyF5YUgBc4toSf4FBKoWsGfJ4ABm+MQLlwXdr/9vG6F/751w3f//rLL7a1dEQtbI9ue6jBZrcoLJL9XrLzHMqaLRWuWO5z5calrrQMuxLLfc4FCEdgtohKYVGO687377pqCxfluiwWkWUMzDIMgyLgD6LzwnXptz9tqnvum79sOLqvvTaafT3xdE1T0dJ5LpGVk7oLnuewoHSeq2ZrVcz8lkDofOfNz2KpUBHCcRzsaTZXzRN3Fwa46yxWbSxryinMdrF4tNmLd8yHUy0d0g//7uf1h98/GZWoPfRIpWJLs8Z6aLMaW6oVy1cXK9Ox7+KlCxSzdZKmpoy7EAQeeYXZyoffv+exMH9RriKITNBmK4ZBEQiouHy2S3rtJ+/URzP9rFhf6kp32JmlfgcFRTnK8igzAyZj9eZSV1aOQ5mOfScroVza/Hvev0fQikoLILCk5VkNNSj8viBOt3RIe3+1ry7S7atrKpty52W6OBYjdXtledXDZVEloofDlic3NhWvYKlQkWCyiFhYWnDP+/cImrSk4HZbdcbsZnTIjdYP2uUDe1sjttLmL85VTLFMXOc4cFN6kbgsVhGOQ6ojRal2ljdM53FWbywfz6mdzqMkD2aLSSkqzXN9+P17rtgFxQUuk8WkgECa5v4SjBlgoG9Iatp9TMaHehBMRsnyhbDZj8HnCcRkHGbR5MrKdyi2FEtUMW6GbmB0xIugPzj9cWx3YDIJWLZqkWvjltguBnyY0rKFrvzCbKX32oCksZi0CSEcQUqa5Z4FAeA+glZZXdr0uce/7hroGapTVVYmeLbj8wZx4tA5KdLtCqRcpDnsuNk3EpNxVNWUNR3Y21qnqroczfbesYD06+3vyudPKlIwoMZkTOFgtohYJy9X8MvpPU5VTVnT//rc910DfUN1TNAmRhQF5ORlKPf77L5zipKl85XO891ggjb70VUNA73D8t4dB5xbt20M28pIS09zZeSkKVfOd0uxGsvGUMhD1JbO39Z+50Ve4OoQG6NxUnieQ1qGXal6OLKqtNGyetOyhhbXaTngD0osE+rBWGxmlC5feN/P7hv8smSlBHu67X4fMWYZlAK6akid7d1yJNuVVS1qsjtSXAmVY0inv5PTnZitJpRVLY5pzuxEbPvs1iZHtt3FCq1OTFpGilJcUeS632f3PXOlFfNdGdmpynQOijFzUEpxvWsg4u3sKZY5nQrnyE5TnB+taohmW0ppVCduxbqlio1VvZmQ3IJM14NmG/cVtMrqsqaCojzXXL6YkwlKKUYG3RFvZ7Nb5uyqG8cRlCyb79ryZPjT9FvseKnR+dVPfaexpbEt4tXlNTVlrrRMZkw8CI7jsHDRPOWBnz/og4XFeYrIwjeSAkopPG6PFOl2oXScualoZqsJy6oWK9Fse3jP8bpLpzvlIx+ckSPd9omna5oKinJcyVRsM1YQQmC2iFi49N6A2ls8UNDmL85HarqNJaonCYZBpWinQXMNQghy5mUoSx/gp5mItpZ25/lTijzQO4y2w+elaI5fUj5fMZlZKtSHIYQgIyddySu8OyH9Th4oaPOKcl25BVlJVZZ57kLA87xCCEkgD3/iQghBxdoS18YoEtEPvnNa9rr9kqbp6L12U27eHXlQc1lVsSszm3WF+jAcTzB/Ue6EneofKGhVG8uaSlcscHHMQpv1EALY03/XjDVcNM0A5lh0NcdxsNktysbH1zREs/3xA+1SIKCCUgqfJyAd3xf5tHPrto1Ni5YVuqI5fjLD8RyWVUrKhN+Z6MOVm5Y1iCZhTq90JQOEEGRlp03+xQ/hdfuRSFEbM4Fg4rFwScGEVsCDaNx1wHnpbKesBUPxmwFfEMejCGoGgOpHKhRBFJjLZ5xQ/TOTsnzDUtdE35tQ0J54uqYpK9/h4gUWFzObIRxB/oLsiLfzjnnnXK17a4oFD8nRVaVtaWqv87oD0q3ULFXV0NnRIzfvbol82rm6xJWdn866Qo0jiDzmFeVMWo9u0rO1tGKRYraYYjcyxoxCCIHJJCjFKyNzcLe3djiHh91yQlkI05xfTAhBarpNWeOMPDOgpbHNeaalQwYh4HgOHB+q/KwGNelw4yk50v1VVpc2lVeVuNjiQAir1YwVVSXKZN+bNC6jYn0JTh4+D8+YLyYDY8wsoknAvIVZEVdaHex3y0P9o1Isx9K4q8Wp61HkchqAz+eVdv60SZ6OjlS3MFtELF5WGFWZoDGfppQsL2rIW5B1z2dWh6UhmvGs2bys4di+s7LP65/zhSLs6TZleXWxa7LvTSpoZatLXI6sVOXmjWGJzmCVA0ZssNotWFtToWx3RbbdNeUGPCPemI2jpbHN+a3/+mKDZ8wnReOYC9V4C0ANTl/idnqmXVn/SEUDfhr5to9+tKoTwDdiOZ5tn93a9Mn1X3GNDXvqjGkU8kSH4zhk5ztcTzxdM+mDZtIpZ2V1aVPholyXycRM39kG4Qjmzc9SnB+rdkW67eUzV+H1xi4LXKdU9ox6JPeIB2PDUbxGvVCDGqbTp1dUUuDa9tmtM5K3GS5LVy9WLLa53RXKYjVBWlKohPPdsDyOqzcuU1KTpKv2XCIrN13Z9Pjq+srq0ohv0mudfZIayzI9hgHDoFG/qEGnbcWVEAKz1YQV6yb30cw0D22pcDmy5nYqVHpWqrKyeuLVzVuEJWhlq0tc86VcZY5mwcw6OI4gJc2K9XKF68/+2ye2R7r9gb2tzoGeoWn1VyUShCPIynMoSyNcOJkJnni6pmnB4rmbV00IwaKl+a4nnpl8ugmEKWiV1aVNS9cudvFsCTnh4TgCs9WkrNywrGHb57bWR7OPkwfPyyPDked+zlY4jkNpxcL7VkBNBEpXFM3JxkWEhMI1VqxbqoS7TdgKVb58YUN6VhprQJvAEEKQmZuuPPYH6+v/5ZX/8pnyqsWd0eznUNMpyef2x3p4CcmtsJaNW1c2xHssD6K0osiVMQdToTieQ05B5gNrn913m3C/uPXpmqaSZfNZkG0CIgg8Uh0pWLl+ifLHX/xI/f/4/l9EPM28xas/2lN77XKfPFeqFYsm1W7AvwAAFndJREFUAQWLclxPPrMlIa0zYDwVqrxwzk07BUHA0oqiiEKOIlKnNZuXslSoOENI6MklmgSkpFqRlefAoqWFytZPbGj4j1//47pnvvCxqMWsvbXD+f6uw/V+rzpnQnQsNjOqNi1X4j2OyVgvr1R4gZszqVDjpYKUtTWRdduKqODZp/9mW9O2qi+7Ar5gna7PjQs+HnDgwBECep+Llxc42FIsSlZ+hqtk+UKlYl0JVq1f4iqtXNSEb03tuIebztRdONUpUSP2iwGUUhfHEYUjRDJm4J4MN7zDkWVX1sjLXfiHaR7QFFm1fpkrIydVGbwxKula8t97vMAhOz8j4jCaiCs4rtlYrrh2H4U7hkGXjLtZUDyvYesfbgLuEBbBJMCRlYb8hdkoXJDjqt5S2YT9AH4cm2MeaGxz/vjvX5UDvuC0xHpt3FrV9ON/eq1O9enydK6dEsOQRobdcuNvWiSfN4CJLE3RJKBQmjw/MBEoq1rU9LW677oOvX+qzjsH/JspaTY89Gil8rP9kW0XsaCt21LhOnn4guIZ9c25xOWZYtyZH9Oo88nY+fw7ddcu90nGNFhnt/j8V5+eUtencDm673Tt/r0n6v2+oEQnyBmyO2xYvbFMwavTPaLYsKamvOHE4Quy1+2X4j2W6eRWgc01m8tckW4bsYd/67aNTQWLc1yCMPeWkZOVZ7/xSu3JIx1ysuTrrt28YjshxDXZzHa+lKes3FDumokxxYJtn93alJ6R6kr2ChyiSYC0pDCqAptRNQ1Y/VCZcuFEJ4YGRqPZnJFAvPLsG7UN/7Kr3jPqk+I9llhCMHHLO44nWLl+qSuaLIr3frW/aGBwtM7Qordm84pyXFuiiHsrWbFQ6b3WH7OO9omIIztVWb1hSQN+Evm20QnapnLXocZTytBAbKsxMGaW7f+6s/aXP3qn3jPqm9apZqLB8RyyctKUsqrihmi2b/j+b+uHb7rrprJ4Uly2QGlv7agrq4pMUB96rMJ1+kiH4vP0S1EfPIEhBFhSIUWdUxuV7VpZXdq0fstylzXFDNZzYHay/Xs7a3e/2lzf3zM4p8QMCMXtlVYURVWV9pVndzu7r9yQB3qGcLNvJOrXlfPdUtuRi3Kkx3/i6ZqmhUvykzImjeM4pKTZlA2PVjREvY9oNyxfU9wwryhHYelQs49//dr22teefbv+2pUb0lzJ17wFIYBg4pU1NSsaotm+5f22OjWoS1Mdh3vEi5b3T0W1n7LK4lCLySTTNEHksXhZ4ZQqnkStRtU1lU0btlS4TGZWzXa20LirxfnXf/jNF9/4aVP98JBbmos1tjiegyMr1fXMF56IomdAi/PS2S7Z0Kdek83vD+LCqU65raUj4vLcpRVFLkd2qpJsDYzMVpOy6fej61R/iymZVxsfX9OQlZs+JxNnZxNtLR3O7/6Pl158/p93NJxq6ajzeQNzUswAwGa3Rp0ZcP7E5brRIXdMwpWoMd4Vav9ZOdJttzxZ3bSorNBFkiivWjQJmDc/2/Xpv3pySmE9UzojVRvLmqpqyl0pdutUdsOYJtpbO5y/+Pe3X/zJP77asPvVD+o6L3RLXrd/rnWmuwtHVqqyTl7uinS7jrYrztOtl+RgQItZXTZV1XD8ULsUzbbrNi9XRBOfNKlQqY4UPPTYSmWq+5myxNd8dHVD/sJs1pA4gWhr6XA+/+1fvfid//mzhuf/6Vd1Rz9ol8aGvdCnEGaQDHA8h4JFOa6t2zZGbAWcOHxB7rrYI8VyPJqq49LpLvnA3sibEVc5V7jSM+wKlwT3HccRLFycr2x6vMo15X1NdQcbt1Q1rVhT4kqKzlCUSvEeQrS0Nrc7f/7Dt77+tc9998Vv/OW/Nfz8B2/VnTt+RfKO+eakRUYB6cPvpdgtWF5ZrESzv6Ou09LokHuqw7oLwzAwNDAmtbddqYt027LKRU3lVcUus3X233fWFAtWblgSVUzgh4kqDu3DVD+yvOHkofPyxbNdUiz2Fy8C/oB8tOl07VrnirArVgwPjEoPLLVDQ0/hscHYxuu1Hmh3jvSPyjd6h3H9Si96uwak79e/LA8NjEruES8CviCmbfWSArquY+jmiDQ9B5g6B989Wft/vvhD+cM6np6VigVL50mR7m/fu8drv/fffioHgzEuqUQBXdPRuq9dPr6vvXb15rKIKqUUr1iAE4fPYzbndhICFC0pUKoirKrx/9q799iorjsP4N9z5z3j8QO/jW2uARubhzGP2NhQ7sU2dgNenBgvzgKb8SIKGxoVKUpTabdSb1fqrlRVlba722rVbTretHRbtUiwhDQEyLWbOIlJnOAQnOAAJ2AgxuC3PZ6Hx/vH4KwTAQEz7/l9JLAsoXuPxtaX8/idc+75PH88BAB+ofzu17//5avNLpfnvhuCw1lKeiKKVi3kBrNBZYzxr/v3Ux632H9jSL54/qp4t18qxhjiEsxYvaGIZ2SnqoxNf+0z78oLuFwejI5MYGRwVBwdnpBHBsfE0aFxTDpccDs9CFYtme/8fR0KS/J4+vxklUHgQXnxA/LCK44Nj8vv/aVbdE26v7TRPq9wPgpL8nh8ovWBfxYe95R4jd+Uu965IAZqa1hiihUry5bwjJwH/x3xeKbEW58Pye+/2S0OD/i35xgsgiDAYNLxPS/UK7ufrZ/zsVez+S3QOtu7pZ88/2t776W+e/dYYpW/PuXI/H8ivMzlZxGszz2c2xYAeoMOi5ctsP/qtR/+nb+e6bd139UVRa2VdaWKyWLg/npm1Jj20x/y6ML5cw/ntgWA2WritX9dZvfnM/1ayLL3HxpbshemR8cCASEkYIxmAxYWzld37Hv4Auf78XtlXtWT5faE5Dg6ppsQcleMMaSkJfLapgq7v5/t90DbeWBL67LVi6Jy8ywh5NEJGgElGwoDcjFNQPZOrKsptqdmJdHFxISQL2ECQ3ZeKi+vmtvhAF8nIIG2bWdl67qqYlWv10XN1gxCyKMRBAaT2cA31q1RKrc9/G6NB3pHIB4KAFuekuxZYhrX6mnjOiEE0Bl0EAuz1QPf3+mXmrO7CVigFZfmt25tWq9YEyw8UO8ghEQI5jtae+uu9fZAviag54/sPljfsnhpjmqyGAL5GkJImLNYTVi2ZrHa8PTcD298EAE/UGnrLsk+X0yLilMBCCEPT9AIWJCfxbc2bbAH/F2BfkFNQ0Xr+toS1WQx0gIBITGGCQxxVhPftK1Umcu1dA8rKEdeVmxeaV9euohH+32ChJAv0+m0WCsvV3c/WxewhYDZgpIwxaVFrXW7KpW0rHm+yx0IIVFPb9AhOy+Nb90l24P1zqB1marry1oqnyhVrIkW2hZFSJQTBIaklHhes329UlFZHPCh5hfvDdaLAODZH+xsyV+eq1IvjZDopjfqseyxxartOf+cc/aggj6pte1vN9oXFGTyYL+XEBIcvtvPc/nWXYFf1fyqoAda5baK1qon1ynz0hNokYCQKKPRapCencJrGzcoFZWBX9X8qpAkiu1gfcvabyxTjSY9qD6NkOggCALMcUa+vmal0rCnOqhDzS/aEIqXAsD2/TV2sSCLa3U0n0ZINNAbdShamac+/+M9IQkzIISBVrw6v/VvntmiZC1IpV0EhEQ4jUaAmJ/Jm/6+1h7KdoR0Equ6obyl6okyJSUjiYeyHYSQR8CA9OwUvrmxPCi7Ae4n5LPye7/X2LKuaqVqMhtoPo2QCCNofPNmm+rWKDsPBGc3wH3bE+oGAMDWnZJ9RWkB7SIgJMIYDDqUySvUZ/9pd8jDDAiTQCsuzW996plaJWtBGtcbdKFuDiHkARjNBogFmbxxX2jnzWYLi0ADgPLqVS2N+2uU7Lx0rtHSKbeEhDOtTou8gvm86ZnHldUVRSGdN5stbAINABps1S1VT5Yp8bTfk5CwxQSGpOQ4XrujQqlt3BAWQ80ZYRVoALDn+YaW2sb1isGgo1AjJMwIAoPJYuDbnt6kNO1/PKzCDAjDQAOAgz/a3VLdWKbGxZvoUEhCwgQTGKxJcXzbro3K3u81hl2YAWEaaADQYKuyL38sn8fFm0LdFEIIA+ITLVjzjaXqwR/ZwjLMgDAOtKLV+a1NB2qVJSvzqJyDkBBizHdYY/G6At60/3F7qNtzP2GdFGXSypbXj72DifFJ5eMPLoveKW+om0RIzNFoNSguK+Db91QrxaX5YbOieTcRMUH1+pF3bC/97Jhy+UKvODnhCnVzCIkZ5jgjClfm8d3f2aqUV68K26HmjLAdcs62qb6spWFftZKzMIMbTfpQN4eQmGCyGLGwKJvv2Lc5IsIMiJBAA4C6Jqll+7dqlOxFGVxDB0MSEjgM0GgFLCrK5k37vqlIdWUREWZABAUaANTv3tTS+K0aJWdRBu0mICRAtFoNFi/L5U0HvqlUN5RHTJgBETKH9lVHWk7a/vBfJ5Xrl/vESQfNqRHiLyaLAXlL5vMd+2vDbhfAg4ioHtqMelt1y4691UpWXjo30JwaIX5hMhsg5mdGbJgBERpowJ1Q21+r5C7O4LSZgJBHIwgMi5fn8p3frovYMAMidMg528nDb9h+82+vKJc+7hXdLk+om0NIZGGAwai/U5rxV8qG2shYzbyXiA80AHj1j2/YDr94Srl4/qo4PuYApkPdIkLCH2NAXLwZhasW8u17NyvS42sjOsyAKAk0AGg99q7tf35xXLlw7jPRMe7E9DSlGiH3whiDOc6IFaX5/Klvb1XKpOURH2ZAFAUaALzz+lnb4RdPK2+d/ED0uKco1Ai5C8YY9AYdl+rWqPW2Kns4HdD4qKIq0ACgq6NH+t/fnmpuO9Ypj404RK+X9n8SMkOjERCfHMern1inPPcv4XtqxlxFXaDN+MkLL9raX+tS+m8Mih43LRYQotNrkZmbwqUta5QDP9gZdWEGAFFbbn/izSNnv/v8C0O9l/pKJh3ORBp9kljFBAadTouMnBT+RPMmZc93t0dlmAFR3EObcezQ67bf/cefld7LfaLL6Q51cwgJOqPJV/2/8zt1SnV95OzLnIuoDzQAeOPVd21/+tUp5XznJXFkaIzKOkhMYIwhMdnKV5UvUbc+vdFeURnaW82DISYCDQA627ul479tbT7T9pF8++aQ6J2aplVQEpUYY9BoNUjNTOIVm4uV53+8J6p7ZbPFTKDNePGnh21H7KoyeGtE9Lg8FGokqvhKMrRIzZrHG/fWKk37a2MmzIAYDDQAePXwW7Y//fJV5dOProiOcWeom0OI31isJixdvYjv2L9Z2VAb+ZX/DysmAw0AOk53Sa8debv5nZNn5YFbo+KUZyrUTSJkbpjvDLPUrHl8fU2JumlbWVQVyz6MmA20Gf/5z7+3tb78ntLXe1ucnHDC66UhKIkcgkaA2WJE5oJUXvNkmbL7YH3M9cpmi/lAA4DTR9uloy+1NX/Y0SM7JpziNIUaiQCCwGCOM/E1G5eqW3ZJ9o010b+K+XUo0Gb5+Q8P2U4dPaPcvD4geugoIhLG9AYdMnNTec2OcmXPcw0x3SubjQLtK44eOi21Huts/vj9S/LwwBjNrZGwotVpkJRs5SvK8lWprtRe01AR872y2SjQ7uFf/7HF1vbKB8pA/7DocrpBlxyTUNJoBOiNeqRkJPKqbaXK/u83Ua/sLijQ7uP00Q7p6EunfXNr406RatZIKDDGEJdg5qs2FKn1uyR7Bc2V3RMF2gP4zb8fsZ083KF81nNDnJygujUSHIz5LvtdtDSH12wvVxr3xlaR7FxQoD2gtuMd0psnuprPvv2JfPP6bdHpcFGJBwkIQRBgshiQnpPC164vVMtqimNiH6Y/UKA9pOOH2qSX//hm8+XuK/L4sEN00/Yp4idMYNDrtbAkWHhhSZ5a21hBk/4PiQJtjg79/Jjt1JEzysVzV0SX002hRh4JYwxGs4EXrspTq+tL7Q17aijI5oAC7RF0dXRLZ9TzzX/5c6d87fJNcXzUQcFGHgoTGKzxZuTmZ3Lp8ceU3QfraJ7sEVCg+UHbiU6p41RX87mOHvnGlX5xYnwSHjfVr5F7YIBOp4XZasJ8MY2vLF+irpVW2Csqi6lX9ogo0Pyo/USn1Pryu82db3ws3+4fEl1OD7xTXuq1EQAz55QJ0Bt0SMtK5mulpeo3tqy2l26kIPMXCrQAaD/dKbW/crb5TNs5+fPeAdFNc2wxjzEGg0mPrNxUXla9Qt1QVWxfTUHmdxRoAdR2olPqav+k+f32brn3Up84NjwBulYvdjAGMCbAmmSBmJ/JV29YppaUFdhLaWgZMBRoQdB+olM60/aRfO7di2Lf1X55bMQhOifdFG5RStAIMJr0sCZYeEZOirpy3RK+RipSaWgZeBRoQXboZ0elt9SPmns+/Ex2jE+KU54peL10v0GkY4xBEHxn+cdZTbxwVZ5aVrncvmPfFgqxIKJAC5ETh9t9K6PvXZT7bwyIjnEnhVqEYozBYjUhLTuZr3gsX62oXmHfuKWUgiwEKNBCrO14h9Tz0VX5/Hs9Iu/pk4dujYhOhwtTdLpHWNNoNTCa9ZiXmsDzirLUpSWLef6yHJU2jocWBVoYOfzfJ6Sz7ReaL3dfkwdvjYoTYw64nB5Meaao9xZijDFodRroDTpYrCaelBqv5i/P5avWFalbdm6kEAsTFGhhqKujR+p+/1P5/bc+Fns+vCoP9A3N2l41Dcq24GAMANidkgsdT8tKVguKc3nJuiUqbU0KTxRoYa6ro1vqPsvlc2/3iJ+evyoP9I+IE2MO2okQYFqdFpZ4E5JTE3h+iagWly2yNzxNIRbuKNAiSNuJTulqzw2Zf9KLa5/1i329t+Wx4QnRMTEJj4uGpXMlCAxanRYmixHxSRaenp2kZi/M5GJ+FnLy0mleLIJQoEWw4384LX3YcVm+3H1VvHl9UJ6ccIkupxse9xQ8nil4vV7QDVZfJggMgiBAo9NAp9NAZ9TBZDbyjOxkdfGyHL5sbZ5a00BzYpGKAi1KdLZ1Sxc/uSJ/2n0Fn31yQ/y895Y8PDAquibdmJ5GzPfeGGNgAoPBqEdSipVn5KSo4pL5fHFRNhYsyVZj9WLeaEOBFqU62rqk/muDMr/QC37hhth/fVAevDUiToxNwjnpKwuZjsKC3pkC15lqfbPVhHkpCTwte56aV5DFcwuykD4/hQIsSlGgxYj2053SYN+wfPP6EG5eG8DgrREM3R4VR0cmZMf4pOhwTMI96YHHfadMxDsN7/SdwAuXzGN3AosxsNnDRoMOJrMB5jgjtybGqYlJVp6UEo+0+fOQkpWIpFSrSkdYxwYKtBjXdqJTun1jUL51fQA3rw2g7/oABm4Nw+lwic5Jp+xyecQpj6835/X6jkL6omc3DXh941lfKcn0tC/7/v+ve2BffPFVRjBficSdsJr5ngnsTo9LABMYtFoN9AYNN5oMqsFk5ClpSUjNSvQFV0YiUtOTaAI/xlGgkXtqP90pjQ6OyyMDExgZGMPI4BhGhiYwOjIB56RDdE645UmHS3S63HA7PXC7fD28mb2p03fC7kuYL6QYY9AIDFq9Fjq9FjqDFnq9HkaTnptMBtVg1nNrvBlxiWbEJ8UhcV4c4ufFwZJgot4WuScKNDJnXR090tSUR/Z4PPB6vPB4PfB6vfB6cOerF4AXM4eKCAIACBC0AgRBgKAFtIIWgqCFVgtotVowjVYtLs2nwCJz8n+GPhnuUlGW9gAAAABJRU5ErkJggg==)"
      ]
    },
    {
      "cell_type": "markdown",
      "metadata": {
        "id": "LV5LZKnlpBBS"
      },
      "source": [
        "# **Creación y asignación de variables**"
      ]
    },
    {
      "cell_type": "markdown",
      "metadata": {
        "id": "le2nXpaJlTWn"
      },
      "source": [
        "## Variables numericas"
      ]
    },
    {
      "cell_type": "code",
      "metadata": {
        "colab": {
          "base_uri": "https://localhost:8080/"
        },
        "id": "eBwG-1PllW3l",
        "outputId": "441c926d-0072-4978-8b21-6f88b372ef74"
      },
      "source": [
        "num1 = 100\n",
        "num2 = 1750\n",
        "num1 + num2"
      ],
      "execution_count": null,
      "outputs": [
        {
          "output_type": "execute_result",
          "data": {
            "text/plain": [
              "1850"
            ]
          },
          "metadata": {
            "tags": []
          },
          "execution_count": 1
        }
      ]
    },
    {
      "cell_type": "code",
      "metadata": {
        "colab": {
          "base_uri": "https://localhost:8080/"
        },
        "id": "LW_-VNKLlaGd",
        "outputId": "1ecac642-4448-4e15-ad4e-1bcb04af9e0e"
      },
      "source": [
        "num1 * num2"
      ],
      "execution_count": null,
      "outputs": [
        {
          "output_type": "execute_result",
          "data": {
            "text/plain": [
              "175000"
            ]
          },
          "metadata": {
            "tags": []
          },
          "execution_count": 2
        }
      ]
    },
    {
      "cell_type": "code",
      "metadata": {
        "colab": {
          "base_uri": "https://localhost:8080/"
        },
        "id": "SdMFrubZlbQs",
        "outputId": "fa04a3c4-af71-4a83-b2ea-26ef2df02498"
      },
      "source": [
        "num2 / num1"
      ],
      "execution_count": null,
      "outputs": [
        {
          "output_type": "execute_result",
          "data": {
            "text/plain": [
              "17.5"
            ]
          },
          "metadata": {
            "tags": []
          },
          "execution_count": 3
        }
      ]
    },
    {
      "cell_type": "code",
      "metadata": {
        "colab": {
          "base_uri": "https://localhost:8080/"
        },
        "id": "iZMOyc1XleJS",
        "outputId": "2f0c32dd-ff48-406a-b457-892039c303c4"
      },
      "source": [
        "num2 - num1"
      ],
      "execution_count": null,
      "outputs": [
        {
          "output_type": "execute_result",
          "data": {
            "text/plain": [
              "1650"
            ]
          },
          "metadata": {
            "tags": []
          },
          "execution_count": 4
        }
      ]
    },
    {
      "cell_type": "code",
      "metadata": {
        "colab": {
          "base_uri": "https://localhost:8080/"
        },
        "id": "rNfPFAvPlhP1",
        "outputId": "df148b21-1961-406e-adf0-077a42fb7fbe"
      },
      "source": [
        "num3 = num1 + num2\n",
        "num3"
      ],
      "execution_count": null,
      "outputs": [
        {
          "output_type": "execute_result",
          "data": {
            "text/plain": [
              "1850"
            ]
          },
          "metadata": {
            "tags": []
          },
          "execution_count": 5
        }
      ]
    },
    {
      "cell_type": "code",
      "metadata": {
        "colab": {
          "base_uri": "https://localhost:8080/"
        },
        "id": "Lb29a_4eIVn2",
        "outputId": "810f3359-1430-4fe3-f58d-165a600086fe"
      },
      "source": [
        "num1 * num3"
      ],
      "execution_count": null,
      "outputs": [
        {
          "output_type": "execute_result",
          "data": {
            "text/plain": [
              "185000"
            ]
          },
          "metadata": {
            "tags": []
          },
          "execution_count": 6
        }
      ]
    },
    {
      "cell_type": "markdown",
      "metadata": {
        "id": "FZYD_hRdlpe0"
      },
      "source": [
        "Si se utiliza una variable no definida, arrojará un error indicando que esa variable no esta definida\n"
      ]
    },
    {
      "cell_type": "code",
      "metadata": {
        "colab": {
          "base_uri": "https://localhost:8080/",
          "height": 165
        },
        "id": "9UPeuj_YlkoG",
        "outputId": "e93c37e5-6aaf-49f5-f29a-f9a543a03107"
      },
      "source": [
        "num4"
      ],
      "execution_count": null,
      "outputs": [
        {
          "output_type": "error",
          "ename": "NameError",
          "evalue": "ignored",
          "traceback": [
            "\u001b[0;31m---------------------------------------------------------------------------\u001b[0m",
            "\u001b[0;31mNameError\u001b[0m                                 Traceback (most recent call last)",
            "\u001b[0;32m<ipython-input-8-56645a2b70f0>\u001b[0m in \u001b[0;36m<module>\u001b[0;34m()\u001b[0m\n\u001b[0;32m----> 1\u001b[0;31m \u001b[0mnum4\u001b[0m\u001b[0;34m\u001b[0m\u001b[0;34m\u001b[0m\u001b[0m\n\u001b[0m",
            "\u001b[0;31mNameError\u001b[0m: name 'num4' is not defined"
          ]
        }
      ]
    },
    {
      "cell_type": "code",
      "metadata": {
        "id": "9byYjWMvlvDC"
      },
      "source": [
        "iva = 21 / 100"
      ],
      "execution_count": null,
      "outputs": []
    },
    {
      "cell_type": "code",
      "metadata": {
        "id": "ilY7N3J2l0sF"
      },
      "source": [
        "precio = 1550"
      ],
      "execution_count": null,
      "outputs": []
    },
    {
      "cell_type": "code",
      "metadata": {
        "colab": {
          "base_uri": "https://localhost:8080/"
        },
        "id": "5e3JTBWRl1id",
        "outputId": "56a9773f-d566-42b6-bc76-d6168197ed65"
      },
      "source": [
        "precio * iva"
      ],
      "execution_count": null,
      "outputs": [
        {
          "output_type": "execute_result",
          "data": {
            "text/plain": [
              "325.5"
            ]
          },
          "metadata": {
            "tags": []
          },
          "execution_count": 11
        }
      ]
    },
    {
      "cell_type": "code",
      "metadata": {
        "id": "Z_rOURTgl41x"
      },
      "source": [
        "impuesto = precio * iva"
      ],
      "execution_count": null,
      "outputs": []
    },
    {
      "cell_type": "code",
      "metadata": {
        "colab": {
          "base_uri": "https://localhost:8080/"
        },
        "id": "_BVMBGS-l_mr",
        "outputId": "2d20e68e-a217-45d4-e330-7543bd3e3049"
      },
      "source": [
        "precio_con_iva = precio + impuesto\n",
        "precio_con_iva"
      ],
      "execution_count": null,
      "outputs": [
        {
          "output_type": "execute_result",
          "data": {
            "text/plain": [
              "1875.5"
            ]
          },
          "metadata": {
            "tags": []
          },
          "execution_count": 13
        }
      ]
    },
    {
      "cell_type": "markdown",
      "metadata": {
        "id": "srKYmkqsmHw2"
      },
      "source": [
        "## Variables de texto"
      ]
    },
    {
      "cell_type": "code",
      "metadata": {
        "id": "xyF6zU5CmKf8"
      },
      "source": [
        "texto1 = \"Data Idea \"\n",
        "texto2 = \"Data Science con Python\""
      ],
      "execution_count": null,
      "outputs": []
    },
    {
      "cell_type": "code",
      "metadata": {
        "colab": {
          "base_uri": "https://localhost:8080/"
        },
        "id": "qrwwkbjxmXob",
        "outputId": "311e98d8-b02f-489c-f214-0433036a212f"
      },
      "source": [
        "print(texto1)\n",
        "print(texto2)"
      ],
      "execution_count": null,
      "outputs": [
        {
          "output_type": "stream",
          "text": [
            "Data Idea \n",
            "Data Science con Python\n"
          ],
          "name": "stdout"
        }
      ]
    },
    {
      "cell_type": "code",
      "metadata": {
        "colab": {
          "base_uri": "https://localhost:8080/",
          "height": 35
        },
        "id": "CCsQBWnkJsF8",
        "outputId": "7dec7f58-e21b-4228-a9ee-cc1538904791"
      },
      "source": [
        "texto1 + texto2"
      ],
      "execution_count": null,
      "outputs": [
        {
          "output_type": "execute_result",
          "data": {
            "application/vnd.google.colaboratory.intrinsic+json": {
              "type": "string"
            },
            "text/plain": [
              "'Data Idea Data Science con Python'"
            ]
          },
          "metadata": {
            "tags": []
          },
          "execution_count": 22
        }
      ]
    },
    {
      "cell_type": "markdown",
      "metadata": {
        "id": "7B0eYc4UmfPy"
      },
      "source": [
        "Python también proporciona una interfaz llamada f-strings para imprimir texto con el valor de las variables definidas. Es muy útil cuando desea imprimir resultados con texto adicional para hacerlos más legibles e interpretar los resultados"
      ]
    },
    {
      "cell_type": "code",
      "metadata": {
        "colab": {
          "base_uri": "https://localhost:8080/"
        },
        "id": "Np_uvAtDmhCJ",
        "outputId": "accc305e-969c-4a6d-f2be-5bb7b3243628"
      },
      "source": [
        "print(f\"Curso: {texto1}{texto2} - (nivel I)\")"
      ],
      "execution_count": null,
      "outputs": [
        {
          "output_type": "stream",
          "text": [
            "Curso: Data Idea Data Science con Python - (nivel I)\n"
          ],
          "name": "stdout"
        }
      ]
    },
    {
      "cell_type": "code",
      "metadata": {
        "colab": {
          "base_uri": "https://localhost:8080/",
          "height": 35
        },
        "id": "dMa-YY3Zm-DI",
        "outputId": "15cccb31-17ae-430f-fccc-d01980c140af"
      },
      "source": [
        "texto1 + texto2"
      ],
      "execution_count": null,
      "outputs": [
        {
          "output_type": "execute_result",
          "data": {
            "application/vnd.google.colaboratory.intrinsic+json": {
              "type": "string"
            },
            "text/plain": [
              "'Data Idea Data Science con Python'"
            ]
          },
          "metadata": {
            "tags": []
          },
          "execution_count": 26
        }
      ]
    },
    {
      "cell_type": "code",
      "metadata": {
        "colab": {
          "base_uri": "https://localhost:8080/"
        },
        "id": "sqZZ9FNfnB6k",
        "outputId": "61400f3c-fa64-46e8-c8ad-25dcb0eab493"
      },
      "source": [
        "texto3 = texto1 + texto2\n",
        "print(texto3)"
      ],
      "execution_count": null,
      "outputs": [
        {
          "output_type": "stream",
          "text": [
            "Data Idea Data Science con Python\n"
          ],
          "name": "stdout"
        }
      ]
    },
    {
      "cell_type": "markdown",
      "metadata": {
        "id": "7z-2Kt1DnI6g"
      },
      "source": [
        "Las cadenas de texto se concatenan automáticamente"
      ]
    },
    {
      "cell_type": "code",
      "metadata": {
        "colab": {
          "base_uri": "https://localhost:8080/",
          "height": 35
        },
        "id": "DwC7GVPXnJ7e",
        "outputId": "7dc915dc-5630-49d0-d30d-6964a2d53fb6"
      },
      "source": [
        "\"Da\" \"ta \" \"Idea \" \"- \" \"Ciencia \" \"de \" \"Datos \" \"con \" \"Py\" \"thon\""
      ],
      "execution_count": null,
      "outputs": [
        {
          "output_type": "execute_result",
          "data": {
            "application/vnd.google.colaboratory.intrinsic+json": {
              "type": "string"
            },
            "text/plain": [
              "'Data Idea - Ciencia de Datos con Python'"
            ]
          },
          "metadata": {
            "tags": []
          },
          "execution_count": 28
        }
      ]
    },
    {
      "cell_type": "markdown",
      "metadata": {
        "id": "WHaUsIvaniY2"
      },
      "source": [
        "Las cadenas de texto se pueden indexar en subíndices. El primer carácter de la cadena tiene el índice 0. No hay un tipo de dato para los caracteres; un carácter es simplemente una cadena de longitud uno."
      ]
    },
    {
      "cell_type": "code",
      "metadata": {
        "id": "1-XKAEWinrfl"
      },
      "source": [
        "Palabra = \"Activos\""
      ],
      "execution_count": null,
      "outputs": []
    },
    {
      "cell_type": "code",
      "metadata": {
        "colab": {
          "base_uri": "https://localhost:8080/",
          "height": 35
        },
        "id": "prO4SxcwnsV6",
        "outputId": "9e086bac-d2e1-4c07-b313-368b0ec7705f"
      },
      "source": [
        "Palabra[0]"
      ],
      "execution_count": null,
      "outputs": [
        {
          "output_type": "execute_result",
          "data": {
            "application/vnd.google.colaboratory.intrinsic+json": {
              "type": "string"
            },
            "text/plain": [
              "'A'"
            ]
          },
          "metadata": {
            "tags": []
          },
          "execution_count": 30
        }
      ]
    },
    {
      "cell_type": "code",
      "metadata": {
        "colab": {
          "base_uri": "https://localhost:8080/",
          "height": 35
        },
        "id": "95w1mHXSnvyq",
        "outputId": "3d8aa43a-261d-45e6-a794-12a327647765"
      },
      "source": [
        "Palabra[3]"
      ],
      "execution_count": null,
      "outputs": [
        {
          "output_type": "execute_result",
          "data": {
            "application/vnd.google.colaboratory.intrinsic+json": {
              "type": "string"
            },
            "text/plain": [
              "'i'"
            ]
          },
          "metadata": {
            "tags": []
          },
          "execution_count": 31
        }
      ]
    },
    {
      "cell_type": "code",
      "metadata": {
        "id": "THgH5zybn7ZK"
      },
      "source": [
        "Activo, Pasivo, Patrimonio = \"Activo\", \"Pasivo\", \"Patrimonio Neto\""
      ],
      "execution_count": null,
      "outputs": []
    },
    {
      "cell_type": "code",
      "metadata": {
        "colab": {
          "base_uri": "https://localhost:8080/",
          "height": 35
        },
        "id": "TU1inyX-Lt3J",
        "outputId": "e06a8576-f484-4b92-8588-df1da5898163"
      },
      "source": [
        "Patrimonio"
      ],
      "execution_count": null,
      "outputs": [
        {
          "output_type": "execute_result",
          "data": {
            "application/vnd.google.colaboratory.intrinsic+json": {
              "type": "string"
            },
            "text/plain": [
              "'Patrimonio Neto'"
            ]
          },
          "metadata": {
            "tags": []
          },
          "execution_count": 34
        }
      ]
    },
    {
      "cell_type": "markdown",
      "metadata": {
        "id": "YjOIN-bioTH0"
      },
      "source": [
        "Tambien se pueden obtener subcadenas de texto"
      ]
    },
    {
      "cell_type": "code",
      "metadata": {
        "colab": {
          "base_uri": "https://localhost:8080/",
          "height": 35
        },
        "id": "k9OO0KiboWnI",
        "outputId": "c326b5dd-bb6d-4b9a-ab66-ba0adb01792b"
      },
      "source": [
        "Activo[0:3]"
      ],
      "execution_count": null,
      "outputs": [
        {
          "output_type": "execute_result",
          "data": {
            "application/vnd.google.colaboratory.intrinsic+json": {
              "type": "string"
            },
            "text/plain": [
              "'Act'"
            ]
          },
          "metadata": {
            "tags": []
          },
          "execution_count": 35
        }
      ]
    },
    {
      "cell_type": "code",
      "metadata": {
        "colab": {
          "base_uri": "https://localhost:8080/",
          "height": 35
        },
        "id": "_hx2bGjIoaKk",
        "outputId": "d2cc1dfe-f824-4a57-da11-5bfd743af9af"
      },
      "source": [
        "Pasivo[0:3]"
      ],
      "execution_count": null,
      "outputs": [
        {
          "output_type": "execute_result",
          "data": {
            "application/vnd.google.colaboratory.intrinsic+json": {
              "type": "string"
            },
            "text/plain": [
              "'Pas'"
            ]
          },
          "metadata": {
            "tags": []
          },
          "execution_count": 36
        }
      ]
    },
    {
      "cell_type": "code",
      "metadata": {
        "colab": {
          "base_uri": "https://localhost:8080/",
          "height": 35
        },
        "id": "fhLin7HWoc0h",
        "outputId": "63646130-9d48-4243-89fa-743d59176d05"
      },
      "source": [
        "Patrimonio[0] + Patrimonio[11]"
      ],
      "execution_count": null,
      "outputs": [
        {
          "output_type": "execute_result",
          "data": {
            "application/vnd.google.colaboratory.intrinsic+json": {
              "type": "string"
            },
            "text/plain": [
              "'PN'"
            ]
          },
          "metadata": {
            "tags": []
          },
          "execution_count": 37
        }
      ]
    },
    {
      "cell_type": "markdown",
      "metadata": {
        "id": "2HbCixSgojZY"
      },
      "source": [
        "## Listas"
      ]
    },
    {
      "cell_type": "markdown",
      "metadata": {
        "id": "zizVQK-posQr"
      },
      "source": [
        "### Listas numericas"
      ]
    },
    {
      "cell_type": "code",
      "metadata": {
        "colab": {
          "base_uri": "https://localhost:8080/"
        },
        "id": "jrCqJPC8oiVn",
        "outputId": "53c19094-fb86-443b-cf15-1d4e79592a90"
      },
      "source": [
        "pares = [2, 4, 6, 8, 10]\n",
        "pares"
      ],
      "execution_count": null,
      "outputs": [
        {
          "output_type": "execute_result",
          "data": {
            "text/plain": [
              "[2, 4, 6, 8, 10]"
            ]
          },
          "metadata": {
            "tags": []
          },
          "execution_count": 38
        }
      ]
    },
    {
      "cell_type": "code",
      "metadata": {
        "colab": {
          "base_uri": "https://localhost:8080/"
        },
        "id": "TTJ4RPavpCig",
        "outputId": "a6de7ae3-a371-4bb1-cb90-55efc22ed8f8"
      },
      "source": [
        "impares = [1, 3, 5, 7, 9]\n",
        "impares"
      ],
      "execution_count": null,
      "outputs": [
        {
          "output_type": "execute_result",
          "data": {
            "text/plain": [
              "[1, 3, 5, 7, 9]"
            ]
          },
          "metadata": {
            "tags": []
          },
          "execution_count": 39
        }
      ]
    },
    {
      "cell_type": "markdown",
      "metadata": {
        "id": "vgf42pAppLgq"
      },
      "source": [
        "El primer par y el último par"
      ]
    },
    {
      "cell_type": "code",
      "metadata": {
        "colab": {
          "base_uri": "https://localhost:8080/"
        },
        "id": "lSrB9JF8pFqb",
        "outputId": "d78f3f55-2a34-4192-87e5-fa4c5dd68594"
      },
      "source": [
        "pares[0]"
      ],
      "execution_count": null,
      "outputs": [
        {
          "output_type": "execute_result",
          "data": {
            "text/plain": [
              "2"
            ]
          },
          "metadata": {
            "tags": []
          },
          "execution_count": 40
        }
      ]
    },
    {
      "cell_type": "code",
      "metadata": {
        "colab": {
          "base_uri": "https://localhost:8080/"
        },
        "id": "QVnxTWF1pQ3B",
        "outputId": "46cf7f89-d8e9-4044-d3cc-8e55afc3f885"
      },
      "source": [
        "pares[-1]"
      ],
      "execution_count": null,
      "outputs": [
        {
          "output_type": "execute_result",
          "data": {
            "text/plain": [
              "10"
            ]
          },
          "metadata": {
            "tags": []
          },
          "execution_count": 41
        }
      ]
    },
    {
      "cell_type": "markdown",
      "metadata": {
        "id": "WmsPF4TGpg6k"
      },
      "source": [
        "El segundo impar y el antepenúltimo impar"
      ]
    },
    {
      "cell_type": "code",
      "metadata": {
        "colab": {
          "base_uri": "https://localhost:8080/"
        },
        "id": "LbvvnqH_pWFo",
        "outputId": "0a1aebad-a4c1-4db1-aa6c-1fdff55a189a"
      },
      "source": [
        "impares[1]"
      ],
      "execution_count": null,
      "outputs": [
        {
          "output_type": "execute_result",
          "data": {
            "text/plain": [
              "3"
            ]
          },
          "metadata": {
            "tags": []
          },
          "execution_count": 42
        }
      ]
    },
    {
      "cell_type": "code",
      "metadata": {
        "colab": {
          "base_uri": "https://localhost:8080/"
        },
        "id": "9xedN4Lipl8x",
        "outputId": "f88f7289-8496-4e28-cee3-1a8bb42d548c"
      },
      "source": [
        "impares[-2]"
      ],
      "execution_count": null,
      "outputs": [
        {
          "output_type": "execute_result",
          "data": {
            "text/plain": [
              "7"
            ]
          },
          "metadata": {
            "tags": []
          },
          "execution_count": 43
        }
      ]
    },
    {
      "cell_type": "markdown",
      "metadata": {
        "id": "dEvHru_upqJ-"
      },
      "source": [
        "Concatenando con 5 elementos mas"
      ]
    },
    {
      "cell_type": "code",
      "metadata": {
        "colab": {
          "base_uri": "https://localhost:8080/"
        },
        "id": "fLb-JRA1ppM5",
        "outputId": "d2839f08-13d1-4f77-80dd-ab769b74bfec"
      },
      "source": [
        "pares + [12, 14, 16, 18, 20]"
      ],
      "execution_count": null,
      "outputs": [
        {
          "output_type": "execute_result",
          "data": {
            "text/plain": [
              "[2, 4, 6, 8, 10, 12, 14, 16, 18, 20]"
            ]
          },
          "metadata": {
            "tags": []
          },
          "execution_count": 44
        }
      ]
    },
    {
      "cell_type": "code",
      "metadata": {
        "colab": {
          "base_uri": "https://localhost:8080/"
        },
        "id": "dBvbmGXOpysA",
        "outputId": "bf97f7fc-b682-43dd-d637-9ec83d014265"
      },
      "source": [
        "pares"
      ],
      "execution_count": null,
      "outputs": [
        {
          "output_type": "execute_result",
          "data": {
            "text/plain": [
              "[2, 4, 6, 8, 10]"
            ]
          },
          "metadata": {
            "tags": []
          },
          "execution_count": 45
        }
      ]
    },
    {
      "cell_type": "code",
      "metadata": {
        "id": "6UOz9PqQp1mR"
      },
      "source": [
        "pares = pares + [12, 14, 16, 18, 21]"
      ],
      "execution_count": null,
      "outputs": []
    },
    {
      "cell_type": "code",
      "metadata": {
        "colab": {
          "base_uri": "https://localhost:8080/"
        },
        "id": "pPmc8yb-p6yA",
        "outputId": "38caf6e9-e8f6-4a08-f14a-fe677b3c9d4a"
      },
      "source": [
        "pares"
      ],
      "execution_count": null,
      "outputs": [
        {
          "output_type": "execute_result",
          "data": {
            "text/plain": [
              "[2, 4, 6, 8, 10, 12, 14, 16, 18, 21]"
            ]
          },
          "metadata": {
            "tags": []
          },
          "execution_count": 47
        }
      ]
    },
    {
      "cell_type": "code",
      "metadata": {
        "id": "Xu6G09aRp-Aa"
      },
      "source": [
        "pares[9] = 20"
      ],
      "execution_count": null,
      "outputs": []
    },
    {
      "cell_type": "code",
      "metadata": {
        "colab": {
          "base_uri": "https://localhost:8080/"
        },
        "id": "TsgQXgmXqFnY",
        "outputId": "b384fab9-fa21-4e70-9768-85b7fb917bd6"
      },
      "source": [
        "pares"
      ],
      "execution_count": null,
      "outputs": [
        {
          "output_type": "execute_result",
          "data": {
            "text/plain": [
              "[2, 4, 6, 8, 10, 12, 14, 16, 18, 20]"
            ]
          },
          "metadata": {
            "tags": []
          },
          "execution_count": 49
        }
      ]
    },
    {
      "cell_type": "code",
      "metadata": {
        "id": "qdytvLbCqJRx"
      },
      "source": [
        "pares.append(22)"
      ],
      "execution_count": null,
      "outputs": []
    },
    {
      "cell_type": "code",
      "metadata": {
        "colab": {
          "base_uri": "https://localhost:8080/"
        },
        "id": "oU6HbBhbqMNa",
        "outputId": "0277f051-6386-4671-c0fd-6e3b83ad28ae"
      },
      "source": [
        "pares"
      ],
      "execution_count": null,
      "outputs": [
        {
          "output_type": "execute_result",
          "data": {
            "text/plain": [
              "[2, 4, 6, 8, 10, 12, 14, 16, 18, 20, 22]"
            ]
          },
          "metadata": {
            "tags": []
          },
          "execution_count": 51
        }
      ]
    },
    {
      "cell_type": "code",
      "metadata": {
        "id": "u9DY1rVWqrqq"
      },
      "source": [
        "pares.append(12*2)"
      ],
      "execution_count": null,
      "outputs": []
    },
    {
      "cell_type": "code",
      "metadata": {
        "colab": {
          "base_uri": "https://localhost:8080/"
        },
        "id": "e3eWdoyjqtV_",
        "outputId": "0558daba-e67b-4d77-bed8-18e94940f162"
      },
      "source": [
        "pares"
      ],
      "execution_count": null,
      "outputs": [
        {
          "output_type": "execute_result",
          "data": {
            "text/plain": [
              "[2, 4, 6, 8, 10, 12, 14, 16, 18, 20, 22, 24]"
            ]
          },
          "metadata": {
            "tags": []
          },
          "execution_count": 53
        }
      ]
    },
    {
      "cell_type": "markdown",
      "metadata": {
        "id": "FysQLoGJro4X"
      },
      "source": [
        "### Listas de textos"
      ]
    },
    {
      "cell_type": "code",
      "metadata": {
        "colab": {
          "base_uri": "https://localhost:8080/"
        },
        "id": "zB3z1uwirtA_",
        "outputId": "ba6b4de5-6adc-44e4-8444-65e64a929e41"
      },
      "source": [
        "lista1 = [\"Me\",\"encanta\",\"Python\",\"version\",\"3.7\"]\n",
        "print(lista1)"
      ],
      "execution_count": null,
      "outputs": [
        {
          "output_type": "stream",
          "text": [
            "['Me', 'encanta', 'Python', 'version', '3.7']\n"
          ],
          "name": "stdout"
        }
      ]
    },
    {
      "cell_type": "markdown",
      "metadata": {
        "id": "rIEPZgzcr8D7"
      },
      "source": [
        "Se puede acceder a un elemento de una lista indicando su índice, es decir su posición en la lista. Los índices en Python comienzan a contar desde cero\n",
        "\n",
        "Para acceder al tercer elemento (Python) y al quinto elemento (3.7) de lista, entonces:"
      ]
    },
    {
      "cell_type": "code",
      "metadata": {
        "colab": {
          "base_uri": "https://localhost:8080/"
        },
        "id": "Ud8jec7TsFDp",
        "outputId": "58e51ba4-6244-42f4-ba9d-124e647b626a"
      },
      "source": [
        "print(lista1[2])\n",
        "print(lista1[4])"
      ],
      "execution_count": null,
      "outputs": [
        {
          "output_type": "stream",
          "text": [
            "Python\n",
            "3.7\n"
          ],
          "name": "stdout"
        }
      ]
    },
    {
      "cell_type": "markdown",
      "metadata": {
        "id": "ASMRPouHsS3u"
      },
      "source": [
        "Python proporciona una API para acceder a una variedad de elementos utilizando el operador : \n",
        "\n",
        "Solo necesita especificar el índice inicial en el lado izquierdo del operador y el índice final en el lado derecho. El índice final siempre se excluye del rango. \n",
        "\n",
        "Entonces, si desea obtener tres elementos (índice 2 a 4), debe hacer lo siguiente:"
      ]
    },
    {
      "cell_type": "code",
      "metadata": {
        "colab": {
          "base_uri": "https://localhost:8080/"
        },
        "id": "16RQ4DCZsZ0K",
        "outputId": "27ed7592-a24e-40ee-d832-3533dac42055"
      },
      "source": [
        "print(lista1[2:5])"
      ],
      "execution_count": null,
      "outputs": [
        {
          "output_type": "stream",
          "text": [
            "['Python', 'version', '3.7']\n"
          ],
          "name": "stdout"
        }
      ]
    },
    {
      "cell_type": "markdown",
      "metadata": {
        "id": "sPQPcmIlsgRu"
      },
      "source": [
        "Para agregar un elemento al final de la lista se usa el metodo .append()\n"
      ]
    },
    {
      "cell_type": "code",
      "metadata": {
        "id": "nS3ytKXXskJ3"
      },
      "source": [
        "lista1.append(\"muchisimo\")"
      ],
      "execution_count": null,
      "outputs": []
    },
    {
      "cell_type": "code",
      "metadata": {
        "colab": {
          "base_uri": "https://localhost:8080/"
        },
        "id": "FyqBdEcEu1-o",
        "outputId": "046dfc0c-fb58-4887-da5b-0257cddd061b"
      },
      "source": [
        "lista1"
      ],
      "execution_count": null,
      "outputs": [
        {
          "output_type": "execute_result",
          "data": {
            "text/plain": [
              "['Me', 'encanta', 'Python', 'version', '3.7', 'muchisimo']"
            ]
          },
          "metadata": {
            "tags": []
          },
          "execution_count": 60
        }
      ]
    },
    {
      "cell_type": "markdown",
      "metadata": {
        "id": "Mnq3KIBwsqcM"
      },
      "source": [
        "Para eliminar un elemento de la lista, se usa el metodo .remove()"
      ]
    },
    {
      "cell_type": "code",
      "metadata": {
        "id": "VmkOsyqisuOy"
      },
      "source": [
        "lista1.remove(\"version\")"
      ],
      "execution_count": null,
      "outputs": []
    },
    {
      "cell_type": "code",
      "metadata": {
        "colab": {
          "base_uri": "https://localhost:8080/"
        },
        "id": "P4wSBARcu9kQ",
        "outputId": "123fd167-cb88-447c-868d-e035d808a818"
      },
      "source": [
        "lista1"
      ],
      "execution_count": null,
      "outputs": [
        {
          "output_type": "execute_result",
          "data": {
            "text/plain": [
              "['Me', 'encanta', 'Python', '3.7', 'muchisimo']"
            ]
          },
          "metadata": {
            "tags": []
          },
          "execution_count": 62
        }
      ]
    },
    {
      "cell_type": "markdown",
      "metadata": {
        "id": "wM_XkeZ7s4i_"
      },
      "source": [
        "## Diccionarios"
      ]
    },
    {
      "cell_type": "code",
      "metadata": {
        "colab": {
          "base_uri": "https://localhost:8080/"
        },
        "id": "_hGNS7D9s6Gl",
        "outputId": "bf3110c1-b3a2-462b-93b3-9783c406317a"
      },
      "source": [
        "diccionario1 = {\"Tema\": \"Data Science con Python\", \"Nivel\": \"(nivel I)\"}\n",
        "print(diccionario1)"
      ],
      "execution_count": null,
      "outputs": [
        {
          "output_type": "stream",
          "text": [
            "{'Tema': 'Data Science con Python', 'Nivel': '(nivel I)'}\n"
          ],
          "name": "stdout"
        }
      ]
    },
    {
      "cell_type": "markdown",
      "metadata": {
        "id": "lzVHAQRytI5a"
      },
      "source": [
        "Para acceder a un valor específico, debe proporcionar el nombre de clave correspondiente. \n",
        "\n",
        "Por ejemplo, si se desea obtener el valor \"Data Science con Python\", entonces:"
      ]
    },
    {
      "cell_type": "code",
      "metadata": {
        "colab": {
          "base_uri": "https://localhost:8080/",
          "height": 35
        },
        "id": "QmVWP55rtRlS",
        "outputId": "1c66272f-60fa-4cc5-dc71-13c88a764cef"
      },
      "source": [
        "diccionario1[\"Tema\"]"
      ],
      "execution_count": null,
      "outputs": [
        {
          "output_type": "execute_result",
          "data": {
            "application/vnd.google.colaboratory.intrinsic+json": {
              "type": "string"
            },
            "text/plain": [
              "'Data Science con Python'"
            ]
          },
          "metadata": {
            "tags": []
          },
          "execution_count": 64
        }
      ]
    },
    {
      "cell_type": "markdown",
      "metadata": {
        "id": "yds_DhQ0tYTL"
      },
      "source": [
        "Cada par clave del valor de un diccionario debe ser único."
      ]
    },
    {
      "cell_type": "markdown",
      "metadata": {
        "id": "02M2bA0stoLs"
      },
      "source": [
        "Python proporciona un método para acceder a todos los nombres de las claves de un diccionario. \n",
        "\n",
        "El metodo .keys(), que se utiliza como se muestra a continuación:"
      ]
    },
    {
      "cell_type": "code",
      "metadata": {
        "colab": {
          "base_uri": "https://localhost:8080/"
        },
        "id": "uMrsGDMFtqGC",
        "outputId": "0b877132-fa00-4769-9583-5bba42e7a9df"
      },
      "source": [
        "diccionario1.keys()"
      ],
      "execution_count": null,
      "outputs": [
        {
          "output_type": "execute_result",
          "data": {
            "text/plain": [
              "dict_keys(['Tema', 'Nivel'])"
            ]
          },
          "metadata": {
            "tags": []
          },
          "execution_count": 65
        }
      ]
    },
    {
      "cell_type": "markdown",
      "metadata": {
        "id": "sgEVXFJ5t1FO"
      },
      "source": [
        "Se puede agregar un nuevo elemento en un diccionario proporcionando el nombre de clave como este:"
      ]
    },
    {
      "cell_type": "code",
      "metadata": {
        "colab": {
          "base_uri": "https://localhost:8080/"
        },
        "id": "2SxSL7PZt6JB",
        "outputId": "d3d2b49a-cad6-42e4-8241-6df996d6f5c3"
      },
      "source": [
        "diccionario1[\"Dias\"] = \"Viernes - Sabados\"\n",
        "print(diccionario1)"
      ],
      "execution_count": null,
      "outputs": [
        {
          "output_type": "stream",
          "text": [
            "{'Tema': 'Data Science con Python', 'Nivel': '(nivel I)', 'Dias': 'Viernes - Sabados'}\n"
          ],
          "name": "stdout"
        }
      ]
    },
    {
      "cell_type": "code",
      "metadata": {
        "colab": {
          "base_uri": "https://localhost:8080/"
        },
        "id": "Zq-AaKgCvFHc",
        "outputId": "d403d82d-2692-451a-dee7-7b251208ad26"
      },
      "source": [
        "diccionario1"
      ],
      "execution_count": null,
      "outputs": [
        {
          "output_type": "execute_result",
          "data": {
            "text/plain": [
              "{'Dias': 'Viernes - Sabados',\n",
              " 'Nivel': '(nivel I)',\n",
              " 'Tema': 'Data Science con Python'}"
            ]
          },
          "metadata": {
            "tags": []
          },
          "execution_count": 67
        }
      ]
    },
    {
      "cell_type": "markdown",
      "metadata": {
        "id": "bYkujdxLuBbs"
      },
      "source": [
        "Se puede eliminar un elemento de un diccionario con el comando del:"
      ]
    },
    {
      "cell_type": "code",
      "metadata": {
        "colab": {
          "base_uri": "https://localhost:8080/"
        },
        "id": "Do9CJ_c7uFzF",
        "outputId": "1f6b7858-a59e-4081-f71e-3892b9a3e5d5"
      },
      "source": [
        "del diccionario1[\"Dias\"]\n",
        "print(diccionario1)"
      ],
      "execution_count": null,
      "outputs": [
        {
          "output_type": "stream",
          "text": [
            "{'Tema': 'Data Science con Python', 'Nivel': '(nivel I)'}\n"
          ],
          "name": "stdout"
        }
      ]
    }
  ]
}