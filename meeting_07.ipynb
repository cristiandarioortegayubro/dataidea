{
  "nbformat": 4,
  "nbformat_minor": 0,
  "metadata": {
    "colab": {
      "name": "meeting_07.ipynb",
      "provenance": [],
      "collapsed_sections": [],
      "toc_visible": true,
      "mount_file_id": "1DgL9VIT50fE2AqoZSLRw8L1eXaW8RLV7",
      "authorship_tag": "ABX9TyNHmoH1IvMyMpuwOCIceqw1",
      "include_colab_link": true
    },
    "kernelspec": {
      "name": "python3",
      "display_name": "Python 3"
    },
    "language_info": {
      "name": "python"
    }
  },
  "cells": [
    {
      "cell_type": "markdown",
      "metadata": {
        "id": "view-in-github",
        "colab_type": "text"
      },
      "source": [
        "<a href=\"https://colab.research.google.com/github/cristiandarioortegayubro/dataidea/blob/main/meeting_07.ipynb\" target=\"_parent\"><img src=\"https://colab.research.google.com/assets/colab-badge.svg\" alt=\"Open In Colab\"/></a>"
      ]
    },
    {
      "cell_type": "markdown",
      "metadata": {
        "id": "GTX990AbkZ4O"
      },
      "source": [
        "<center>\n",
        "\n",
        "![Logo.png](data:image/png;base64,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)"
      ]
    },
    {
      "cell_type": "markdown",
      "metadata": {
        "id": "LV5LZKnlpBBS"
      },
      "source": [
        "#**Análisis de Datos**"
      ]
    },
    {
      "cell_type": "markdown",
      "metadata": {
        "id": "JZFylsk3O-c9"
      },
      "source": [
        "## Habilitando los módulos"
      ]
    },
    {
      "cell_type": "markdown",
      "metadata": {
        "id": "SzktfZ4GPP3b"
      },
      "source": [
        "Habitualmente se habilitan los módulos de la siguiente forma:"
      ]
    },
    {
      "cell_type": "code",
      "metadata": {
        "id": "Gw9zH0MyPEH_"
      },
      "source": [
        "import pandas as pd\n",
        "import pandas_datareader as data"
      ],
      "execution_count": null,
      "outputs": []
    },
    {
      "cell_type": "markdown",
      "metadata": {
        "id": "G9Mel0n40aHr"
      },
      "source": [
        "## Obteniendo los datos"
      ]
    },
    {
      "cell_type": "code",
      "metadata": {
        "id": "JQBzfxxxVzo4"
      },
      "source": [
        "datos = data.DataReader(\"BTC-USD\", start=\"2021-01-05\", data_source=\"yahoo\")"
      ],
      "execution_count": null,
      "outputs": []
    },
    {
      "cell_type": "markdown",
      "metadata": {
        "id": "PdyqQarGXpbJ"
      },
      "source": [
        "## Creando el DataFrame"
      ]
    },
    {
      "cell_type": "code",
      "metadata": {
        "id": "avghDITBX4_u"
      },
      "source": [
        "bitcoin = pd.DataFrame(datos)"
      ],
      "execution_count": null,
      "outputs": []
    },
    {
      "cell_type": "markdown",
      "metadata": {
        "id": "bpDb9R9hYDCA"
      },
      "source": [
        "## Visualizando el DataFrame"
      ]
    },
    {
      "cell_type": "markdown",
      "metadata": {
        "id": "rs5XTNdMYK_A"
      },
      "source": [
        "Viendo el DataFrame completo"
      ]
    },
    {
      "cell_type": "code",
      "metadata": {
        "colab": {
          "base_uri": "https://localhost:8080/",
          "height": 450
        },
        "id": "31Gi31SKYBs2",
        "outputId": "c36cb112-6f26-46e0-b5aa-873ca2ec2549"
      },
      "source": [
        "bitcoin"
      ],
      "execution_count": null,
      "outputs": [
        {
          "output_type": "execute_result",
          "data": {
            "text/html": [
              "<div>\n",
              "<style scoped>\n",
              "    .dataframe tbody tr th:only-of-type {\n",
              "        vertical-align: middle;\n",
              "    }\n",
              "\n",
              "    .dataframe tbody tr th {\n",
              "        vertical-align: top;\n",
              "    }\n",
              "\n",
              "    .dataframe thead th {\n",
              "        text-align: right;\n",
              "    }\n",
              "</style>\n",
              "<table border=\"1\" class=\"dataframe\">\n",
              "  <thead>\n",
              "    <tr style=\"text-align: right;\">\n",
              "      <th></th>\n",
              "      <th>High</th>\n",
              "      <th>Low</th>\n",
              "      <th>Open</th>\n",
              "      <th>Close</th>\n",
              "      <th>Volume</th>\n",
              "      <th>Adj Close</th>\n",
              "    </tr>\n",
              "    <tr>\n",
              "      <th>Date</th>\n",
              "      <th></th>\n",
              "      <th></th>\n",
              "      <th></th>\n",
              "      <th></th>\n",
              "      <th></th>\n",
              "      <th></th>\n",
              "    </tr>\n",
              "  </thead>\n",
              "  <tbody>\n",
              "    <tr>\n",
              "      <th>2021-01-05</th>\n",
              "      <td>34437.589844</td>\n",
              "      <td>30221.187500</td>\n",
              "      <td>31977.041016</td>\n",
              "      <td>33992.429688</td>\n",
              "      <td>67547324782</td>\n",
              "      <td>33992.429688</td>\n",
              "    </tr>\n",
              "    <tr>\n",
              "      <th>2021-01-06</th>\n",
              "      <td>36879.699219</td>\n",
              "      <td>33514.035156</td>\n",
              "      <td>34013.613281</td>\n",
              "      <td>36824.363281</td>\n",
              "      <td>75289433811</td>\n",
              "      <td>36824.363281</td>\n",
              "    </tr>\n",
              "    <tr>\n",
              "      <th>2021-01-07</th>\n",
              "      <td>40180.367188</td>\n",
              "      <td>36491.191406</td>\n",
              "      <td>36833.875000</td>\n",
              "      <td>39371.042969</td>\n",
              "      <td>84762141031</td>\n",
              "      <td>39371.042969</td>\n",
              "    </tr>\n",
              "    <tr>\n",
              "      <th>2021-01-08</th>\n",
              "      <td>41946.738281</td>\n",
              "      <td>36838.636719</td>\n",
              "      <td>39381.765625</td>\n",
              "      <td>40797.609375</td>\n",
              "      <td>88107519480</td>\n",
              "      <td>40797.609375</td>\n",
              "    </tr>\n",
              "    <tr>\n",
              "      <th>2021-01-09</th>\n",
              "      <td>41436.351562</td>\n",
              "      <td>38980.875000</td>\n",
              "      <td>40788.640625</td>\n",
              "      <td>40254.546875</td>\n",
              "      <td>61984162837</td>\n",
              "      <td>40254.546875</td>\n",
              "    </tr>\n",
              "    <tr>\n",
              "      <th>...</th>\n",
              "      <td>...</td>\n",
              "      <td>...</td>\n",
              "      <td>...</td>\n",
              "      <td>...</td>\n",
              "      <td>...</td>\n",
              "      <td>...</td>\n",
              "    </tr>\n",
              "    <tr>\n",
              "      <th>2021-05-23</th>\n",
              "      <td>39835.140625</td>\n",
              "      <td>34551.082031</td>\n",
              "      <td>34700.363281</td>\n",
              "      <td>38705.980469</td>\n",
              "      <td>67359584098</td>\n",
              "      <td>38705.980469</td>\n",
              "    </tr>\n",
              "    <tr>\n",
              "      <th>2021-05-24</th>\n",
              "      <td>39776.351562</td>\n",
              "      <td>36581.429688</td>\n",
              "      <td>38795.781250</td>\n",
              "      <td>38402.222656</td>\n",
              "      <td>56211915803</td>\n",
              "      <td>38402.222656</td>\n",
              "    </tr>\n",
              "    <tr>\n",
              "      <th>2021-05-25</th>\n",
              "      <td>40782.078125</td>\n",
              "      <td>37905.835938</td>\n",
              "      <td>38392.625000</td>\n",
              "      <td>39294.199219</td>\n",
              "      <td>51346735160</td>\n",
              "      <td>39294.199219</td>\n",
              "    </tr>\n",
              "    <tr>\n",
              "      <th>2021-05-26</th>\n",
              "      <td>40379.617188</td>\n",
              "      <td>37247.902344</td>\n",
              "      <td>39316.890625</td>\n",
              "      <td>38436.968750</td>\n",
              "      <td>43210968721</td>\n",
              "      <td>38436.968750</td>\n",
              "    </tr>\n",
              "    <tr>\n",
              "      <th>2021-05-28</th>\n",
              "      <td>38770.804688</td>\n",
              "      <td>37813.785156</td>\n",
              "      <td>38180.289062</td>\n",
              "      <td>38300.410156</td>\n",
              "      <td>41198809088</td>\n",
              "      <td>38300.410156</td>\n",
              "    </tr>\n",
              "  </tbody>\n",
              "</table>\n",
              "<p>144 rows × 6 columns</p>\n",
              "</div>"
            ],
            "text/plain": [
              "                    High           Low  ...       Volume     Adj Close\n",
              "Date                                    ...                           \n",
              "2021-01-05  34437.589844  30221.187500  ...  67547324782  33992.429688\n",
              "2021-01-06  36879.699219  33514.035156  ...  75289433811  36824.363281\n",
              "2021-01-07  40180.367188  36491.191406  ...  84762141031  39371.042969\n",
              "2021-01-08  41946.738281  36838.636719  ...  88107519480  40797.609375\n",
              "2021-01-09  41436.351562  38980.875000  ...  61984162837  40254.546875\n",
              "...                  ...           ...  ...          ...           ...\n",
              "2021-05-23  39835.140625  34551.082031  ...  67359584098  38705.980469\n",
              "2021-05-24  39776.351562  36581.429688  ...  56211915803  38402.222656\n",
              "2021-05-25  40782.078125  37905.835938  ...  51346735160  39294.199219\n",
              "2021-05-26  40379.617188  37247.902344  ...  43210968721  38436.968750\n",
              "2021-05-28  38770.804688  37813.785156  ...  41198809088  38300.410156\n",
              "\n",
              "[144 rows x 6 columns]"
            ]
          },
          "metadata": {
            "tags": []
          },
          "execution_count": 4
        }
      ]
    },
    {
      "cell_type": "markdown",
      "metadata": {
        "id": "ocZc-T6JYbzv"
      },
      "source": [
        "Viendo las primeras cinco filas..."
      ]
    },
    {
      "cell_type": "code",
      "metadata": {
        "colab": {
          "base_uri": "https://localhost:8080/",
          "height": 235
        },
        "id": "HCgZBAdyYiA4",
        "outputId": "bec1780c-f192-4f55-b1c1-587c650e5453"
      },
      "source": [
        "bitcoin.head()"
      ],
      "execution_count": null,
      "outputs": [
        {
          "output_type": "execute_result",
          "data": {
            "text/html": [
              "<div>\n",
              "<style scoped>\n",
              "    .dataframe tbody tr th:only-of-type {\n",
              "        vertical-align: middle;\n",
              "    }\n",
              "\n",
              "    .dataframe tbody tr th {\n",
              "        vertical-align: top;\n",
              "    }\n",
              "\n",
              "    .dataframe thead th {\n",
              "        text-align: right;\n",
              "    }\n",
              "</style>\n",
              "<table border=\"1\" class=\"dataframe\">\n",
              "  <thead>\n",
              "    <tr style=\"text-align: right;\">\n",
              "      <th></th>\n",
              "      <th>High</th>\n",
              "      <th>Low</th>\n",
              "      <th>Open</th>\n",
              "      <th>Close</th>\n",
              "      <th>Volume</th>\n",
              "      <th>Adj Close</th>\n",
              "    </tr>\n",
              "    <tr>\n",
              "      <th>Date</th>\n",
              "      <th></th>\n",
              "      <th></th>\n",
              "      <th></th>\n",
              "      <th></th>\n",
              "      <th></th>\n",
              "      <th></th>\n",
              "    </tr>\n",
              "  </thead>\n",
              "  <tbody>\n",
              "    <tr>\n",
              "      <th>2021-01-05</th>\n",
              "      <td>34437.589844</td>\n",
              "      <td>30221.187500</td>\n",
              "      <td>31977.041016</td>\n",
              "      <td>33992.429688</td>\n",
              "      <td>67547324782</td>\n",
              "      <td>33992.429688</td>\n",
              "    </tr>\n",
              "    <tr>\n",
              "      <th>2021-01-06</th>\n",
              "      <td>36879.699219</td>\n",
              "      <td>33514.035156</td>\n",
              "      <td>34013.613281</td>\n",
              "      <td>36824.363281</td>\n",
              "      <td>75289433811</td>\n",
              "      <td>36824.363281</td>\n",
              "    </tr>\n",
              "    <tr>\n",
              "      <th>2021-01-07</th>\n",
              "      <td>40180.367188</td>\n",
              "      <td>36491.191406</td>\n",
              "      <td>36833.875000</td>\n",
              "      <td>39371.042969</td>\n",
              "      <td>84762141031</td>\n",
              "      <td>39371.042969</td>\n",
              "    </tr>\n",
              "    <tr>\n",
              "      <th>2021-01-08</th>\n",
              "      <td>41946.738281</td>\n",
              "      <td>36838.636719</td>\n",
              "      <td>39381.765625</td>\n",
              "      <td>40797.609375</td>\n",
              "      <td>88107519480</td>\n",
              "      <td>40797.609375</td>\n",
              "    </tr>\n",
              "    <tr>\n",
              "      <th>2021-01-09</th>\n",
              "      <td>41436.351562</td>\n",
              "      <td>38980.875000</td>\n",
              "      <td>40788.640625</td>\n",
              "      <td>40254.546875</td>\n",
              "      <td>61984162837</td>\n",
              "      <td>40254.546875</td>\n",
              "    </tr>\n",
              "  </tbody>\n",
              "</table>\n",
              "</div>"
            ],
            "text/plain": [
              "                    High           Low  ...       Volume     Adj Close\n",
              "Date                                    ...                           \n",
              "2021-01-05  34437.589844  30221.187500  ...  67547324782  33992.429688\n",
              "2021-01-06  36879.699219  33514.035156  ...  75289433811  36824.363281\n",
              "2021-01-07  40180.367188  36491.191406  ...  84762141031  39371.042969\n",
              "2021-01-08  41946.738281  36838.636719  ...  88107519480  40797.609375\n",
              "2021-01-09  41436.351562  38980.875000  ...  61984162837  40254.546875\n",
              "\n",
              "[5 rows x 6 columns]"
            ]
          },
          "metadata": {
            "tags": []
          },
          "execution_count": 5
        }
      ]
    },
    {
      "cell_type": "markdown",
      "metadata": {
        "id": "COubiwoNYnWn"
      },
      "source": [
        "Viendo un número $n$ de filas, por ejemplo 8 filas..."
      ]
    },
    {
      "cell_type": "code",
      "metadata": {
        "colab": {
          "base_uri": "https://localhost:8080/",
          "height": 328
        },
        "id": "I6GV6daaYvAr",
        "outputId": "31b72b0e-87d4-4201-e8f4-e8b541ff6fbd"
      },
      "source": [
        "bitcoin.head(8)"
      ],
      "execution_count": null,
      "outputs": [
        {
          "output_type": "execute_result",
          "data": {
            "text/html": [
              "<div>\n",
              "<style scoped>\n",
              "    .dataframe tbody tr th:only-of-type {\n",
              "        vertical-align: middle;\n",
              "    }\n",
              "\n",
              "    .dataframe tbody tr th {\n",
              "        vertical-align: top;\n",
              "    }\n",
              "\n",
              "    .dataframe thead th {\n",
              "        text-align: right;\n",
              "    }\n",
              "</style>\n",
              "<table border=\"1\" class=\"dataframe\">\n",
              "  <thead>\n",
              "    <tr style=\"text-align: right;\">\n",
              "      <th></th>\n",
              "      <th>High</th>\n",
              "      <th>Low</th>\n",
              "      <th>Open</th>\n",
              "      <th>Close</th>\n",
              "      <th>Volume</th>\n",
              "      <th>Adj Close</th>\n",
              "    </tr>\n",
              "    <tr>\n",
              "      <th>Date</th>\n",
              "      <th></th>\n",
              "      <th></th>\n",
              "      <th></th>\n",
              "      <th></th>\n",
              "      <th></th>\n",
              "      <th></th>\n",
              "    </tr>\n",
              "  </thead>\n",
              "  <tbody>\n",
              "    <tr>\n",
              "      <th>2021-01-05</th>\n",
              "      <td>34437.589844</td>\n",
              "      <td>30221.187500</td>\n",
              "      <td>31977.041016</td>\n",
              "      <td>33992.429688</td>\n",
              "      <td>67547324782</td>\n",
              "      <td>33992.429688</td>\n",
              "    </tr>\n",
              "    <tr>\n",
              "      <th>2021-01-06</th>\n",
              "      <td>36879.699219</td>\n",
              "      <td>33514.035156</td>\n",
              "      <td>34013.613281</td>\n",
              "      <td>36824.363281</td>\n",
              "      <td>75289433811</td>\n",
              "      <td>36824.363281</td>\n",
              "    </tr>\n",
              "    <tr>\n",
              "      <th>2021-01-07</th>\n",
              "      <td>40180.367188</td>\n",
              "      <td>36491.191406</td>\n",
              "      <td>36833.875000</td>\n",
              "      <td>39371.042969</td>\n",
              "      <td>84762141031</td>\n",
              "      <td>39371.042969</td>\n",
              "    </tr>\n",
              "    <tr>\n",
              "      <th>2021-01-08</th>\n",
              "      <td>41946.738281</td>\n",
              "      <td>36838.636719</td>\n",
              "      <td>39381.765625</td>\n",
              "      <td>40797.609375</td>\n",
              "      <td>88107519480</td>\n",
              "      <td>40797.609375</td>\n",
              "    </tr>\n",
              "    <tr>\n",
              "      <th>2021-01-09</th>\n",
              "      <td>41436.351562</td>\n",
              "      <td>38980.875000</td>\n",
              "      <td>40788.640625</td>\n",
              "      <td>40254.546875</td>\n",
              "      <td>61984162837</td>\n",
              "      <td>40254.546875</td>\n",
              "    </tr>\n",
              "    <tr>\n",
              "      <th>2021-01-10</th>\n",
              "      <td>41420.191406</td>\n",
              "      <td>35984.628906</td>\n",
              "      <td>40254.218750</td>\n",
              "      <td>38356.441406</td>\n",
              "      <td>79980747690</td>\n",
              "      <td>38356.441406</td>\n",
              "    </tr>\n",
              "    <tr>\n",
              "      <th>2021-01-11</th>\n",
              "      <td>38346.531250</td>\n",
              "      <td>30549.599609</td>\n",
              "      <td>38346.531250</td>\n",
              "      <td>35566.656250</td>\n",
              "      <td>123320567399</td>\n",
              "      <td>35566.656250</td>\n",
              "    </tr>\n",
              "    <tr>\n",
              "      <th>2021-01-12</th>\n",
              "      <td>36568.527344</td>\n",
              "      <td>32697.976562</td>\n",
              "      <td>35516.359375</td>\n",
              "      <td>33922.960938</td>\n",
              "      <td>74773277909</td>\n",
              "      <td>33922.960938</td>\n",
              "    </tr>\n",
              "  </tbody>\n",
              "</table>\n",
              "</div>"
            ],
            "text/plain": [
              "                    High           Low  ...        Volume     Adj Close\n",
              "Date                                    ...                            \n",
              "2021-01-05  34437.589844  30221.187500  ...   67547324782  33992.429688\n",
              "2021-01-06  36879.699219  33514.035156  ...   75289433811  36824.363281\n",
              "2021-01-07  40180.367188  36491.191406  ...   84762141031  39371.042969\n",
              "2021-01-08  41946.738281  36838.636719  ...   88107519480  40797.609375\n",
              "2021-01-09  41436.351562  38980.875000  ...   61984162837  40254.546875\n",
              "2021-01-10  41420.191406  35984.628906  ...   79980747690  38356.441406\n",
              "2021-01-11  38346.531250  30549.599609  ...  123320567399  35566.656250\n",
              "2021-01-12  36568.527344  32697.976562  ...   74773277909  33922.960938\n",
              "\n",
              "[8 rows x 6 columns]"
            ]
          },
          "metadata": {
            "tags": []
          },
          "execution_count": 6
        }
      ]
    },
    {
      "cell_type": "markdown",
      "metadata": {
        "id": "b94grsLtZHrt"
      },
      "source": [
        "Viendo las últimas cinco filas del DataFrame..."
      ]
    },
    {
      "cell_type": "code",
      "metadata": {
        "colab": {
          "base_uri": "https://localhost:8080/",
          "height": 235
        },
        "id": "QBX7Ys71ZOHP",
        "outputId": "1eb8fcec-eac2-4710-9fa5-73c8a19b051e"
      },
      "source": [
        "bitcoin.tail()"
      ],
      "execution_count": null,
      "outputs": [
        {
          "output_type": "execute_result",
          "data": {
            "text/html": [
              "<div>\n",
              "<style scoped>\n",
              "    .dataframe tbody tr th:only-of-type {\n",
              "        vertical-align: middle;\n",
              "    }\n",
              "\n",
              "    .dataframe tbody tr th {\n",
              "        vertical-align: top;\n",
              "    }\n",
              "\n",
              "    .dataframe thead th {\n",
              "        text-align: right;\n",
              "    }\n",
              "</style>\n",
              "<table border=\"1\" class=\"dataframe\">\n",
              "  <thead>\n",
              "    <tr style=\"text-align: right;\">\n",
              "      <th></th>\n",
              "      <th>High</th>\n",
              "      <th>Low</th>\n",
              "      <th>Open</th>\n",
              "      <th>Close</th>\n",
              "      <th>Volume</th>\n",
              "      <th>Adj Close</th>\n",
              "    </tr>\n",
              "    <tr>\n",
              "      <th>Date</th>\n",
              "      <th></th>\n",
              "      <th></th>\n",
              "      <th></th>\n",
              "      <th></th>\n",
              "      <th></th>\n",
              "      <th></th>\n",
              "    </tr>\n",
              "  </thead>\n",
              "  <tbody>\n",
              "    <tr>\n",
              "      <th>2021-05-23</th>\n",
              "      <td>39835.140625</td>\n",
              "      <td>34551.082031</td>\n",
              "      <td>34700.363281</td>\n",
              "      <td>38705.980469</td>\n",
              "      <td>67359584098</td>\n",
              "      <td>38705.980469</td>\n",
              "    </tr>\n",
              "    <tr>\n",
              "      <th>2021-05-24</th>\n",
              "      <td>39776.351562</td>\n",
              "      <td>36581.429688</td>\n",
              "      <td>38795.781250</td>\n",
              "      <td>38402.222656</td>\n",
              "      <td>56211915803</td>\n",
              "      <td>38402.222656</td>\n",
              "    </tr>\n",
              "    <tr>\n",
              "      <th>2021-05-25</th>\n",
              "      <td>40782.078125</td>\n",
              "      <td>37905.835938</td>\n",
              "      <td>38392.625000</td>\n",
              "      <td>39294.199219</td>\n",
              "      <td>51346735160</td>\n",
              "      <td>39294.199219</td>\n",
              "    </tr>\n",
              "    <tr>\n",
              "      <th>2021-05-26</th>\n",
              "      <td>40379.617188</td>\n",
              "      <td>37247.902344</td>\n",
              "      <td>39316.890625</td>\n",
              "      <td>38436.968750</td>\n",
              "      <td>43210968721</td>\n",
              "      <td>38436.968750</td>\n",
              "    </tr>\n",
              "    <tr>\n",
              "      <th>2021-05-28</th>\n",
              "      <td>38770.804688</td>\n",
              "      <td>37813.785156</td>\n",
              "      <td>38180.289062</td>\n",
              "      <td>38300.410156</td>\n",
              "      <td>41198809088</td>\n",
              "      <td>38300.410156</td>\n",
              "    </tr>\n",
              "  </tbody>\n",
              "</table>\n",
              "</div>"
            ],
            "text/plain": [
              "                    High           Low  ...       Volume     Adj Close\n",
              "Date                                    ...                           \n",
              "2021-05-23  39835.140625  34551.082031  ...  67359584098  38705.980469\n",
              "2021-05-24  39776.351562  36581.429688  ...  56211915803  38402.222656\n",
              "2021-05-25  40782.078125  37905.835938  ...  51346735160  39294.199219\n",
              "2021-05-26  40379.617188  37247.902344  ...  43210968721  38436.968750\n",
              "2021-05-28  38770.804688  37813.785156  ...  41198809088  38300.410156\n",
              "\n",
              "[5 rows x 6 columns]"
            ]
          },
          "metadata": {
            "tags": []
          },
          "execution_count": 7
        }
      ]
    },
    {
      "cell_type": "markdown",
      "metadata": {
        "id": "9WeLbUSKZXPr"
      },
      "source": [
        "Viendo un número $n$ de filas, por ejemplo 7 filas..."
      ]
    },
    {
      "cell_type": "code",
      "metadata": {
        "colab": {
          "base_uri": "https://localhost:8080/",
          "height": 297
        },
        "id": "bl2dHW_WZZkQ",
        "outputId": "ad059c71-1cc9-4540-a7ca-253a2812f686"
      },
      "source": [
        "bitcoin.tail(7)"
      ],
      "execution_count": null,
      "outputs": [
        {
          "output_type": "execute_result",
          "data": {
            "text/html": [
              "<div>\n",
              "<style scoped>\n",
              "    .dataframe tbody tr th:only-of-type {\n",
              "        vertical-align: middle;\n",
              "    }\n",
              "\n",
              "    .dataframe tbody tr th {\n",
              "        vertical-align: top;\n",
              "    }\n",
              "\n",
              "    .dataframe thead th {\n",
              "        text-align: right;\n",
              "    }\n",
              "</style>\n",
              "<table border=\"1\" class=\"dataframe\">\n",
              "  <thead>\n",
              "    <tr style=\"text-align: right;\">\n",
              "      <th></th>\n",
              "      <th>High</th>\n",
              "      <th>Low</th>\n",
              "      <th>Open</th>\n",
              "      <th>Close</th>\n",
              "      <th>Volume</th>\n",
              "      <th>Adj Close</th>\n",
              "    </tr>\n",
              "    <tr>\n",
              "      <th>Date</th>\n",
              "      <th></th>\n",
              "      <th></th>\n",
              "      <th></th>\n",
              "      <th></th>\n",
              "      <th></th>\n",
              "      <th></th>\n",
              "    </tr>\n",
              "  </thead>\n",
              "  <tbody>\n",
              "    <tr>\n",
              "      <th>2021-05-21</th>\n",
              "      <td>38831.054688</td>\n",
              "      <td>35383.683594</td>\n",
              "      <td>37371.031250</td>\n",
              "      <td>37536.632812</td>\n",
              "      <td>57377273240</td>\n",
              "      <td>37536.632812</td>\n",
              "    </tr>\n",
              "    <tr>\n",
              "      <th>2021-05-22</th>\n",
              "      <td>38289.218750</td>\n",
              "      <td>31227.339844</td>\n",
              "      <td>37531.449219</td>\n",
              "      <td>34770.582031</td>\n",
              "      <td>78469274361</td>\n",
              "      <td>34770.582031</td>\n",
              "    </tr>\n",
              "    <tr>\n",
              "      <th>2021-05-23</th>\n",
              "      <td>39835.140625</td>\n",
              "      <td>34551.082031</td>\n",
              "      <td>34700.363281</td>\n",
              "      <td>38705.980469</td>\n",
              "      <td>67359584098</td>\n",
              "      <td>38705.980469</td>\n",
              "    </tr>\n",
              "    <tr>\n",
              "      <th>2021-05-24</th>\n",
              "      <td>39776.351562</td>\n",
              "      <td>36581.429688</td>\n",
              "      <td>38795.781250</td>\n",
              "      <td>38402.222656</td>\n",
              "      <td>56211915803</td>\n",
              "      <td>38402.222656</td>\n",
              "    </tr>\n",
              "    <tr>\n",
              "      <th>2021-05-25</th>\n",
              "      <td>40782.078125</td>\n",
              "      <td>37905.835938</td>\n",
              "      <td>38392.625000</td>\n",
              "      <td>39294.199219</td>\n",
              "      <td>51346735160</td>\n",
              "      <td>39294.199219</td>\n",
              "    </tr>\n",
              "    <tr>\n",
              "      <th>2021-05-26</th>\n",
              "      <td>40379.617188</td>\n",
              "      <td>37247.902344</td>\n",
              "      <td>39316.890625</td>\n",
              "      <td>38436.968750</td>\n",
              "      <td>43210968721</td>\n",
              "      <td>38436.968750</td>\n",
              "    </tr>\n",
              "    <tr>\n",
              "      <th>2021-05-28</th>\n",
              "      <td>38770.804688</td>\n",
              "      <td>37813.785156</td>\n",
              "      <td>38180.289062</td>\n",
              "      <td>38300.410156</td>\n",
              "      <td>41198809088</td>\n",
              "      <td>38300.410156</td>\n",
              "    </tr>\n",
              "  </tbody>\n",
              "</table>\n",
              "</div>"
            ],
            "text/plain": [
              "                    High           Low  ...       Volume     Adj Close\n",
              "Date                                    ...                           \n",
              "2021-05-21  38831.054688  35383.683594  ...  57377273240  37536.632812\n",
              "2021-05-22  38289.218750  31227.339844  ...  78469274361  34770.582031\n",
              "2021-05-23  39835.140625  34551.082031  ...  67359584098  38705.980469\n",
              "2021-05-24  39776.351562  36581.429688  ...  56211915803  38402.222656\n",
              "2021-05-25  40782.078125  37905.835938  ...  51346735160  39294.199219\n",
              "2021-05-26  40379.617188  37247.902344  ...  43210968721  38436.968750\n",
              "2021-05-28  38770.804688  37813.785156  ...  41198809088  38300.410156\n",
              "\n",
              "[7 rows x 6 columns]"
            ]
          },
          "metadata": {
            "tags": []
          },
          "execution_count": 8
        }
      ]
    },
    {
      "cell_type": "markdown",
      "metadata": {
        "id": "D291PqpLZg-q"
      },
      "source": [
        "Viendo la composición del Index..."
      ]
    },
    {
      "cell_type": "code",
      "metadata": {
        "colab": {
          "base_uri": "https://localhost:8080/"
        },
        "id": "VoQ3DUlfZj7S",
        "outputId": "a765461b-7378-4223-fb18-a410bd6b9a6e"
      },
      "source": [
        "bitcoin.index"
      ],
      "execution_count": null,
      "outputs": [
        {
          "output_type": "execute_result",
          "data": {
            "text/plain": [
              "DatetimeIndex(['2021-01-05', '2021-01-06', '2021-01-07', '2021-01-08',\n",
              "               '2021-01-09', '2021-01-10', '2021-01-11', '2021-01-12',\n",
              "               '2021-01-13', '2021-01-14',\n",
              "               ...\n",
              "               '2021-05-18', '2021-05-19', '2021-05-20', '2021-05-21',\n",
              "               '2021-05-22', '2021-05-23', '2021-05-24', '2021-05-25',\n",
              "               '2021-05-26', '2021-05-28'],\n",
              "              dtype='datetime64[ns]', name='Date', length=144, freq=None)"
            ]
          },
          "metadata": {
            "tags": []
          },
          "execution_count": 9
        }
      ]
    },
    {
      "cell_type": "markdown",
      "metadata": {
        "id": "UN5-cE6nZqpw"
      },
      "source": [
        "Viendo la composición de las Columnas..."
      ]
    },
    {
      "cell_type": "code",
      "metadata": {
        "colab": {
          "base_uri": "https://localhost:8080/"
        },
        "id": "GF6WDl6WZvE_",
        "outputId": "16e924d0-f5ce-4143-f1a6-6a377f38354a"
      },
      "source": [
        "bitcoin.columns"
      ],
      "execution_count": null,
      "outputs": [
        {
          "output_type": "execute_result",
          "data": {
            "text/plain": [
              "Index(['High', 'Low', 'Open', 'Close', 'Volume', 'Adj Close'], dtype='object')"
            ]
          },
          "metadata": {
            "tags": []
          },
          "execution_count": 10
        }
      ]
    },
    {
      "cell_type": "markdown",
      "metadata": {
        "id": "oVNDw_pnZ7WA"
      },
      "source": [
        "## Tipos de datos del DataFrame y tamaño\n"
      ]
    },
    {
      "cell_type": "code",
      "metadata": {
        "colab": {
          "base_uri": "https://localhost:8080/"
        },
        "id": "Qb_L66BUaAvK",
        "outputId": "c38eb355-5fac-4fc7-ca83-b5b601dc77f0"
      },
      "source": [
        "bitcoin.dtypes"
      ],
      "execution_count": null,
      "outputs": [
        {
          "output_type": "execute_result",
          "data": {
            "text/plain": [
              "High         float64\n",
              "Low          float64\n",
              "Open         float64\n",
              "Close        float64\n",
              "Volume         int64\n",
              "Adj Close    float64\n",
              "dtype: object"
            ]
          },
          "metadata": {
            "tags": []
          },
          "execution_count": 11
        }
      ]
    },
    {
      "cell_type": "code",
      "metadata": {
        "colab": {
          "base_uri": "https://localhost:8080/"
        },
        "id": "RwKCFFwaaJtx",
        "outputId": "fbea2960-4ef8-4f77-ac38-46fdbd2a4b8d"
      },
      "source": [
        "bitcoin.info()"
      ],
      "execution_count": null,
      "outputs": [
        {
          "output_type": "stream",
          "text": [
            "<class 'pandas.core.frame.DataFrame'>\n",
            "DatetimeIndex: 144 entries, 2021-01-05 to 2021-05-28\n",
            "Data columns (total 6 columns):\n",
            " #   Column     Non-Null Count  Dtype  \n",
            "---  ------     --------------  -----  \n",
            " 0   High       144 non-null    float64\n",
            " 1   Low        144 non-null    float64\n",
            " 2   Open       144 non-null    float64\n",
            " 3   Close      144 non-null    float64\n",
            " 4   Volume     144 non-null    int64  \n",
            " 5   Adj Close  144 non-null    float64\n",
            "dtypes: float64(5), int64(1)\n",
            "memory usage: 7.9 KB\n"
          ],
          "name": "stdout"
        }
      ]
    },
    {
      "cell_type": "code",
      "metadata": {
        "colab": {
          "base_uri": "https://localhost:8080/"
        },
        "id": "3koAWL9yaSJI",
        "outputId": "a2fcd58f-1d12-4581-f3c5-7b833d4c8996"
      },
      "source": [
        "bitcoin.shape"
      ],
      "execution_count": null,
      "outputs": [
        {
          "output_type": "execute_result",
          "data": {
            "text/plain": [
              "(144, 6)"
            ]
          },
          "metadata": {
            "tags": []
          },
          "execution_count": 13
        }
      ]
    },
    {
      "cell_type": "markdown",
      "metadata": {
        "id": "wwlUpQzNaf81"
      },
      "source": [
        "## Trabajando en el DataFrame"
      ]
    },
    {
      "cell_type": "markdown",
      "metadata": {
        "id": "zbyf7DsbmoFW"
      },
      "source": [
        "###Ajustando el número de decimales del DataFrame"
      ]
    },
    {
      "cell_type": "code",
      "metadata": {
        "colab": {
          "base_uri": "https://localhost:8080/",
          "height": 235
        },
        "id": "zt0xhk8ZmxiS",
        "outputId": "11bdbe36-5a00-47e9-b431-bd0a795e970c"
      },
      "source": [
        "pd.options.display.precision = 2\n",
        "bitcoin.head()"
      ],
      "execution_count": null,
      "outputs": [
        {
          "output_type": "execute_result",
          "data": {
            "text/html": [
              "<div>\n",
              "<style scoped>\n",
              "    .dataframe tbody tr th:only-of-type {\n",
              "        vertical-align: middle;\n",
              "    }\n",
              "\n",
              "    .dataframe tbody tr th {\n",
              "        vertical-align: top;\n",
              "    }\n",
              "\n",
              "    .dataframe thead th {\n",
              "        text-align: right;\n",
              "    }\n",
              "</style>\n",
              "<table border=\"1\" class=\"dataframe\">\n",
              "  <thead>\n",
              "    <tr style=\"text-align: right;\">\n",
              "      <th></th>\n",
              "      <th>High</th>\n",
              "      <th>Low</th>\n",
              "      <th>Open</th>\n",
              "      <th>Close</th>\n",
              "      <th>Volume</th>\n",
              "      <th>Adj Close</th>\n",
              "    </tr>\n",
              "    <tr>\n",
              "      <th>Date</th>\n",
              "      <th></th>\n",
              "      <th></th>\n",
              "      <th></th>\n",
              "      <th></th>\n",
              "      <th></th>\n",
              "      <th></th>\n",
              "    </tr>\n",
              "  </thead>\n",
              "  <tbody>\n",
              "    <tr>\n",
              "      <th>2021-01-05</th>\n",
              "      <td>34437.59</td>\n",
              "      <td>30221.19</td>\n",
              "      <td>31977.04</td>\n",
              "      <td>33992.43</td>\n",
              "      <td>67547324782</td>\n",
              "      <td>33992.43</td>\n",
              "    </tr>\n",
              "    <tr>\n",
              "      <th>2021-01-06</th>\n",
              "      <td>36879.70</td>\n",
              "      <td>33514.04</td>\n",
              "      <td>34013.61</td>\n",
              "      <td>36824.36</td>\n",
              "      <td>75289433811</td>\n",
              "      <td>36824.36</td>\n",
              "    </tr>\n",
              "    <tr>\n",
              "      <th>2021-01-07</th>\n",
              "      <td>40180.37</td>\n",
              "      <td>36491.19</td>\n",
              "      <td>36833.88</td>\n",
              "      <td>39371.04</td>\n",
              "      <td>84762141031</td>\n",
              "      <td>39371.04</td>\n",
              "    </tr>\n",
              "    <tr>\n",
              "      <th>2021-01-08</th>\n",
              "      <td>41946.74</td>\n",
              "      <td>36838.64</td>\n",
              "      <td>39381.77</td>\n",
              "      <td>40797.61</td>\n",
              "      <td>88107519480</td>\n",
              "      <td>40797.61</td>\n",
              "    </tr>\n",
              "    <tr>\n",
              "      <th>2021-01-09</th>\n",
              "      <td>41436.35</td>\n",
              "      <td>38980.88</td>\n",
              "      <td>40788.64</td>\n",
              "      <td>40254.55</td>\n",
              "      <td>61984162837</td>\n",
              "      <td>40254.55</td>\n",
              "    </tr>\n",
              "  </tbody>\n",
              "</table>\n",
              "</div>"
            ],
            "text/plain": [
              "                High       Low      Open     Close       Volume  Adj Close\n",
              "Date                                                                      \n",
              "2021-01-05  34437.59  30221.19  31977.04  33992.43  67547324782   33992.43\n",
              "2021-01-06  36879.70  33514.04  34013.61  36824.36  75289433811   36824.36\n",
              "2021-01-07  40180.37  36491.19  36833.88  39371.04  84762141031   39371.04\n",
              "2021-01-08  41946.74  36838.64  39381.77  40797.61  88107519480   40797.61\n",
              "2021-01-09  41436.35  38980.88  40788.64  40254.55  61984162837   40254.55"
            ]
          },
          "metadata": {
            "tags": []
          },
          "execution_count": 14
        }
      ]
    },
    {
      "cell_type": "markdown",
      "metadata": {
        "id": "HJQRc3o5nG4D"
      },
      "source": [
        "### Eliminando columnas del DataFrame"
      ]
    },
    {
      "cell_type": "code",
      "metadata": {
        "id": "XCEwPQFmnMHo"
      },
      "source": [
        "bitcoin.drop(\"Volume\", axis=1, inplace=True)"
      ],
      "execution_count": null,
      "outputs": []
    },
    {
      "cell_type": "code",
      "metadata": {
        "colab": {
          "base_uri": "https://localhost:8080/"
        },
        "id": "e70qQaernkC7",
        "outputId": "12a8eb42-2cd3-45ac-f09d-dabf4bcc1dfb"
      },
      "source": [
        "bitcoin.columns"
      ],
      "execution_count": null,
      "outputs": [
        {
          "output_type": "execute_result",
          "data": {
            "text/plain": [
              "Index(['High', 'Low', 'Open', 'Close', 'Adj Close'], dtype='object')"
            ]
          },
          "metadata": {
            "tags": []
          },
          "execution_count": 16
        }
      ]
    },
    {
      "cell_type": "markdown",
      "metadata": {
        "id": "kbshuJ3YaxDv"
      },
      "source": [
        "### Cambiando el nombre de una columna"
      ]
    },
    {
      "cell_type": "code",
      "metadata": {
        "id": "2Wy0LDzBa1wf"
      },
      "source": [
        "bitcoin.rename(columns={\"Adj Close\":\"Adj_Close\"}, inplace=True)"
      ],
      "execution_count": null,
      "outputs": []
    },
    {
      "cell_type": "code",
      "metadata": {
        "colab": {
          "base_uri": "https://localhost:8080/"
        },
        "id": "HbuXnj4Xa9kg",
        "outputId": "b6cebd16-b2de-4796-cca6-b2bc6e20a78b"
      },
      "source": [
        "bitcoin.columns"
      ],
      "execution_count": null,
      "outputs": [
        {
          "output_type": "execute_result",
          "data": {
            "text/plain": [
              "Index(['High', 'Low', 'Open', 'Close', 'Adj_Close'], dtype='object')"
            ]
          },
          "metadata": {
            "tags": []
          },
          "execution_count": 18
        }
      ]
    },
    {
      "cell_type": "markdown",
      "metadata": {
        "id": "sbuOf9WubPyk"
      },
      "source": [
        "### Insertando una columna"
      ]
    },
    {
      "cell_type": "code",
      "metadata": {
        "colab": {
          "base_uri": "https://localhost:8080/",
          "height": 173
        },
        "id": "Nx8xV4tHbVI_",
        "outputId": "e10a2e11-0415-43ba-89f8-0e1c9e0ac720"
      },
      "source": [
        "bitcoin.insert(0,column=\"Date\",value=bitcoin.index.values)\n",
        "bitcoin.head(3)"
      ],
      "execution_count": null,
      "outputs": [
        {
          "output_type": "execute_result",
          "data": {
            "text/html": [
              "<div>\n",
              "<style scoped>\n",
              "    .dataframe tbody tr th:only-of-type {\n",
              "        vertical-align: middle;\n",
              "    }\n",
              "\n",
              "    .dataframe tbody tr th {\n",
              "        vertical-align: top;\n",
              "    }\n",
              "\n",
              "    .dataframe thead th {\n",
              "        text-align: right;\n",
              "    }\n",
              "</style>\n",
              "<table border=\"1\" class=\"dataframe\">\n",
              "  <thead>\n",
              "    <tr style=\"text-align: right;\">\n",
              "      <th></th>\n",
              "      <th>Date</th>\n",
              "      <th>High</th>\n",
              "      <th>Low</th>\n",
              "      <th>Open</th>\n",
              "      <th>Close</th>\n",
              "      <th>Adj_Close</th>\n",
              "    </tr>\n",
              "    <tr>\n",
              "      <th>Date</th>\n",
              "      <th></th>\n",
              "      <th></th>\n",
              "      <th></th>\n",
              "      <th></th>\n",
              "      <th></th>\n",
              "      <th></th>\n",
              "    </tr>\n",
              "  </thead>\n",
              "  <tbody>\n",
              "    <tr>\n",
              "      <th>2021-01-05</th>\n",
              "      <td>2021-01-05</td>\n",
              "      <td>34437.59</td>\n",
              "      <td>30221.19</td>\n",
              "      <td>31977.04</td>\n",
              "      <td>33992.43</td>\n",
              "      <td>33992.43</td>\n",
              "    </tr>\n",
              "    <tr>\n",
              "      <th>2021-01-06</th>\n",
              "      <td>2021-01-06</td>\n",
              "      <td>36879.70</td>\n",
              "      <td>33514.04</td>\n",
              "      <td>34013.61</td>\n",
              "      <td>36824.36</td>\n",
              "      <td>36824.36</td>\n",
              "    </tr>\n",
              "    <tr>\n",
              "      <th>2021-01-07</th>\n",
              "      <td>2021-01-07</td>\n",
              "      <td>40180.37</td>\n",
              "      <td>36491.19</td>\n",
              "      <td>36833.88</td>\n",
              "      <td>39371.04</td>\n",
              "      <td>39371.04</td>\n",
              "    </tr>\n",
              "  </tbody>\n",
              "</table>\n",
              "</div>"
            ],
            "text/plain": [
              "                 Date      High       Low      Open     Close  Adj_Close\n",
              "Date                                                                    \n",
              "2021-01-05 2021-01-05  34437.59  30221.19  31977.04  33992.43   33992.43\n",
              "2021-01-06 2021-01-06  36879.70  33514.04  34013.61  36824.36   36824.36\n",
              "2021-01-07 2021-01-07  40180.37  36491.19  36833.88  39371.04   39371.04"
            ]
          },
          "metadata": {
            "tags": []
          },
          "execution_count": 19
        }
      ]
    },
    {
      "cell_type": "markdown",
      "metadata": {
        "id": "tvEjc70zybSo"
      },
      "source": [
        "### Insertando una columna con datos de otra"
      ]
    },
    {
      "cell_type": "code",
      "metadata": {
        "id": "YYoyra4vylZL"
      },
      "source": [
        "bitcoin.insert(1,column=\"Day\",value=pd.DatetimeIndex(bitcoin[\"Date\"]).day_name())\n"
      ],
      "execution_count": null,
      "outputs": []
    },
    {
      "cell_type": "markdown",
      "metadata": {
        "id": "GT4w5j_RboNl"
      },
      "source": [
        "### Reseteando el Index"
      ]
    },
    {
      "cell_type": "code",
      "metadata": {
        "colab": {
          "base_uri": "https://localhost:8080/",
          "height": 142
        },
        "id": "7xuULMA-bcQU",
        "outputId": "3566bf1f-3d92-4bf7-951e-66130b9e4459"
      },
      "source": [
        "bitcoin.reset_index(drop=True, inplace=True)\n",
        "bitcoin.head(3)"
      ],
      "execution_count": null,
      "outputs": [
        {
          "output_type": "execute_result",
          "data": {
            "text/html": [
              "<div>\n",
              "<style scoped>\n",
              "    .dataframe tbody tr th:only-of-type {\n",
              "        vertical-align: middle;\n",
              "    }\n",
              "\n",
              "    .dataframe tbody tr th {\n",
              "        vertical-align: top;\n",
              "    }\n",
              "\n",
              "    .dataframe thead th {\n",
              "        text-align: right;\n",
              "    }\n",
              "</style>\n",
              "<table border=\"1\" class=\"dataframe\">\n",
              "  <thead>\n",
              "    <tr style=\"text-align: right;\">\n",
              "      <th></th>\n",
              "      <th>Date</th>\n",
              "      <th>Day</th>\n",
              "      <th>High</th>\n",
              "      <th>Low</th>\n",
              "      <th>Open</th>\n",
              "      <th>Close</th>\n",
              "      <th>Adj_Close</th>\n",
              "    </tr>\n",
              "  </thead>\n",
              "  <tbody>\n",
              "    <tr>\n",
              "      <th>0</th>\n",
              "      <td>2021-01-05</td>\n",
              "      <td>Tuesday</td>\n",
              "      <td>34437.59</td>\n",
              "      <td>30221.19</td>\n",
              "      <td>31977.04</td>\n",
              "      <td>33992.43</td>\n",
              "      <td>33992.43</td>\n",
              "    </tr>\n",
              "    <tr>\n",
              "      <th>1</th>\n",
              "      <td>2021-01-06</td>\n",
              "      <td>Wednesday</td>\n",
              "      <td>36879.70</td>\n",
              "      <td>33514.04</td>\n",
              "      <td>34013.61</td>\n",
              "      <td>36824.36</td>\n",
              "      <td>36824.36</td>\n",
              "    </tr>\n",
              "    <tr>\n",
              "      <th>2</th>\n",
              "      <td>2021-01-07</td>\n",
              "      <td>Thursday</td>\n",
              "      <td>40180.37</td>\n",
              "      <td>36491.19</td>\n",
              "      <td>36833.88</td>\n",
              "      <td>39371.04</td>\n",
              "      <td>39371.04</td>\n",
              "    </tr>\n",
              "  </tbody>\n",
              "</table>\n",
              "</div>"
            ],
            "text/plain": [
              "        Date        Day      High       Low      Open     Close  Adj_Close\n",
              "0 2021-01-05    Tuesday  34437.59  30221.19  31977.04  33992.43   33992.43\n",
              "1 2021-01-06  Wednesday  36879.70  33514.04  34013.61  36824.36   36824.36\n",
              "2 2021-01-07   Thursday  40180.37  36491.19  36833.88  39371.04   39371.04"
            ]
          },
          "metadata": {
            "tags": []
          },
          "execution_count": 21
        }
      ]
    },
    {
      "cell_type": "markdown",
      "metadata": {
        "id": "HBjtSUwolI7t"
      },
      "source": [
        "### Insertando una columna con cálculos matemáticos"
      ]
    },
    {
      "cell_type": "code",
      "metadata": {
        "colab": {
          "base_uri": "https://localhost:8080/",
          "height": 142
        },
        "id": "NNIE_qV2lXm1",
        "outputId": "4270ce69-2bc4-4465-918a-45effc67b133"
      },
      "source": [
        "bitcoin[\"Pct_Change\"] = bitcoin.Close.pct_change()*100\n",
        "bitcoin.head(3)"
      ],
      "execution_count": null,
      "outputs": [
        {
          "output_type": "execute_result",
          "data": {
            "text/html": [
              "<div>\n",
              "<style scoped>\n",
              "    .dataframe tbody tr th:only-of-type {\n",
              "        vertical-align: middle;\n",
              "    }\n",
              "\n",
              "    .dataframe tbody tr th {\n",
              "        vertical-align: top;\n",
              "    }\n",
              "\n",
              "    .dataframe thead th {\n",
              "        text-align: right;\n",
              "    }\n",
              "</style>\n",
              "<table border=\"1\" class=\"dataframe\">\n",
              "  <thead>\n",
              "    <tr style=\"text-align: right;\">\n",
              "      <th></th>\n",
              "      <th>Date</th>\n",
              "      <th>Day</th>\n",
              "      <th>High</th>\n",
              "      <th>Low</th>\n",
              "      <th>Open</th>\n",
              "      <th>Close</th>\n",
              "      <th>Adj_Close</th>\n",
              "      <th>Pct_Change</th>\n",
              "    </tr>\n",
              "  </thead>\n",
              "  <tbody>\n",
              "    <tr>\n",
              "      <th>0</th>\n",
              "      <td>2021-01-05</td>\n",
              "      <td>Tuesday</td>\n",
              "      <td>34437.59</td>\n",
              "      <td>30221.19</td>\n",
              "      <td>31977.04</td>\n",
              "      <td>33992.43</td>\n",
              "      <td>33992.43</td>\n",
              "      <td>NaN</td>\n",
              "    </tr>\n",
              "    <tr>\n",
              "      <th>1</th>\n",
              "      <td>2021-01-06</td>\n",
              "      <td>Wednesday</td>\n",
              "      <td>36879.70</td>\n",
              "      <td>33514.04</td>\n",
              "      <td>34013.61</td>\n",
              "      <td>36824.36</td>\n",
              "      <td>36824.36</td>\n",
              "      <td>8.33</td>\n",
              "    </tr>\n",
              "    <tr>\n",
              "      <th>2</th>\n",
              "      <td>2021-01-07</td>\n",
              "      <td>Thursday</td>\n",
              "      <td>40180.37</td>\n",
              "      <td>36491.19</td>\n",
              "      <td>36833.88</td>\n",
              "      <td>39371.04</td>\n",
              "      <td>39371.04</td>\n",
              "      <td>6.92</td>\n",
              "    </tr>\n",
              "  </tbody>\n",
              "</table>\n",
              "</div>"
            ],
            "text/plain": [
              "        Date        Day      High  ...     Close  Adj_Close  Pct_Change\n",
              "0 2021-01-05    Tuesday  34437.59  ...  33992.43   33992.43         NaN\n",
              "1 2021-01-06  Wednesday  36879.70  ...  36824.36   36824.36        8.33\n",
              "2 2021-01-07   Thursday  40180.37  ...  39371.04   39371.04        6.92\n",
              "\n",
              "[3 rows x 8 columns]"
            ]
          },
          "metadata": {
            "tags": []
          },
          "execution_count": 22
        }
      ]
    },
    {
      "cell_type": "code",
      "metadata": {
        "colab": {
          "base_uri": "https://localhost:8080/",
          "height": 142
        },
        "id": "U0VLcIQLlnnH",
        "outputId": "bf1bda2c-f9b8-480f-9555-52242af54df9"
      },
      "source": [
        "bitcoin[\"Diff\"] = bitcoin.Close.diff()\n",
        "bitcoin.head(3)"
      ],
      "execution_count": null,
      "outputs": [
        {
          "output_type": "execute_result",
          "data": {
            "text/html": [
              "<div>\n",
              "<style scoped>\n",
              "    .dataframe tbody tr th:only-of-type {\n",
              "        vertical-align: middle;\n",
              "    }\n",
              "\n",
              "    .dataframe tbody tr th {\n",
              "        vertical-align: top;\n",
              "    }\n",
              "\n",
              "    .dataframe thead th {\n",
              "        text-align: right;\n",
              "    }\n",
              "</style>\n",
              "<table border=\"1\" class=\"dataframe\">\n",
              "  <thead>\n",
              "    <tr style=\"text-align: right;\">\n",
              "      <th></th>\n",
              "      <th>Date</th>\n",
              "      <th>Day</th>\n",
              "      <th>High</th>\n",
              "      <th>Low</th>\n",
              "      <th>Open</th>\n",
              "      <th>Close</th>\n",
              "      <th>Adj_Close</th>\n",
              "      <th>Pct_Change</th>\n",
              "      <th>Diff</th>\n",
              "    </tr>\n",
              "  </thead>\n",
              "  <tbody>\n",
              "    <tr>\n",
              "      <th>0</th>\n",
              "      <td>2021-01-05</td>\n",
              "      <td>Tuesday</td>\n",
              "      <td>34437.59</td>\n",
              "      <td>30221.19</td>\n",
              "      <td>31977.04</td>\n",
              "      <td>33992.43</td>\n",
              "      <td>33992.43</td>\n",
              "      <td>NaN</td>\n",
              "      <td>NaN</td>\n",
              "    </tr>\n",
              "    <tr>\n",
              "      <th>1</th>\n",
              "      <td>2021-01-06</td>\n",
              "      <td>Wednesday</td>\n",
              "      <td>36879.70</td>\n",
              "      <td>33514.04</td>\n",
              "      <td>34013.61</td>\n",
              "      <td>36824.36</td>\n",
              "      <td>36824.36</td>\n",
              "      <td>8.33</td>\n",
              "      <td>2831.93</td>\n",
              "    </tr>\n",
              "    <tr>\n",
              "      <th>2</th>\n",
              "      <td>2021-01-07</td>\n",
              "      <td>Thursday</td>\n",
              "      <td>40180.37</td>\n",
              "      <td>36491.19</td>\n",
              "      <td>36833.88</td>\n",
              "      <td>39371.04</td>\n",
              "      <td>39371.04</td>\n",
              "      <td>6.92</td>\n",
              "      <td>2546.68</td>\n",
              "    </tr>\n",
              "  </tbody>\n",
              "</table>\n",
              "</div>"
            ],
            "text/plain": [
              "        Date        Day      High  ...  Adj_Close  Pct_Change     Diff\n",
              "0 2021-01-05    Tuesday  34437.59  ...   33992.43         NaN      NaN\n",
              "1 2021-01-06  Wednesday  36879.70  ...   36824.36        8.33  2831.93\n",
              "2 2021-01-07   Thursday  40180.37  ...   39371.04        6.92  2546.68\n",
              "\n",
              "[3 rows x 9 columns]"
            ]
          },
          "metadata": {
            "tags": []
          },
          "execution_count": 23
        }
      ]
    },
    {
      "cell_type": "markdown",
      "metadata": {
        "id": "jAu_EW5umNne"
      },
      "source": [
        "### Insertando una columna con cálculos lógicos"
      ]
    },
    {
      "cell_type": "code",
      "metadata": {
        "colab": {
          "base_uri": "https://localhost:8080/",
          "height": 142
        },
        "id": "bbgZE99ymTMd",
        "outputId": "5a95b356-064c-4b96-8f46-0a44b8222eda"
      },
      "source": [
        "bitcoin[\"Eval\"] = bitcoin.eval(\"Close >= Open\")\n",
        "bitcoin.head(3)"
      ],
      "execution_count": null,
      "outputs": [
        {
          "output_type": "execute_result",
          "data": {
            "text/html": [
              "<div>\n",
              "<style scoped>\n",
              "    .dataframe tbody tr th:only-of-type {\n",
              "        vertical-align: middle;\n",
              "    }\n",
              "\n",
              "    .dataframe tbody tr th {\n",
              "        vertical-align: top;\n",
              "    }\n",
              "\n",
              "    .dataframe thead th {\n",
              "        text-align: right;\n",
              "    }\n",
              "</style>\n",
              "<table border=\"1\" class=\"dataframe\">\n",
              "  <thead>\n",
              "    <tr style=\"text-align: right;\">\n",
              "      <th></th>\n",
              "      <th>Date</th>\n",
              "      <th>Day</th>\n",
              "      <th>High</th>\n",
              "      <th>Low</th>\n",
              "      <th>Open</th>\n",
              "      <th>Close</th>\n",
              "      <th>Adj_Close</th>\n",
              "      <th>Pct_Change</th>\n",
              "      <th>Diff</th>\n",
              "      <th>Eval</th>\n",
              "    </tr>\n",
              "  </thead>\n",
              "  <tbody>\n",
              "    <tr>\n",
              "      <th>0</th>\n",
              "      <td>2021-01-05</td>\n",
              "      <td>Tuesday</td>\n",
              "      <td>34437.59</td>\n",
              "      <td>30221.19</td>\n",
              "      <td>31977.04</td>\n",
              "      <td>33992.43</td>\n",
              "      <td>33992.43</td>\n",
              "      <td>NaN</td>\n",
              "      <td>NaN</td>\n",
              "      <td>True</td>\n",
              "    </tr>\n",
              "    <tr>\n",
              "      <th>1</th>\n",
              "      <td>2021-01-06</td>\n",
              "      <td>Wednesday</td>\n",
              "      <td>36879.70</td>\n",
              "      <td>33514.04</td>\n",
              "      <td>34013.61</td>\n",
              "      <td>36824.36</td>\n",
              "      <td>36824.36</td>\n",
              "      <td>8.33</td>\n",
              "      <td>2831.93</td>\n",
              "      <td>True</td>\n",
              "    </tr>\n",
              "    <tr>\n",
              "      <th>2</th>\n",
              "      <td>2021-01-07</td>\n",
              "      <td>Thursday</td>\n",
              "      <td>40180.37</td>\n",
              "      <td>36491.19</td>\n",
              "      <td>36833.88</td>\n",
              "      <td>39371.04</td>\n",
              "      <td>39371.04</td>\n",
              "      <td>6.92</td>\n",
              "      <td>2546.68</td>\n",
              "      <td>True</td>\n",
              "    </tr>\n",
              "  </tbody>\n",
              "</table>\n",
              "</div>"
            ],
            "text/plain": [
              "        Date        Day      High  ...  Pct_Change     Diff  Eval\n",
              "0 2021-01-05    Tuesday  34437.59  ...         NaN      NaN  True\n",
              "1 2021-01-06  Wednesday  36879.70  ...        8.33  2831.93  True\n",
              "2 2021-01-07   Thursday  40180.37  ...        6.92  2546.68  True\n",
              "\n",
              "[3 rows x 10 columns]"
            ]
          },
          "metadata": {
            "tags": []
          },
          "execution_count": 24
        }
      ]
    },
    {
      "cell_type": "markdown",
      "metadata": {
        "id": "vEweA3Opn1vW"
      },
      "source": [
        "### Eliminando valores NaN"
      ]
    },
    {
      "cell_type": "code",
      "metadata": {
        "colab": {
          "base_uri": "https://localhost:8080/",
          "height": 142
        },
        "id": "wIUJxgSRn7U4",
        "outputId": "dfb9911f-f32a-4020-e8ec-52f82d83bca7"
      },
      "source": [
        "bitcoin.dropna(how=\"any\", inplace=True)\n",
        "bitcoin.head(3)"
      ],
      "execution_count": null,
      "outputs": [
        {
          "output_type": "execute_result",
          "data": {
            "text/html": [
              "<div>\n",
              "<style scoped>\n",
              "    .dataframe tbody tr th:only-of-type {\n",
              "        vertical-align: middle;\n",
              "    }\n",
              "\n",
              "    .dataframe tbody tr th {\n",
              "        vertical-align: top;\n",
              "    }\n",
              "\n",
              "    .dataframe thead th {\n",
              "        text-align: right;\n",
              "    }\n",
              "</style>\n",
              "<table border=\"1\" class=\"dataframe\">\n",
              "  <thead>\n",
              "    <tr style=\"text-align: right;\">\n",
              "      <th></th>\n",
              "      <th>Date</th>\n",
              "      <th>Day</th>\n",
              "      <th>High</th>\n",
              "      <th>Low</th>\n",
              "      <th>Open</th>\n",
              "      <th>Close</th>\n",
              "      <th>Adj_Close</th>\n",
              "      <th>Pct_Change</th>\n",
              "      <th>Diff</th>\n",
              "      <th>Eval</th>\n",
              "    </tr>\n",
              "  </thead>\n",
              "  <tbody>\n",
              "    <tr>\n",
              "      <th>1</th>\n",
              "      <td>2021-01-06</td>\n",
              "      <td>Wednesday</td>\n",
              "      <td>36879.70</td>\n",
              "      <td>33514.04</td>\n",
              "      <td>34013.61</td>\n",
              "      <td>36824.36</td>\n",
              "      <td>36824.36</td>\n",
              "      <td>8.33</td>\n",
              "      <td>2831.93</td>\n",
              "      <td>True</td>\n",
              "    </tr>\n",
              "    <tr>\n",
              "      <th>2</th>\n",
              "      <td>2021-01-07</td>\n",
              "      <td>Thursday</td>\n",
              "      <td>40180.37</td>\n",
              "      <td>36491.19</td>\n",
              "      <td>36833.88</td>\n",
              "      <td>39371.04</td>\n",
              "      <td>39371.04</td>\n",
              "      <td>6.92</td>\n",
              "      <td>2546.68</td>\n",
              "      <td>True</td>\n",
              "    </tr>\n",
              "    <tr>\n",
              "      <th>3</th>\n",
              "      <td>2021-01-08</td>\n",
              "      <td>Friday</td>\n",
              "      <td>41946.74</td>\n",
              "      <td>36838.64</td>\n",
              "      <td>39381.77</td>\n",
              "      <td>40797.61</td>\n",
              "      <td>40797.61</td>\n",
              "      <td>3.62</td>\n",
              "      <td>1426.57</td>\n",
              "      <td>True</td>\n",
              "    </tr>\n",
              "  </tbody>\n",
              "</table>\n",
              "</div>"
            ],
            "text/plain": [
              "        Date        Day      High  ...  Pct_Change     Diff  Eval\n",
              "1 2021-01-06  Wednesday  36879.70  ...        8.33  2831.93  True\n",
              "2 2021-01-07   Thursday  40180.37  ...        6.92  2546.68  True\n",
              "3 2021-01-08     Friday  41946.74  ...        3.62  1426.57  True\n",
              "\n",
              "[3 rows x 10 columns]"
            ]
          },
          "metadata": {
            "tags": []
          },
          "execution_count": 25
        }
      ]
    },
    {
      "cell_type": "code",
      "metadata": {
        "colab": {
          "base_uri": "https://localhost:8080/",
          "height": 142
        },
        "id": "jm5w_fizoF_6",
        "outputId": "60647e8d-13a8-4edd-bdf5-d6d50c7d6b2f"
      },
      "source": [
        "bitcoin.reset_index(drop=True, inplace=True)\n",
        "bitcoin.head(3)"
      ],
      "execution_count": null,
      "outputs": [
        {
          "output_type": "execute_result",
          "data": {
            "text/html": [
              "<div>\n",
              "<style scoped>\n",
              "    .dataframe tbody tr th:only-of-type {\n",
              "        vertical-align: middle;\n",
              "    }\n",
              "\n",
              "    .dataframe tbody tr th {\n",
              "        vertical-align: top;\n",
              "    }\n",
              "\n",
              "    .dataframe thead th {\n",
              "        text-align: right;\n",
              "    }\n",
              "</style>\n",
              "<table border=\"1\" class=\"dataframe\">\n",
              "  <thead>\n",
              "    <tr style=\"text-align: right;\">\n",
              "      <th></th>\n",
              "      <th>Date</th>\n",
              "      <th>Day</th>\n",
              "      <th>High</th>\n",
              "      <th>Low</th>\n",
              "      <th>Open</th>\n",
              "      <th>Close</th>\n",
              "      <th>Adj_Close</th>\n",
              "      <th>Pct_Change</th>\n",
              "      <th>Diff</th>\n",
              "      <th>Eval</th>\n",
              "    </tr>\n",
              "  </thead>\n",
              "  <tbody>\n",
              "    <tr>\n",
              "      <th>0</th>\n",
              "      <td>2021-01-06</td>\n",
              "      <td>Wednesday</td>\n",
              "      <td>36879.70</td>\n",
              "      <td>33514.04</td>\n",
              "      <td>34013.61</td>\n",
              "      <td>36824.36</td>\n",
              "      <td>36824.36</td>\n",
              "      <td>8.33</td>\n",
              "      <td>2831.93</td>\n",
              "      <td>True</td>\n",
              "    </tr>\n",
              "    <tr>\n",
              "      <th>1</th>\n",
              "      <td>2021-01-07</td>\n",
              "      <td>Thursday</td>\n",
              "      <td>40180.37</td>\n",
              "      <td>36491.19</td>\n",
              "      <td>36833.88</td>\n",
              "      <td>39371.04</td>\n",
              "      <td>39371.04</td>\n",
              "      <td>6.92</td>\n",
              "      <td>2546.68</td>\n",
              "      <td>True</td>\n",
              "    </tr>\n",
              "    <tr>\n",
              "      <th>2</th>\n",
              "      <td>2021-01-08</td>\n",
              "      <td>Friday</td>\n",
              "      <td>41946.74</td>\n",
              "      <td>36838.64</td>\n",
              "      <td>39381.77</td>\n",
              "      <td>40797.61</td>\n",
              "      <td>40797.61</td>\n",
              "      <td>3.62</td>\n",
              "      <td>1426.57</td>\n",
              "      <td>True</td>\n",
              "    </tr>\n",
              "  </tbody>\n",
              "</table>\n",
              "</div>"
            ],
            "text/plain": [
              "        Date        Day      High  ...  Pct_Change     Diff  Eval\n",
              "0 2021-01-06  Wednesday  36879.70  ...        8.33  2831.93  True\n",
              "1 2021-01-07   Thursday  40180.37  ...        6.92  2546.68  True\n",
              "2 2021-01-08     Friday  41946.74  ...        3.62  1426.57  True\n",
              "\n",
              "[3 rows x 10 columns]"
            ]
          },
          "metadata": {
            "tags": []
          },
          "execution_count": 26
        }
      ]
    },
    {
      "cell_type": "markdown",
      "metadata": {
        "id": "6Fr3Csz_V0lR"
      },
      "source": [
        "# Armando una función para obtener datos de otras criptomonedas"
      ]
    },
    {
      "cell_type": "code",
      "metadata": {
        "id": "dZCpWZG3Ry7C"
      },
      "source": [
        "def criptomonedas(simbolo):\n",
        "  a=data.DataReader(simbolo, start=\"2021-04-05\", data_source=\"yahoo\")\n",
        "  simbolo=pd.DataFrame(a)\n",
        "  simbolo.insert(0,column=\"Date\",value=simbolo.index.values)\n",
        "  simbolo.insert(1,column=\"Day\",value=pd.DatetimeIndex(simbolo[\"Date\"]).day_name())\n",
        "  simbolo[\"Pct_Change\"] = simbolo.Close.pct_change()*100\n",
        "  simbolo[\"Diff\"] = simbolo.Close.diff()\n",
        "  simbolo[\"Eval\"] = simbolo.eval(\"Close >= Open\")\n",
        "  simbolo.drop([\"Volume\", \"Adj Close\"], axis=1, inplace=True)\n",
        "  simbolo.dropna(how=\"any\", inplace=True)\n",
        "  simbolo.reset_index(drop=True, inplace=True)\n",
        "  return simbolo\n",
        "\n",
        "LITECOIN = criptomonedas(\"LTC-USD\")\n",
        "MONERO = criptomonedas(\"XMR-USD\")\n",
        "BINANCE = criptomonedas(\"BNB-USD\")\n",
        "AAVE = criptomonedas(\"AAVE-USD\")"
      ],
      "execution_count": null,
      "outputs": []
    },
    {
      "cell_type": "markdown",
      "metadata": {
        "id": "U95aglCFp5U6"
      },
      "source": [
        "## Litecoin\n",
        "\n"
      ]
    },
    {
      "cell_type": "code",
      "metadata": {
        "id": "yMFo_TSF1Tg0"
      },
      "source": [
        "LITECOIN[\"Name\"] = \"Litecoin\""
      ],
      "execution_count": null,
      "outputs": []
    },
    {
      "cell_type": "code",
      "metadata": {
        "colab": {
          "base_uri": "https://localhost:8080/",
          "height": 142
        },
        "id": "ASm2F6kTqHyC",
        "outputId": "6b3086ab-82a8-4532-9bc7-8bad3d31b1d8"
      },
      "source": [
        "LITECOIN.head(3)"
      ],
      "execution_count": null,
      "outputs": [
        {
          "output_type": "execute_result",
          "data": {
            "text/html": [
              "<div>\n",
              "<style scoped>\n",
              "    .dataframe tbody tr th:only-of-type {\n",
              "        vertical-align: middle;\n",
              "    }\n",
              "\n",
              "    .dataframe tbody tr th {\n",
              "        vertical-align: top;\n",
              "    }\n",
              "\n",
              "    .dataframe thead th {\n",
              "        text-align: right;\n",
              "    }\n",
              "</style>\n",
              "<table border=\"1\" class=\"dataframe\">\n",
              "  <thead>\n",
              "    <tr style=\"text-align: right;\">\n",
              "      <th></th>\n",
              "      <th>Date</th>\n",
              "      <th>Day</th>\n",
              "      <th>High</th>\n",
              "      <th>Low</th>\n",
              "      <th>Open</th>\n",
              "      <th>Close</th>\n",
              "      <th>Pct_Change</th>\n",
              "      <th>Diff</th>\n",
              "      <th>Eval</th>\n",
              "      <th>Name</th>\n",
              "    </tr>\n",
              "  </thead>\n",
              "  <tbody>\n",
              "    <tr>\n",
              "      <th>0</th>\n",
              "      <td>2021-04-05</td>\n",
              "      <td>Monday</td>\n",
              "      <td>244.52</td>\n",
              "      <td>217.63</td>\n",
              "      <td>221.61</td>\n",
              "      <td>237.66</td>\n",
              "      <td>7.51</td>\n",
              "      <td>16.60</td>\n",
              "      <td>True</td>\n",
              "      <td>Litecoin</td>\n",
              "    </tr>\n",
              "    <tr>\n",
              "      <th>1</th>\n",
              "      <td>2021-04-06</td>\n",
              "      <td>Tuesday</td>\n",
              "      <td>243.15</td>\n",
              "      <td>212.23</td>\n",
              "      <td>237.56</td>\n",
              "      <td>219.42</td>\n",
              "      <td>-7.68</td>\n",
              "      <td>-18.24</td>\n",
              "      <td>False</td>\n",
              "      <td>Litecoin</td>\n",
              "    </tr>\n",
              "    <tr>\n",
              "      <th>2</th>\n",
              "      <td>2021-04-07</td>\n",
              "      <td>Wednesday</td>\n",
              "      <td>228.35</td>\n",
              "      <td>218.08</td>\n",
              "      <td>219.85</td>\n",
              "      <td>227.00</td>\n",
              "      <td>3.45</td>\n",
              "      <td>7.58</td>\n",
              "      <td>True</td>\n",
              "      <td>Litecoin</td>\n",
              "    </tr>\n",
              "  </tbody>\n",
              "</table>\n",
              "</div>"
            ],
            "text/plain": [
              "        Date        Day    High     Low  ...  Pct_Change   Diff   Eval      Name\n",
              "0 2021-04-05     Monday  244.52  217.63  ...        7.51  16.60   True  Litecoin\n",
              "1 2021-04-06    Tuesday  243.15  212.23  ...       -7.68 -18.24  False  Litecoin\n",
              "2 2021-04-07  Wednesday  228.35  218.08  ...        3.45   7.58   True  Litecoin\n",
              "\n",
              "[3 rows x 10 columns]"
            ]
          },
          "metadata": {
            "tags": []
          },
          "execution_count": 29
        }
      ]
    },
    {
      "cell_type": "code",
      "metadata": {
        "colab": {
          "base_uri": "https://localhost:8080/"
        },
        "id": "P7WEnDIEwCnW",
        "outputId": "a8533483-9452-4fa6-d4fa-733588a92f8c"
      },
      "source": [
        "LITECOIN.shape"
      ],
      "execution_count": null,
      "outputs": [
        {
          "output_type": "execute_result",
          "data": {
            "text/plain": [
              "(53, 10)"
            ]
          },
          "metadata": {
            "tags": []
          },
          "execution_count": 30
        }
      ]
    },
    {
      "cell_type": "markdown",
      "metadata": {
        "id": "wNqYF7AMqOGP"
      },
      "source": [
        "## Monero"
      ]
    },
    {
      "cell_type": "code",
      "metadata": {
        "id": "WWWDJZEV1kTc"
      },
      "source": [
        "MONERO[\"Name\"] = \"Monero\""
      ],
      "execution_count": null,
      "outputs": []
    },
    {
      "cell_type": "code",
      "metadata": {
        "colab": {
          "base_uri": "https://localhost:8080/",
          "height": 142
        },
        "id": "wga9aj-qqQvP",
        "outputId": "39335287-0853-49e0-dc46-d7e04e9c9b73"
      },
      "source": [
        "MONERO.head(3)"
      ],
      "execution_count": null,
      "outputs": [
        {
          "output_type": "execute_result",
          "data": {
            "text/html": [
              "<div>\n",
              "<style scoped>\n",
              "    .dataframe tbody tr th:only-of-type {\n",
              "        vertical-align: middle;\n",
              "    }\n",
              "\n",
              "    .dataframe tbody tr th {\n",
              "        vertical-align: top;\n",
              "    }\n",
              "\n",
              "    .dataframe thead th {\n",
              "        text-align: right;\n",
              "    }\n",
              "</style>\n",
              "<table border=\"1\" class=\"dataframe\">\n",
              "  <thead>\n",
              "    <tr style=\"text-align: right;\">\n",
              "      <th></th>\n",
              "      <th>Date</th>\n",
              "      <th>Day</th>\n",
              "      <th>High</th>\n",
              "      <th>Low</th>\n",
              "      <th>Open</th>\n",
              "      <th>Close</th>\n",
              "      <th>Pct_Change</th>\n",
              "      <th>Diff</th>\n",
              "      <th>Eval</th>\n",
              "      <th>Name</th>\n",
              "    </tr>\n",
              "  </thead>\n",
              "  <tbody>\n",
              "    <tr>\n",
              "      <th>0</th>\n",
              "      <td>2021-04-05</td>\n",
              "      <td>Monday</td>\n",
              "      <td>277.30</td>\n",
              "      <td>260.65</td>\n",
              "      <td>264.40</td>\n",
              "      <td>271.04</td>\n",
              "      <td>2.70</td>\n",
              "      <td>7.12</td>\n",
              "      <td>True</td>\n",
              "      <td>Monero</td>\n",
              "    </tr>\n",
              "    <tr>\n",
              "      <th>1</th>\n",
              "      <td>2021-04-06</td>\n",
              "      <td>Tuesday</td>\n",
              "      <td>280.20</td>\n",
              "      <td>253.58</td>\n",
              "      <td>271.03</td>\n",
              "      <td>257.74</td>\n",
              "      <td>-4.91</td>\n",
              "      <td>-13.30</td>\n",
              "      <td>False</td>\n",
              "      <td>Monero</td>\n",
              "    </tr>\n",
              "    <tr>\n",
              "      <th>2</th>\n",
              "      <td>2021-04-07</td>\n",
              "      <td>Wednesday</td>\n",
              "      <td>272.05</td>\n",
              "      <td>251.76</td>\n",
              "      <td>257.89</td>\n",
              "      <td>270.00</td>\n",
              "      <td>4.75</td>\n",
              "      <td>12.25</td>\n",
              "      <td>True</td>\n",
              "      <td>Monero</td>\n",
              "    </tr>\n",
              "  </tbody>\n",
              "</table>\n",
              "</div>"
            ],
            "text/plain": [
              "        Date        Day    High     Low  ...  Pct_Change   Diff   Eval    Name\n",
              "0 2021-04-05     Monday  277.30  260.65  ...        2.70   7.12   True  Monero\n",
              "1 2021-04-06    Tuesday  280.20  253.58  ...       -4.91 -13.30  False  Monero\n",
              "2 2021-04-07  Wednesday  272.05  251.76  ...        4.75  12.25   True  Monero\n",
              "\n",
              "[3 rows x 10 columns]"
            ]
          },
          "metadata": {
            "tags": []
          },
          "execution_count": 32
        }
      ]
    },
    {
      "cell_type": "code",
      "metadata": {
        "colab": {
          "base_uri": "https://localhost:8080/"
        },
        "id": "myiUijV5wIby",
        "outputId": "892b9203-6915-4e10-87d5-5912cea4145a"
      },
      "source": [
        "MONERO.shape"
      ],
      "execution_count": null,
      "outputs": [
        {
          "output_type": "execute_result",
          "data": {
            "text/plain": [
              "(53, 10)"
            ]
          },
          "metadata": {
            "tags": []
          },
          "execution_count": 33
        }
      ]
    },
    {
      "cell_type": "markdown",
      "metadata": {
        "id": "EeNgZrzMqeHT"
      },
      "source": [
        "## Binance"
      ]
    },
    {
      "cell_type": "code",
      "metadata": {
        "id": "WJUbcY4X1oOk"
      },
      "source": [
        "BINANCE[\"Name\"] = \"Binance\""
      ],
      "execution_count": null,
      "outputs": []
    },
    {
      "cell_type": "code",
      "metadata": {
        "colab": {
          "base_uri": "https://localhost:8080/",
          "height": 142
        },
        "id": "UfUhEeKjqh1G",
        "outputId": "971782b1-aead-429a-eb2d-5d5abf23ad82"
      },
      "source": [
        "BINANCE.head(3)"
      ],
      "execution_count": null,
      "outputs": [
        {
          "output_type": "execute_result",
          "data": {
            "text/html": [
              "<div>\n",
              "<style scoped>\n",
              "    .dataframe tbody tr th:only-of-type {\n",
              "        vertical-align: middle;\n",
              "    }\n",
              "\n",
              "    .dataframe tbody tr th {\n",
              "        vertical-align: top;\n",
              "    }\n",
              "\n",
              "    .dataframe thead th {\n",
              "        text-align: right;\n",
              "    }\n",
              "</style>\n",
              "<table border=\"1\" class=\"dataframe\">\n",
              "  <thead>\n",
              "    <tr style=\"text-align: right;\">\n",
              "      <th></th>\n",
              "      <th>Date</th>\n",
              "      <th>Day</th>\n",
              "      <th>High</th>\n",
              "      <th>Low</th>\n",
              "      <th>Open</th>\n",
              "      <th>Close</th>\n",
              "      <th>Pct_Change</th>\n",
              "      <th>Diff</th>\n",
              "      <th>Eval</th>\n",
              "      <th>Name</th>\n",
              "    </tr>\n",
              "  </thead>\n",
              "  <tbody>\n",
              "    <tr>\n",
              "      <th>0</th>\n",
              "      <td>2021-04-05</td>\n",
              "      <td>Monday</td>\n",
              "      <td>412.26</td>\n",
              "      <td>364.13</td>\n",
              "      <td>368.10</td>\n",
              "      <td>403.59</td>\n",
              "      <td>9.74</td>\n",
              "      <td>35.82</td>\n",
              "      <td>True</td>\n",
              "      <td>Binance</td>\n",
              "    </tr>\n",
              "    <tr>\n",
              "      <th>1</th>\n",
              "      <td>2021-04-06</td>\n",
              "      <td>Tuesday</td>\n",
              "      <td>414.36</td>\n",
              "      <td>358.74</td>\n",
              "      <td>403.70</td>\n",
              "      <td>374.66</td>\n",
              "      <td>-7.17</td>\n",
              "      <td>-28.93</td>\n",
              "      <td>False</td>\n",
              "      <td>Binance</td>\n",
              "    </tr>\n",
              "    <tr>\n",
              "      <th>2</th>\n",
              "      <td>2021-04-07</td>\n",
              "      <td>Wednesday</td>\n",
              "      <td>422.47</td>\n",
              "      <td>372.52</td>\n",
              "      <td>376.27</td>\n",
              "      <td>418.04</td>\n",
              "      <td>11.58</td>\n",
              "      <td>43.38</td>\n",
              "      <td>True</td>\n",
              "      <td>Binance</td>\n",
              "    </tr>\n",
              "  </tbody>\n",
              "</table>\n",
              "</div>"
            ],
            "text/plain": [
              "        Date        Day    High     Low  ...  Pct_Change   Diff   Eval     Name\n",
              "0 2021-04-05     Monday  412.26  364.13  ...        9.74  35.82   True  Binance\n",
              "1 2021-04-06    Tuesday  414.36  358.74  ...       -7.17 -28.93  False  Binance\n",
              "2 2021-04-07  Wednesday  422.47  372.52  ...       11.58  43.38   True  Binance\n",
              "\n",
              "[3 rows x 10 columns]"
            ]
          },
          "metadata": {
            "tags": []
          },
          "execution_count": 35
        }
      ]
    },
    {
      "cell_type": "code",
      "metadata": {
        "colab": {
          "base_uri": "https://localhost:8080/"
        },
        "id": "A4WlCt9gwLKo",
        "outputId": "837f54ee-3732-474a-c510-ebea49e4ae5b"
      },
      "source": [
        "BINANCE.shape"
      ],
      "execution_count": null,
      "outputs": [
        {
          "output_type": "execute_result",
          "data": {
            "text/plain": [
              "(53, 10)"
            ]
          },
          "metadata": {
            "tags": []
          },
          "execution_count": 36
        }
      ]
    },
    {
      "cell_type": "markdown",
      "metadata": {
        "id": "IT-lEI8vqsaF"
      },
      "source": [
        "## Aave"
      ]
    },
    {
      "cell_type": "code",
      "metadata": {
        "id": "XorXg8hg1v-G"
      },
      "source": [
        "AAVE[\"Name\"] = \"Aave\""
      ],
      "execution_count": null,
      "outputs": []
    },
    {
      "cell_type": "code",
      "metadata": {
        "colab": {
          "base_uri": "https://localhost:8080/",
          "height": 142
        },
        "id": "ik5-ZH9oqyUO",
        "outputId": "429792a1-aac7-41b9-c98f-e83729d1fc04"
      },
      "source": [
        "AAVE.head(3)"
      ],
      "execution_count": null,
      "outputs": [
        {
          "output_type": "execute_result",
          "data": {
            "text/html": [
              "<div>\n",
              "<style scoped>\n",
              "    .dataframe tbody tr th:only-of-type {\n",
              "        vertical-align: middle;\n",
              "    }\n",
              "\n",
              "    .dataframe tbody tr th {\n",
              "        vertical-align: top;\n",
              "    }\n",
              "\n",
              "    .dataframe thead th {\n",
              "        text-align: right;\n",
              "    }\n",
              "</style>\n",
              "<table border=\"1\" class=\"dataframe\">\n",
              "  <thead>\n",
              "    <tr style=\"text-align: right;\">\n",
              "      <th></th>\n",
              "      <th>Date</th>\n",
              "      <th>Day</th>\n",
              "      <th>High</th>\n",
              "      <th>Low</th>\n",
              "      <th>Open</th>\n",
              "      <th>Close</th>\n",
              "      <th>Pct_Change</th>\n",
              "      <th>Diff</th>\n",
              "      <th>Eval</th>\n",
              "      <th>Name</th>\n",
              "    </tr>\n",
              "  </thead>\n",
              "  <tbody>\n",
              "    <tr>\n",
              "      <th>0</th>\n",
              "      <td>2021-04-05</td>\n",
              "      <td>Monday</td>\n",
              "      <td>414.47</td>\n",
              "      <td>381.05</td>\n",
              "      <td>398.23</td>\n",
              "      <td>383.99</td>\n",
              "      <td>-3.50</td>\n",
              "      <td>-13.93</td>\n",
              "      <td>False</td>\n",
              "      <td>Aave</td>\n",
              "    </tr>\n",
              "    <tr>\n",
              "      <th>1</th>\n",
              "      <td>2021-04-06</td>\n",
              "      <td>Tuesday</td>\n",
              "      <td>387.92</td>\n",
              "      <td>343.96</td>\n",
              "      <td>384.01</td>\n",
              "      <td>351.00</td>\n",
              "      <td>-8.59</td>\n",
              "      <td>-32.99</td>\n",
              "      <td>False</td>\n",
              "      <td>Aave</td>\n",
              "    </tr>\n",
              "    <tr>\n",
              "      <th>2</th>\n",
              "      <td>2021-04-07</td>\n",
              "      <td>Wednesday</td>\n",
              "      <td>377.93</td>\n",
              "      <td>349.12</td>\n",
              "      <td>351.39</td>\n",
              "      <td>377.93</td>\n",
              "      <td>7.67</td>\n",
              "      <td>26.94</td>\n",
              "      <td>True</td>\n",
              "      <td>Aave</td>\n",
              "    </tr>\n",
              "  </tbody>\n",
              "</table>\n",
              "</div>"
            ],
            "text/plain": [
              "        Date        Day    High     Low  ...  Pct_Change   Diff   Eval  Name\n",
              "0 2021-04-05     Monday  414.47  381.05  ...       -3.50 -13.93  False  Aave\n",
              "1 2021-04-06    Tuesday  387.92  343.96  ...       -8.59 -32.99  False  Aave\n",
              "2 2021-04-07  Wednesday  377.93  349.12  ...        7.67  26.94   True  Aave\n",
              "\n",
              "[3 rows x 10 columns]"
            ]
          },
          "metadata": {
            "tags": []
          },
          "execution_count": 38
        }
      ]
    },
    {
      "cell_type": "code",
      "metadata": {
        "colab": {
          "base_uri": "https://localhost:8080/"
        },
        "id": "HW2eDIlIwOYM",
        "outputId": "388cf4b6-d54c-4a28-ebd1-f76cb8234d87"
      },
      "source": [
        "AAVE.shape"
      ],
      "execution_count": null,
      "outputs": [
        {
          "output_type": "execute_result",
          "data": {
            "text/plain": [
              "(52, 10)"
            ]
          },
          "metadata": {
            "tags": []
          },
          "execution_count": 39
        }
      ]
    },
    {
      "cell_type": "markdown",
      "metadata": {
        "id": "iRB-ehyKv5J2"
      },
      "source": [
        "## Uniendo los DataFrame"
      ]
    },
    {
      "cell_type": "code",
      "metadata": {
        "id": "Wx3qlUjQwr0i"
      },
      "source": [
        "union = [LITECOIN,MONERO,BINANCE,AAVE] # lista con objetos"
      ],
      "execution_count": null,
      "outputs": []
    },
    {
      "cell_type": "code",
      "metadata": {
        "id": "nNCsXXKRwaAc"
      },
      "source": [
        "portafolio = pd.concat(union)"
      ],
      "execution_count": null,
      "outputs": []
    },
    {
      "cell_type": "code",
      "metadata": {
        "colab": {
          "base_uri": "https://localhost:8080/"
        },
        "id": "LjK4f0rdy_1M",
        "outputId": "6807597e-fab3-43c7-e2bd-54fafe84ca63"
      },
      "source": [
        "portafolio.shape"
      ],
      "execution_count": null,
      "outputs": [
        {
          "output_type": "execute_result",
          "data": {
            "text/plain": [
              "(211, 10)"
            ]
          },
          "metadata": {
            "tags": []
          },
          "execution_count": 42
        }
      ]
    }
  ]
}