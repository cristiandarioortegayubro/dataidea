{
  "nbformat": 4,
  "nbformat_minor": 0,
  "metadata": {
    "colab": {
      "name": "meeting_04.ipynb",
      "provenance": [],
      "collapsed_sections": [],
      "toc_visible": true,
      "authorship_tag": "ABX9TyMHSqs0ZHyKusq1EQWFCQj8",
      "include_colab_link": true
    },
    "kernelspec": {
      "name": "python3",
      "display_name": "Python 3"
    },
    "language_info": {
      "name": "python"
    }
  },
  "cells": [
    {
      "cell_type": "markdown",
      "metadata": {
        "id": "view-in-github",
        "colab_type": "text"
      },
      "source": [
        "<a href=\"https://colab.research.google.com/github/cristiandarioortegayubro/dataidea/blob/main/meeting_04.ipynb\" target=\"_parent\"><img src=\"https://colab.research.google.com/assets/colab-badge.svg\" alt=\"Open In Colab\"/></a>"
      ]
    },
    {
      "cell_type": "markdown",
      "metadata": {
        "id": "GTX990AbkZ4O"
      },
      "source": [
        "<center>\n",
        "\n",
        "![Logo.png](data:image/png;base64,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)"
      ]
    },
    {
      "cell_type": "markdown",
      "metadata": {
        "id": "LV5LZKnlpBBS"
      },
      "source": [
        "#**Operaciones lógicas - Instalación y uso de módulos**"
      ]
    },
    {
      "cell_type": "markdown",
      "metadata": {
        "id": "le2nXpaJlTWn"
      },
      "source": [
        "## Operaciones lógicas - Bucle while"
      ]
    },
    {
      "cell_type": "markdown",
      "metadata": {
        "id": "kJUNARnzxjT3"
      },
      "source": [
        "~~~\n",
        "while condicion:\n",
        "    cuerpo del bucle\n",
        "~~~\n",
        "\n",
        "La ejecución de la estructura de control while es asi:\n",
        "\n",
        "Python evalúa la condición:\n",
        "- si el resultado es Verdadero (True) se ejecuta el cuerpo del bucle. Una vez ejecutado el cuerpo del bucle, luego se repite el proceso (se evalúa de nuevo la condición y, si es cierta, se ejecuta de nuevo el cuerpo del bucle) una y otra vez mientras la condición sea cierta.\n",
        "- si el resultado es Falso (False), el cuerpo del bucle no se ejecuta y continúa la ejecución del resto del script.\n",
        "\n",
        "La variable o las variables que aparezcan en la condición se llaman variables de control. Las variables de control deben definirse antes del bucle while y modificarse en el bucle while."
      ]
    },
    {
      "cell_type": "code",
      "metadata": {
        "id": "eBwG-1PllW3l",
        "colab": {
          "base_uri": "https://localhost:8080/"
        },
        "outputId": "83044052-60bf-44d2-82f5-fd02cbf8de44"
      },
      "source": [
        "i = 1\n",
        "print(\"Comienzo del bucle while\")\n",
        "while i <= 3:\n",
        "  print(i)\n",
        "  i += 1\n",
        "print(\"Bucle while finalizado\")"
      ],
      "execution_count": 5,
      "outputs": [
        {
          "output_type": "stream",
          "text": [
            "Comienzo del bucle while\n",
            "1\n",
            "2\n",
            "3\n",
            "Bucle while finalizado\n"
          ],
          "name": "stdout"
        }
      ]
    },
    {
      "cell_type": "code",
      "metadata": {
        "colab": {
          "base_uri": "https://localhost:8080/"
        },
        "id": "HU_jI5jnKFkz",
        "outputId": "7b2e1140-6dfe-4fa0-88b4-fe075c861ef3"
      },
      "source": [
        "i = 1\n",
        "print(\"Comienzo del bucle while\")\n",
        "while i <= 60:\n",
        "  print(i)\n",
        "  i = 3 * i + 1\n",
        "print(\"Bucle while finalizado\")"
      ],
      "execution_count": 6,
      "outputs": [
        {
          "output_type": "stream",
          "text": [
            "Comienzo del bucle while\n",
            "1\n",
            "4\n",
            "13\n",
            "40\n",
            "Bucle while finalizado\n"
          ],
          "name": "stdout"
        }
      ]
    },
    {
      "cell_type": "code",
      "metadata": {
        "id": "ZPN-RFoeKQlL",
        "colab": {
          "base_uri": "https://localhost:8080/"
        },
        "outputId": "e10d7812-b91e-49a1-8ac6-c67725ef00e3"
      },
      "source": [
        "numero = int(input(\"Escriba un número positivo: \"))\n",
        "while numero < 0:\n",
        "  print(\"¡Ha escrito un número negativo! Inténtelo de nuevo\")\n",
        "  numero = int(input(\"Escriba un número positivo: \"))\n",
        "print(\"Gracias\")"
      ],
      "execution_count": 7,
      "outputs": [
        {
          "output_type": "stream",
          "text": [
            "Escriba un número positivo: -7\n",
            "¡Ha escrito un número negativo! Inténtelo de nuevo\n",
            "Escriba un número positivo: 8\n",
            "Gracias\n"
          ],
          "name": "stdout"
        }
      ]
    },
    {
      "cell_type": "code",
      "metadata": {
        "id": "s2wyy60GKmBo"
      },
      "source": [
        "# realizar una evaluación para la selección de números negativos"
      ],
      "execution_count": 8,
      "outputs": []
    },
    {
      "cell_type": "markdown",
      "metadata": {
        "id": "neLoHEc4yjuP"
      },
      "source": [
        "Bucles infinitos\n",
        "\n",
        "Si la condición del bucle se cumple siempre, el bucle no terminará nunca de ejecutarse y tendremos lo que se denomina un bucle infinito. Los bucles infinitos normalmente se deben a errores que se deben corregir.\n",
        "\n",
        "Por desgracia, es fácil programar involuntariamente un bucle infinito, por lo que es inevitable hacerlo de vez en cuando, sobre todo cuando se está aprendiendo a programar.\n",
        "\n",
        "Estos algunos ejemplos de bucles infinitos:"
      ]
    },
    {
      "cell_type": "code",
      "metadata": {
        "colab": {
          "base_uri": "https://localhost:8080/",
          "height": 412
        },
        "id": "iikKV9KRKJs7",
        "outputId": "5f086c8c-8f70-488f-8e48-8896b8d3693a"
      },
      "source": [
        "i = 1\n",
        "while i <= 10:\n",
        "  print(i, end=\" \")"
      ],
      "execution_count": 10,
      "outputs": [
        {
          "output_type": "stream",
          "text": [
            "1 1 1 1 1 1 1 1 1 1 1 1 1 1 1 1 1 1 1 1 1 1 1 1 1 1 1 1 1 1 1 1 1 1 1 1 1 1 1 1 1 1 1 1 1 1 1 1 1 1 1 1 1 1 1 1 1 1 1 1 1 1 1 1 1 1 1 1 1 1 1 1 1 1 1 1 1 1 1 1 1 1 1 1 1 1 1 1 1 1 1 1 1 1 1 1 1 1 1 1 1 1 1 1 1 1 1 1 1 1 1 1 1 1 1 1 1 1 1 1 1 1 1 1 1 1 1 1 1 1 1 1 1 1 1 1 1 1 1 1 1 1 1 1 1 1 1 1 1 1 1 1 1 1 1 1 1 1 1 1 1 1 1 1 1 1 1 1 1 1 1 1 1 1 1 1 1 1 1 1 1 1 1 1 1 1 1 1 1 1 1 1 1 1 1 1 1 1 1 1 1 1 1 1 1 1 1 1 1 1 1 1 1 1 1 1 1 1 1 1 1 1 1 1 1 1 1 1 1 1 1 1 1 1 1 1 1 1 1 1 1 1 1 1 1 1 1 1 1 1 1 1 1 1 1 1 1 1 1 1 1 1 1 1 1 1 1 1 1 1 1 1 1 1 1 1 1 1 1 1 1 1 1 1 1 1 1 1 1 1 1 1 1 1 1 1 1 1 1 1 1 1 1 1 1 1 1 1 1 1 1 1 1 1 1 1 1 1 1 1 1 1 1 1 1 1 1 1 1 1 1 1 1 1 1 1 1 1 1 1 1 1 1 1 1 1 1 1 1 1 1 1 1 1 1 1 1 1 1 1 1 1 1 1 1 1 1 1 1 1 1 1 1 1 1 1 1 1 1 1 1 1 1 1 1 1 1 1 1 1 1 1 1 1 1 1 1 1 1 1 1 1 1 1 1 1 1 1 1 1 1 1 1 1 1 1 1 1 1 1 1 1 1 1 1 1 1 1 1 1 1 1 1 1 1 1 1 1 1 1 1 1 1 1 1 1 1 1 1 1 1 1 1 1 1 1 1 1 1 1 1 1 1 1 1 1 1 1 1 1 1 1 1 1 1 1 1 1 1 1 1 1 1 1 1 1 1 1 1 1 1 1 1 1 1 1 1 1 1 1 1 1 1 1 1 1 1 1 1 1 1 1 1 1 1 1 1 1 1 1 1 1 1 1 1 1 1 1 1 1 1 1 1 1 1 1 1 1 1 1 1 1 1 1 1 1 1 1 1 1 1 1 1 1 1 1 1 1 1 1 1 1 1 1 1 1 1 1 1 1 1 1 1 1 1 1 1 1 1 1 1 1 1 1 1 1 1 1 1 1 1 1 1 1 1 1 1 1 1 1 1 1 1 1 1 1 1 1 1 1 1 1 1 1 1 1 1 1 1 1 1 1 1 1 1 1 1 1 1 1 1 1 1 1 1 1 1 1 1 1 1 1 1 1 1 1 1 1 1 1 1 1 1 1 1 1 1 1 1 1 1 1 1 1 1 1 1 1 1 1 1 1 1 1 1 1 1 1 1 1 1 1 1 1 1 1 1 1 1 1 1 1 1 1 1 1 1 1 1 1 1 1 1 1 1 1 1 1 1 1 1 1 1 1 1 1 1 1 1 1 1 1 1 1 1 1 1 1 1 1 1 1 1 1 1 1 1 1 1 1 1 1 1 1 1 1 1 1 1 1 1 1 1 1 1 1 1 1 1 1 1 1 1 1 1 1 1 1 1 1 1 1 1 1 1 1 1 1 1 1 1 1 1 1 1 1 1 1 1 1 1 1 1 1 1 1 1 1 1 1 1 1 1 1 1 1 1 1 1 1 1 1 1 1 1 1 1 1 1 1 1 1 1 1 1 1 1 1 1 1 1 1 1 1 1 1 1 1 1 1 1 1 1 1 1 1 1 1 1 1 1 1 1 1 1 1 1 1 1 1 1 1 1 1 1 1 1 1 1 1 1 1 1 1 1 1 1 1 1 1 1 1 1 1 1 1 1 1 1 1 1 1 1 1 1 1 1 1 1 1 1 1 1 1 1 1 1 1 1 1 1 1 1 1 1 1 1 1 1 1 1 1 1 1 1 1 1 1 1 1 1 1 1 1 1 1 1 1 1 1 1 1 1 1 1 1 1 1 1 1 1 1 1 1 1 1 1 1 1 1 1 1 1 1 1 1 1 1 1 1 1 1 1 1 1 1 1 1 1 1 1 1 1 1 1 1 1 1 1 1 1 1 1 1 1 1 1 1 1 1 1 1 1 1 1 1 1 1 1 1 1 1 1 1 1 1 1 1 1 1 1 1 1 1 1 1 1 1 1 1 1 1 1 1 1 1 1 1 1 1 1 1 1 1 1 1 1 1 1 1 1 1 1 1 1 1 1 1 1 1 1 1 1 1 1 1 1 1 1 1 1 1 1 1 1 1 1 1 1 1 1 1 1 1 1 1 1 1 1 1 1 1 1 1 1 1 1 1 1 1 1 1 1 1 1 1 1 1 1 1 1 1 1 1 1 1 1 1 1 1 1 1 1 1 1 1 1 1 1 1 1 1 1 1 1 1 1 1 1 1 1 1 1 1 1 1 1 1 1 1 1 1 1 1 1 1 1 1 1 1 1 1 1 1 1 1 1 1 1 1 1 1 1 1 1 1 1 1 1 1 1 1 1 1 1 1 1 1 1 1 1 1 1 1 1 1 1 1 1 1 1 1 1 1 1 1 1 1 1 1 1 1 1 1 1 1 1 1 1 1 1 1 1 1 1 1 1 1 1 1 1 1 1 1 1 1 1 1 1 1 1 1 1 1 1 1 1 1 1 1 1 1 1 1 1 1 1 1 1 1 1 1 1 1 1 1 1 1 1 1 1 1 1 1 1 1 1 1 1 1 1 1 1 1 1 1 1 1 1 1 1 1 1 1 1 1 1 1 1 1 1 1 1 1 1 1 1 1 1 1 1 1 1 1 1 1 1 1 1 1 1 1 1 1 1 1 1 1 1 1 1 1 1 1 1 1 1 1 1 1 1 1 1 1 1 1 1 1 1 1 1 1 1 1 1 1 1 1 1 1 1 1 1 1 1 1 1 1 1 1 1 1 1 1 1 1 1 1 1 1 1 1 1 1 1 1 1 1 1 1 1 1 1 1 1 1 1 1 1 1 1 1 1 1 1 1 1 1 1 1 1 1 1 1 1 1 1 1 1 1 1 1 1 1 1 1 1 1 1 1 1 1 1 1 1 1 1 1 1 1 1 1 1 1 1 1 1 1 1 1 1 1 1 1 1 1 1 1 1 1 1 1 1 1 1 1 1 1 1 1 1 1 1 1 1 1 1 1 1 1 1 1 1 1 1 1 1 1 1 1 1 1 1 1 1 1 1 1 1 1 1 1 1 1 1 1 1 1 1 1 1 1 1 1 1 1 1 1 1 1 1 1 1 1 1 1 1 1 1 1 1 1 1 1 1 1 1 1 1 1 1 1 1 1 1 1 1 1 1 1 1 1 1 1 1 1 1 1 1 1 1 1 1 1 1 1 1 1 1 1 1 1 1 1 1 1 1 1 1 1 1 1 1 1 1 1 1 1 1 1 1 1 1 1 1 1 1 1 1 1 1 1 1 1 1 1 1 1 1 1 1 1 1 1 1 1 1 1 1 1 1 1 1 1 1 1 1 1 1 1 1 1 1 1 1 1 1 1 1 1 1 1 1 1 1 1 1 1 1 1 1 1 1 1 1 1 1 1 1 1 1 1 1 1 1 1 1 1 1 1 1 1 1 1 1 1 1 1 1 1 1 1 1 1 1 1 1 1 1 1 1 1 1 1 1 1 1 1 1 1 1 1 1 1 1 1 1 1 1 1 1 1 1 1 1 1 1 1 1 1 1 1 1 1 1 1 1 1 1 1 1 1 1 1 1 1 1 1 1 1 1 1 1 1 1 1 1 1 1 1 1 1 1 1 1 1 1 1 1 1 1 1 1 1 1 1 1 1 1 1 1 1 1 1 1 1 1 1 1 1 1 1 1 1 1 1 1 1 1 1 1 1 1 1 1 1 1 1 1 1 1 1 1 1 1 1 1 1 1 1 1 1 1 1 1 1 1 1 1 1 1 1 1 1 1 1 1 1 1 1 1 1 1 1 1 1 1 1 1 1 1 1 1 1 1 1 1 1 1 1 1 1 1 1 1 1 1 1 1 1 1 1 1 1 1 1 1 1 1 1 1 1 1 1 1 1 1 1 1 1 1 1 1 1 1 1 1 1 1 1 1 1 1 1 1 1 1 1 1 1 1 1 1 1 1 1 1 1 1 1 1 1 1 1 1 1 1 1 1 1 1 1 1 1 1 1 1 1 1 1 1 1 1 1 1 1 1 1 1 1 1 1 1 1 1 1 1 1 1 1 1 1 1 1 1 1 1 1 1 1 1 1 1 1 1 1 1 1 1 1 1 1 1 1 1 1 1 1 1 1 1 1 1 1 1 1 1 1 1 1 1 1 1 1 1 1 1 1 1 1 1 1 1 1 1 1 1 1 1 1 1 1 1 1 1 1 1 1 1 1 1 1 1 1 1 1 1 1 1 1 1 1 1 1 1 1 1 1 1 1 1 1 1 1 1 1 1 1 1 1 1 1 1 1 1 1 1 1 1 1 1 1 1 1 1 1 1 1 1 1 1 1 1 1 1 1 1 1 1 1 1 1 1 1 1 1 1 1 1 1 1 1 1 1 1 1 1 1 1 1 1 1 1 1 1 1 1 1 1 1 1 1 1 1 1 1 1 1 1 1 1 1 1 1 1 1 1 1 1 1 1 1 1 1 1 1 1 1 1 1 1 1 1 1 1 1 1 1 1 1 1 1 1 1 1 1 1 1 1 1 1 1 1 1 1 1 1 1 1 1 1 1 1 1 1 1 1 1 1 1 1 1 1 1 1 1 1 1 1 1 1 1 1 1 1 1 1 1 1 1 1 1 1 1 1 1 1 1 1 1 1 1 1 1 1 1 1 1 1 1 1 1 1 1 1 1 1 1 1 1 1 1 1 1 1 1 1 1 1 1 1 1 1 1 1 1 1 1 1 1 1 1 1 1 1 1 1 1 1 1 1 1 1 1 1 1 1 1 1 1 1 1 1 1 1 1 1 1 1 1 1 1 1 1 1 1 1 1 1 1 1 1 1 1 1 1 1 1 1 1 1 1 1 1 1 1 1 1 1 1 1 1 1 1 1 1 1 1 1 1 1 1 1 1 1 1 1 1 1 1 1 1 1 1 1 1 1 1 1 1 1 1 1 1 1 1 1 1 1 1 1 1 1 1 1 1 1 1 1 1 1 1 1 1 1 1 1 1 1 1 1 1 1 1 1 1 1 1 1 1 1 1 1 1 1 1 1 1 1 1 1 1 1 1 1 1 1 1 1 1 1 1 1 1 1 1 1 1 1 1 1 1 1 1 1 1 1 1 1 1 1 1 1 1 1 1 1 1 1 1 1 1 1 1 1 1 1 1 1 1 1 1 1 1 1 1 1 1 1 1 1 1 1 1 1 1 1 1 1 1 1 1 1 1 1 1 1 1 1 1 1 1 1 1 1 1 1 1 1 1 1 1 1 1 1 1 1 1 1 1 1 1 1 1 1 1 1 1 1 1 1 1 1 1 1 1 1 1 1 1 1 1 1 1 1 1 1 1 1 1 1 1 1 1 1 1 1 1 1 1 1 1 1 1 1 1 1 1 1 1 1 1 1 1 1 1 1 1 1 1 1 1 1 1 1 1 1 1 1 1 1 1 1 1 1 1 1 1 1 1 1 1 1 1 1 1 1 1 1 1 1 1 1 1 1 1 1 1 1 1 1 1 1 1 1 1 1 1 1 1 1 1 1 1 1 1 1 1 1 1 1 1 1 1 1 1 1 1 1 1 1 1 1 1 1 1 1 1 1 1 1 1 1 1 1 1 1 1 1 1 1 1 1 1 1 1 1 1 1 1 1 1 1 1 1 1 1 1 1 1 1 1 1 1 1 1 1 1 1 1 1 1 1 1 1 1 1 1 1 1 1 1 1 1 1 1 1 1 1 1 1 1 1 1 1 1 1 1 1 1 1 1 1 1 1 1 1 1 1 1 1 1 1 1 1 1 1 1 1 1 1 1 1 1 1 1 1 1 1 1 1 1 1 1 1 1 1 1 1 1 1 1 1 1 1 1 1 1 1 1 1 1 1 1 1 1 1 1 1 1 1 1 1 1 1 1 1 1 1 1 1 1 1 1 1 1 1 1 1 1 1 1 1 1 1 1 1 1 1 1 1 1 1 1 1 1 1 1 1 1 1 1 1 1 1 1 1 1 1 1 1 1 1 1 1 1 1 1 1 1 1 1 1 1 1 1 1 1 1 1 1 1 1 1 1 1 1 1 1 1 1 1 1 1 1 1 1 1 1 1 1 1 1 1 1 1 1 1 1 1 1 1 1 1 1 1 1 1 1 1 1 1 1 1 1 1 1 1 1 1 1 1 1 1 1 1 1 1 1 1 1 1 1 1 1 1 1 1 1 1 1 1 1 1 1 1 1 1 1 1 1 1 1 1 1 1 1 1 1 1 1 1 1 1 1 1 1 1 1 1 1 1 1 1 1 1 1 1 1 1 1 1 1 1 1 1 1 1 1 1 1 1 1 1 1 1 1 1 1 1 1 1 1 1 1 1 1 1 1 1 1 1 1 1 1 1 1 1 1 1 1 1 1 1 1 1 1 1 1 1 1 1 1 1 1 1 1 1 1 1 1 1 1 1 1 1 1 1 1 1 1 1 1 1 1 1 1 1 1 1 1 1 1 1 1 1 1 1 1 1 1 1 1 1 1 1 1 1 1 1 1 1 1 1 1 1 1 1 1 1 1 1 1 1 1 1 1 1 1 1 1 1 1 1 1 1 1 1 1 1 1 1 1 1 1 1 1 1 1 1 1 1 1 1 1 1 1 1 1 1 1 1 1 1 1 1 1 1 1 1 1 1 1 1 1 1 1 1 1 1 1 1 1 1 1 1 1 1 1 1 1 1 1 1 1 1 1 1 1 1 1 1 1 1 1 1 1 1 1 1 1 1 1 1 1 1 1 1 1 1 1 1 1 1 1 1 1 1 1 1 1 1 1 1 1 1 1 1 1 1 1 1 1 1 1 1 1 1 1 1 1 1 1 1 1 1 1 1 1 1 1 1 1 1 1 1 1 1 1 1 1 1 1 1 1 1 1 1 1 1 1 1 1 1 1 1 1 1 1 1 1 1 1 1 1 1 1 1 1 1 1 1 1 1 1 1 1 1 1 1 1 1 1 1 1 1 1 1 1 1 1 1 1 1 1 1 1 1 1 1 1 1 1 1 1 1 1 1 1 1 1 1 1 1 1 1 1 1 1 1 1 1 1 1 1 1 1 1 1 1 1 1 1 1 1 1 1 1 1 1 1 1 1 1 1 1 1 1 1 1 1 1 1 1 1 1 1 1 1 1 1 1 1 1 1 1 1 1 1 1 1 1 1 1 1 1 1 1 1 1 1 1 1 1 1 1 1 1 1 1 1 1 1 1 1 1 1 1 1 1 1 1 1 1 1 1 1 1 1 1 1 1 1 1 1 1 1 1 1 1 1 1 1 1 1 1 1 1 1 1 1 1 1 1 1 1 1 1 1 1 1 1 1 1 1 1 1 1 1 1 1 1 1 1 1 1 1 1 1 1 1 1 1 1 1 1 1 1 1 1 1 1 1 1 1 1 1 1 1 1 1 1 1 1 1 1 1 1 1 1 1 1 1 1 1 1 1 1 1 1 1 1 1 1 1 1 1 1 1 1 1 1 1 1 1 1 1 1 1 1 1 1 1 1 1 1 1 1 1 1 1 1 1 1 1 1 1 1 1 1 1 1 1 1 1 1 1 1 1 1 1 1 1 1 1 1 1 1 1 1 1 1 1 1 1 1 1 1 1 1 1 1 1 1 1 1 1 1 1 1 1 1 1 1 1 1 1 1 1 1 1 1 1 1 1 1 1 1 1 1 1 1 1 1 1 1 1 1 1 1 1 1 1 1 1 1 1 1 1 1 1 1 1 1 1 1 1 1 1 1 1 1 1 1 1 1 1 1 1 1 1 1 1 1 1 1 1 1 1 1 1 1 1 1 1 1 1 1 1 1 1 1 1 1 1 1 1 1 1 1 1 1 1 1 1 1 1 1 1 1 1 1 1 1 1 1 1 1 1 1 1 1 1 1 1 1 1 1 1 1 1 1 1 1 1 1 1 1 1 1 1 1 1 1 1 1 1 1 1 1 1 1 1 1 1 1 1 1 1 1 1 1 1 1 1 1 1 1 1 1 1 1 1 1 1 1 1 1 1 1 1 1 1 1 1 1 1 1 1 1 1 1 1 1 1 1 1 1 1 1 1 1 1 1 1 1 1 1 1 1 1 1 1 1 1 1 1 1 1 1 1 1 1 1 1 1 1 1 1 1 1 1 1 1 1 1 1 1 1 1 1 1 1 1 1 1 1 1 1 1 1 1 1 1 1 1 1 1 1 1 1 1 1 1 1 1 1 1 1 1 1 1 1 1 1 1 1 1 1 1 1 1 1 1 1 1 1 1 1 1 1 1 1 1 1 1 1 1 1 1 1 1 1 1 1 1 1 1 1 1 1 1 1 1 1 1 1 1 1 1 1 1 1 1 1 1 1 1 1 1 1 1 1 1 1 1 1 1 1 1 1 1 1 1 1 1 1 1 1 1 1 1 1 1 1 1 1 1 1 1 1 1 1 1 1 1 1 1 1 1 1 1 1 1 1 1 1 1 1 1 1 1 1 1 1 1 1 1 1 1 1 1 1 1 1 1 1 1 1 1 1 1 1 1 1 1 1 1 1 1 1 1 1 1 1 1 1 1 1 1 1 1 1 1 1 1 1 1 1 1 1 1 1 1 1 1 1 1 1 1 1 1 1 1 1 1 1 1 1 1 1 1 1 1 1 1 1 1 1 1 1 1 1 1 1 1 1 1 1 1 1 1 1 1 1 1 1 1 1 1 1 1 1 1 1 1 1 1 1 1 1 1 1 1 1 1 1 1 1 1 1 1 1 1 1 1 1 1 1 1 1 1 1 1 1 1 1 1 1 1 1 1 1 1 1 1 1 1 1 1 1 1 1 1 1 1 1 1 1 1 1 1 1 1 1 1 1 1 1 1 1 1 1 1 1 1 1 1 1 1 1 1 1 1 1 1 1 1 1 1 1 1 1 1 1 1 1 1 1 1 1 1 1 1 1 1 1 1 1 1 1 1 1 1 1 1 1 1 1 1 1 1 1 1 1 1 1 1 1 1 1 1 1 1 1 1 1 1 1 1 1 1 1 1 1 1 1 1 1 1 1 1 1 1 1 1 1 1 1 1 1 1 1 1 1 1 1 1 1 1 1 1 1 1 1 1 1 1 1 1 1 1 1 1 1 1 1 1 1 1 1 1 1 1 1 1 1 1 1 1 1 1 1 1 1 1 1 1 1 1 1 1 1 1 1 1 1 1 1 1 1 1 1 1 1 1 1 1 1 1 1 1 1 1 1 1 1 1 1 1 1 1 1 1 1 1 1 1 1 1 1 1 1 1 1 1 1 1 1 1 1 1 1 1 1 1 1 1 1 1 1 1 1 1 1 1 1 1 1 1 1 1 1 1 1 1 1 1 1 1 1 1 1 1 1 1 1 1 1 1 1 1 1 1 1 1 1 1 1 1 1 1 1 1 1 1 1 1 1 1 1 1 1 1 1 1 1 1 1 1 1 1 1 1 1 1 1 1 1 1 1 1 1 1 1 1 1 1 1 1 1 1 1 1 1 1 1 1 1 1 1 1 1 1 1 1 1 1 1 1 1 1 1 1 1 1 1 1 1 1 1 1 1 1 1 1 1 1 1 1 1 1 1 1 1 1 1 1 1 1 1 1 1 1 1 1 1 1 1 1 1 1 1 1 1 1 1 1 1 1 1 1 1 1 1 1 1 1 1 1 1 1 1 1 1 1 1 1 1 1 1 1 1 1 1 1 1 1 1 1 1 1 1 1 1 1 1 1 1 1 1 1 1 1 1 1 1 1 1 1 1 1 1 1 1 1 1 1 1 1 1 1 1 1 1 1 1 1 1 1 1 1 1 1 1 1 1 1 1 1 1 1 1 1 1 1 1 1 1 1 1 1 1 1 1 1 1 1 1 1 1 1 1 1 1 1 1 1 1 1 1 1 1 1 1 1 1 1 1 1 1 1 1 1 1 1 1 1 1 1 1 1 1 1 1 1 1 1 1 1 1 1 1 1 1 1 1 1 1 1 1 1 1 1 1 1 1 1 1 1 1 1 1 1 1 1 1 1 1 1 1 1 1 1 1 1 1 1 1 1 1 1 1 1 1 1 1 1 1 1 1 1 1 1 1 1 1 1 1 1 1 1 1 1 1 1 1 1 1 1 1 1 1 1 1 1 1 1 1 1 1 1 1 1 1 1 1 1 1 1 1 1 1 1 1 1 1 1 1 1 1 1 1 1 1 1 1 1 1 1 1 1 1 1 1 1 1 1 1 1 1 1 1 1 1 1 1 1 1 1 1 1 1 1 1 1 1 1 1 1 1 1 1 1 1 1 1 1 1 1 1 1 1 1 1 1 1 1 1 1 1 1 1 1 1 1 1 1 1 1 1 1 1 1 1 1 1 1 1 1 1 1 1 1 1 1 1 1 1 1 1 1 1 1 1 1 1 1 1 1 1 1 1 1 1 1 1 1 1 1 1 1 1 1 1 1 1 1 1 1 1 1 1 1 1 1 1 1 1 1 1 1 1 1 1 1 1 1 1 1 1 1 1 1 1 1 1 1 1 1 1 1 1 1 1 1 1 1 1 1 1 1 1 1 1 1 1 1 1 1 1 1 1 1 1 1 1 1 1 1 1 1 1 1 1 1 1 1 1 1 1 1 1 1 1 1 1 1 1 1 1 1 1 1 1 1 1 1 1 1 1 1 1 1 1 1 1 1 1 1 1 1 1 1 1 1 1 1 1 1 1 1 1 1 1 1 1 1 1 1 1 1 1 1 1 1 1 1 1 1 1 1 1 1 1 1 1 1 1 1 1 1 1 1 1 1 1 1 1 1 1 1 1 1 1 1 1 1 1 1 1 1 1 1 1 1 1 1 1 1 1 1 1 1 1 1 1 1 1 1 1 1 1 1 1 1 1 1 1 1 1 1 1 1 1 1 1 1 1 1 1 1 1 1 1 1 1 1 1 1 1 1 1 1 1 1 1 1 1 1 1 1 1 1 1 1 1 1 1 1 1 1 1 1 1 1 1 1 1 1 1 1 1 1 1 1 1 1 1 1 1 1 1 1 1 1 1 1 1 1 1 1 1 1 1 1 1 1 1 1 1 1 1 1 1 1 1 1 1 1 1 1 1 1 1 1 1 1 1 1 1 1 1 1 1 1 1 1 1 1 1 1 1 1 1 1 1 1 1 1 1 1 1 1 1 1 1 1 1 1 1 1 1 1 1 1 1 1 1 1 1 1 1 1 1 1 1 1 1 1 1 1 1 1 1 1 1 1 1 1 1 1 1 1 1 1 1 1 1 1 1 1 1 1 1 1 1 1 1 1 1 1 1 1 1 1 1 1 1 1 1 1 1 1 1 1 1 1 1 1 1 1 1 1 1 1 1 1 1 1 1 1 1 1 1 1 1 1 1 1 1 1 1 1 1 1 1 1 1 1 1 1 1 1 1 1 1 1 1 1 1 1 1 1 1 1 1 1 1 1 1 1 1 1 1 1 1 1 1 1 1 1 1 1 1 1 1 1 1 1 1 1 1 1 1 1 1 1 1 1 1 1 1 1 1 1 1 1 1 1 1 1 1 1 1 1 1 1 1 1 1 1 1 1 1 1 1 1 1 1 1 1 1 1 1 1 1 1 1 1 1 1 1 1 1 1 1 1 1 1 1 1 1 1 1 1 1 1 1 1 1 1 1 1 1 1 1 1 1 1 1 1 1 1 1 1 1 1 1 1 1 1 1 1 1 1 1 1 1 1 1 1 1 1 1 1 1 1 1 1 1 1 1 1 1 1 1 1 1 1 1 1 1 1 1 1 1 1 1 1 1 1 1 1 1 1 1 1 1 1 1 1 1 1 1 1 1 1 1 1 1 1 1 1 1 1 1 1 1 1 1 1 1 1 1 1 1 1 1 1 1 1 1 1 1 1 1 1 1 1 1 1 1 1 1 1 1 1 1 1 1 1 1 1 1 1 1 1 1 1 1 1 1 1 1 1 1 1 1 1 1 1 1 1 1 1 1 1 1 1 1 1 1 1 1 1 1 1 1 1 1 1 1 1 1 1 1 1 1 1 1 1 1 1 1 1 1 1 1 1 1 1 1 1 1 1 1 1 1 1 1 1 1 1 1 1 1 1 1 1 1 1 1 1 1 1 1 1 1 1 1 1 1 1 1 1 1 1 1 1 1 1 1 1 1 1 1 1 1 1 1 1 1 1 1 1 1 1 1 1 1 1 1 1 1 1 1 1 1 1 1 1 1 1 1 1 1 1 1 1 1 1 1 1 1 1 1 1 1 1 1 1 1 1 1 1 1 1 1 1 1 1 1 1 1 1 1 1 1 1 1 1 1 1 1 1 1 1 1 1 1 1 1 1 1 1 1 1 1 1 1 1 1 1 1 1 1 1 1 1 1 1 1 1 1 1 1 1 1 1 1 1 1 1 1 1 1 1 1 1 1 1 1 1 1 1 1 1 1 1 1 1 1 1 1 1 1 1 1 1 1 1 1 1 1 1 1 1 1 1 1 1 1 1 1 1 1 1 1 1 1 1 1 1 1 1 1 1 1 1 1 1 1 1 1 1 1 1 1 1 1 1 1 1 1 1 1 1 1 1 1 1 1 1 1 1 1 1 1 1 1 1 1 1 1 1 1 1 1 1 1 1 1 1 1 1 1 1 1 1 1 1 1 1 1 1 1 1 1 1 1 1 1 1 1 1 1 1 1 1 1 1 1 1 1 1 1 1 1 1 1 1 1 1 1 1 1 1 1 1 1 1 1 1 1 1 1 1 1 1 1 1 1 1 1 1 1 1 1 1 1 1 1 1 1 1 1 1 1 1 1 1 1 1 1 1 1 1 1 1 1 1 1 1 1 1 1 1 1 1 1 1 1 1 1 1 1 1 1 1 1 1 1 1 1 1 1 1 1 1 1 1 1 1 1 1 1 1 1 1 1 1 1 1 1 1 1 1 1 1 1 1 1 1 1 1 1 1 1 1 1 1 1 1 1 1 1 1 1 1 1 1 1 1 1 1 1 1 1 1 1 1 1 1 1 1 1 1 1 1 1 1 1 1 1 1 1 1 1 1 1 1 1 1 1 1 1 1 1 1 1 1 1 1 1 1 1 1 1 1 1 1 1 1 1 1 1 1 1 1 1 1 1 1 1 1 1 1 1 1 1 1 1 1 1 1 1 1 1 1 1 1 1 1 1 1 1 1 1 1 1 1 1 1 1 1 1 1 1 1 1 1 1 1 1 1 1 1 1 1 1 1 1 1 1 1 1 1 1 1 1 1 1 1 1 1 1 1 1 1 1 1 1 1 1 1 1 1 1 1 1 1 1 1 1 1 1 1 1 1 1 1 1 1 1 1 1 1 1 1 1 1 1 1 1 1 1 1 1 1 1 1 1 1 1 1 1 1 1 1 1 1 1 1 1 1 1 1 1 1 1 1 1 1 1 1 1 1 1 1 1 1 1 1 1 1 1 1 1 1 1 1 1 1 1 1 1 1 1 1 1 1 1 1 1 1 1 1 1 1 1 1 1 1 1 1 1 1 1 1 1 1 1 1 1 1 1 1 1 1 1 1 1 1 1 1 1 1 1 1 1 1 1 1 1 1 1 1 1 1 1 1 1 1 1 1 1 1 1 1 1 1 1 1 1 1 1 1 1 1 1 1 1 1 1 1 1 1 1 1 1 1 1 1 1 1 1 1 1 1 1 1 1 1 1 1 1 1 1 1 1 1 1 1 1 1 1 1 1 1 1 1 1 1 1 1 1 1 1 1 1 1 1 1 1 1 1 1 1 1 1 1 1 1 1 1 1 1 1 1 1 1 1 1 1 1 1 1 1 1 1 1 1 1 1 1 1 1 1 1 1 1 1 1 1 1 1 1 1 1 1 1 1 1 1 1 1 1 1 1 1 1 1 1 1 1 1 1 1 1 1 1 1 1 1 1 1 1 1 1 1 1 1 1 1 1 1 1 1 1 1 1 1 1 1 1 1 1 1 1 1 1 1 1 1 1 1 1 1 1 1 1 1 1 1 1 1 1 1 1 1 1 1 1 1 1 1 1 1 1 1 1 1 1 1 1 1 1 1 1 1 1 1 1 1 1 1 1 1 1 1 1 1 1 1 1 1 1 1 1 1 1 1 1 1 1 1 1 1 1 1 1 1 1 1 1 1 1 1 1 1 1 1 1 1 1 1 1 1 1 1 1 1 1 1 1 1 1 1 1 1 1 1 1 1 1 1 1 1 1 1 1 1 1 1 1 1 1 1 1 1 1 1 1 1 1 1 1 1 1 1 1 1 1 1 1 1 1 1 1 1 1 1 1 1 1 1 1 1 1 1 1 1 1 1 1 1 1 1 1 1 1 1 1 1 1 1 1 1 1 1 1 1 1 1 1 1 1 1 1 1 1 1 1 1 1 1 1 1 1 1 1 1 1 1 1 1 1 1 1 1 1 1 1 1 1 1 1 1 1 1 1 1 1 1 1 1 1 1 1 1 1 1 1 1 1 1 1 1 1 1 1 1 1 1 1 1 1 1 1 1 1 1 1 1 1 1 1 1 1 1 1 1 1 1 1 1 1 1 1 1 1 1 1 1 1 1 1 1 1 1 1 1 1 1 1 1 1 1 1 1 1 1 1 1 1 1 1 1 1 1 1 1 1 1 1 1 1 1 1 1 1 1 1 1 1 1 1 1 1 1 1 1 1 1 1 1 1 1 1 1 1 1 1 1 1 1 1 1 1 1 1 1 1 1 1 1 1 1 1 1 1 1 1 1 1 1 1 1 1 1 1 1 1 1 1 1 1 1 1 1 1 1 1 1 1 1 1 1 1 1 1 1 1 1 1 1 1 1 1 1 1 1 1 1 1 1 1 1 1 1 1 1 1 1 1 1 1 1 1 1 1 1 1 1 1 1 1 1 1 1 1 1 1 1 1 1 1 1 1 1 1 1 1 1 1 1 1 1 1 1 1 1 1 1 1 1 1 1 1 1 1 1 1 1 1 1 1 1 1 1 1 1 1 1 1 1 1 1 1 1 1 1 1 1 1 1 1 1 1 1 1 1 1 1 1 1 1 1 1 1 1 1 1 1 1 1 1 1 1 1 1 1 1 1 1 1 1 1 1 1 1 1 1 1 1 1 1 1 1 1 1 1 1 1 1 1 1 1 1 1 1 1 1 1 1 1 1 1 1 1 1 1 1 1 1 1 1 1 1 1 1 1 1 1 1 1 1 1 1 1 1 1 1 1 1 1 1 1 1 1 1 1 1 1 1 1 1 1 1 1 1 1 1 1 1 1 1 1 1 1 1 1 1 1 1 1 1 1 1 1 1 1 1 1 1 1 1 1 1 1 1 1 1 1 1 1 1 1 1 1 1 1 1 1 1 1 1 1 1 1 1 1 1 1 1 1 1 1 1 1 1 1 1 1 1 1 1 1 1 1 1 1 1 1 1 1 1 1 1 1 1 1 1 1 1 1 1 1 1 1 1 1 1 1 1 1 1 1 1 1 1 1 1 1 1 1 1 1 1 1 1 1 1 1 1 1 1 1 1 1 1 1 1 1 1 1 1 1 1 1 1 1 1 1 1 1 1 1 1 1 1 1 1 1 1 1 1 1 1 1 1 1 1 1 1 1 1 1 1 1 1 1 1 1 1 1 1 1 1 1 1 1 1 1 1 1 1 1 1 1 1 1 1 1 1 1 1 1 1 1 1 1 1 1 1 1 1 1 1 1 1 1 1 1 1 1 1 1 1 1 1 1 1 1 1 1 1 1 1 1 1 1 1 1 1 1 1 1 1 1 1 1 1 1 1 1 1 1 1 1 1 1 1 1 1 1 1 1 1 1 1 1 1 1 1 1 1 1 1 1 1 1 1 1 1 1 1 1 1 1 1 1 1 1 1 1 1 1 1 1 1 1 1 1 1 1 1 1 1 1 1 1 1 1 1 1 1 1 1 1 1 1 1 1 1 1 1 1 1 1 1 1 1 1 1 1 1 1 1 1 1 1 1 1 1 1 1 1 1 1 1 1 1 1 1 1 1 1 1 1 1 1 1 1 1 1 1 1 1 1 1 1 1 1 1 1 1 1 1 1 1 1 1 1 1 1 1 1 1 1 1 1 1 1 1 1 1 1 1 1 1 1 1 1 1 1 1 1 1 1 1 1 1 1 1 1 1 1 1 1 1 1 1 1 1 1 1 1 1 1 1 1 1 1 1 1 1 1 1 1 1 1 1 1 1 1 1 1 1 1 1 1 1 1 1 1 1 1 1 1 1 1 1 1 1 1 1 1 1 1 1 1 1 1 1 1 1 1 1 1 1 1 1 1 1 1 1 1 1 1 1 1 1 1 1 1 1 1 1 1 1 1 1 1 1 1 1 1 1 1 1 1 1 1 1 1 1 1 1 1 1 1 1 1 1 1 1 1 1 1 1 1 1 1 1 1 1 1 1 1 1 1 1 1 1 1 1 1 1 1 1 1 1 1 1 1 1 1 1 1 1 1 1 1 1 1 1 1 1 1 1 1 1 1 1 1 1 1 1 1 1 1 1 1 1 1 1 1 1 1 1 1 1 1 1 1 1 1 1 1 1 1 1 1 1 1 1 1 1 1 1 1 1 1 1 1 1 1 1 1 1 1 1 1 1 1 1 1 1 1 1 1 1 1 1 1 1 1 1 1 1 1 1 1 1 1 1 1 1 1 1 1 1 1 1 1 1 1 1 1 1 1 1 1 1 1 1 1 1 1 1 1 1 1 1 1 1 1 1 1 1 1 1 1 1 1 1 1 1 1 1 1 1 1 1 1 1 1 1 1 1 1 1 1 1 1 1 1 1 1 1 1 1 1 1 1 1 1 1 1 1 1 1 1 1 1 1 1 1 1 1 1 1 1 1 1 1 1 1 1 1 1 1 1 1 1 1 1 1 1 1 1 1 1 1 1 1 1 1 1 1 1 1 1 1 1 1 1 1 1 1 1 1 1 1 1 1 1 1 1 1 1 1 1 1 1 1 1 1 1 1 1 1 1 1 1 1 1 1 1 1 1 1 1 1 1 1 1 1 1 1 1 1 1 1 1 1 1 1 1 1 1 1 1 1 1 1 1 1 1 1 1 1 1 1 1 1 1 1 1 1 1 1 1 1 1 1 1 1 1 1 1 1 1 1 1 1 1 1 1 1 1 1 1 1 1 1 1 1 1 1 1 1 1 1 1 1 1 1 1 1 1 1 1 1 1 1 1 1 1 1 1 1 1 1 1 1 1 1 1 1 1 1 1 1 1 1 1 1 1 1 1 1 1 1 1 1 1 1 1 1 1 1 1 1 1 1 1 1 1 1 1 1 1 1 1 1 1 1 1 1 1 1 1 1 1 1 1 1 1 1 1 1 1 1 1 1 1 1 1 1 1 1 1 1 1 1 1 1 1 1 1 1 1 1 1 1 1 1 1 1 1 1 1 1 1 1 1 1 1 1 1 1 1 1 1 1 1 1 1 1 1 1 1 1 1 1 1 1 1 1 1 1 1 1 1 1 1 1 1 1 1 1 1 1 1 1 1 1 1 1 1 1 1 1 1 1 1 1 1 1 1 1 1 1 1 1 1 1 1 1 1 1 1 1 1 1 1 1 1 1 1 1 1 1 1 1 1 1 1 1 1 1 1 1 1 1 1 1 1 1 1 1 1 1 1 1 1 1 1 1 1 1 1 1 1 1 1 1 1 1 1 1 1 1 1 1 1 1 1 1 1 1 1 1 1 1 1 1 1 1 1 1 1 1 1 1 1 1 1 1 1 1 1 1 1 1 1 1 1 1 1 1 1 1 1 1 1 1 1 1 1 1 1 1 1 1 1 1 1 1 1 1 1 1 1 1 1 1 1 1 1 1 1 1 1 1 1 1 1 1 1 1 1 1 1 1 1 1 1 1 1 1 1 1 1 1 1 1 1 1 1 1 1 1 1 1 1 1 1 1 1 1 1 1 1 1 1 1 1 1 1 1 1 1 1 1 1 1 1 1 1 1 1 1 1 1 1 1 1 1 1 1 1 1 1 1 1 1 1 1 1 1 1 1 1 1 1 1 1 1 1 1 1 1 1 1 1 1 1 1 1 1 1 1 1 1 1 1 1 1 1 1 1 1 1 1 1 1 1 1 1 1 1 1 1 1 1 1 1 1 1 1 1 1 1 1 1 1 1 1 1 1 1 1 1 1 1 1 1 1 1 1 1 1 1 1 1 1 1 1 1 1 1 1 1 1 1 1 1 1 1 1 1 1 1 1 1 1 1 1 1 1 1 1 1 1 1 1 1 1 1 1 1 1 1 1 1 1 1 1 1 1 1 1 1 1 1 1 1 1 1 1 1 1 1 1 1 1 1 1 1 1 1 1 1 1 1 1 1 1 1 1 1 1 1 1 1 1 1 1 1 1 1 1 1 1 1 1 1 1 1 1 1 1 1 1 1 1 1 1 1 1 1 1 1 1 1 1 1 1 1 1 1 1 1 1 1 1 1 1 1 1 1 1 1 1 1 1 1 1 1 1 1 1 1 1 1 1 1 1 1 1 1 1 1 1 1 1 1 1 1 1 1 1 1 1 1 1 1 1 1 1 1 1 1 1 1 1 1 1 1 1 1 1 1 1 1 1 1 1 1 1 1 1 1 1 1 1 1 1 1 1 1 1 1 1 1 1 1 1 1 1 1 1 1 1 1 1 1 1 1 1 1 1 1 1 1 1 1 1 1 1 1 1 1 1 1 1 1 1 1 1 1 1 1 1 1 1 1 1 1 1 1 1 1 1 1 1 1 1 1 1 1 1 1 1 1 1 1 1 1 1 1 1 1 1 1 1 1 1 1 1 1 1 1 1 1 1 1 1 1 1 1 1 1 1 1 1 1 1 1 1 1 1 1 1 1 1 1 1 1 1 1 1 1 1 1 1 1 1 1 1 1 1 1 1 1 1 1 1 1 1 1 1 1 1 1 1 1 1 1 1 1 1 1 1 1 1 1 1 1 1 1 1 1 1 1 1 1 1 1 1 1 1 1 1 1 1 1 1 1 1 1 1 1 1 1 1 1 1 1 1 1 1 1 1 1 1 1 1 1 1 1 1 1 1 1 1 1 1 1 1 1 1 1 1 1 1 1 1 1 1 1 1 1 1 1 1 1 1 1 1 1 1 1 1 1 1 1 1 1 1 1 1 1 1 1 1 1 1 1 1 1 1 1 1 1 1 1 1 1 1 1 1 1 1 1 1 1 1 1 1 1 1 1 1 1 1 1 1 1 1 1 1 1 1 1 1 1 1 1 1 1 1 1 1 1 1 1 1 1 1 1 1 1 1 1 1 1 1 1 1 1 1 1 1 1 1 1 1 1 1 1 1 1 1 1 1 1 1 1 1 1 1 1 1 1 1 1 1 1 1 1 1 1 1 1 1 1 1 1 1 1 1 1 1 1 1 1 1 1 1 1 1 1 1 1 1 1 1 1 1 1 1 1 1 1 1 1 1 1 1 1 1 1 1 1 1 1 1 1 1 1 1 1 1 1 1 1 1 1 1 1 1 1 1 1 1 1 1 1 1 1 1 1 1 1 1 1 1 1 1 1 1 1 1 1 1 1 1 1 1 1 1 1 1 1 1 1 1 1 1 1 1 1 1 1 1 1 1 1 1 1 1 1 1 1 1 1 1 1 1 1 1 1 1 1 1 1 1 1 1 1 1 1 1 1 1 1 1 1 1 1 1 1 1 1 1 1 1 1 1 1 1 1 1 1 1 1 1 1 1 1 1 1 1 1 1 1 1 1 1 1 1 1 1 1 1 1 1 1 1 1 1 1 1 1 1 1 1 1 1 1 1 1 1 1 1 1 1 1 1 1 1 1 1 1 1 1 1 1 1 1 1 1 1 1 1 1 1 1 1 1 1 1 1 1 1 1 1 1 1 1 1 1 1 1 1 1 1 1 1 1 1 1 1 1 1 1 1 1 1 1 1 1 1 1 1 1 1 1 1 1 1 1 1 1 1 1 1 1 1 1 1 1 1 1 1 1 1 1 1 1 1 1 1 1 1 1 1 1 1 1 1 1 1 1 1 1 1 1 1 1 1 1 1 1 1 1 1 1 1 1 1 1 1 1 1 1 1 1 1 1 1 1 1 1 1 1 1 1 1 1 1 1 1 1 1 1 1 1 1 1 1 1 1 1 1 1 1 1 1 1 1 1 1 1 1 1 1 1 1 1 1 1 1 1 1 1 1 1 1 1 1 1 1 1 1 1 1 1 1 1 1 1 1 1 1 1 1 1 1 1 1 1 1 1 1 1 1 1 1 1 1 1 1 1 1 1 1 1 1 1 1 1 1 1 1 1 1 1 1 1 1 1 1 1 1 1 1 1 1 1 1 1 1 1 1 1 1 1 1 1 1 1 1 1 1 1 1 1 1 1 1 1 1 1 1 1 1 1 1 1 1 1 1 1 1 1 1 1 1 1 1 1 1 1 1 1 1 1 1 1 1 1 1 1 1 1 1 1 1 1 1 1 1 1 1 1 1 1 1 1 1 1 1 1 1 1 1 1 1 1 1 1 1 1 1 1 1 1 1 1 1 1 1 1 1 1 1 1 1 1 1 1 1 1 1 1 1 1 1 1 1 1 1 1 1 1 1 1 1 1 1 1 1 1 1 1 1 1 1 1 1 1 1 1 1 1 1 1 1 1 1 1 1 1 1 1 1 1 1 1 1 1 1 1 1 1 1 1 1 1 1 1 1 1 1 1 1 1 1 1 1 1 1 1 1 1 1 1 1 1 1 1 1 1 1 1 1 1 1 1 1 1 1 1 1 1 1 1 1 1 1 1 1 1 1 1 1 1 1 1 1 1 1 1 1 1 1 1 1 1 1 1 1 1 1 1 1 1 1 1 1 1 1 1 1 1 1 1 1 1 1 1 1 1 1 1 1 1 1 1 1 1 1 1 1 1 1 1 1 1 1 1 1 1 1 1 1 1 1 1 1 1 1 1 1 1 1 1 1 1 1 1 1 1 1 1 1 1 1 1 1 1 1 1 1 1 1 1 1 1 1 1 1 1 1 1 1 1 1 1 1 1 1 1 1 1 1 1 1 1 1 1 1 1 1 1 1 1 1 1 1 1 1 1 1 1 1 1 1 1 1 1 1 1 1 1 1 1 1 1 1 1 1 1 1 1 1 1 1 1 1 1 1 1 1 1 1 1 1 1 1 1 1 1 1 1 1 1 1 1 1 1 1 1 1 1 1 1 1 1 1 1 1 1 1 1 1 1 1 1 1 1 1 1 1 1 1 1 1 1 1 1 1 1 1 1 1 1 1 1 1 1 1 1 1 1 1 1 1 1 1 1 1 1 1 1 1 1 1 1 1 1 1 1 1 1 1 1 1 1 1 1 1 1 1 1 1 1 1 1 1 1 1 1 1 1 1 1 1 1 1 1 1 1 1 1 1 1 1 1 1 1 1 1 1 1 1 1 1 1 1 1 1 1 1 1 1 1 1 1 1 1 1 1 1 1 1 1 1 1 1 1 1 1 1 1 1 1 1 1 1 1 1 1 1 1 1 1 1 1 1 1 1 1 1 1 1 1 1 1 1 1 1 1 1 1 1 1 1 1 1 1 1 1 1 1 1 1 1 1 1 1 1 1 1 1 1 1 1 1 1 1 1 1 1 1 1 1 1 1 1 1 1 1 1 1 1 1 1 1 1 1 1 1 1 1 1 1 1 1 1 1 1 1 1 1 1 1 1 1 1 1 1 1 1 1 1 1 1 1 1 1 1 1 1 1 1 1 1 1 1 1 1 1 1 1 1 1 1 1 1 1 1 1 1 1 1 1 1 1 1 1 1 1 1 1 1 1 1 1 1 1 1 1 1 1 1 1 1 1 1 1 1 1 1 1 1 1 1 1 1 1 1 1 1 1 1 1 1 1 1 1 1 1 1 1 1 1 1 1 1 1 1 1 1 1 1 1 1 1 1 1 1 1 1 1 1 1 1 1 1 1 1 1 1 1 1 1 1 1 1 1 1 1 1 1 1 1 1 1 1 1 1 1 1 1 1 1 1 1 1 1 1 1 1 1 1 1 1 1 1 1 1 1 1 1 1 1 1 1 1 1 1 1 1 1 1 1 1 1 1 1 1 1 1 1 1 1 1 1 1 1 1 1 1 1 1 1 1 1 1 1 1 1 1 1 1 1 1 1 1 1 1 1 1 1 1 1 1 1 1 1 1 1 1 1 1 1 1 1 1 1 1 1 1 1 1 1 1 1 1 1 1 1 1 1 1 1 1 1 1 1 1 1 1 1 1 1 1 1 1 1 1 1 1 1 1 1 1 1 1 1 1 1 1 1 1 1 1 1 1 1 1 1 1 1 1 1 1 1 1 1 1 1 1 1 1 1 1 1 1 1 1 1 1 1 1 1 1 1 1 1 1 1 1 1 1 1 1 1 1 1 1 1 1 1 1 1 1 1 1 1 1 1 1 1 1 1 1 1 1 1 1 1 1 1 1 1 1 1 1 1 1 1 1 1 1 1 1 1 1 1 1 1 1 1 1 1 1 1 1 1 1 1 1 1 1 1 1 1 1 1 1 1 1 1 1 1 1 1 1 1 1 1 1 1 1 1 1 1 1 1 1 1 1 1 1 1 1 1 1 1 1 1 1 1 1 1 1 1 1 1 1 1 1 1 1 1 1 1 1 1 1 1 1 1 1 1 1 1 1 1 1 1 1 1 1 1 1 1 1 1 1 1 1 1 1 1 1 1 1 1 1 1 1 1 1 1 1 1 1 1 1 1 1 1 1 1 1 1 1 1 1 1 1 1 1 1 1 1 1 1 1 1 1 1 1 1 1 1 1 1 1 1 1 1 1 1 1 1 1 1 1 1 1 1 1 1 1 1 1 1 1 1 1 1 1 1 1 1 1 1 1 1 1 1 1 1 1 1 1 1 1 1 1 1 1 1 1 1 1 1 1 1 1 1 1 1 1 1 1 1 1 1 1 1 1 1 1 1 1 1 1 1 1 1 1 1 1 1 1 1 1 1 1 1 1 1 1 1 1 1 1 1 1 1 1 1 1 1 1 1 1 1 1 1 1 1 1 1 1 1 1 1 1 1 1 1 1 1 1 1 1 1 1 1 1 1 1 1 1 1 1 1 1 1 1 1 1 1 1 1 1 1 1 1 1 1 1 1 1 1 1 1 1 1 1 1 1 1 1 1 1 1 1 1 1 1 1 1 1 1 1 1 1 1 1 1 1 1 1 1 1 1 1 1 1 1 1 1 1 1 1 1 1 1 1 1 1 1 1 1 1 1 1 1 1 1 1 1 1 1 1 1 1 1 1 1 1 1 1 1 1 1 1 1 1 1 1 1 1 1 1 1 1 1 1 1 1 1 1 1 1 1 1 1 1 1 1 1 1 1 1 1 1 1 1 1 1 1 1 1 1 1 1 1 1 1 1 1 1 1 1 1 1 1 1 1 1 1 1 1 1 1 1 1 1 1 1 1 1 1 1 1 1 1 1 1 1 1 1 1 1 1 1 1 1 1 1 1 1 1 1 1 1 1 1 1 1 1 1 1 1 1 1 1 1 1 1 1 1 1 1 1 1 1 1 1 1 1 1 1 1 1 1 1 1 1 1 1 1 1 1 1 1 1 1 1 1 1 1 1 1 1 1 1 1 1 1 1 1 1 1 1 1 1 1 1 1 1 1 1 1 1 1 1 1 1 1 1 1 1 1 1 1 1 1 1 1 1 1 1 1 1 1 1 1 1 1 1 1 1 1 1 1 1 1 1 1 1 1 1 1 1 1 1 1 1 1 1 1 1 1 1 1 1 1 1 1 1 1 1 1 1 1 1 1 1 1 1 1 1 1 1 1 1 1 1 1 1 1 1 1 1 1 1 1 1 1 1 1 1 1 1 1 1 1 1 1 1 1 1 1 1 1 1 1 1 1 1 1 1 1 1 1 1 1 1 1 1 1 1 1 1 1 1 1 1 1 1 1 1 1 1 1 1 1 1 1 1 1 1 1 1 1 1 1 1 1 1 1 1 1 1 1 1 1 1 1 1 1 1 1 1 1 1 1 1 1 1 1 1 1 1 1 1 1 1 1 1 1 1 1 1 1 1 1 1 1 1 1 1 1 1 1 1 1 1 1 1 1 1 1 1 1 1 1 1 1 1 1 1 1 1 1 1 1 1 1 1 1 1 1 1 1 1 1 1 1 1 1 1 1 1 1 1 1 1 1 1 1 1 1 1 1 1 1 1 1 1 1 1 1 1 1 1 1 1 1 1 1 1 1 1 1 1 1 1 1 1 1 1 1 1 1 1 1 1 1 1 1 1 1 1 1 1 1 1 1 1 1 1 1 1 1 1 1 1 1 1 1 1 1 1 1 1 1 1 1 1 1 1 1 1 1 1 1 1 1 1 1 1 1 1 1 1 1 1 1 1 1 1 1 1 1 1 1 1 1 1 1 1 1 1 1 1 1 1 1 1 1 1 1 1 1 1 1 1 1 1 1 1 1 1 1 1 1 1 1 1 1 1 1 1 1 1 1 1 1 1 1 1 1 1 1 1 1 1 1 1 1 1 1 1 1 1 1 1 1 1 1 1 1 1 1 1 1 1 1 1 1 1 1 1 1 1 1 1 1 1 1 1 1 1 1 1 1 1 1 1 1 1 1 1 1 1 1 1 1 1 1 1 1 1 1 1 1 1 1 1 1 1 1 1 1 1 1 1 1 1 1 1 1 1 1 1 1 1 1 1 1 1 1 1 1 1 1 1 1 1 1 1 1 1 1 1 1 1 1 1 1 1 1 1 1 1 1 1 1 1 1 1 1 1 1 1 1 1 1 1 1 1 1 1 1 1 1 1 1 1 1 1 1 1 1 1 1 1 1 1 1 1 1 1 1 1 1 1 1 1 1 1 1 1 1 1 1 1 1 1 1 1 1 1 1 1 1 1 1 1 1 1 1 1 1 1 1 1 1 1 1 1 1 1 1 1 1 1 1 1 1 1 1 1 1 1 1 1 1 1 1 1 1 1 1 1 1 1 1 1 1 1 1 1 1 1 1 1 1 1 1 1 1 1 1 1 1 1 1 1 1 1 1 1 1 1 1 1 1 1 1 1 1 1 1 1 1 1 1 1 1 1 1 1 1 1 1 1 1 1 1 1 1 1 1 1 1 1 1 1 1 1 1 1 1 1 1 1 1 1 1 1 1 1 1 1 1 1 1 1 1 1 1 1 1 1 1 1 1 1 1 1 1 1 1 1 1 1 1 1 1 1 1 1 1 1 1 1 1 1 1 1 1 1 1 1 1 1 1 1 1 1 1 1 1 1 1 1 1 1 1 1 1 1 1 1 1 1 1 1 1 1 1 1 1 1 1 1 1 1 1 1 1 1 1 1 1 1 1 1 1 1 1 1 1 1 1 1 1 1 1 1 1 1 1 1 1 1 1 1 1 1 1 1 1 1 1 1 1 1 1 1 1 1 1 1 1 1 1 1 1 1 1 1 1 1 1 1 1 1 1 1 1 1 1 1 1 1 1 1 1 1 1 1 1 1 1 1 1 1 1 1 1 1 1 1 1 1 1 1 1 1 1 1 1 1 1 1 1 1 1 1 1 1 1 1 1 1 1 1 1 1 1 1 1 1 1 1 1 1 1 1 1 1 1 1 1 1 1 1 1 1 1 1 1 1 1 1 1 1 1 1 1 1 1 1 1 1 1 1 1 1 1 1 1 1 1 1 1 1 1 1 1 1 1 1 1 1 1 1 1 1 1 1 1 1 1 1 1 1 1 1 1 1 1 1 1 1 1 1 1 1 1 1 1 1 1 1 1 1 1 1 1 1 1 1 1 1 1 1 1 1 1 1 1 1 1 1 1 1 1 1 1 1 1 1 1 1 1 1 1 1 1 1 1 1 1 1 1 1 1 1 1 1 1 1 1 1 1 1 1 1 1 1 1 1 1 1 1 1 1 1 1 1 1 1 1 1 1 1 1 1 1 1 1 1 1 1 1 1 1 1 1 1 1 1 1 1 1 1 1 1 1 1 1 1 1 1 1 1 1 1 1 1 1 1 1 1 1 1 1 1 1 1 1 1 1 1 1 1 1 1 1 1 1 1 1 1 1 1 1 1 1 1 1 1 1 1 1 1 1 1 1 1 1 1 1 1 1 1 1 1 1 1 1 1 1 1 1 1 1 1 1 1 1 1 1 1 1 1 1 1 1 1 1 1 1 1 1 1 1 1 1 1 1 1 1 1 1 1 1 1 1 1 1 1 1 1 1 1 1 1 1 1 1 1 1 1 1 1 1 1 1 1 1 1 1 1 1 1 1 1 1 1 1 1 1 1 1 1 1 1 1 1 1 1 1 1 1 1 1 1 1 1 1 1 1 1 1 1 1 1 1 1 1 1 1 1 1 1 1 1 1 1 1 1 1 1 1 1 1 1 1 1 1 1 1 1 1 1 1 1 1 1 1 1 1 1 1 1 1 1 1 1 1 1 1 1 1 1 1 1 1 1 1 1 1 1 1 1 1 1 1 1 1 1 1 1 1 1 1 1 1 1 1 1 1 1 1 1 1 1 1 1 1 1 1 1 1 1 1 1 1 1 1 1 1 1 1 1 1 1 1 1 1 1 1 1 1 1 1 1 1 1 1 1 1 1 1 1 1 1 1 1 1 1 1 1 1 1 1 1 1 1 1 1 1 1 1 1 1 1 1 1 1 1 1 1 1 1 1 1 1 1 1 1 1 1 1 1 1 1 1 1 1 1 1 1 1 1 1 1 1 1 1 1 1 1 1 1 1 1 1 1 1 1 1 1 1 1 1 1 1 1 1 1 1 1 1 1 1 1 1 1 1 1 1 1 1 1 1 1 1 1 1 1 1 1 1 1 1 1 1 1 1 1 1 1 1 1 1 1 1 1 1 1 1 1 1 1 1 1 1 1 1 1 1 1 1 1 1 1 1 1 1 1 1 1 1 1 1 1 1 1 1 1 1 1 1 1 1 1 1 1 1 1 1 1 1 1 1 1 1 1 1 1 1 1 1 1 1 1 1 1 1 1 1 1 1 1 1 1 1 1 1 1 1 1 1 1 1 1 1 1 1 1 1 1 1 1 1 1 1 1 1 1 1 1 1 1 1 1 1 1 1 1 1 1 1 1 1 1 1 1 1 1 1 1 1 1 1 1 1 1 1 1 1 1 1 1 1 1 1 1 1 1 1 1 1 1 1 1 1 1 1 1 1 1 1 1 1 1 1 1 1 1 1 1 1 1 1 1 1 1 1 1 1 1 1 1 1 1 1 1 1 1 1 1 1 1 1 1 1 1 1 1 1 1 1 1 1 1 1 1 1 1 1 1 1 1 1 1 1 1 1 1 1 1 1 1 1 1 1 1 1 1 1 1 1 1 1 1 1 1 1 1 1 1 1 1 1 1 1 1 1 1 1 1 1 1 1 1 1 1 1 1 1 1 1 1 1 1 1 1 1 1 1 1 1 1 1 1 1 1 1 1 1 1 1 1 1 1 1 1 1 1 1 1 1 1 1 1 1 1 1 1 1 1 1 1 1 1 1 1 1 1 1 1 1 1 1 1 1 1 1 1 1 1 1 1 1 1 1 1 1 1 1 1 1 1 1 1 1 1 1 1 1 1 1 1 1 1 1 1 1 1 1 1 1 1 1 1 1 1 1 1 1 1 1 1 1 1 1 1 1 1 1 1 1 1 1 1 1 1 1 1 1 1 1 1 1 1 1 1 1 1 1 1 1 1 1 1 1 1 1 1 1 1 1 1 1 1 1 1 1 1 1 1 1 1 1 1 1 1 1 1 1 1 1 1 1 1 1 1 1 1 1 1 1 1 1 1 1 1 1 1 1 1 1 1 1 1 1 1 1 1 1 1 1 1 1 1 1 1 1 1 1 1 1 1 1 1 1 1 1 1 1 1 1 1 1 1 1 1 1 1 1 1 1 1 1 1 1 1 1 1 1 1 1 1 1 1 1 1 1 1 1 1 1 1 1 1 1 1 1 1 1 1 1 1 1 1 1 1 1 1 1 1 1 1 1 1 1 1 1 1 1 1 1 1 1 1 1 1 1 1 1 1 1 1 1 1 1 1 1 1 1 1 1 1 1 1 1 1 1 1 1 1 1 1 1 1 1 1 1 1 1 1 1 1 1 1 1 1 1 1 1 1 1 1 1 1 1 1 1 1 1 1 1 1 1 1 1 1 1 1 1 1 1 1 1 1 1 1 1 1 1 1 1 1 1 1 1 1 1 1 1 1 1 1 1 1 1 1 1 1 1 1 1 1 1 1 1 1 1 1 1 1 1 1 1 1 1 1 1 1 1 1 1 1 1 1 1 1 1 1 1 1 1 1 1 1 1 1 1 1 1 1 1 1 1 1 1 1 1 1 1 1 1 1 1 1 1 1 1 1 1 1 1 1 1 1 1 1 1 1 1 1 1 1 1 1 1 1 1 1 1 1 1 1 1 1 1 1 1 1 1 1 1 1 1 1 1 1 1 1 1 1 1 1 1 1 1 1 1 1 1 1 1 1 1 1 1 1 1 1 1 1 1 1 1 1 1 1 1 1 1 1 1 1 1 1 1 1 1 1 1 1 1 1 1 1 1 1 1 1 1 1 1 1 1 1 1 1 1 1 1 1 1 1 1 1 1 1 1 1 1 1 1 1 1 1 1 1 1 1 1 1 1 1 1 1 1 1 1 1 1 1 1 1 1 1 1 1 1 1 1 1 1 1 1 1 1 1 1 1 1 1 1 1 1 1 1 1 1 1 1 1 1 1 1 1 1 1 1 1 1 1 1 1 1 1 1 1 1 1 1 1 1 1 1 1 1 1 1 1 1 1 1 1 1 1 1 1 1 1 1 1 1 1 1 1 1 1 1 1 1 1 1 1 1 1 1 1 1 1 1 1 1 1 1 1 1 1 1 1 1 1 1 1 1 1 1 1 1 1 1 1 1 1 1 1 1 1 1 1 1 1 1 1 1 1 1 1 1 1 1 1 1 1 1 1 1 1 1 1 1 1 1 1 1 1 1 1 1 1 1 1 1 1 1 1 1 1 1 1 1 1 1 1 1 1 1 1 1 1 1 1 1 1 1 1 1 1 1 1 1 1 1 1 1 1 1 1 1 1 1 1 1 1 1 1 1 1 1 1 1 1 1 1 1 1 1 1 1 1 1 1 1 1 1 1 1 1 1 1 1 1 1 1 1 1 1 1 1 1 1 1 1 1 1 1 1 1 1 1 1 1 1 1 1 1 1 1 1 1 1 1 1 1 1 1 1 1 1 1 1 1 1 1 1 1 1 1 1 1 1 1 1 1 1 1 1 1 1 1 1 1 1 1 1 1 1 1 1 1 1 1 1 1 1 1 1 1 1 1 1 1 1 1 1 1 1 1 1 1 1 1 1 1 1 1 1 1 1 1 1 1 1 1 1 1 1 1 1 1 1 1 1 1 1 1 1 1 1 1 1 1 1 1 1 1 1 1 1 1 1 1 1 1 1 1 1 1 1 1 1 1 1 1 1 1 1 1 1 1 1 1 1 1 1 1 1 1 1 1 1 1 1 1 1 1 1 1 1 1 1 1 1 1 1 1 1 1 1 1 1 1 1 1 1 1 1 1 1 1 1 1 1 1 1 1 1 1 1 1 1 1 1 1 1 1 1 1 1 1 1 1 1 1 1 1 1 1 1 1 1 1 1 1 1 1 1 1 1 1 1 1 1 1 1 1 1 1 1 1 1 1 1 1 1 1 1 1 1 1 1 1 1 1 1 1 1 1 1 1 1 1 1 1 1 1 1 1 1 1 1 1 1 1 1 1 1 1 1 1 1 1 1 1 1 1 1 1 1 1 1 1 1 1 1 1 1 1 1 1 1 1 1 1 1 1 1 1 1 1 1 1 1 1 1 1 1 1 1 1 1 1 1 1 1 1 1 1 1 1 1 1 1 1 1 1 1 1 1 1 1 1 1 1 1 1 1 1 1 1 1 1 1 1 1 1 1 1 1 1 1 1 1 1 1 1 1 1 1 1 1 1 1 1 1 1 1 1 1 1 1 1 1 1 1 1 1 1 1 1 1 1 1 1 1 1 1 1 1 1 1 1 1 1 1 1 1 1 1 1 1 1 1 1 1 1 1 1 1 1 1 1 1 1 1 1 1 1 1 1 1 1 1 1 1 1 1 1 1 1 1 1 1 1 1 1 1 1 1 1 1 1 1 1 1 1 1 1 1 1 1 1 1 1 1 1 1 1 1 1 1 1 1 1 1 1 1 1 1 1 1 1 1 1 1 1 1 1 1 1 1 1 1 1 1 1 1 1 1 1 1 1 1 1 1 1 1 1 1 1 1 1 1 1 1 1 1 1 1 1 1 1 1 1 1 1 1 1 1 1 1 1 1 1 1 1 1 1 1 1 1 1 1 1 1 1 1 1 1 1 1 1 1 1 1 1 1 1 1 1 1 1 1 1 1 1 1 1 1 1 1 1 1 1 1 1 1 1 1 1 1 1 1 1 1 1 1 1 1 1 1 1 1 1 1 1 1 1 1 1 1 1 1 1 1 1 1 1 1 1 1 1 1 1 1 1 1 1 1 1 1 1 1 1 1 1 1 1 1 1 1 1 1 1 1 1 1 1 1 1 1 1 1 1 1 1 1 1 1 1 1 1 1 1 1 1 1 1 1 1 1 1 1 1 1 1 1 1 1 1 1 1 1 1 1 1 1 1 1 1 1 1 1 1 1 1 1 1 1 1 1 1 1 1 1 1 1 1 1 1 1 1 1 1 1 1 1 1 1 1 1 1 1 1 1 1 1 1 1 1 1 1 1 1 1 1 1 1 1 1 1 1 1 1 1 1 1 1 1 1 1 1 1 1 1 1 1 1 1 1 1 1 1 1 1 1 1 1 1 1 1 1 1 1 1 1 1 1 1 1 1 1 1 1 1 1 1 1 1 1 1 1 1 1 1 1 1 1 1 1 1 1 1 1 1 1 1 1 1 1 1 1 1 1 1 1 1 1 1 1 1 1 1 1 1 1 1 1 1 1 1 1 1 1 1 1 1 1 1 1 1 1 1 1 1 1 1 1 1 1 1 1 1 1 1 1 1 1 1 1 1 1 1 1 1 1 1 1 1 1 1 1 1 1 1 1 1 1 1 1 1 1 1 1 1 1 1 1 1 1 1 1 1 1 1 1 1 1 1 1 1 1 1 1 1 1 1 1 1 1 1 1 1 1 1 1 1 1 1 1 1 1 1 1 1 1 1 1 1 1 1 1 1 1 1 1 1 1 1 1 1 1 1 1 1 1 1 1 1 1 1 1 1 1 1 1 1 1 1 1 1 1 1 1 1 1 1 1 1 1 1 1 1 1 1 1 1 1 1 1 1 1 1 1 1 1 1 1 1 1 1 1 1 1 1 1 1 1 1 1 1 1 1 1 1 1 1 1 1 1 1 1 1 1 1 1 1 1 1 1 1 1 1 1 1 1 1 1 1 1 1 1 1 1 1 1 1 1 1 1 1 1 1 1 1 1 1 1 1 1 1 1 1 1 1 1 1 1 1 1 1 1 1 1 1 1 1 1 1 1 1 1 1 1 1 1 1 1 1 1 1 1 1 1 1 1 1 1 1 1 1 1 1 1 1 1 1 1 1 1 1 1 1 1 1 1 1 1 1 1 1 1 1 1 1 1 1 1 1 1 1 1 1 1 1 1 1 1 1 1 1 1 1 1 1 1 1 1 1 1 1 1 1 1 1 1 1 1 1 1 1 1 1 1 1 1 1 1 1 1 1 1 1 1 1 1 1 1 1 1 1 1 1 1 1 1 1 1 1 1 1 1 1 1 1 1 1 1 1 1 1 1 1 1 1 1 1 1 1 1 1 1 1 1 1 1 1 1 1 1 1 1 1 1 1 1 1 1 1 1 1 1 1 1 1 1 1 1 1 1 1 1 1 1 1 1 1 1 1 1 1 1 1 1 1 1 1 1 1 1 1 1 1 1 1 1 1 1 1 1 1 1 1 1 1 1 1 1 1 1 1 1 1 1 1 1 1 1 1 1 1 1 1 1 1 1 1 1 1 1 1 1 1 1 1 1 1 1 1 1 1 1 1 1 1 1 1 1 1 1 1 1 1 1 1 1 1 1 1 1 1 1 1 1 1 1 1 1 1 1 1 1 1 1 1 1 1 1 1 1 1 1 1 1 1 1 1 1 1 1 1 1 1 1 1 1 1 1 1 1 1 1 1 1 1 1 1 1 1 1 1 1 1 1 1 1 1 1 1 1 1 1 1 1 1 1 1 1 1 1 1 1 1 1 1 1 1 1 1 1 1 1 1 1 1 1 1 1 1 1 1 1 1 1 1 1 1 1 1 1 1 1 1 1 1 1 1 1 1 1 1 1 1 1 1 1 1 1 1 1 1 1 1 1 1 1 1 1 1 1 1 1 1 1 1 1 1 1 1 1 1 1 1 1 1 1 1 1 1 1 1 1 1 1 1 1 1 1 1 1 1 1 1 1 1 1 1 1 1 1 1 1 1 1 1 1 1 1 1 1 1 1 1 1 1 1 1 1 1 1 1 1 1 1 1 1 1 1 1 1 1 1 1 1 1 1 1 1 1 1 1 1 1 1 1 1 1 1 1 1 1 1 1 1 1 1 1 1 1 1 1 1 1 1 1 1 1 1 1 1 1 1 1 1 1 1 1 1 1 1 1 1 1 1 1 1 1 1 1 1 1 1 1 1 1 1 1 1 1 1 1 1 1 1 1 1 1 1 1 1 1 1 1 1 1 1 1 1 1 1 1 1 1 1 1 1 1 1 1 1 1 1 1 1 1 1 1 1 1 1 1 1 1 1 1 1 1 1 1 1 1 1 1 1 1 1 1 1 1 1 1 1 1 1 1 1 1 1 1 1 1 1 1 1 1 1 1 1 1 1 1 1 1 1 1 1 1 1 1 1 1 1 1 1 1 1 1 1 1 1 1 1 1 1 1 1 1 1 1 1 1 1 1 1 1 1 1 1 1 1 1 1 1 1 1 1 1 1 1 1 1 1 1 1 1 1 1 1 1 1 1 1 1 1 1 1 1 1 1 1 1 1 1 1 1 1 1 1 1 1 1 1 1 1 1 1 1 1 1 1 1 1 1 1 1 1 1 1 1 1 1 1 1 1 1 1 1 1 1 1 1 1 1 1 1 1 1 1 1 1 1 1 1 1 1 1 1 1 1 1 1 1 1 1 1 1 1 1 1 1 1 1 1 1 1 1 1 1 1 1 1 1 1 1 1 1 1 1 1 1 1 1 1 1 1 1 1 1 1 1 1 1 1 1 1 1 1 1 1 1 1 1 1 1 1 1 1 1 1 1 1 1 1 1 1 1 1 1 1 1 1 1 1 1 1 1 1 1 1 1 1 1 1 1 1 1 1 1 1 1 1 1 1 1 1 1 1 1 1 1 1 1 1 1 1 1 1 1 1 1 1 1 1 1 1 1 1 1 1 1 1 1 1 1 1 1 1 1 1 1 1 1 1 1 1 1 1 1 1 1 1 1 1 1 1 1 1 1 1 1 1 1 1 1 1 1 1 1 1 1 1 1 1 1 1 1 1 1 1 1 1 1 1 1 1 1 1 1 1 1 1 1 1 1 1 1 1 1 1 1 1 1 1 1 1 1 1 1 1 1 1 1 1 1 1 1 1 1 1 1 1 1 1 1 1 1 1 1 1 1 1 1 1 1 1 1 1 1 1 1 1 1 1 1 1 1 1 1 1 1 1 1 1 1 1 1 1 1 1 1 1 1 1 1 1 1 1 1 1 1 1 1 1 1 1 1 1 1 1 1 1 1 1 1 1 1 1 1 1 1 1 1 1 1 1 1 1 1 1 1 1 1 1 1 1 1 1 1 1 1 1 1 1 1 1 1 1 1 1 1 1 1 1 1 1 1 1 1 1 1 1 1 1 1 1 1 1 1 1 1 1 1 1 1 1 1 1 1 1 1 1 1 1 1 1 1 1 1 1 1 1 1 1 1 1 1 1 1 1 1 1 1 1 1 1 1 1 1 1 1 1 1 1 1 1 1 1 1 1 1 1 1 1 1 1 1 1 1 1 1 1 1 1 1 1 1 1 1 1 1 1 1 1 1 1 1 1 1 1 1 1 1 1 1 1 1 1 1 1 1 1 1 1 1 1 1 1 1 1 1 1 1 1 1 1 1 1 1 1 1 1 1 1 1 1 1 1 1 1 1 1 1 1 1 1 1 1 1 1 1 1 1 1 1 1 1 1 1 1 1 1 1 1 1 1 1 1 1 1 1 1 1 1 1 1 1 1 1 1 1 1 1 1 1 1 1 1 1 1 1 1 1 1 1 1 1 1 1 1 1 1 1 1 1 1 1 1 1 1 1 1 1 1 1 1 1 1 1 1 1 1 1 1 1 1 1 1 1 1 1 1 1 1 1 1 1 1 1 1 1 1 1 1 1 1 1 1 1 1 1 1 1 1 1 1 1 1 1 1 1 1 1 1 1 1 1 1 1 1 1 1 1 1 1 1 1 1 1 1 1 1 1 1 1 1 1 1 1 1 1 1 1 1 1 1 1 1 1 1 1 1 1 1 1 1 1 1 1 1 1 1 1 1 1 1 1 1 1 1 1 1 1 1 1 1 1 1 1 1 1 1 1 1 1 1 1 1 1 1 1 1 1 1 1 1 1 1 1 1 1 1 1 1 1 1 1 1 1 1 1 1 1 1 1 1 1 1 1 1 1 1 1 1 1 1 1 1 1 1 1 1 1 1 1 1 1 1 1 1 1 1 1 1 1 1 1 1 1 1 1 1 1 1 1 1 1 1 1 1 1 1 1 1 1 1 1 1 1 1 1 1 1 1 1 1 1 1 1 1 1 1 1 1 1 1 1 1 1 1 1 1 1 1 1 1 1 1 1 1 1 1 1 1 1 1 1 1 1 1 1 1 1 1 1 1 1 1 1 1 1 1 1 1 1 1 1 1 1 1 1 1 1 1 1 1 1 1 1 1 1 1 1 1 1 1 1 1 1 1 1 1 1 1 1 1 1 1 1 1 1 1 1 1 1 1 1 1 1 1 1 1 1 1 1 1 1 1 1 1 1 1 1 1 1 1 1 1 1 1 1 1 1 1 1 1 1 1 1 1 1 1 1 1 1 1 1 1 1 1 1 1 1 1 1 1 1 1 1 1 1 1 1 1 1 1 1 1 1 1 1 1 1 1 1 1 1 1 1 1 1 1 1 1 1 1 1 1 1 1 1 1 1 1 1 1 1 1 1 1 1 1 1 1 1 1 1 1 1 1 1 1 1 1 1 1 1 1 1 1 1 1 1 1 1 1 1 1 1 1 1 1 1 1 1 1 1 1 1 1 1 1 1 1 1 1 1 1 1 1 1 1 1 1 1 1 1 1 1 1 1 1 1 1 1 1 1 1 1 1 1 1 1 1 1 1 1 1 1 1 1 1 1 1 1 1 1 1 1 1 1 1 1 1 1 1 1 1 1 1 1 1 1 1 1 1 1 1 1 1 1 1 1 1 1 1 1 1 1 1 1 1 1 1 1 1 1 1 1 1 1 1 1 1 1 1 1 1 1 1 1 1 1 1 1 1 1 1 1 1 1 1 1 1 1 1 1 1 1 1 1 1 1 1 1 1 1 1 1 1 1 1 1 1 1 1 1 1 1 1 1 1 1 1 1 1 1 1 1 1 1 1 1 1 1 1 1 1 1 1 1 1 1 1 1 1 1 1 1 1 1 1 1 1 1 1 1 1 1 1 1 1 1 1 1 1 1 1 1 1 1 1 1 1 1 1 1 1 1 1 1 1 1 1 1 1 1 1 1 1 1 1 1 1 1 1 1 1 1 1 1 1 1 1 1 1 1 1 1 1 1 1 1 1 1 1 1 1 1 1 1 1 1 1 1 1 1 1 1 1 1 1 1 1 1 1 1 1 1 1 1 1 1 1 1 1 1 1 1 1 1 1 1 1 1 1 1 1 1 1 1 1 1 1 1 1 1 1 1 1 1 1 1 1 1 1 1 1 1 1 1 1 1 1 1 1 1 1 1 1 1 1 1 1 1 1 1 1 1 1 1 1 1 1 1 1 1 1 1 1 1 1 1 1 1 1 1 1 1 1 1 1 1 1 1 1 1 1 1 1 1 1 1 1 1 1 1 1 1 1 1 1 1 1 1 1 1 1 1 1 1 1 1 1 1 1 1 1 1 1 1 1 1 1 1 1 1 1 1 1 1 1 1 1 1 1 1 1 1 1 1 1 1 1 1 1 1 1 1 1 1 1 1 1 1 1 1 1 1 1 1 1 1 1 1 1 1 1 1 1 1 1 1 1 1 1 1 1 1 1 1 1 1 1 1 1 1 1 1 1 1 1 1 1 1 1 1 1 1 1 1 1 1 1 1 1 1 1 1 1 1 1 1 1 1 1 1 1 1 1 1 1 1 1 1 1 1 1 1 1 1 1 1 1 1 1 1 1 1 1 1 1 1 1 1 1 1 1 1 1 1 1 1 1 1 1 1 1 1 1 1 1 1 1 1 1 1 1 1 1 1 1 1 1 1 1 1 1 1 1 1 1 1 1 1 1 1 1 1 1 1 1 1 1 1 1 1 1 1 1 1 1 1 1 1 1 1 1 1 1 1 1 1 1 1 1 1 1 1 1 1 1 1 1 1 1 1 1 1 1 1 1 1 1 1 1 1 1 1 1 1 1 1 1 1 1 1 1 1 1 1 1 1 1 1 1 1 1 1 1 1 1 1 1 1 1 1 1 1 1 1 1 1 1 1 1 1 1 1 1 1 1 1 1 1 1 1 1 1 1 1 1 1 1 1 1 1 1 1 1 1 1 1 1 1 1 1 1 1 1 1 1 1 1 1 1 1 1 1 1 1 1 1 1 1 1 1 1 1 1 1 1 1 1 1 1 1 1 1 1 1 1 1 1 1 1 1 1 1 1 1 1 1 1 1 1 1 1 1 1 1 1 1 1 1 1 1 1 1 1 1 1 1 1 1 1 1 1 1 1 1 1 1 1 1 1 1 1 1 1 1 1 1 1 1 1 1 1 1 1 1 1 1 1 1 1 1 1 1 1 1 1 1 1 1 1 1 1 1 1 1 1 1 1 1 1 1 1 1 1 1 1 1 1 1 1 1 1 1 1 1 1 1 1 1 1 1 1 1 1 1 1 1 1 1 1 1 1 1 1 1 1 1 1 1 1 1 1 1 1 1 1 1 1 1 1 1 1 1 1 1 1 1 1 1 1 1 1 1 1 1 1 1 1 1 1 1 1 1 1 1 1 1 1 1 1 1 1 1 1 1 1 1 1 1 1 1 1 1 1 1 1 1 1 1 1 1 1 1 1 1 1 1 1 1 1 1 1 1 1 1 1 1 1 1 1 1 1 1 1 1 1 1 1 1 1 1 1 1 1 1 1 1 1 1 1 1 1 1 1 1 1 1 1 1 1 1 1 1 1 1 1 1 1 1 1 1 1 1 1 1 1 1 1 1 1 1 1 1 1 1 1 1 1 1 1 1 1 1 1 1 1 1 1 1 1 1 1 1 1 1 1 1 1 1 1 1 1 1 1 1 1 1 1 1 1 1 1 1 1 1 1 1 1 1 1 1 1 1 1 1 1 1 1 1 1 1 1 1 1 1 1 1 1 1 1 1 1 1 1 1 1 1 1 1 1 1 1 1 1 1 1 1 1 1 1 1 1 1 1 1 1 1 1 1 1 1 1 1 1 1 1 1 1 1 1 1 1 1 1 1 1 1 1 1 1 1 1 1 1 1 1 1 1 1 1 1 1 1 1 1 1 1 1 1 1 1 1 1 1 1 1 1 1 1 1 1 1 1 1 1 1 1 1 1 1 1 1 1 1 1 1 1 1 1 1 1 1 1 1 1 1 1 1 1 1 1 1 1 1 1 1 1 1 1 1 1 1 1 1 1 1 1 1 1 1 1 1 1 1 1 1 1 1 1 1 1 1 1 1 1 1 1 1 1 1 1 1 1 1 1 1 1 1 1 1 1 1 1 1 1 1 1 1 1 1 1 1 1 1 1 1 1 1 1 1 1 1 1 1 1 1 1 1 1 1 1 1 1 1 1 1 1 1 1 1 1 1 1 1 1 1 1 1 1 1 1 1 1 1 1 1 1 1 1 1 1 1 1 1 1 1 1 1 1 1 1 1 1 1 1 1 1 1 1 1 1 1 1 1 1 1 1 1 1 1 1 1 1 1 1 1 1 1 1 1 1 1 1 1 1 1 1 1 1 1 1 1 1 1 1 1 1 1 1 1 1 1 1 1 1 1 1 1 1 1 1 1 1 1 1 1 1 1 1 1 1 1 1 1 1 1 1 1 1 1 1 1 1 1 1 1 1 1 1 1 1 1 1 1 1 1 1 1 1 1 1 1 1 1 1 1 1 1 1 1 1 1 1 1 1 1 1 1 1 1 1 1 1 1 1 1 1 1 1 1 1 1 1 1 1 1 1 1 1 1 1 1 1 1 1 1 1 1 1 1 1 1 1 1 1 1 1 1 1 1 1 1 1 1 1 1 1 1 1 1 1 1 1 1 1 1 1 1 1 1 1 1 1 1 1 1 1 1 1 1 1 1 1 1 1 1 1 1 1 1 1 1 1 1 1 1 1 1 1 1 1 1 1 1 1 1 1 1 1 1 1 1 1 1 1 1 1 1 1 1 1 1 1 1 1 1 1 1 1 1 1 1 1 1 1 1 1 1 1 1 1 1 1 1 1 1 1 1 1 1 1 1 1 1 1 1 1 1 1 1 1 1 1 1 1 1 1 1 1 1 1 1 1 1 1 1 1 1 1 1 1 1 1 1 1 1 1 1 1 1 1 1 1 1 1 1 1 1 1 1 1 1 1 1 1 1 1 1 1 1 1 1 1 1 1 1 1 1 1 1 1 1 1 1 1 1 1 1 1 1 1 1 1 1 1 1 1 1 1 1 1 1 1 1 1 1 1 1 1 1 1 1 1 1 1 1 1 1 1 1 1 1 1 1 1 1 1 1 1 1 1 1 1 1 1 1 1 1 1 1 1 1 1 1 1 1 1 1 1 1 1 1 1 1 1 1 1 1 1 1 1 1 1 1 1 1 1 1 1 1 1 1 1 1 1 1 1 1 1 1 1 1 1 1 1 1 1 1 1 1 1 1 1 1 1 1 1 1 1 1 1 1 1 1 1 1 1 1 1 1 1 1 1 1 1 1 1 1 1 1 1 1 1 1 1 1 1 1 1 1 1 1 1 1 1 1 1 1 1 1 1 1 1 1 1 1 1 1 1 1 1 1 1 1 1 1 1 1 1 1 1 1 1 1 1 1 1 1 1 1 1 1 1 1 1 1 1 1 1 1 1 1 1 1 1 1 1 1 1 1 1 1 1 1 1 1 1 1 1 1 1 1 1 1 1 1 1 1 1 1 1 1 1 1 1 1 1 1 1 1 1 1 1 1 1 1 1 1 1 1 1 1 1 1 1 1 1 1 1 1 1 1 1 1 1 1 1 1 1 1 1 1 1 1 1 1 1 1 1 1 1 1 1 1 1 1 1 1 1 1 1 1 1 1 1 1 1 1 1 1 1 1 1 1 1 1 1 1 1 1 1 1 1 1 1 1 1 1 1 1 1 1 1 1 1 1 1 1 1 1 1 1 1 1 1 1 1 1 1 1 1 1 1 1 1 1 1 1 1 1 1 1 1 1 1 1 1 1 1 1 1 1 1 1 1 1 1 1 1 1 1 1 1 1 1 1 1 1 1 1 1 1 1 1 1 1 1 1 1 1 1 1 1 1 1 1 1 1 1 1 1 1 1 1 1 1 1 1 1 1 1 1 1 1 1 1 1 1 1 1 1 1 1 1 1 1 1 1 1 1 1 1 1 1 1 1 1 1 1 1 1 1 1 1 1 1 1 1 1 1 1 1 1 1 1 1 1 1 1 1 1 1 1 1 1 1 1 1 1 1 1 1 1 1 1 1 1 1 1 1 1 1 1 1 1 1 1 1 1 1 1 1 1 1 1 1 1 1 1 1 1 1 1 1 1 1 1 1 1 1 1 1 1 1 1 1 1 1 1 1 1 1 1 1 1 1 1 1 1 1 1 1 1 1 1 1 1 1 1 1 1 1 1 1 1 1 1 1 1 1 1 1 1 1 1 1 1 1 1 1 1 1 1 1 1 1 1 1 1 1 1 1 1 1 1 1 1 1 1 1 1 1 1 1 1 1 1 1 1 1 1 1 1 1 1 1 1 1 1 1 1 1 1 1 1 1 1 1 1 1 1 1 1 1 1 1 1 1 1 1 1 1 1 1 1 1 1 1 1 1 1 1 1 1 1 1 1 1 1 1 1 1 1 1 1 1 1 1 1 1 1 1 1 1 1 1 1 1 1 1 1 1 1 1 1 1 1 1 1 1 1 1 1 1 1 1 1 1 1 1 1 1 1 1 1 1 1 1 1 1 1 1 1 1 1 1 1 1 1 1 1 1 1 1 1 1 1 1 1 1 1 1 1 1 1 1 1 1 1 1 1 1 1 1 1 1 1 1 1 1 1 1 1 1 1 1 1 1 1 1 1 1 1 1 1 1 1 1 1 1 1 1 1 1 1 1 1 1 1 1 1 1 1 1 1 1 1 1 1 1 1 1 1 1 1 1 1 1 1 1 1 1 1 1 1 1 1 1 1 1 1 1 1 1 1 1 1 1 1 1 1 1 1 1 1 1 1 1 1 1 1 1 1 1 1 1 1 1 1 1 1 1 1 1 1 1 1 1 1 1 1 1 1 1 1 1 1 1 1 1 1 1 1 1 1 1 1 1 1 1 1 1 1 1 1 1 1 1 1 1 1 1 1 1 1 1 1 1 1 1 1 1 1 1 1 1 1 1 1 1 1 1 1 1 1 1 1 1 1 1 1 1 1 1 1 1 1 1 1 1 1 1 1 1 1 1 1 1 1 1 1 1 1 1 1 1 1 1 1 1 1 1 1 1 1 1 1 1 1 1 1 1 1 1 1 1 1 1 1 1 1 1 1 1 1 1 1 1 1 1 1 1 1 1 1 1 1 1 1 1 1 1 1 1 1 1 1 1 1 1 1 1 1 1 1 1 1 1 1 1 1 1 1 1 1 1 1 1 1 1 1 1 1 1 1 1 1 1 1 1 1 1 1 1 1 1 1 1 1 1 1 1 1 1 1 1 1 1 1 1 1 1 1 1 1 1 1 1 1 1 1 1 1 1 1 1 1 1 1 1 1 1 1 1 1 1 1 1 1 1 1 1 1 1 1 1 1 1 1 1 1 1 1 1 1 1 1 1 1 1 1 1 1 1 1 1 1 1 1 1 1 1 1 1 1 1 1 1 1 1 1 1 1 1 1 1 1 1 1 1 1 1 1 1 1 1 1 1 1 1 1 1 1 1 1 1 1 1 1 1 1 1 1 1 1 1 1 1 1 1 1 1 1 1 1 1 1 1 1 1 1 1 1 1 1 1 1 1 1 1 1 1 1 1 1 1 1 1 1 1 1 1 1 1 1 1 1 1 1 1 1 1 1 1 1 1 1 1 1 1 1 1 1 1 1 1 1 1 1 1 1 1 1 1 1 1 1 1 1 1 1 1 1 1 1 1 1 1 1 1 1 1 1 1 1 1 1 1 1 1 1 1 1 1 1 1 1 1 1 1 1 1 1 1 1 1 1 1 1 1 1 1 1 1 1 1 1 1 1 1 1 1 1 1 1 1 1 1 1 1 1 1 1 1 1 1 1 1 1 1 1 1 1 1 1 1 1 1 1 1 1 1 1 1 1 1 1 1 1 1 1 1 1 1 1 1 1 1 1 1 1 1 1 1 1 1 1 1 1 1 1 1 1 1 1 1 1 1 1 1 1 1 1 1 1 1 1 1 1 1 1 1 1 1 1 1 1 1 1 1 1 1 1 1 1 1 1 1 1 1 1 1 1 1 1 1 1 1 1 1 1 1 1 1 1 1 1 1 1 1 1 1 1 1 1 1 1 1 1 1 1 1 1 1 1 1 1 1 1 1 1 1 1 1 1 1 1 1 1 1 1 1 1 1 1 1 1 1 1 1 1 1 1 1 1 1 1 1 1 1 1 1 1 1 1 1 1 1 1 1 1 1 1 1 1 1 1 1 1 1 1 1 1 1 1 1 1 1 1 1 1 1 1 1 1 1 1 1 1 1 1 1 1 1 1 1 1 1 1 1 1 1 1 1 1 1 1 1 1 1 1 1 1 1 1 1 1 1 1 1 1 1 1 1 1 1 1 1 1 1 1 1 1 1 1 1 1 1 1 1 1 1 1 1 1 1 1 1 1 1 1 1 1 1 1 1 1 1 1 1 1 1 1 1 1 1 1 1 1 1 1 1 1 1 1 1 1 1 1 1 1 1 1 1 1 1 1 1 1 1 1 1 1 1 1 1 1 1 1 1 1 1 1 1 1 1 1 1 1 1 1 1 1 1 1 1 1 1 1 1 1 1 1 1 1 1 1 1 1 1 1 1 1 1 1 1 1 1 1 1 1 1 1 1 1 1 1 1 1 1 1 1 1 1 1 1 1 1 1 1 1 1 1 1 1 1 1 1 1 1 1 1 1 1 1 1 1 1 1 1 1 1 1 1 1 1 1 1 1 1 1 1 1 1 1 1 1 1 1 1 1 1 1 1 1 1 1 1 1 1 1 1 1 1 1 1 1 1 1 1 1 1 1 1 1 1 1 1 1 1 1 1 1 1 1 1 1 1 1 1 1 1 1 1 1 1 1 1 1 1 1 1 1 1 1 1 1 1 1 1 1 1 1 1 1 1 1 1 1 1 1 1 1 1 1 1 1 1 1 1 1 1 1 1 1 1 1 1 1 1 1 1 1 1 1 1 1 1 1 1 1 1 1 1 1 1 1 1 1 1 1 1 1 1 1 1 1 1 1 1 1 1 1 1 1 1 1 1 1 1 1 1 1 1 1 1 1 1 1 1 1 1 1 1 1 1 1 1 1 1 1 1 1 1 1 1 1 1 1 1 1 1 1 1 1 1 1 1 1 1 1 1 1 1 1 1 1 1 1 1 1 1 1 1 1 1 1 1 1 1 1 1 1 1 1 1 1 1 1 1 1 1 1 1 1 1 1 1 1 1 1 1 1 1 1 1 1 1 1 1 1 1 1 1 1 1 1 1 1 1 1 1 1 1 1 1 1 1 1 1 1 1 1 1 1 1 1 1 1 1 1 1 1 1 1 1 1 1 1 1 1 1 1 1 1 1 1 1 1 1 1 1 1 1 1 1 1 1 1 1 1 1 1 1 1 1 1 1 1 1 1 1 1 1 1 1 1 1 1 1 1 1 1 1 1 1 1 1 1 1 1 1 1 1 1 1 1 1 1 1 1 1 1 1 1 1 1 1 1 1 1 1 1 1 1 1 1 1 1 1 1 1 1 1 1 1 1 1 1 1 1 1 1 1 1 1 1 1 1 1 1 1 1 1 1 1 1 1 1 1 1 1 1 1 1 1 1 1 1 1 1 1 1 1 1 1 1 1 1 1 1 1 1 1 1 1 1 1 1 1 1 1 1 1 1 1 1 1 1 1 1 1 1 1 1 1 1 1 1 1 1 1 1 1 1 1 1 1 1 1 1 1 1 1 1 1 1 1 1 1 1 1 1 1 1 1 1 1 1 1 1 1 1 1 1 1 1 1 1 1 1 1 1 1 1 1 1 1 1 1 1 1 1 1 1 1 1 1 1 1 1 1 1 1 1 1 1 1 1 1 1 1 1 1 1 1 1 1 1 1 1 1 1 1 1 1 1 1 1 1 1 1 1 1 1 1 1 1 1 1 1 1 1 1 1 1 1 1 1 1 1 1 1 1 1 1 1 1 1 1 1 1 1 1 1 1 1 1 1 1 1 1 1 1 1 1 1 1 1 1 1 1 1 1 1 1 1 1 1 1 1 1 1 1 1 1 1 1 1 1 1 1 1 1 1 1 1 1 1 1 1 1 1 1 1 1 1 1 1 1 1 1 1 1 1 1 1 1 1 1 1 1 1 1 1 1 1 1 1 1 1 1 1 1 1 1 1 1 1 1 1 1 1 1 1 1 1 1 1 1 1 1 1 1 1 1 1 1 1 1 1 1 1 1 1 1 1 1 1 1 1 1 1 1 1 1 1 1 1 1 1 1 1 1 1 1 1 1 1 1 1 1 1 1 1 1 1 1 1 1 1 1 1 1 1 1 1 1 1 1 1 1 1 1 1 1 1 1 1 1 1 1 1 1 1 1 1 1 1 1 1 1 1 1 1 1 1 1 1 1 1 1 1 1 1 1 1 1 1 1 1 1 1 1 1 1 1 1 1 1 1 1 1 1 1 1 1 1 1 1 1 1 1 1 1 1 1 1 1 1 1 1 1 1 1 1 1 1 1 1 1 1 1 1 1 1 1 1 1 1 1 1 1 1 1 1 1 1 1 1 1 1 1 1 1 1 1 1 1 1 1 1 1 1 1 1 1 1 1 1 1 1 1 1 1 1 1 1 1 1 1 1 1 1 1 1 1 1 1 1 1 1 1 1 1 1 1 1 1 1 1 1 1 1 1 1 1 1 1 1 1 1 1 1 1 1 1 1 1 1 1 1 1 1 1 1 1 1 1 1 1 1 1 1 1 1 1 1 1 1 1 1 1 1 1 1 1 1 1 1 1 1 1 1 1 1 1 1 1 1 1 1 1 1 1 1 1 1 1 1 1 1 1 1 1 1 1 1 1 1 1 1 1 1 1 1 1 1 1 1 1 1 1 1 1 1 1 1 1 1 1 1 1 1 1 1 1 1 1 1 1 1 1 1 1 1 1 1 1 1 1 1 1 1 1 1 1 1 1 1 1 1 1 1 1 1 1 1 1 1 1 1 1 1 1 1 1 1 1 1 1 1 1 1 1 1 1 1 1 1 1 1 1 1 1 1 1 1 1 1 1 1 1 1 1 1 1 1 1 1 1 1 1 1 1 1 1 1 1 1 1 1 1 1 1 1 1 1 1 1 1 1 1 1 1 1 1 1 1 1 1 1 1 1 1 1 1 1 1 1 1 1 1 1 1 1 1 1 1 1 1 1 1 1 1 1 1 1 1 1 1 1 1 1 1 1 1 1 1 1 1 1 1 1 1 1 1 1 1 1 1 1 1 1 1 1 1 1 1 1 1 1 1 1 1 1 1 1 1 1 1 1 1 1 1 1 1 1 1 1 1 1 1 1 1 1 1 1 1 1 1 1 1 1 1 1 1 1 1 1 1 1 1 1 1 1 1 1 1 1 1 1 1 1 1 1 1 1 1 1 1 1 1 1 1 1 1 1 1 1 1 1 1 1 1 1 1 1 1 1 1 1 1 1 1 1 1 1 1 1 1 1 1 1 1 1 1 1 1 1 1 1 1 1 1 1 1 1 1 1 1 1 1 1 1 1 1 1 1 1 1 1 1 1 1 1 1 1 1 1 1 1 1 1 1 1 1 1 1 1 1 1 1 1 1 1 1 1 1 1 1 1 1 1 1 1 1 1 1 1 1 1 1 1 1 1 1 1 1 1 1 1 1 1 1 1 1 1 1 1 1 1 1 1 1 1 1 1 1 1 1 1 1 1 1 1 1 1 1 1 1 1 1 1 1 1 1 1 1 1 1 1 1 1 1 1 1 1 1 1 1 1 1 1 1 1 1 1 1 1 1 1 1 1 1 1 1 1 1 1 1 1 1 1 1 1 1 1 1 1 1 1 1 1 1 1 1 1 1 1 1 1 1 1 1 1 1 1 1 1 1 1 1 1 1 1 1 1 1 1 1 1 1 1 1 1 1 1 1 1 1 1 1 1 1 1 1 1 1 1 1 1 1 1 1 1 1 1 1 1 1 1 1 1 1 1 1 1 1 1 1 1 1 1 1 1 1 1 1 1 1 1 1 1 1 1 1 1 1 1 1 1 1 1 1 1 1 1 1 1 1 1 1 1 1 1 1 1 1 1 1 1 1 1 1 1 1 1 1 1 1 1 1 1 1 1 1 1 1 1 1 1 1 1 1 1 1 1 1 1 1 1 1 1 1 1 1 1 1 1 1 1 1 1 1 1 1 1 1 1 1 1 1 1 1 1 1 1 1 1 1 1 1 1 1 1 1 1 1 1 1 1 1 1 1 1 1 1 1 1 1 1 1 1 1 1 1 1 1 1 1 1 1 1 1 1 1 1 1 1 1 1 1 1 1 1 1 1 1 1 1 1 1 1 1 1 1 1 1 1 1 1 1 1 1 1 1 1 1 1 1 1 1 1 1 1 1 1 1 1 1 1 1 1 1 1 1 1 1 1 1 1 1 1 1 1 1 1 1 1 1 1 1 1 1 1 1 1 1 1 1 1 1 1 1 1 1 1 1 1 1 1 1 1 1 1 1 1 1 1 1 1 1 1 1 1 1 1 1 1 1 1 1 1 1 1 1 1 1 1 1 1 1 1 1 1 1 1 1 1 1 1 1 1 1 1 1 1 1 1 1 1 1 1 1 1 1 1 1 1 1 1 1 1 1 1 1 1 1 1 1 1 1 1 1 1 1 1 1 1 1 1 1 1 1 1 1 1 1 1 1 1 1 1 1 1 1 1 1 1 1 1 1 1 1 1 1 1 1 1 1 1 1 1 1 1 1 1 1 1 1 1 1 1 1 1 1 1 1 1 1 1 1 1 1 1 1 1 1 1 1 1 1 1 1 1 1 1 1 1 1 1 1 1 1 1 1 1 1 1 1 1 1 1 1 1 1 1 1 1 1 1 1 1 1 1 1 1 1 1 1 1 1 1 1 1 1 1 1 1 1 1 1 1 1 1 1 1 1 1 1 1 1 1 1 1 1 1 1 1 1 1 1 1 1 1 1 1 1 1 1 1 1 1 1 1 1 1 1 1 1 1 1 1 1 1 1 1 1 1 1 1 1 1 1 1 1 1 1 1 1 1 1 1 1 1 1 1 1 1 1 1 1 1 1 1 1 1 1 1 1 1 1 1 1 1 1 1 1 1 1 1 1 1 1 1 1 1 1 1 1 1 1 1 1 1 1 1 1 1 1 1 1 1 1 1 1 1 1 1 1 1 1 1 1 1 1 1 1 1 1 1 1 1 1 1 1 1 1 1 1 1 1 1 1 1 1 1 1 1 1 1 1 1 1 1 1 1 1 1 1 1 1 1 1 1 1 1 1 1 1 1 1 1 1 1 1 1 1 1 1 1 1 1 1 1 1 1 1 1 1 1 1 1 1 1 1 1 1 1 1 1 1 1 1 1 1 1 1 1 1 1 1 1 1 1 1 1 1 1 1 1 1 1 1 1 1 1 1 1 1 1 1 1 1 1 1 1 1 1 1 1 1 1 1 1 1 1 1 1 1 1 1 1 1 1 1 1 1 1 1 1 1 1 1 1 1 1 1 1 1 1 1 1 1 1 1 1 1 1 1 1 1 1 1 1 1 1 1 1 1 1 1 1 1 1 1 1 1 1 1 1 1 1 1 1 1 1 1 1 1 1 1 1 1 1 1 1 1 1 1 1 1 1 1 1 1 1 1 1 1 1 1 1 1 1 1 1 1 1 1 1 1 1 1 1 1 1 1 1 1 1 1 1 1 1 1 1 1 1 1 1 1 1 1 1 1 1 1 1 1 1 1 1 1 1 1 1 1 1 1 1 1 1 1 1 1 1 1 1 1 1 1 1 1 1 1 1 1 1 1 1 1 1 1 1 1 1 1 1 1 1 1 1 1 1 1 1 1 1 1 1 1 1 1 1 1 1 1 1 1 1 1 1 1 1 1 1 1 1 1 1 1 1 1 1 1 1 1 1 1 1 1 1 1 1 1 1 1 1 1 1 1 1 1 1 1 1 1 1 1 1 1 1 1 1 1 1 1 1 1 1 1 1 1 1 1 1 1 1 1 1 1 1 1 1 1 1 1 1 1 1 1 1 1 1 1 1 1 1 1 1 1 1 1 1 1 1 1 1 1 1 1 1 1 1 1 1 1 1 1 1 1 1 1 1 1 1 1 1 1 1 1 1 1 1 1 1 1 1 1 1 1 1 1 1 1 1 1 1 1 1 1 1 1 1 1 1 1 1 1 1 1 1 1 1 1 1 1 1 1 1 1 1 1 1 1 1 1 1 1 1 1 1 1 1 1 1 1 1 1 1 1 1 1 1 1 1 1 1 1 1 1 1 1 1 1 1 1 1 1 1 1 1 1 1 1 1 1 1 1 1 1 1 1 1 1 1 1 1 1 1 1 1 1 1 1 1 1 1 1 1 1 1 1 1 1 1 1 1 1 1 1 1 1 1 1 1 1 1 1 1 1 1 1 1 1 1 1 1 1 1 1 1 1 1 1 1 1 1 1 1 1 1 1 1 1 1 1 1 1 1 1 1 1 1 1 1 1 1 1 1 1 1 1 1 1 1 1 1 1 1 1 1 1 1 1 1 1 1 1 1 1 1 1 1 1 1 1 1 1 1 1 1 1 1 1 1 1 1 1 1 1 1 1 1 1 1 1 1 1 1 1 1 1 1 1 1 1 1 1 1 1 1 1 1 1 1 1 1 1 1 1 1 1 1 1 1 1 1 1 1 1 1 1 1 1 1 1 1 1 1 1 1 1 1 1 1 1 1 1 1 1 1 1 1 1 1 1 1 1 1 1 1 1 1 1 1 1 1 1 1 1 1 1 1 1 1 1 1 1 1 1 1 1 1 1 1 1 1 1 1 1 1 1 1 1 1 1 1 1 1 1 1 1 1 1 1 1 1 1 1 1 1 1 1 1 1 1 1 1 1 1 1 1 1 1 1 1 1 1 1 1 1 1 1 1 1 1 1 1 1 1 1 1 1 1 1 1 1 1 1 1 1 1 1 1 1 1 1 1 1 1 1 1 1 1 1 1 1 1 1 1 1 1 1 1 1 1 1 1 1 1 1 1 1 1 1 1 1 1 1 1 1 1 1 1 1 1 1 1 1 1 1 1 1 1 1 1 1 1 1 1 1 1 1 1 1 1 1 1 1 1 1 1 1 1 1 1 1 1 1 1 1 1 1 1 1 1 1 1 1 1 1 1 1 1 1 1 1 1 1 1 1 1 1 1 1 1 1 1 1 1 1 1 1 1 1 1 1 1 1 1 1 1 1 1 1 1 1 1 1 1 1 1 1 1 1 1 1 1 1 1 1 1 1 1 1 1 1 1 1 1 1 1 1 1 1 1 1 1 1 1 1 1 1 1 1 1 1 1 1 1 1 1 1 1 1 1 1 1 1 1 1 1 1 1 1 1 1 1 1 1 1 1 1 1 1 1 1 1 1 1 1 1 1 1 1 1 1 1 1 1 1 1 1 1 1 1 1 1 1 1 1 1 1 1 1 1 1 1 1 1 1 1 1 1 1 1 1 1 1 1 1 1 1 1 1 1 1 1 1 1 1 1 1 1 1 1 1 1 1 1 1 1 1 1 1 1 1 1 1 1 1 1 1 1 1 1 1 1 1 1 1 1 1 1 1 1 1 1 1 1 1 1 1 1 1 1 1 1 1 1 1 1 1 1 1 1 1 1 1 1 1 1 1 1 1 1 1 1 1 1 1 1 1 1 1 1 1 1 1 1 1 1 1 1 1 1 1 1 1 1 1 1 1 1 1 1 1 1 1 1 1 1 1 1 1 1 1 1 1 1 1 1 1 1 1 1 1 1 1 1 1 1 1 1 1 1 1 1 1 1 1 1 1 1 1 1 1 1 1 1 1 1 1 1 1 1 1 1 1 1 1 1 1 1 1 1 1 1 1 1 1 1 1 1 1 1 1 1 1 1 1 1 1 1 1 1 1 1 1 1 1 1 1 1 1 1 1 1 1 1 1 1 1 1 1 1 1 1 1 1 1 1 1 1 1 1 1 1 1 1 1 1 1 1 1 1 1 1 1 1 1 1 1 1 1 1 1 1 1 1 1 1 1 1 1 1 1 1 1 1 1 1 1 1 1 1 1 1 1 1 1 1 1 1 1 1 1 1 1 1 1 1 1 1 1 1 1 1 1 1 1 1 1 1 1 1 1 1 1 1 1 1 1 1 1 1 1 1 1 1 1 1 1 1 1 1 1 1 1 1 1 1 1 1 1 1 1 1 1 1 1 1 1 1 1 1 1 1 1 1 1 1 1 1 1 1 1 1 1 1 1 1 1 1 1 1 1 1 1 1 1 1 1 1 1 1 1 1 1 1 1 1 1 1 1 1 1 1 1 1 1 1 1 1 1 1 1 1 1 1 1 1 1 1 1 1 1 1 1 1 1 1 1 1 1 1 1 1 1 1 1 1 1 1 1 1 1 1 1 1 1 1 1 1 1 1 1 1 1 1 1 1 1 1 1 1 1 1 1 1 1 1 1 1 1 1 1 1 1 1 1 1 1 1 1 1 1 1 1 1 1 1 1 1 1 1 1 1 1 1 1 1 1 1 1 1 1 1 1 1 1 1 1 1 1 1 1 1 1 1 1 1 1 1 1 1 1 1 1 1 1 1 1 1 1 1 1 1 1 1 1 1 1 1 1 1 1 1 1 1 1 1 1 1 1 1 1 1 1 1 1 1 1 1 1 1 1 1 1 1 1 1 1 1 1 1 1 1 1 1 1 1 1 1 1 1 1 1 1 1 1 1 1 1 1 1 1 1 1 1 1 1 1 1 1 1 1 1 1 1 1 1 1 1 1 1 1 1 1 1 1 1 1 1 1 1 1 1 1 1 1 1 1 1 1 1 1 1 1 1 1 1 1 1 1 1 1 1 1 1 1 1 1 1 1 1 1 1 1 1 1 1 1 1 1 1 1 1 1 1 1 1 1 1 1 1 1 1 1 1 1 1 1 1 1 1 1 1 1 1 1 1 1 1 1 1 1 1 1 1 1 1 1 1 1 1 1 1 1 1 1 1 1 1 1 1 1 1 1 1 1 1 1 1 1 1 1 1 1 1 1 1 1 1 1 1 1 1 1 1 1 1 1 1 1 1 1 1 1 1 1 1 1 1 1 1 1 1 1 1 1 1 1 1 1 1 1 1 1 1 1 1 1 1 1 1 1 1 1 1 1 1 1 1 1 1 1 1 1 1 1 1 1 1 1 1 1 1 1 1 1 1 1 1 1 1 1 1 1 1 1 1 1 1 1 1 1 1 1 1 1 1 1 1 1 1 1 1 1 1 1 1 1 1 1 1 1 1 1 1 1 1 1 1 1 1 1 1 1 1 1 1 1 1 1 1 1 1 1 1 1 1 1 1 1 1 1 1 1 1 1 1 1 1 1 1 1 1 1 1 1 1 1 1 1 1 1 1 1 1 1 1 1 1 1 1 1 1 1 1 1 1 1 1 1 1 1 1 1 1 1 1 1 1 1 1 1 1 1 1 1 1 1 1 1 1 1 1 1 1 1 1 1 1 1 1 1 1 1 1 1 1 1 1 1 1 1 1 1 1 1 1 1 1 1 1 1 1 1 1 1 1 1 1 1 1 1 1 1 1 1 1 1 1 1 1 1 1 1 1 1 1 1 1 1 1 1 1 1 1 1 1 1 1 1 1 1 1 1 1 1 1 1 1 1 1 1 1 1 1 1 1 1 1 1 1 1 1 1 1 1 1 1 1 1 1 1 1 1 1 1 1 1 1 1 1 1 1 1 1 1 1 1 1 1 1 1 1 1 1 1 1 1 1 1 1 1 1 1 1 1 1 1 1 1 1 1 1 1 1 1 1 1 1 1 1 1 1 1 1 1 1 1 1 1 1 1 1 1 1 1 1 1 1 1 1 1 1 1 1 1 1 1 1 1 1 1 1 1 1 1 1 1 1 1 1 1 1 1 1 1 1 1 1 1 1 1 1 1 1 1 1 1 1 1 1 1 1 1 1 1 1 1 1 1 1 1 1 1 1 1 1 1 1 1 1 1 1 1 1 1 1 1 1 1 1 1 1 1 1 1 1 1 1 1 1 1 1 1 1 1 1 1 1 1 1 1 1 1 1 1 1 1 1 1 1 1 1 1 1 1 1 1 1 1 1 1 1 1 1 1 1 1 1 1 1 1 1 1 1 1 1 1 1 1 1 1 1 1 1 1 1 1 1 1 1 1 1 1 1 1 1 1 1 1 1 1 1 1 1 1 1 1 1 1 1 1 1 1 1 1 1 1 1 1 1 1 1 1 1 1 1 1 1 1 1 1 1 1 1 1 1 1 1 1 1 1 1 1 1 1 1 1 1 1 1 1 1 1 1 1 1 1 1 1 1 1 1 1 1 1 1 1 1 1 1 1 1 1 1 1 1 1 1 1 1 1 1 1 1 1 1 1 1 1 1 1 1 1 1 1 1 1 1 1 1 1 1 1 1 1 1 1 1 1 1 1 1 1 1 1 1 1 1 1 1 1 1 1 1 1 1 1 1 1 1 1 1 1 1 1 1 1 1 1 1 1 1 1 1 1 1 1 1 1 1 1 1 1 1 1 1 1 1 1 1 1 1 1 1 1 1 1 1 1 1 1 1 1 1 1 1 1 1 1 1 1 1 1 1 1 1 1 1 1 1 1 1 1 1 1 1 1 1 1 1 1 1 1 1 1 1 1 1 1 1 1 1 1 1 1 1 1 1 1 1 1 1 1 1 1 1 1 1 1 1 1 1 1 1 1 1 1 1 1 1 1 1 1 1 1 1 1 1 1 1 1 1 1 1 1 1 1 1 1 1 1 1 1 1 1 1 1 1 1 1 1 1 1 1 1 1 1 1 1 1 1 1 1 1 1 1 1 1 1 1 1 1 1 1 1 1 1 1 1 1 1 1 1 1 1 1 1 1 1 1 1 1 1 1 1 1 1 1 1 1 1 1 1 1 1 1 1 1 1 1 1 1 1 1 1 1 1 1 1 1 1 1 1 1 1 1 1 1 1 1 1 1 1 1 1 1 1 1 1 1 1 1 1 1 1 1 1 1 1 1 1 1 1 1 1 1 1 1 1 1 1 1 1 1 1 1 1 1 1 1 1 1 1 1 1 1 1 1 1 1 1 1 1 1 1 1 1 1 1 1 1 1 1 1 1 1 1 1 1 1 1 1 1 1 1 1 1 1 1 1 1 1 1 1 1 1 1 1 1 1 1 1 1 1 1 1 1 1 1 1 1 1 1 1 1 1 1 1 1 1 1 1 1 1 1 1 1 1 1 1 1 1 1 1 1 1 1 1 1 1 1 1 1 1 1 1 1 1 1 1 1 1 1 1 1 1 1 1 1 1 1 1 1 1 1 1 1 1 1 1 1 1 1 1 1 1 1 1 1 1 1 1 1 1 1 1 1 1 1 1 1 1 1 1 1 1 1 1 1 1 1 1 1 1 1 1 1 1 1 1 1 1 1 1 1 1 1 1 1 1 1 1 1 1 1 1 1 1 1 1 1 1 1 1 1 1 1 1 1 1 1 1 1 1 1 1 1 1 1 1 1 1 1 1 1 1 1 1 1 1 1 1 1 1 1 1 1 1 1 1 1 1 1 1 1 1 1 1 1 1 1 1 1 1 1 1 1 1 1 1 1 1 1 1 1 1 1 1 1 1 1 1 1 1 1 1 1 1 1 1 1 1 1 1 1 1 1 1 1 1 1 1 1 1 1 1 1 1 1 1 1 1 1 1 1 1 1 1 1 1 1 1 1 1 1 1 1 1 1 1 1 1 1 1 1 1 1 1 1 1 1 1 1 1 1 1 1 1 1 1 1 1 1 1 1 1 1 1 1 1 1 1 1 1 1 1 1 1 1 1 1 1 1 1 1 1 1 1 1 1 1 1 1 1 1 1 1 1 1 1 1 1 1 1 1 1 1 1 1 1 1 1 1 1 1 1 1 1 1 1 1 1 1 1 1 1 1 1 1 1 1 1 1 1 1 1 1 1 1 1 1 1 1 1 1 1 1 1 1 1 1 1 1 1 1 1 1 1 1 1 1 1 1 1 1 1 1 1 1 1 1 1 1 1 1 1 1 1 1 1 1 1 1 1 1 1 1 1 1 1 1 1 1 1 1 1 1 1 1 1 1 1 1 1 1 1 1 1 1 1 1 1 1 1 1 1 1 1 1 1 1 1 1 1 1 1 1 1 1 1 1 1 1 1 1 1 1 1 1 1 1 1 1 1 1 1 1 1 1 1 1 1 1 1 1 1 1 1 1 1 1 1 1 1 1 1 1 1 1 1 1 1 1 1 1 1 1 1 1 1 1 1 1 1 1 1 1 1 1 1 1 1 1 1 1 1 1 1 1 1 1 1 1 1 1 1 1 1 1 1 1 1 1 1 1 1 1 1 1 1 1 1 1 1 1 1 1 1 1 1 1 1 1 1 1 1 1 1 1 1 1 1 1 1 1 1 1 1 1 1 1 1 1 1 1 1 1 1 1 1 1 1 1 1 1 1 1 1 1 1 1 1 1 1 1 1 1 1 1 1 1 1 1 1 1 1 1 1 1 1 1 1 1 1 1 1 1 1 1 1 1 1 1 1 1 1 1 1 1 1 1 1 1 1 1 1 1 1 1 1 1 1 1 1 1 1 1 1 1 1 1 1 1 1 1 1 1 1 1 1 1 1 1 1 1 1 1 1 1 1 1 1 1 1 1 1 1 1 1 1 1 1 1 1 1 1 1 1 1 1 1 1 1 1 1 1 1 1 1 1 1 1 1 1 1 1 1 1 1 1 1 1 1 1 1 1 1 1 1 1 1 1 1 1 1 1 1 1 1 1 1 1 1 1 1 1 1 1 1 1 1 1 1 1 1 1 1 1 1 1 1 1 1 1 1 1 1 1 1 1 1 1 1 1 1 1 1 1 1 1 1 1 1 1 1 1 1 1 1 1 1 1 1 1 1 1 1 1 1 1 1 1 1 1 1 1 1 1 1 1 1 1 1 1 1 1 1 1 1 1 1 1 1 1 1 1 1 1 1 1 1 1 1 1 1 1 1 1 1 1 1 1 1 1 1 1 1 1 1 1 1 1 1 1 1 1 1 1 1 1 1 1 1 1 1 1 1 1 1 1 1 1 1 1 1 1 1 1 1 1 1 1 1 1 1 1 1 1 1 1 1 1 1 1 1 1 1 1 1 1 1 1 1 1 1 1 1 1 1 1 1 1 1 1 1 1 1 1 1 1 1 1 1 1 1 1 1 1 1 1 1 1 1 1 1 1 1 1 1 1 1 1 1 1 1 1 1 1 1 1 1 1 1 1 1 1 1 1 1 1 1 1 1 1 1 1 1 1 1 1 1 1 1 1 1 1 1 1 1 1 1 1 1 1 1 1 1 1 1 1 1 1 1 1 1 1 1 1 1 1 1 1 1 1 1 1 1 1 1 1 1 1 1 1 1 1 1 1 1 1 1 1 1 1 1 1 1 1 1 1 1 1 1 1 1 1 1 1 1 1 1 1 1 1 1 1 1 1 1 1 1 1 1 1 1 1 1 1 1 1 1 1 1 1 1 1 1 1 1 1 1 1 1 1 1 1 1 1 1 1 1 1 1 1 1 1 1 1 1 1 1 1 1 1 1 1 1 1 1 1 1 1 1 1 1 1 1 1 1 1 1 1 1 1 1 1 1 1 1 1 1 1 1 1 1 1 1 1 1 1 1 1 1 1 1 1 1 1 1 1 1 1 1 1 1 1 1 1 1 1 1 1 1 1 1 1 1 1 1 1 1 1 1 1 1 1 1 1 1 1 1 1 1 1 1 1 1 1 1 1 1 1 1 1 1 1 1 1 1 1 1 1 1 1 1 1 1 1 1 1 1 1 1 1 1 1 1 1 1 1 1 1 1 1 1 1 1 1 1 1 1 1 1 1 1 1 1 1 1 1 1 1 1 1 1 1 1 1 1 1 1 1 1 1 1 1 1 1 1 1 1 1 1 1 1 1 1 1 1 1 1 1 1 1 1 1 1 1 1 1 1 1 1 1 1 1 1 1 1 1 1 1 1 1 1 1 1 1 1 1 1 1 1 1 1 1 1 1 1 1 1 1 1 1 1 1 1 1 1 1 1 1 1 1 1 1 1 1 1 1 1 1 1 1 1 1 1 1 1 1 1 1 1 1 1 1 1 1 1 1 1 1 1 1 1 1 1 1 1 1 1 1 1 1 1 1 1 1 1 1 1 1 1 1 1 1 1 1 1 1 1 1 1 1 1 1 1 1 1 1 1 1 1 1 1 1 1 1 1 1 1 1 1 1 1 1 1 1 1 1 1 1 1 1 1 1 1 1 1 1 1 1 1 1 1 1 1 1 1 1 1 1 1 1 1 1 1 1 1 1 1 1 1 1 1 1 1 1 1 1 1 1 1 1 1 1 1 1 1 1 1 1 1 1 1 1 1 1 1 1 1 1 1 1 1 1 1 1 1 1 1 1 1 1 1 1 1 1 1 1 1 1 1 1 1 1 1 1 1 1 1 1 1 1 1 1 1 1 1 1 1 1 1 1 1 1 1 1 1 1 1 1 1 1 1 1 1 1 1 1 1 1 1 1 1 1 1 1 1 1 1 1 1 1 1 1 1 1 1 1 1 1 1 1 1 1 1 1 1 1 1 1 1 1 1 1 1 1 1 1 1 1 1 1 1 1 1 1 1 1 1 1 1 1 1 1 1 1 1 1 1 1 1 1 1 1 1 1 1 1 1 1 1 1 1 1 1 1 1 1 1 1 1 1 1 1 1 1 1 1 1 1 1 1 1 1 1 1 1 1 1 1 1 1 1 1 1 1 1 1 1 1 1 1 1 1 1 1 1 1 1 1 1 1 1 1 1 1 1 1 1 1 1 1 1 1 1 1 1 1 1 1 1 1 1 1 1 1 1 1 1 1 1 1 1 1 1 1 1 1 1 1 1 1 1 1 1 1 1 1 1 1 1 1 1 1 1 1 1 1 1 1 1 1 1 1 1 1 1 1 1 1 1 1 1 1 1 1 1 1 1 1 1 1 1 1 1 1 1 1 1 1 1 1 1 1 1 1 1 1 1 1 1 1 1 1 1 1 1 1 1 1 1 1 1 1 1 1 1 1 1 1 1 1 1 1 1 1 1 1 1 1 1 1 1 1 1 1 1 1 1 1 1 1 1 1 1 1 1 1 1 1 1 1 1 1 1 1 1 1 1 1 1 1 1 1 1 1 1 1 1 1 1 1 1 1 1 1 1 1 1 1 1 1 1 1 1 1 1 1 1 1 1 1 1 1 1 1 1 1 1 1 1 1 1 1 1 1 1 1 1 1 1 1 1 1 1 1 1 1 1 1 1 1 1 1 1 1 1 1 1 1 1 1 1 1 1 1 1 1 1 1 1 1 1 1 1 1 1 1 1 1 1 1 1 1 1 1 1 1 1 1 1 1 1 1 1 1 1 1 1 1 1 1 1 1 1 1 1 1 1 1 1 1 1 1 1 1 1 1 1 1 1 1 1 1 1 1 1 1 1 1 1 1 1 1 1 1 1 1 1 1 1 1 1 1 1 1 1 1 1 1 1 1 1 1 1 1 1 1 1 1 1 1 1 1 1 1 1 1 1 1 1 1 1 1 1 1 1 1 1 1 1 1 1 1 1 1 1 1 1 1 1 1 1 1 1 1 1 1 1 1 1 1 1 1 1 1 1 1 1 1 1 1 1 1 1 1 1 1 1 1 1 1 1 1 1 1 1 1 1 1 1 1 1 1 1 1 1 1 1 1 1 1 1 1 1 1 1 1 1 1 1 1 1 1 1 1 1 1 1 1 1 1 1 1 1 1 1 1 1 1 1 1 1 1 1 1 1 1 1 1 1 1 1 1 1 1 1 1 1 1 1 1 1 1 1 1 1 1 1 1 1 1 1 1 1 1 1 1 1 1 1 1 1 1 1 1 1 1 1 1 1 1 1 1 1 1 1 1 1 1 1 1 1 1 1 1 1 1 1 1 1 1 1 1 1 1 1 1 1 1 1 1 1 1 1 1 1 1 1 1 1 1 1 1 1 1 1 1 1 1 1 1 1 1 1 1 1 1 1 1 1 1 1 1 1 1 1 1 1 1 1 1 1 1 1 1 1 1 1 1 1 1 1 1 1 1 1 1 1 1 1 1 1 1 1 1 1 1 1 1 1 1 1 1 1 1 1 1 1 1 1 1 1 1 1 1 1 1 1 1 1 1 1 1 1 1 1 1 1 1 1 1 1 1 1 1 1 1 1 1 1 1 1 1 1 1 1 1 1 1 1 1 1 1 1 1 1 1 1 1 1 1 1 1 1 1 1 1 1 1 1 1 1 1 1 1 1 1 1 1 1 1 1 1 1 1 1 1 1 1 1 1 1 1 1 1 1 1 1 1 1 1 1 1 1 1 1 1 1 1 1 1 1 1 1 1 1 1 1 1 1 1 1 1 1 1 1 1 1 1 1 1 1 1 1 1 1 1 1 1 1 1 1 1 1 1 1 1 1 1 1 1 1 1 1 1 1 1 1 1 1 1 1 1 1 1 1 1 1 1 1 1 1 1 1 1 1 1 1 1 1 1 1 1 1 1 1 1 1 1 1 1 1 1 1 1 1 1 1 1 1 1 1 1 1 1 1 1 1 1 1 1 1 1 1 1 1 1 1 1 1 1 1 1 1 1 1 1 1 1 1 1 1 1 1 1 1 1 1 1 1 1 1 1 1 1 1 1 1 1 1 1 1 1 1 1 1 1 1 1 1 1 1 1 1 1 1 1 1 1 1 1 1 1 1 1 1 1 1 1 1 1 1 1 1 1 1 1 1 1 1 1 1 1 1 1 1 1 1 1 1 1 1 1 1 1 1 1 1 1 1 1 1 1 1 1 1 1 1 1 1 1 1 1 1 1 1 1 1 1 1 1 1 1 1 1 1 1 1 1 1 1 1 1 1 1 1 1 1 1 1 1 1 1 1 1 1 1 1 1 1 1 1 1 1 1 1 1 1 1 1 1 1 1 1 1 1 1 1 1 1 1 1 1 1 1 1 1 1 1 1 1 1 1 1 1 1 1 1 1 1 1 1 1 1 1 1 1 1 1 1 1 1 1 1 1 1 1 1 1 1 1 1 1 1 1 1 1 1 1 1 1 1 1 1 1 1 1 1 1 1 1 1 1 1 1 1 1 1 1 1 1 1 1 1 1 1 1 1 1 1 1 1 1 1 1 1 1 1 1 1 1 1 1 1 1 1 1 1 1 1 1 1 1 1 1 1 1 1 1 1 1 1 1 1 1 1 1 1 1 1 1 1 1 1 1 1 1 1 1 1 1 1 1 1 1 1 1 1 1 1 1 1 1 1 1 1 1 1 1 1 1 1 1 1 1 1 1 1 1 1 1 1 1 1 1 1 1 1 1 1 1 1 1 1 1 1 1 1 1 1 1 1 1 1 1 1 1 1 1 1 1 1 1 1 1 1 1 1 1 1 1 1 1 1 1 1 1 1 1 1 1 1 1 1 1 1 1 1 1 1 1 1 1 1 1 1 1 1 1 1 1 1 1 1 1 1 1 1 1 1 1 1 1 1 1 1 1 1 1 1 1 1 1 1 1 1 1 1 1 1 1 1 1 1 1 1 1 1 1 1 1 1 1 1 1 1 1 1 1 1 1 1 1 1 1 1 1 1 1 1 1 1 1 1 1 1 1 1 1 1 1 1 1 1 1 1 1 1 1 1 1 1 1 1 1 1 1 1 1 1 1 1 1 1 1 1 1 1 1 1 1 1 1 1 1 1 1 1 1 1 1 1 1 1 1 1 1 1 1 1 1 1 1 1 1 1 1 1 1 1 1 1 1 1 1 1 1 1 1 1 1 1 1 1 1 1 1 1 1 1 1 1 1 1 1 1 1 1 1 1 1 1 1 1 1 1 1 1 1 1 1 1 1 1 1 1 1 1 1 1 1 1 1 1 1 1 1 1 1 1 1 1 1 1 1 1 1 1 1 1 1 1 1 1 1 1 1 1 1 1 1 1 1 1 1 1 1 1 1 1 1 1 1 1 1 1 1 1 1 1 1 1 1 1 1 1 1 1 1 1 1 1 1 1 1 1 1 1 1 1 1 1 1 1 1 1 1 1 1 1 1 1 1 1 1 1 1 1 1 1 1 1 1 1 1 1 1 1 1 1 1 1 1 1 1 1 1 1 1 1 1 1 1 1 1 1 1 1 1 1 1 1 1 1 1 1 1 1 1 1 1 1 1 1 1 1 1 1 1 1 1 1 1 1 1 1 1 1 1 1 1 1 1 1 1 1 1 1 1 1 1 1 1 1 1 1 1 1 1 1 1 1 1 1 1 1 1 1 1 1 1 1 1 1 1 1 1 1 1 1 1 1 1 1 1 1 1 1 1 1 1 1 1 1 1 1 1 1 1 1 1 1 1 1 1 1 1 1 1 1 1 1 1 1 1 1 1 1 1 1 1 1 1 1 1 1 1 1 1 1 1 1 1 1 1 1 1 1 1 1 1 1 1 1 1 1 1 1 1 1 1 1 1 1 1 1 1 1 1 1 1 1 1 1 1 1 1 1 1 1 1 1 1 1 1 1 1 1 1 1 1 1 1 1 1 1 1 1 1 1 1 1 1 1 1 1 1 1 1 1 1 1 1 1 1 1 1 1 1 1 1 1 1 1 1 1 1 1 1 1 1 1 1 1 1 1 1 1 1 1 1 1 1 1 1 1 1 1 1 1 1 1 1 1 1 1 1 1 1 1 1 1 1 1 1 1 1 1 1 1 1 1 1 1 1 1 1 1 1 1 1 1 1 1 1 1 1 1 1 1 1 1 1 1 1 1 1 1 1 1 1 1 1 1 1 1 1 1 1 1 1 1 1 1 1 1 1 1 1 1 1 1 1 1 1 1 1 1 1 1 1 1 1 1 1 1 1 1 1 1 1 1 1 1 1 1 1 1 1 1 1 1 1 1 1 1 1 1 1 1 1 1 1 1 1 1 1 1 1 1 1 1 1 1 1 1 1 1 1 1 1 1 1 1 1 1 1 1 1 1 1 1 1 1 1 1 1 1 1 1 1 1 1 1 1 1 1 1 1 1 1 1 1 1 1 1 1 1 1 1 1 1 1 1 1 1 1 1 1 1 1 1 1 1 1 1 1 1 1 1 1 1 1 1 1 1 1 1 1 1 1 1 1 1 1 1 1 1 1 1 1 1 1 1 1 1 1 1 1 1 1 1 1 1 1 1 1 1 1 1 1 1 1 1 1 1 1 1 1 1 1 1 1 1 1 1 1 1 1 1 1 1 1 1 1 1 1 1 1 1 1 1 1 1 1 1 1 1 1 1 1 1 1 1 1 1 1 1 1 1 1 1 1 1 1 1 1 1 1 1 1 1 1 1 1 1 1 1 1 1 1 1 1 1 1 1 1 1 1 1 1 1 1 1 1 1 1 1 1 1 1 1 1 1 1 1 1 1 1 1 1 1 1 1 1 1 1 1 1 1 1 1 1 1 1 1 1 1 1 1 1 1 1 1 1 1 1 1 1 1 1 1 1 1 1 1 1 1 1 1 1 1 1 1 1 1 1 1 1 1 1 1 1 1 1 1 1 1 1 1 1 1 1 1 1 1 1 1 1 1 1 1 1 1 1 1 1 1 1 1 1 1 1 1 1 1 1 1 1 1 1 1 1 1 1 1 1 1 1 1 1 1 1 1 1 1 1 1 1 1 1 1 1 1 1 1 1 1 1 1 1 1 1 1 1 1 1 1 1 1 1 1 1 1 1 1 1 1 1 1 1 1 1 1 1 1 1 1 1 1 1 1 1 1 1 1 1 1 1 1 1 1 1 1 1 1 1 1 1 1 1 1 1 1 1 1 1 1 1 1 1 1 1 1 1 1 1 1 1 1 1 1 1 1 1 1 1 1 1 1 1 1 1 1 1 1 1 1 1 1 1 1 1 1 1 1 1 1 1 1 1 1 1 1 1 1 1 1 1 1 1 1 1 1 1 1 1 1 1 1 1 1 1 1 1 1 1 1 1 1 1 1 1 1 1 1 1 1 1 1 1 1 1 1 1 1 1 1 1 1 1 1 1 "
          ],
          "name": "stdout"
        },
        {
          "output_type": "error",
          "ename": "KeyboardInterrupt",
          "evalue": "ignored",
          "traceback": [
            "\u001b[0;31m---------------------------------------------------------------------------\u001b[0m",
            "\u001b[0;31mKeyboardInterrupt\u001b[0m                         Traceback (most recent call last)",
            "\u001b[0;32m<ipython-input-10-55552fc63768>\u001b[0m in \u001b[0;36m<module>\u001b[0;34m()\u001b[0m\n\u001b[1;32m      1\u001b[0m \u001b[0mi\u001b[0m \u001b[0;34m=\u001b[0m \u001b[0;36m1\u001b[0m\u001b[0;34m\u001b[0m\u001b[0;34m\u001b[0m\u001b[0m\n\u001b[1;32m      2\u001b[0m \u001b[0;32mwhile\u001b[0m \u001b[0mi\u001b[0m \u001b[0;34m<=\u001b[0m \u001b[0;36m10\u001b[0m\u001b[0;34m:\u001b[0m\u001b[0;34m\u001b[0m\u001b[0;34m\u001b[0m\u001b[0m\n\u001b[0;32m----> 3\u001b[0;31m   \u001b[0mprint\u001b[0m\u001b[0;34m(\u001b[0m\u001b[0mi\u001b[0m\u001b[0;34m,\u001b[0m \u001b[0mend\u001b[0m\u001b[0;34m=\u001b[0m\u001b[0;34m\" \"\u001b[0m\u001b[0;34m)\u001b[0m\u001b[0;34m\u001b[0m\u001b[0;34m\u001b[0m\u001b[0m\n\u001b[0m",
            "\u001b[0;32m/usr/local/lib/python3.7/dist-packages/ipykernel/iostream.py\u001b[0m in \u001b[0;36mwrite\u001b[0;34m(self, string)\u001b[0m\n\u001b[1;32m    398\u001b[0m             \u001b[0mis_child\u001b[0m \u001b[0;34m=\u001b[0m \u001b[0;34m(\u001b[0m\u001b[0;32mnot\u001b[0m \u001b[0mself\u001b[0m\u001b[0;34m.\u001b[0m\u001b[0m_is_master_process\u001b[0m\u001b[0;34m(\u001b[0m\u001b[0;34m)\u001b[0m\u001b[0;34m)\u001b[0m\u001b[0;34m\u001b[0m\u001b[0;34m\u001b[0m\u001b[0m\n\u001b[1;32m    399\u001b[0m             \u001b[0;31m# only touch the buffer in the IO thread to avoid races\u001b[0m\u001b[0;34m\u001b[0m\u001b[0;34m\u001b[0m\u001b[0;34m\u001b[0m\u001b[0m\n\u001b[0;32m--> 400\u001b[0;31m             \u001b[0mself\u001b[0m\u001b[0;34m.\u001b[0m\u001b[0mpub_thread\u001b[0m\u001b[0;34m.\u001b[0m\u001b[0mschedule\u001b[0m\u001b[0;34m(\u001b[0m\u001b[0;32mlambda\u001b[0m \u001b[0;34m:\u001b[0m \u001b[0mself\u001b[0m\u001b[0;34m.\u001b[0m\u001b[0m_buffer\u001b[0m\u001b[0;34m.\u001b[0m\u001b[0mwrite\u001b[0m\u001b[0;34m(\u001b[0m\u001b[0mstring\u001b[0m\u001b[0;34m)\u001b[0m\u001b[0;34m)\u001b[0m\u001b[0;34m\u001b[0m\u001b[0;34m\u001b[0m\u001b[0m\n\u001b[0m\u001b[1;32m    401\u001b[0m             \u001b[0;32mif\u001b[0m \u001b[0mis_child\u001b[0m\u001b[0;34m:\u001b[0m\u001b[0;34m\u001b[0m\u001b[0;34m\u001b[0m\u001b[0m\n\u001b[1;32m    402\u001b[0m                 \u001b[0;31m# newlines imply flush in subprocesses\u001b[0m\u001b[0;34m\u001b[0m\u001b[0;34m\u001b[0m\u001b[0;34m\u001b[0m\u001b[0m\n",
            "\u001b[0;32m/usr/local/lib/python3.7/dist-packages/ipykernel/iostream.py\u001b[0m in \u001b[0;36mschedule\u001b[0;34m(self, f)\u001b[0m\n\u001b[1;32m    201\u001b[0m             \u001b[0mself\u001b[0m\u001b[0;34m.\u001b[0m\u001b[0m_events\u001b[0m\u001b[0;34m.\u001b[0m\u001b[0mappend\u001b[0m\u001b[0;34m(\u001b[0m\u001b[0mf\u001b[0m\u001b[0;34m)\u001b[0m\u001b[0;34m\u001b[0m\u001b[0;34m\u001b[0m\u001b[0m\n\u001b[1;32m    202\u001b[0m             \u001b[0;31m# wake event thread (message content is ignored)\u001b[0m\u001b[0;34m\u001b[0m\u001b[0;34m\u001b[0m\u001b[0;34m\u001b[0m\u001b[0m\n\u001b[0;32m--> 203\u001b[0;31m             \u001b[0mself\u001b[0m\u001b[0;34m.\u001b[0m\u001b[0m_event_pipe\u001b[0m\u001b[0;34m.\u001b[0m\u001b[0msend\u001b[0m\u001b[0;34m(\u001b[0m\u001b[0;34mb''\u001b[0m\u001b[0;34m)\u001b[0m\u001b[0;34m\u001b[0m\u001b[0;34m\u001b[0m\u001b[0m\n\u001b[0m\u001b[1;32m    204\u001b[0m         \u001b[0;32melse\u001b[0m\u001b[0;34m:\u001b[0m\u001b[0;34m\u001b[0m\u001b[0;34m\u001b[0m\u001b[0m\n\u001b[1;32m    205\u001b[0m             \u001b[0mf\u001b[0m\u001b[0;34m(\u001b[0m\u001b[0;34m)\u001b[0m\u001b[0;34m\u001b[0m\u001b[0;34m\u001b[0m\u001b[0m\n",
            "\u001b[0;32m/usr/local/lib/python3.7/dist-packages/zmq/sugar/socket.py\u001b[0m in \u001b[0;36msend\u001b[0;34m(self, data, flags, copy, track, routing_id, group)\u001b[0m\n\u001b[1;32m    503\u001b[0m                 )\n\u001b[1;32m    504\u001b[0m             \u001b[0mdata\u001b[0m\u001b[0;34m.\u001b[0m\u001b[0mgroup\u001b[0m \u001b[0;34m=\u001b[0m \u001b[0mgroup\u001b[0m\u001b[0;34m\u001b[0m\u001b[0;34m\u001b[0m\u001b[0m\n\u001b[0;32m--> 505\u001b[0;31m         \u001b[0;32mreturn\u001b[0m \u001b[0msuper\u001b[0m\u001b[0;34m(\u001b[0m\u001b[0mSocket\u001b[0m\u001b[0;34m,\u001b[0m \u001b[0mself\u001b[0m\u001b[0;34m)\u001b[0m\u001b[0;34m.\u001b[0m\u001b[0msend\u001b[0m\u001b[0;34m(\u001b[0m\u001b[0mdata\u001b[0m\u001b[0;34m,\u001b[0m \u001b[0mflags\u001b[0m\u001b[0;34m=\u001b[0m\u001b[0mflags\u001b[0m\u001b[0;34m,\u001b[0m \u001b[0mcopy\u001b[0m\u001b[0;34m=\u001b[0m\u001b[0mcopy\u001b[0m\u001b[0;34m,\u001b[0m \u001b[0mtrack\u001b[0m\u001b[0;34m=\u001b[0m\u001b[0mtrack\u001b[0m\u001b[0;34m)\u001b[0m\u001b[0;34m\u001b[0m\u001b[0;34m\u001b[0m\u001b[0m\n\u001b[0m\u001b[1;32m    506\u001b[0m \u001b[0;34m\u001b[0m\u001b[0m\n\u001b[1;32m    507\u001b[0m     \u001b[0;32mdef\u001b[0m \u001b[0msend_multipart\u001b[0m\u001b[0;34m(\u001b[0m\u001b[0mself\u001b[0m\u001b[0;34m,\u001b[0m \u001b[0mmsg_parts\u001b[0m\u001b[0;34m,\u001b[0m \u001b[0mflags\u001b[0m\u001b[0;34m=\u001b[0m\u001b[0;36m0\u001b[0m\u001b[0;34m,\u001b[0m \u001b[0mcopy\u001b[0m\u001b[0;34m=\u001b[0m\u001b[0;32mTrue\u001b[0m\u001b[0;34m,\u001b[0m \u001b[0mtrack\u001b[0m\u001b[0;34m=\u001b[0m\u001b[0;32mFalse\u001b[0m\u001b[0;34m,\u001b[0m \u001b[0;34m**\u001b[0m\u001b[0mkwargs\u001b[0m\u001b[0;34m)\u001b[0m\u001b[0;34m:\u001b[0m\u001b[0;34m\u001b[0m\u001b[0;34m\u001b[0m\u001b[0m\n",
            "\u001b[0;32mzmq/backend/cython/socket.pyx\u001b[0m in \u001b[0;36mzmq.backend.cython.socket.Socket.send\u001b[0;34m()\u001b[0m\n",
            "\u001b[0;32mzmq/backend/cython/socket.pyx\u001b[0m in \u001b[0;36mzmq.backend.cython.socket.Socket.send\u001b[0;34m()\u001b[0m\n",
            "\u001b[0;32mzmq/backend/cython/socket.pyx\u001b[0m in \u001b[0;36mzmq.backend.cython.socket._send_copy\u001b[0;34m()\u001b[0m\n",
            "\u001b[0;32m/usr/local/lib/python3.7/dist-packages/zmq/backend/cython/checkrc.pxd\u001b[0m in \u001b[0;36mzmq.backend.cython.checkrc._check_rc\u001b[0;34m()\u001b[0m\n",
            "\u001b[0;31mKeyboardInterrupt\u001b[0m: "
          ]
        }
      ]
    },
    {
      "cell_type": "markdown",
      "metadata": {
        "id": "1frd6jKNzDvn"
      },
      "source": [
        "1 1 1 1 1 1 1 ....\n",
        "\n",
        "Nos olvidamos modificar la variable de control dentro del bucle y el programa imprimirá números 1 indefinidamente.\n"
      ]
    },
    {
      "cell_type": "markdown",
      "metadata": {
        "id": "srKYmkqsmHw2"
      },
      "source": [
        "## Instalación y uso de módulos"
      ]
    },
    {
      "cell_type": "markdown",
      "metadata": {
        "id": "zAD0DtWA571X"
      },
      "source": [
        "### Instalando módulos de terceros"
      ]
    },
    {
      "cell_type": "code",
      "metadata": {
        "colab": {
          "base_uri": "https://localhost:8080/"
        },
        "id": "fsB4VhaQ6Bn1",
        "outputId": "2102d9fc-afce-4bb0-b8d8-4cfa0145f72b"
      },
      "source": [
        "pip install pandas_datareader"
      ],
      "execution_count": 11,
      "outputs": [
        {
          "output_type": "stream",
          "text": [
            "Requirement already satisfied: pandas_datareader in /usr/local/lib/python3.7/dist-packages (0.9.0)\n",
            "Requirement already satisfied: requests>=2.19.0 in /usr/local/lib/python3.7/dist-packages (from pandas_datareader) (2.23.0)\n",
            "Requirement already satisfied: pandas>=0.23 in /usr/local/lib/python3.7/dist-packages (from pandas_datareader) (1.1.5)\n",
            "Requirement already satisfied: lxml in /usr/local/lib/python3.7/dist-packages (from pandas_datareader) (4.2.6)\n",
            "Requirement already satisfied: urllib3!=1.25.0,!=1.25.1,<1.26,>=1.21.1 in /usr/local/lib/python3.7/dist-packages (from requests>=2.19.0->pandas_datareader) (1.24.3)\n",
            "Requirement already satisfied: chardet<4,>=3.0.2 in /usr/local/lib/python3.7/dist-packages (from requests>=2.19.0->pandas_datareader) (3.0.4)\n",
            "Requirement already satisfied: certifi>=2017.4.17 in /usr/local/lib/python3.7/dist-packages (from requests>=2.19.0->pandas_datareader) (2020.12.5)\n",
            "Requirement already satisfied: idna<3,>=2.5 in /usr/local/lib/python3.7/dist-packages (from requests>=2.19.0->pandas_datareader) (2.10)\n",
            "Requirement already satisfied: python-dateutil>=2.7.3 in /usr/local/lib/python3.7/dist-packages (from pandas>=0.23->pandas_datareader) (2.8.1)\n",
            "Requirement already satisfied: numpy>=1.15.4 in /usr/local/lib/python3.7/dist-packages (from pandas>=0.23->pandas_datareader) (1.19.5)\n",
            "Requirement already satisfied: pytz>=2017.2 in /usr/local/lib/python3.7/dist-packages (from pandas>=0.23->pandas_datareader) (2018.9)\n",
            "Requirement already satisfied: six>=1.5 in /usr/local/lib/python3.7/dist-packages (from python-dateutil>=2.7.3->pandas>=0.23->pandas_datareader) (1.15.0)\n"
          ],
          "name": "stdout"
        }
      ]
    },
    {
      "cell_type": "code",
      "metadata": {
        "colab": {
          "base_uri": "https://localhost:8080/"
        },
        "id": "Tglk9kvq6Esm",
        "outputId": "799594c6-80c3-4f3a-d7aa-9e71ee3b856b"
      },
      "source": [
        "pip show pandas_datareader"
      ],
      "execution_count": 12,
      "outputs": [
        {
          "output_type": "stream",
          "text": [
            "Name: pandas-datareader\n",
            "Version: 0.9.0\n",
            "Summary: Data readers extracted from the pandas codebase,should be compatible with recent pandas versions\n",
            "Home-page: https://github.com/pydata/pandas-datareader\n",
            "Author: The PyData Development Team\n",
            "Author-email: pydata@googlegroups.com\n",
            "License: BSD License\n",
            "Location: /usr/local/lib/python3.7/dist-packages\n",
            "Requires: lxml, pandas, requests\n",
            "Required-by: \n"
          ],
          "name": "stdout"
        }
      ]
    },
    {
      "cell_type": "code",
      "metadata": {
        "colab": {
          "base_uri": "https://localhost:8080/"
        },
        "id": "XOccqsMY6PEl",
        "outputId": "eeb4e0ee-450e-4037-812a-7c7f554a927c"
      },
      "source": [
        "pip list"
      ],
      "execution_count": 13,
      "outputs": [
        {
          "output_type": "stream",
          "text": [
            "Package                       Version       \n",
            "----------------------------- --------------\n",
            "absl-py                       0.12.0        \n",
            "alabaster                     0.7.12        \n",
            "albumentations                0.1.12        \n",
            "altair                        4.1.0         \n",
            "appdirs                       1.4.4         \n",
            "argon2-cffi                   20.1.0        \n",
            "arviz                         0.11.2        \n",
            "astor                         0.8.1         \n",
            "astropy                       4.2.1         \n",
            "astunparse                    1.6.3         \n",
            "async-generator               1.10          \n",
            "atari-py                      0.2.6         \n",
            "atomicwrites                  1.4.0         \n",
            "attrs                         21.2.0        \n",
            "audioread                     2.1.9         \n",
            "autograd                      1.3           \n",
            "Babel                         2.9.1         \n",
            "backcall                      0.2.0         \n",
            "beautifulsoup4                4.6.3         \n",
            "bleach                        3.3.0         \n",
            "blis                          0.4.1         \n",
            "bokeh                         2.3.2         \n",
            "Bottleneck                    1.3.2         \n",
            "branca                        0.4.2         \n",
            "bs4                           0.0.1         \n",
            "CacheControl                  0.12.6        \n",
            "cachetools                    4.2.2         \n",
            "catalogue                     1.0.0         \n",
            "certifi                       2020.12.5     \n",
            "cffi                          1.14.5        \n",
            "cftime                        1.4.1         \n",
            "chainer                       7.4.0         \n",
            "chardet                       3.0.4         \n",
            "click                         8.0.0         \n",
            "cloudpickle                   1.3.0         \n",
            "cmake                         3.12.0        \n",
            "cmdstanpy                     0.9.5         \n",
            "colorcet                      2.0.6         \n",
            "colorlover                    0.3.0         \n",
            "community                     1.0.0b1       \n",
            "contextlib2                   0.5.5         \n",
            "convertdate                   2.3.2         \n",
            "coverage                      3.7.1         \n",
            "coveralls                     0.5           \n",
            "crcmod                        1.7           \n",
            "cufflinks                     0.17.3        \n",
            "cvxopt                        1.2.6         \n",
            "cvxpy                         1.0.31        \n",
            "cycler                        0.10.0        \n",
            "cymem                         2.0.5         \n",
            "Cython                        0.29.23       \n",
            "daft                          0.0.4         \n",
            "dask                          2.12.0        \n",
            "datascience                   0.10.6        \n",
            "debugpy                       1.0.0         \n",
            "decorator                     4.4.2         \n",
            "defusedxml                    0.7.1         \n",
            "descartes                     1.1.0         \n",
            "dill                          0.3.3         \n",
            "distributed                   1.25.3        \n",
            "dlib                          19.18.0       \n",
            "dm-tree                       0.1.6         \n",
            "docopt                        0.6.2         \n",
            "docutils                      0.17.1        \n",
            "dopamine-rl                   1.0.5         \n",
            "earthengine-api               0.1.264       \n",
            "easydict                      1.9           \n",
            "ecos                          2.0.7.post1   \n",
            "editdistance                  0.5.3         \n",
            "en-core-web-sm                2.2.5         \n",
            "entrypoints                   0.3           \n",
            "ephem                         3.7.7.1       \n",
            "et-xmlfile                    1.1.0         \n",
            "fa2                           0.3.5         \n",
            "fancyimpute                   0.4.3         \n",
            "fastai                        1.0.61        \n",
            "fastdtw                       0.3.4         \n",
            "fastprogress                  1.0.0         \n",
            "fastrlock                     0.6           \n",
            "fbprophet                     0.7.1         \n",
            "feather-format                0.4.1         \n",
            "filelock                      3.0.12        \n",
            "firebase-admin                4.4.0         \n",
            "fix-yahoo-finance             0.0.22        \n",
            "Flask                         1.1.2         \n",
            "flatbuffers                   1.12          \n",
            "folium                        0.8.3         \n",
            "future                        0.16.0        \n",
            "gast                          0.3.3         \n",
            "GDAL                          2.2.2         \n",
            "gdown                         3.6.4         \n",
            "gensim                        3.6.0         \n",
            "geographiclib                 1.50          \n",
            "geopy                         1.17.0        \n",
            "gin-config                    0.4.0         \n",
            "glob2                         0.7           \n",
            "google                        2.0.3         \n",
            "google-api-core               1.26.3        \n",
            "google-api-python-client      1.12.8        \n",
            "google-auth                   1.30.0        \n",
            "google-auth-httplib2          0.0.4         \n",
            "google-auth-oauthlib          0.4.4         \n",
            "google-cloud-bigquery         1.21.0        \n",
            "google-cloud-bigquery-storage 1.1.0         \n",
            "google-cloud-core             1.0.3         \n",
            "google-cloud-datastore        1.8.0         \n",
            "google-cloud-firestore        1.7.0         \n",
            "google-cloud-language         1.2.0         \n",
            "google-cloud-storage          1.18.1        \n",
            "google-cloud-translate        1.5.0         \n",
            "google-colab                  1.0.0         \n",
            "google-pasta                  0.2.0         \n",
            "google-resumable-media        0.4.1         \n",
            "googleapis-common-protos      1.53.0        \n",
            "googledrivedownloader         0.4           \n",
            "graphviz                      0.10.1        \n",
            "greenlet                      1.1.0         \n",
            "grpcio                        1.32.0        \n",
            "gspread                       3.0.1         \n",
            "gspread-dataframe             3.0.8         \n",
            "gym                           0.17.3        \n",
            "h5py                          2.10.0        \n",
            "HeapDict                      1.0.1         \n",
            "hijri-converter               2.1.1         \n",
            "holidays                      0.10.5.2      \n",
            "holoviews                     1.14.3        \n",
            "html5lib                      1.0.1         \n",
            "httpimport                    0.5.18        \n",
            "httplib2                      0.17.4        \n",
            "httplib2shim                  0.0.3         \n",
            "humanize                      0.5.1         \n",
            "hyperopt                      0.1.2         \n",
            "ideep4py                      2.0.0.post3   \n",
            "idna                          2.10          \n",
            "imageio                       2.4.1         \n",
            "imagesize                     1.2.0         \n",
            "imbalanced-learn              0.4.3         \n",
            "imblearn                      0.0           \n",
            "imgaug                        0.2.9         \n",
            "importlib-metadata            4.0.1         \n",
            "importlib-resources           5.1.2         \n",
            "imutils                       0.5.4         \n",
            "inflect                       2.1.0         \n",
            "iniconfig                     1.1.1         \n",
            "intel-openmp                  2021.2.0      \n",
            "intervaltree                  2.1.0         \n",
            "ipykernel                     4.10.1        \n",
            "ipython                       5.5.0         \n",
            "ipython-genutils              0.2.0         \n",
            "ipython-sql                   0.3.9         \n",
            "ipywidgets                    7.6.3         \n",
            "itsdangerous                  2.0.0         \n",
            "jax                           0.2.13        \n",
            "jaxlib                        0.1.66+cuda110\n",
            "jdcal                         1.4.1         \n",
            "jedi                          0.18.0        \n",
            "jieba                         0.42.1        \n",
            "Jinja2                        2.11.3        \n",
            "joblib                        1.0.1         \n",
            "jpeg4py                       0.1.4         \n",
            "jsonschema                    2.6.0         \n",
            "jupyter                       1.0.0         \n",
            "jupyter-client                5.3.5         \n",
            "jupyter-console               5.2.0         \n",
            "jupyter-core                  4.7.1         \n",
            "jupyterlab-pygments           0.1.2         \n",
            "jupyterlab-widgets            1.0.0         \n",
            "kaggle                        1.5.12        \n",
            "kapre                         0.1.3.1       \n",
            "Keras                         2.4.3         \n",
            "Keras-Preprocessing           1.1.2         \n",
            "keras-vis                     0.4.1         \n",
            "kiwisolver                    1.3.1         \n",
            "knnimpute                     0.1.0         \n",
            "korean-lunar-calendar         0.2.1         \n",
            "librosa                       0.8.0         \n",
            "lightgbm                      2.2.3         \n",
            "llvmlite                      0.34.0        \n",
            "lmdb                          0.99          \n",
            "LunarCalendar                 0.0.9         \n",
            "lxml                          4.2.6         \n",
            "Markdown                      3.3.4         \n",
            "MarkupSafe                    2.0.0         \n",
            "matplotlib                    3.2.2         \n",
            "matplotlib-inline             0.1.2         \n",
            "matplotlib-venn               0.11.6        \n",
            "missingno                     0.4.2         \n",
            "mistune                       0.8.4         \n",
            "mizani                        0.6.0         \n",
            "mkl                           2019.0        \n",
            "mlxtend                       0.14.0        \n",
            "more-itertools                8.7.0         \n",
            "moviepy                       0.2.3.5       \n",
            "mpmath                        1.2.1         \n",
            "msgpack                       1.0.2         \n",
            "multiprocess                  0.70.11.1     \n",
            "multitasking                  0.0.9         \n",
            "murmurhash                    1.0.5         \n",
            "music21                       5.5.0         \n",
            "natsort                       5.5.0         \n",
            "nbclient                      0.5.3         \n",
            "nbconvert                     5.6.1         \n",
            "nbformat                      5.1.3         \n",
            "nest-asyncio                  1.5.1         \n",
            "netCDF4                       1.5.6         \n",
            "networkx                      2.5.1         \n",
            "nibabel                       3.0.2         \n",
            "nltk                          3.2.5         \n",
            "notebook                      5.3.1         \n",
            "np-utils                      0.5.12.1      \n",
            "numba                         0.51.2        \n",
            "numexpr                       2.7.3         \n",
            "numpy                         1.19.5        \n",
            "nvidia-ml-py3                 7.352.0       \n",
            "oauth2client                  4.1.3         \n",
            "oauthlib                      3.1.0         \n",
            "okgrade                       0.4.3         \n",
            "opencv-contrib-python         4.1.2.30      \n",
            "opencv-python                 4.1.2.30      \n",
            "openpyxl                      2.5.9         \n",
            "opt-einsum                    3.3.0         \n",
            "osqp                          0.6.2.post0   \n",
            "packaging                     20.9          \n",
            "palettable                    3.3.0         \n",
            "pandas                        1.1.5         \n",
            "pandas-datareader             0.9.0         \n",
            "pandas-gbq                    0.13.3        \n",
            "pandas-profiling              1.4.1         \n",
            "pandocfilters                 1.4.3         \n",
            "panel                         0.11.3        \n",
            "param                         1.10.1        \n",
            "parso                         0.8.2         \n",
            "pathlib                       1.0.1         \n",
            "patsy                         0.5.1         \n",
            "pexpect                       4.8.0         \n",
            "pickleshare                   0.7.5         \n",
            "Pillow                        7.1.2         \n",
            "pip                           19.3.1        \n",
            "pip-tools                     4.5.1         \n",
            "plac                          1.1.3         \n",
            "plotly                        4.4.1         \n",
            "plotnine                      0.6.0         \n",
            "pluggy                        0.7.1         \n",
            "pooch                         1.3.0         \n",
            "portpicker                    1.3.9         \n",
            "prefetch-generator            1.0.1         \n",
            "preshed                       3.0.5         \n",
            "prettytable                   2.1.0         \n",
            "progressbar2                  3.38.0        \n",
            "prometheus-client             0.10.1        \n",
            "promise                       2.3           \n",
            "prompt-toolkit                1.0.18        \n",
            "protobuf                      3.12.4        \n",
            "psutil                        5.4.8         \n",
            "psycopg2                      2.7.6.1       \n",
            "ptyprocess                    0.7.0         \n",
            "py                            1.10.0        \n",
            "pyarrow                       3.0.0         \n",
            "pyasn1                        0.4.8         \n",
            "pyasn1-modules                0.2.8         \n",
            "pycocotools                   2.0.2         \n",
            "pycparser                     2.20          \n",
            "pyct                          0.4.8         \n",
            "pydata-google-auth            1.2.0         \n",
            "pydot                         1.3.0         \n",
            "pydot-ng                      2.0.0         \n",
            "pydotplus                     2.0.2         \n",
            "PyDrive                       1.3.1         \n",
            "pyemd                         0.5.1         \n",
            "pyerfa                        1.7.3         \n",
            "pyglet                        1.5.0         \n",
            "Pygments                      2.6.1         \n",
            "pygobject                     3.26.1        \n",
            "pymc3                         3.11.2        \n",
            "PyMeeus                       0.5.11        \n",
            "pymongo                       3.11.4        \n",
            "pymystem3                     0.2.0         \n",
            "PyOpenGL                      3.1.5         \n",
            "pyparsing                     2.4.7         \n",
            "pyrsistent                    0.17.3        \n",
            "pysndfile                     1.3.8         \n",
            "PySocks                       1.7.1         \n",
            "pystan                        2.19.1.1      \n",
            "pytest                        3.6.4         \n",
            "python-apt                    0.0.0         \n",
            "python-chess                  0.23.11       \n",
            "python-dateutil               2.8.1         \n",
            "python-louvain                0.15          \n",
            "python-slugify                5.0.2         \n",
            "python-utils                  2.5.6         \n",
            "pytz                          2018.9        \n",
            "pyviz-comms                   2.0.1         \n",
            "PyWavelets                    1.1.1         \n",
            "PyYAML                        3.13          \n",
            "pyzmq                         22.0.3        \n",
            "qdldl                         0.1.5.post0   \n",
            "qtconsole                     5.1.0         \n",
            "QtPy                          1.9.0         \n",
            "regex                         2019.12.20    \n",
            "requests                      2.23.0        \n",
            "requests-oauthlib             1.3.0         \n",
            "resampy                       0.2.2         \n",
            "retrying                      1.3.3         \n",
            "rpy2                          3.4.4         \n",
            "rsa                           4.7.2         \n",
            "scikit-image                  0.16.2        \n",
            "scikit-learn                  0.22.2.post1  \n",
            "scipy                         1.4.1         \n",
            "screen-resolution-extra       0.0.0         \n",
            "scs                           2.1.3         \n",
            "seaborn                       0.11.1        \n",
            "semver                        2.13.0        \n",
            "Send2Trash                    1.5.0         \n",
            "setuptools                    56.1.0        \n",
            "setuptools-git                1.2           \n",
            "Shapely                       1.7.1         \n",
            "simplegeneric                 0.8.1         \n",
            "six                           1.15.0        \n",
            "sklearn                       0.0           \n",
            "sklearn-pandas                1.8.0         \n",
            "smart-open                    5.0.0         \n",
            "snowballstemmer               2.1.0         \n",
            "sortedcontainers              2.3.0         \n",
            "SoundFile                     0.10.3.post1  \n",
            "spacy                         2.2.4         \n",
            "Sphinx                        1.8.5         \n",
            "sphinxcontrib-serializinghtml 1.1.4         \n",
            "sphinxcontrib-websupport      1.2.4         \n",
            "SQLAlchemy                    1.4.15        \n",
            "sqlparse                      0.4.1         \n",
            "srsly                         1.0.5         \n",
            "statsmodels                   0.10.2        \n",
            "sympy                         1.7.1         \n",
            "tables                        3.4.4         \n",
            "tabulate                      0.8.9         \n",
            "tblib                         1.7.0         \n",
            "tensorboard                   2.4.1         \n",
            "tensorboard-plugin-wit        1.8.0         \n",
            "tensorflow                    2.4.1         \n",
            "tensorflow-datasets           4.0.1         \n",
            "tensorflow-estimator          2.4.0         \n",
            "tensorflow-gcs-config         2.4.0         \n",
            "tensorflow-hub                0.12.0        \n",
            "tensorflow-metadata           0.30.0        \n",
            "tensorflow-probability        0.12.1        \n",
            "termcolor                     1.1.0         \n",
            "terminado                     0.9.5         \n",
            "testpath                      0.4.4         \n",
            "text-unidecode                1.3           \n",
            "textblob                      0.15.3        \n",
            "textgenrnn                    1.4.1         \n",
            "Theano-PyMC                   1.1.2         \n",
            "thinc                         7.4.0         \n",
            "tifffile                      2021.4.8      \n",
            "toml                          0.10.2        \n",
            "toolz                         0.11.1        \n",
            "torch                         1.8.1+cu101   \n",
            "torchsummary                  1.5.1         \n",
            "torchtext                     0.9.1         \n",
            "torchvision                   0.9.1+cu101   \n",
            "tornado                       5.1.1         \n",
            "tqdm                          4.41.1        \n",
            "traitlets                     5.0.5         \n",
            "tweepy                        3.10.0        \n",
            "typeguard                     2.7.1         \n",
            "typing-extensions             3.7.4.3       \n",
            "tzlocal                       1.5.1         \n",
            "uritemplate                   3.0.1         \n",
            "urllib3                       1.24.3        \n",
            "vega-datasets                 0.9.0         \n",
            "wasabi                        0.8.2         \n",
            "wcwidth                       0.2.5         \n",
            "webencodings                  0.5.1         \n",
            "Werkzeug                      2.0.0         \n",
            "wheel                         0.36.2        \n",
            "widgetsnbextension            3.5.1         \n",
            "wordcloud                     1.5.0         \n",
            "wrapt                         1.12.1        \n",
            "xarray                        0.18.0        \n",
            "xgboost                       0.90          \n",
            "xkit                          0.0.0         \n",
            "xlrd                          1.1.0         \n",
            "xlwt                          1.3.0         \n",
            "yellowbrick                   0.9.1         \n",
            "zict                          2.0.0         \n",
            "zipp                          3.4.1         \n"
          ],
          "name": "stdout"
        }
      ]
    },
    {
      "cell_type": "markdown",
      "metadata": {
        "id": "qYyLgL2f6gdn"
      },
      "source": [
        "Usando el módulo instalado"
      ]
    },
    {
      "cell_type": "code",
      "metadata": {
        "id": "aQwJm3V56fyd"
      },
      "source": [
        "import pandas_datareader as data"
      ],
      "execution_count": 14,
      "outputs": []
    },
    {
      "cell_type": "markdown",
      "metadata": {
        "id": "SU418PTx6m8h"
      },
      "source": [
        "Ejemplo de uso"
      ]
    },
    {
      "cell_type": "code",
      "metadata": {
        "id": "R1Dcx8so6pYD"
      },
      "source": [
        "Bitcoin2020 = data.DataReader(\"BTC-USD\", start=\"2020-01-01\", end=\"2020-12-30\", data_source=\"yahoo\")"
      ],
      "execution_count": 17,
      "outputs": []
    },
    {
      "cell_type": "code",
      "metadata": {
        "colab": {
          "base_uri": "https://localhost:8080/",
          "height": 450
        },
        "id": "7mzW2cQG7Cu7",
        "outputId": "4c1502f4-b482-4e78-e892-552375438e74"
      },
      "source": [
        "Bitcoin2020"
      ],
      "execution_count": 18,
      "outputs": [
        {
          "output_type": "execute_result",
          "data": {
            "text/html": [
              "<div>\n",
              "<style scoped>\n",
              "    .dataframe tbody tr th:only-of-type {\n",
              "        vertical-align: middle;\n",
              "    }\n",
              "\n",
              "    .dataframe tbody tr th {\n",
              "        vertical-align: top;\n",
              "    }\n",
              "\n",
              "    .dataframe thead th {\n",
              "        text-align: right;\n",
              "    }\n",
              "</style>\n",
              "<table border=\"1\" class=\"dataframe\">\n",
              "  <thead>\n",
              "    <tr style=\"text-align: right;\">\n",
              "      <th></th>\n",
              "      <th>High</th>\n",
              "      <th>Low</th>\n",
              "      <th>Open</th>\n",
              "      <th>Close</th>\n",
              "      <th>Volume</th>\n",
              "      <th>Adj Close</th>\n",
              "    </tr>\n",
              "    <tr>\n",
              "      <th>Date</th>\n",
              "      <th></th>\n",
              "      <th></th>\n",
              "      <th></th>\n",
              "      <th></th>\n",
              "      <th></th>\n",
              "      <th></th>\n",
              "    </tr>\n",
              "  </thead>\n",
              "  <tbody>\n",
              "    <tr>\n",
              "      <th>2020-01-01</th>\n",
              "      <td>7254.330566</td>\n",
              "      <td>7174.944336</td>\n",
              "      <td>7194.892090</td>\n",
              "      <td>7200.174316</td>\n",
              "      <td>1.856566e+10</td>\n",
              "      <td>7200.174316</td>\n",
              "    </tr>\n",
              "    <tr>\n",
              "      <th>2020-01-02</th>\n",
              "      <td>7212.155273</td>\n",
              "      <td>6935.270020</td>\n",
              "      <td>7202.551270</td>\n",
              "      <td>6985.470215</td>\n",
              "      <td>2.080208e+10</td>\n",
              "      <td>6985.470215</td>\n",
              "    </tr>\n",
              "    <tr>\n",
              "      <th>2020-01-03</th>\n",
              "      <td>7413.715332</td>\n",
              "      <td>6914.996094</td>\n",
              "      <td>6984.428711</td>\n",
              "      <td>7344.884277</td>\n",
              "      <td>2.811148e+10</td>\n",
              "      <td>7344.884277</td>\n",
              "    </tr>\n",
              "    <tr>\n",
              "      <th>2020-01-04</th>\n",
              "      <td>7427.385742</td>\n",
              "      <td>7309.514160</td>\n",
              "      <td>7345.375488</td>\n",
              "      <td>7410.656738</td>\n",
              "      <td>1.844427e+10</td>\n",
              "      <td>7410.656738</td>\n",
              "    </tr>\n",
              "    <tr>\n",
              "      <th>2020-01-05</th>\n",
              "      <td>7544.497070</td>\n",
              "      <td>7400.535645</td>\n",
              "      <td>7410.451660</td>\n",
              "      <td>7411.317383</td>\n",
              "      <td>1.972507e+10</td>\n",
              "      <td>7411.317383</td>\n",
              "    </tr>\n",
              "    <tr>\n",
              "      <th>...</th>\n",
              "      <td>...</td>\n",
              "      <td>...</td>\n",
              "      <td>...</td>\n",
              "      <td>...</td>\n",
              "      <td>...</td>\n",
              "      <td>...</td>\n",
              "    </tr>\n",
              "    <tr>\n",
              "      <th>2020-12-27</th>\n",
              "      <td>28288.839844</td>\n",
              "      <td>25922.769531</td>\n",
              "      <td>26439.373047</td>\n",
              "      <td>26272.294922</td>\n",
              "      <td>6.647990e+10</td>\n",
              "      <td>26272.294922</td>\n",
              "    </tr>\n",
              "    <tr>\n",
              "      <th>2020-12-28</th>\n",
              "      <td>27389.111328</td>\n",
              "      <td>26207.640625</td>\n",
              "      <td>26280.822266</td>\n",
              "      <td>27084.808594</td>\n",
              "      <td>4.905674e+10</td>\n",
              "      <td>27084.808594</td>\n",
              "    </tr>\n",
              "    <tr>\n",
              "      <th>2020-12-29</th>\n",
              "      <td>27370.720703</td>\n",
              "      <td>25987.298828</td>\n",
              "      <td>27081.810547</td>\n",
              "      <td>27362.437500</td>\n",
              "      <td>4.526595e+10</td>\n",
              "      <td>27362.437500</td>\n",
              "    </tr>\n",
              "    <tr>\n",
              "      <th>2020-12-30</th>\n",
              "      <td>28937.740234</td>\n",
              "      <td>27360.089844</td>\n",
              "      <td>27360.089844</td>\n",
              "      <td>28840.953125</td>\n",
              "      <td>5.128744e+10</td>\n",
              "      <td>28840.953125</td>\n",
              "    </tr>\n",
              "    <tr>\n",
              "      <th>2020-12-31</th>\n",
              "      <td>29244.876953</td>\n",
              "      <td>28201.992188</td>\n",
              "      <td>28841.574219</td>\n",
              "      <td>29001.720703</td>\n",
              "      <td>4.675496e+10</td>\n",
              "      <td>29001.720703</td>\n",
              "    </tr>\n",
              "  </tbody>\n",
              "</table>\n",
              "<p>362 rows × 6 columns</p>\n",
              "</div>"
            ],
            "text/plain": [
              "                    High           Low  ...        Volume     Adj Close\n",
              "Date                                    ...                            \n",
              "2020-01-01   7254.330566   7174.944336  ...  1.856566e+10   7200.174316\n",
              "2020-01-02   7212.155273   6935.270020  ...  2.080208e+10   6985.470215\n",
              "2020-01-03   7413.715332   6914.996094  ...  2.811148e+10   7344.884277\n",
              "2020-01-04   7427.385742   7309.514160  ...  1.844427e+10   7410.656738\n",
              "2020-01-05   7544.497070   7400.535645  ...  1.972507e+10   7411.317383\n",
              "...                  ...           ...  ...           ...           ...\n",
              "2020-12-27  28288.839844  25922.769531  ...  6.647990e+10  26272.294922\n",
              "2020-12-28  27389.111328  26207.640625  ...  4.905674e+10  27084.808594\n",
              "2020-12-29  27370.720703  25987.298828  ...  4.526595e+10  27362.437500\n",
              "2020-12-30  28937.740234  27360.089844  ...  5.128744e+10  28840.953125\n",
              "2020-12-31  29244.876953  28201.992188  ...  4.675496e+10  29001.720703\n",
              "\n",
              "[362 rows x 6 columns]"
            ]
          },
          "metadata": {
            "tags": []
          },
          "execution_count": 18
        }
      ]
    },
    {
      "cell_type": "markdown",
      "metadata": {
        "id": "xEZXhYqJ7L8m"
      },
      "source": [
        "### Usando módulos integrados"
      ]
    },
    {
      "cell_type": "code",
      "metadata": {
        "id": "AcRXXXNO7Ssa"
      },
      "source": [
        "import math"
      ],
      "execution_count": 19,
      "outputs": []
    },
    {
      "cell_type": "code",
      "metadata": {
        "colab": {
          "base_uri": "https://localhost:8080/"
        },
        "id": "kWq0ihRL7V7r",
        "outputId": "92bc7fd7-08f4-4395-ffa6-6a4130b49d3f"
      },
      "source": [
        "dir(math)"
      ],
      "execution_count": 20,
      "outputs": [
        {
          "output_type": "execute_result",
          "data": {
            "text/plain": [
              "['__doc__',\n",
              " '__loader__',\n",
              " '__name__',\n",
              " '__package__',\n",
              " '__spec__',\n",
              " 'acos',\n",
              " 'acosh',\n",
              " 'asin',\n",
              " 'asinh',\n",
              " 'atan',\n",
              " 'atan2',\n",
              " 'atanh',\n",
              " 'ceil',\n",
              " 'copysign',\n",
              " 'cos',\n",
              " 'cosh',\n",
              " 'degrees',\n",
              " 'e',\n",
              " 'erf',\n",
              " 'erfc',\n",
              " 'exp',\n",
              " 'expm1',\n",
              " 'fabs',\n",
              " 'factorial',\n",
              " 'floor',\n",
              " 'fmod',\n",
              " 'frexp',\n",
              " 'fsum',\n",
              " 'gamma',\n",
              " 'gcd',\n",
              " 'hypot',\n",
              " 'inf',\n",
              " 'isclose',\n",
              " 'isfinite',\n",
              " 'isinf',\n",
              " 'isnan',\n",
              " 'ldexp',\n",
              " 'lgamma',\n",
              " 'log',\n",
              " 'log10',\n",
              " 'log1p',\n",
              " 'log2',\n",
              " 'modf',\n",
              " 'nan',\n",
              " 'pi',\n",
              " 'pow',\n",
              " 'radians',\n",
              " 'remainder',\n",
              " 'sin',\n",
              " 'sinh',\n",
              " 'sqrt',\n",
              " 'tan',\n",
              " 'tanh',\n",
              " 'tau',\n",
              " 'trunc']"
            ]
          },
          "metadata": {
            "tags": []
          },
          "execution_count": 20
        }
      ]
    },
    {
      "cell_type": "code",
      "metadata": {
        "colab": {
          "base_uri": "https://localhost:8080/"
        },
        "id": "_zQmNoFA7bp1",
        "outputId": "e65743ee-02d1-4e8b-c400-368dc269eeb6"
      },
      "source": [
        "math.sin(100)"
      ],
      "execution_count": 21,
      "outputs": [
        {
          "output_type": "execute_result",
          "data": {
            "text/plain": [
              "-0.5063656411097588"
            ]
          },
          "metadata": {
            "tags": []
          },
          "execution_count": 21
        }
      ]
    },
    {
      "cell_type": "code",
      "metadata": {
        "colab": {
          "base_uri": "https://localhost:8080/"
        },
        "id": "lJsoZVKp7gvu",
        "outputId": "71ec26bd-13a9-4ce4-9b98-221ec7663351"
      },
      "source": [
        "math.pi"
      ],
      "execution_count": 22,
      "outputs": [
        {
          "output_type": "execute_result",
          "data": {
            "text/plain": [
              "3.141592653589793"
            ]
          },
          "metadata": {
            "tags": []
          },
          "execution_count": 22
        }
      ]
    },
    {
      "cell_type": "code",
      "metadata": {
        "colab": {
          "base_uri": "https://localhost:8080/"
        },
        "id": "LIP7BVNA7iqk",
        "outputId": "6bdbea19-e746-4974-d45f-27bf0476921a"
      },
      "source": [
        "math.pi * 15"
      ],
      "execution_count": 23,
      "outputs": [
        {
          "output_type": "execute_result",
          "data": {
            "text/plain": [
              "47.12388980384689"
            ]
          },
          "metadata": {
            "tags": []
          },
          "execution_count": 23
        }
      ]
    },
    {
      "cell_type": "code",
      "metadata": {
        "colab": {
          "base_uri": "https://localhost:8080/"
        },
        "id": "Fy0FGCg57qkz",
        "outputId": "c27c4745-f233-471b-ee89-0a28986e2446"
      },
      "source": [
        "math.sqrt(25)"
      ],
      "execution_count": 24,
      "outputs": [
        {
          "output_type": "execute_result",
          "data": {
            "text/plain": [
              "5.0"
            ]
          },
          "metadata": {
            "tags": []
          },
          "execution_count": 24
        }
      ]
    },
    {
      "cell_type": "code",
      "metadata": {
        "id": "BIhQIHVx7_t-"
      },
      "source": [
        "import statistics"
      ],
      "execution_count": 25,
      "outputs": []
    },
    {
      "cell_type": "code",
      "metadata": {
        "colab": {
          "base_uri": "https://localhost:8080/"
        },
        "id": "Lc2VGy7K8HBc",
        "outputId": "b00e5d4f-bb28-4bf4-ea7d-6f5508ed0731"
      },
      "source": [
        "dir(statistics)"
      ],
      "execution_count": 26,
      "outputs": [
        {
          "output_type": "execute_result",
          "data": {
            "text/plain": [
              "['Decimal',\n",
              " 'Fraction',\n",
              " 'StatisticsError',\n",
              " '__all__',\n",
              " '__builtins__',\n",
              " '__cached__',\n",
              " '__doc__',\n",
              " '__file__',\n",
              " '__loader__',\n",
              " '__name__',\n",
              " '__package__',\n",
              " '__spec__',\n",
              " '_coerce',\n",
              " '_convert',\n",
              " '_counts',\n",
              " '_exact_ratio',\n",
              " '_fail_neg',\n",
              " '_find_lteq',\n",
              " '_find_rteq',\n",
              " '_isfinite',\n",
              " '_ss',\n",
              " '_sum',\n",
              " 'bisect_left',\n",
              " 'bisect_right',\n",
              " 'collections',\n",
              " 'groupby',\n",
              " 'harmonic_mean',\n",
              " 'math',\n",
              " 'mean',\n",
              " 'median',\n",
              " 'median_grouped',\n",
              " 'median_high',\n",
              " 'median_low',\n",
              " 'mode',\n",
              " 'numbers',\n",
              " 'pstdev',\n",
              " 'pvariance',\n",
              " 'stdev',\n",
              " 'variance']"
            ]
          },
          "metadata": {
            "tags": []
          },
          "execution_count": 26
        }
      ]
    },
    {
      "cell_type": "code",
      "metadata": {
        "id": "fDcbOeCf8NbR"
      },
      "source": [
        "x = [10, 15, 18, 19, 25]"
      ],
      "execution_count": 27,
      "outputs": []
    },
    {
      "cell_type": "code",
      "metadata": {
        "colab": {
          "base_uri": "https://localhost:8080/"
        },
        "id": "0TdKSKE58Tzy",
        "outputId": "ef336c4a-8925-4757-cc1c-66e61a9ea216"
      },
      "source": [
        "statistics.mean(x)"
      ],
      "execution_count": 28,
      "outputs": [
        {
          "output_type": "execute_result",
          "data": {
            "text/plain": [
              "17.4"
            ]
          },
          "metadata": {
            "tags": []
          },
          "execution_count": 28
        }
      ]
    },
    {
      "cell_type": "code",
      "metadata": {
        "colab": {
          "base_uri": "https://localhost:8080/"
        },
        "id": "9IXLmIvp8VEu",
        "outputId": "44bdd807-5519-4ab8-e8b4-380682bf1404"
      },
      "source": [
        "statistics.median(x)"
      ],
      "execution_count": 29,
      "outputs": [
        {
          "output_type": "execute_result",
          "data": {
            "text/plain": [
              "18"
            ]
          },
          "metadata": {
            "tags": []
          },
          "execution_count": 29
        }
      ]
    },
    {
      "cell_type": "code",
      "metadata": {
        "colab": {
          "base_uri": "https://localhost:8080/"
        },
        "id": "CDlR9P7W8Yz3",
        "outputId": "03e0e490-b8eb-4ee2-836b-53397a84ac63"
      },
      "source": [
        "statistics.variance(x)"
      ],
      "execution_count": 30,
      "outputs": [
        {
          "output_type": "execute_result",
          "data": {
            "text/plain": [
              "30.3"
            ]
          },
          "metadata": {
            "tags": []
          },
          "execution_count": 30
        }
      ]
    },
    {
      "cell_type": "code",
      "metadata": {
        "id": "3WiDT-At8n9o"
      },
      "source": [
        "import datetime"
      ],
      "execution_count": 31,
      "outputs": []
    },
    {
      "cell_type": "code",
      "metadata": {
        "colab": {
          "base_uri": "https://localhost:8080/"
        },
        "id": "BNtN-Ytn8pnK",
        "outputId": "2f42b177-7bea-4f36-bfb3-781926a2a5d8"
      },
      "source": [
        "dir(datetime)"
      ],
      "execution_count": 32,
      "outputs": [
        {
          "output_type": "execute_result",
          "data": {
            "text/plain": [
              "['MAXYEAR',\n",
              " 'MINYEAR',\n",
              " '__builtins__',\n",
              " '__cached__',\n",
              " '__doc__',\n",
              " '__file__',\n",
              " '__loader__',\n",
              " '__name__',\n",
              " '__package__',\n",
              " '__spec__',\n",
              " 'date',\n",
              " 'datetime',\n",
              " 'datetime_CAPI',\n",
              " 'sys',\n",
              " 'time',\n",
              " 'timedelta',\n",
              " 'timezone',\n",
              " 'tzinfo']"
            ]
          },
          "metadata": {
            "tags": []
          },
          "execution_count": 32
        }
      ]
    },
    {
      "cell_type": "code",
      "metadata": {
        "colab": {
          "base_uri": "https://localhost:8080/"
        },
        "id": "dOWFxzsm8usu",
        "outputId": "1c84ed63-91eb-4dae-834f-1d3c59b21910"
      },
      "source": [
        "datetime.date.today()"
      ],
      "execution_count": 38,
      "outputs": [
        {
          "output_type": "execute_result",
          "data": {
            "text/plain": [
              "datetime.date(2021, 5, 15)"
            ]
          },
          "metadata": {
            "tags": []
          },
          "execution_count": 38
        }
      ]
    },
    {
      "cell_type": "code",
      "metadata": {
        "colab": {
          "base_uri": "https://localhost:8080/"
        },
        "id": "7lIHfXm89D0V",
        "outputId": "d48829ed-3409-47a3-ecb2-98091b25bcd2"
      },
      "source": [
        "datetime.date.max"
      ],
      "execution_count": 39,
      "outputs": [
        {
          "output_type": "execute_result",
          "data": {
            "text/plain": [
              "datetime.date(9999, 12, 31)"
            ]
          },
          "metadata": {
            "tags": []
          },
          "execution_count": 39
        }
      ]
    }
  ]
}