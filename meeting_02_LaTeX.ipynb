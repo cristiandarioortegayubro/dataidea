{
  "nbformat": 4,
  "nbformat_minor": 0,
  "metadata": {
    "colab": {
      "name": "meeting_02_LaTeX.ipynb",
      "provenance": [],
      "collapsed_sections": [],
      "toc_visible": true,
      "include_colab_link": true
    },
    "kernelspec": {
      "name": "python3",
      "display_name": "Python 3"
    }
  },
  "cells": [
    {
      "cell_type": "markdown",
      "metadata": {
        "id": "view-in-github",
        "colab_type": "text"
      },
      "source": [
        "<a href=\"https://colab.research.google.com/github/cristiandarioortegayubro/dataidea/blob/main/meeting_02_LaTeX.ipynb\" target=\"_parent\"><img src=\"https://colab.research.google.com/assets/colab-badge.svg\" alt=\"Open In Colab\"/></a>"
      ]
    },
    {
      "cell_type": "markdown",
      "metadata": {
        "id": "jJW9S_0jySBt"
      },
      "source": [
        "<center>\n",
        "\n",
        "![Captura de Pantalla 2021-05-06 a la(s) 22.13.27.png](data:image/png;base64,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)"
      ]
    },
    {
      "cell_type": "markdown",
      "metadata": {
        "id": "19La8gW4xdXw"
      },
      "source": [
        "<center>\n",
        "<font color=\"#41a8c7\">\n",
        "<h2><b>\n",
        "Lenguaje $\\LaTeX{}$\n",
        "\n",
        "</font>\n",
        "</center>"
      ]
    },
    {
      "cell_type": "markdown",
      "metadata": {
        "id": "rYHUtQ9iA-0i"
      },
      "source": [
        "# **Expresiones matemáticas** "
      ]
    },
    {
      "cell_type": "markdown",
      "metadata": {
        "id": "2IcDpdKmLJ2u"
      },
      "source": [
        "Las expresiones matemáticas son muy utilizadas en el campo de las Ciencias Económicas, para empezar a escribir una de ellas, se debe colocar antes del código, el símbolo $. Este símbolo se coloca una vez al inicio y al final de la expresión matemática generada con la sintaxis de LaTeX.\n",
        "\n",
        "***Pero se colocará dos veces es decir $$, cuando se quiere la expresión matemática centrada en la celda.***\n",
        "\n",
        "***Todo lo que vemos a continuación, es lo que se puede hacer con LaTeX***\n",
        "\n",
        "https://en.wikibooks.org/wiki/LaTeX/Mathematics#List_of_mathematical_symbols\n",
        "\n"
      ]
    },
    {
      "cell_type": "markdown",
      "metadata": {
        "id": "fBO4JKfNLmJn"
      },
      "source": [
        "## Fracciones y Binomiales"
      ]
    },
    {
      "cell_type": "markdown",
      "metadata": {
        "id": "1J1nyv5ZL7rs"
      },
      "source": [
        "Una fracción es creada usando la siguiente sintaxis \\frac para hacer una fracción y entre llaves, el numerador primero y el denominador despues:\n",
        "~~~\n",
        "$\\frac{numerador}{denominador}$\n",
        "~~~\n",
        "**y queda de la siguiente forma:**\n",
        "\n",
        "$\\frac{numerador}{denominador}$\n",
        "\n",
        "**y si se quiere centrado, se utilizan dos simbolos $$:**\n",
        "\n",
        "$$\\frac{numerador}{denominador}$$\n",
        "\n"
      ]
    },
    {
      "cell_type": "markdown",
      "metadata": {
        "id": "rZxZOrefM4em"
      },
      "source": [
        "Tambien se pueden incorporar fracciones dentro de una fracción, con la siguiente sintaxis:\n",
        "\n",
        "~~~\n",
        "$\\frac{\\frac{1}{x}+\\frac{1}{y}}{y-z}$\n",
        "~~~\n",
        "**y queda de la siguiente forma:**\n",
        "\n",
        "$\\frac{\\frac{1}{x}+\\frac{1}{y}}{y-z}$"
      ]
    },
    {
      "cell_type": "markdown",
      "metadata": {
        "id": "W3-_Ra_nNyE4"
      },
      "source": [
        "Una binomial se logra con \\binom y las llaves, como la siguiente sintaxis:\n",
        "~~~\n",
        "$\\binom{n}{k}$\n",
        "~~~\n",
        "**y queda de la siguiente forma:**\n",
        "\n",
        "$\\binom{n}{k}$"
      ]
    },
    {
      "cell_type": "markdown",
      "metadata": {
        "id": "F_QQ6pPKPSW_"
      },
      "source": [
        "Y combinando una fracción con una binomial:\n",
        "~~~\n",
        "$\\frac{n!}{k!(n-k)!} = \\binom{n}{k}$\n",
        "~~~\n",
        "**y queda de la siguiente forma:**\n",
        "\n",
        "$\\frac{n!}{k!(n-k)!} = \\binom{n}{k}$"
      ]
    },
    {
      "cell_type": "markdown",
      "metadata": {
        "id": "wq1CF3FxQZGK"
      },
      "source": [
        "## Potencias e Índices"
      ]
    },
    {
      "cell_type": "markdown",
      "metadata": {
        "id": "NJZaFAfTRijm"
      },
      "source": [
        "Para potencias se utiliza el simbolo ^ para indicar la potencia, que debe escribirse entre llaves, con la siguiente sintaxis:\n",
        "~~~\n",
        "$n^{10}$\n",
        "~~~\n",
        "**y queda de la siguiente forma:**\n",
        "\n",
        "$n^{10}$\n",
        "\n"
      ]
    },
    {
      "cell_type": "markdown",
      "metadata": {
        "id": "edcR0tCLTKuh"
      },
      "source": [
        "\n",
        "Para un índice se utiliza el guión bajo _ y también se debe escribir entre llaves, con la siguiente sintaxis:\n",
        "~~~\n",
        "$k_{n+1}$\n",
        "~~~\n",
        "**y queda de la siguiente forma:**\n",
        "\n",
        "$k_{n+1}$"
      ]
    },
    {
      "cell_type": "markdown",
      "metadata": {
        "id": "OjQVZQKqUF2L"
      },
      "source": [
        "Combinando los dos, si queremos hacer la sumatoria \\sum que tenga un indice y una potencia, lo hacemos con la siguiente sintaxis:\n",
        "~~~\n",
        "$\\sum_{i=0}^t$\n",
        "~~~\n",
        "**y queda de la siguiente forma:**\n",
        "\n",
        "$\\sum_{i=0}^t$"
      ]
    },
    {
      "cell_type": "markdown",
      "metadata": {
        "id": "MH7hTjq4WJ-Y"
      },
      "source": [
        "Tambien se pueden utilizar los simbolos para potencias e índices, y escribir fracciones:\n",
        "~~~\n",
        "$^3/_7$\n",
        "~~~\n",
        "**y queda de la siguiente forma:**\n",
        "\n",
        "$^3/_7$\n"
      ]
    },
    {
      "cell_type": "markdown",
      "metadata": {
        "id": "0tzzu9psX9ic"
      },
      "source": [
        "## Raíces"
      ]
    },
    {
      "cell_type": "markdown",
      "metadata": {
        "id": "9CVJlTcvYBVR"
      },
      "source": [
        "La raiz cuadrada se logra con \\sqrt y entre llaves el contenido de la misma:\n",
        "~~~\n",
        "$\\sqrt{\\frac{a}{b}}$\n",
        "~~~\n",
        "**y queda de la siguiente forma:**\n",
        "\n",
        "$\\sqrt{\\frac{a}{b}}$\n",
        "\n",
        "Para una raiz cúbica, se coloca entre corchetes el número 3:\n",
        "~~~\n",
        "$\\sqrt[3]{\\frac{a}{b}}$\n",
        "~~~\n",
        "**y queda de la siguiente forma:**\n",
        "\n",
        "$\\sqrt[3]{\\frac{a}{b}}$\n",
        "\n"
      ]
    },
    {
      "cell_type": "markdown",
      "metadata": {
        "id": "87qCiuoyY-X_"
      },
      "source": [
        "Otro ejemplo:\n",
        "~~~\n",
        "$\\sqrt[n]{1+x+x^2+x^3+\\dots+x^n}$\n",
        "~~~\n",
        "**y queda de la siguiente forma:**\n",
        "\n",
        "$\\sqrt[n]{1+x+x^2+x^3+\\dots+x^n}$\n",
        "\n",
        "~~~\n",
        "\\dots hace los tres puntitos, y las potencias en este ejemplo no se colocaron entre llaves\n",
        "~~~\n",
        " "
      ]
    },
    {
      "cell_type": "markdown",
      "metadata": {
        "id": "gBZvb-uFag0r"
      },
      "source": [
        "## Sumas e Integrales"
      ]
    },
    {
      "cell_type": "markdown",
      "metadata": {
        "id": "BiQHJlMnasl3"
      },
      "source": [
        "Las sumas se logran con \\sum y los simbolos de potencias e indices:\n",
        "~~~\n",
        "$\\sum_{i=1}^{10} t_i$\n",
        "~~~\n",
        "**y queda de la siguiente forma:**\n",
        "\n",
        "$\\sum_{i=1}^{10} t_i$"
      ]
    },
    {
      "cell_type": "markdown",
      "metadata": {
        "id": "qaZ5m_oobgOF"
      },
      "source": [
        "Y si quisieramos con la notación a la que estamos acostumbrados, se debe agregar antes \\displaystyle:\n",
        "\n",
        "~~~\n",
        "$\\displaystyle\\sum_{i=1}^{10} t_i$\n",
        "~~~\n",
        "**y queda de la siguiente forma:**\n",
        "\n",
        "$\\displaystyle\\sum_{i=1}^{10} t_i$\n",
        "\n"
      ]
    },
    {
      "cell_type": "markdown",
      "metadata": {
        "id": "4rTZCRH-cefr"
      },
      "source": [
        "Para una integral se usa \\int y el simbolo infinito \\infty:\n",
        "~~~\n",
        "$\\int_0^\\infty {e}^{-x}{d}x$\n",
        "~~~\n",
        "**y queda de la siguiente forma:**\n",
        "\n",
        "$\\int_0^\\infty {e}^{-x}{d}x$\n"
      ]
    },
    {
      "cell_type": "markdown",
      "metadata": {
        "id": "nmtrCzb_dO-5"
      },
      "source": [
        "En este caso tambien podemos usar \\displaystyle:\n",
        "~~~\n",
        "$\\displaystyle\\int_0^\\infty {e}^{-x}{d}x$\n",
        "~~~\n",
        "**y queda de la siguiente forma:**\n",
        "\n",
        "$\\displaystyle\\int_0^\\infty {e}^{-x}{d}x$\n",
        "\n"
      ]
    },
    {
      "cell_type": "markdown",
      "metadata": {
        "id": "2U33PTTPdsST"
      },
      "source": [
        "##Parentesis, corchetes y llaves"
      ]
    },
    {
      "cell_type": "markdown",
      "metadata": {
        "id": "kAqAvbpkeJO-"
      },
      "source": [
        "Los parentesis, corchetes y llaves se escriben directamente con los simbolos que conocemos:\n",
        "~~~\n",
        "( a ) \n",
        "[ b ] \n",
        "{ c }\n",
        "~~~\n",
        "**y queda de la siguiente forma:**\n",
        "\n",
        "( a )\n",
        "\n",
        "[ b ] \n",
        "\n",
        "{ c }\n"
      ]
    },
    {
      "cell_type": "markdown",
      "metadata": {
        "id": "-CbeAHvDgYwl"
      },
      "source": [
        "## Matrices"
      ]
    },
    {
      "cell_type": "markdown",
      "metadata": {
        "id": "lM6f7cBehIsC"
      },
      "source": [
        "Para una matriz se usan diferentes comandos en la sintaxis:\n",
        "~~~\n",
        "Para comenzar la matriz \\begin{matrix} \n",
        "luego se colocan los valores de la matriz, separados por los simbolos \\\\  \n",
        "y para finalizar la matriz el comando \\end{matrix}\n",
        "~~~\n",
        "En el caso de una matriz $3 \\times 3$\n",
        "~~~\n",
        "$\\begin{matrix} a & b & c \\\\d & e & f \\\\g & h & i\\end{matrix}$\n",
        "~~~\n",
        "**y queda de la siguiente forma:**\n",
        "\n",
        "$\\begin{matrix} a & b & c \\\\d & e & f \\\\g & h & i\\end{matrix}$\n"
      ]
    },
    {
      "cell_type": "markdown",
      "metadata": {
        "id": "1P6F4Uu5sy1v"
      },
      "source": [
        "Otro ejemplo, que se escribe en varias lineas para entender mejor la sintaxis, y se usa {pmatrix} para agregar paréntesis:\n",
        "~~~\n",
        "$A_{m,n} = \n",
        " \\begin{pmatrix}\n",
        "  a_{1,1} & a_{1,2} & \\cdots & a_{1,n} \\\\\n",
        "  a_{2,1} & a_{2,2} & \\cdots & a_{2,n} \\\\\n",
        "  \\vdots  & \\vdots  & \\ddots & \\vdots  \\\\\n",
        "  a_{m,1} & a_{m,2} & \\cdots & a_{m,n} \n",
        " \\end{pmatrix}$\n",
        " ~~~\n",
        "**y queda de la siguiente forma:**\n",
        "\n",
        "$A_{m,n} =\n",
        "\\begin{pmatrix}\n",
        " a_{1,1} & a_{1,2} & \\cdots & a_{1,n} \\\\\n",
        " a_{2,1} & a_{2,2} & \\cdots & a_{2,n} \\\\\n",
        " \\vdots  & \\vdots  & \\ddots & \\vdots  \\\\\n",
        " a_{m,1} & a_{m,2} & \\cdots & a_{m,n}\n",
        "\\end{pmatrix}$\n"
      ]
    },
    {
      "cell_type": "markdown",
      "metadata": {
        "id": "v_NsRCrquHNo"
      },
      "source": [
        "Lo mismo pero con corchetes se logra con {bmatrix}:\n",
        "~~~\n",
        "$A_{m,n} = \n",
        " \\begin{bmatrix}\n",
        "  a_{1,1} & a_{1,2} & \\cdots & a_{1,n} \\\\\n",
        "  a_{2,1} & a_{2,2} & \\cdots & a_{2,n} \\\\\n",
        "  \\vdots  & \\vdots  & \\ddots & \\vdots  \\\\\n",
        "  a_{m,1} & a_{m,2} & \\cdots & a_{m,n} \n",
        " \\end{bmatrix}$\n",
        " ~~~\n",
        "**y queda de la siguiente forma:**\n",
        "\n",
        "$A_{m,n} = \n",
        " \\begin{bmatrix}\n",
        "  a_{1,1} & a_{1,2} & \\cdots & a_{1,n} \\\\\n",
        "  a_{2,1} & a_{2,2} & \\cdots & a_{2,n} \\\\\n",
        "  \\vdots  & \\vdots  & \\ddots & \\vdots  \\\\\n",
        "  a_{m,1} & a_{m,2} & \\cdots & a_{m,n} \n",
        " \\end{bmatrix}$\n"
      ]
    },
    {
      "cell_type": "markdown",
      "metadata": {
        "id": "jeHc81Zhu0KY"
      },
      "source": [
        "Ahora con llaves se logra con {Bmatrix}:\n",
        "~~~\n",
        "$A_{m,n} = \n",
        " \\begin{Bmatrix}\n",
        "  a_{1,1} & a_{1,2} & \\cdots & a_{1,n} \\\\\n",
        "  a_{2,1} & a_{2,2} & \\cdots & a_{2,n} \\\\\n",
        "  \\vdots  & \\vdots  & \\ddots & \\vdots  \\\\\n",
        "  a_{m,1} & a_{m,2} & \\cdots & a_{m,n} \n",
        " \\end{Bmatrix}$\n",
        " ~~~\n",
        "**y queda de la siguiente forma:**\n",
        "\n",
        "$A_{m,n} = \n",
        " \\begin{Bmatrix}\n",
        "  a_{1,1} & a_{1,2} & \\cdots & a_{1,n} \\\\\n",
        "  a_{2,1} & a_{2,2} & \\cdots & a_{2,n} \\\\\n",
        "  \\vdots  & \\vdots  & \\ddots & \\vdots  \\\\\n",
        "  a_{m,1} & a_{m,2} & \\cdots & a_{m,n} \n",
        " \\end{Bmatrix}$\n"
      ]
    },
    {
      "cell_type": "markdown",
      "metadata": {
        "id": "GKEcComfvjbE"
      },
      "source": [
        "Ahora con barras se logra con {vmatrix}:\n",
        "~~~\n",
        "$A_{m,n} = \n",
        " \\begin{vmatrix}\n",
        "  a_{1,1} & a_{1,2} & \\cdots & a_{1,n} \\\\\n",
        "  a_{2,1} & a_{2,2} & \\cdots & a_{2,n} \\\\\n",
        "  \\vdots  & \\vdots  & \\ddots & \\vdots  \\\\\n",
        "  a_{m,1} & a_{m,2} & \\cdots & a_{m,n} \n",
        " \\end{vmatrix}$\n",
        " ~~~\n",
        "**y queda de la siguiente forma:**\n",
        "\n",
        "$A_{m,n} = \n",
        " \\begin{vmatrix}\n",
        "  a_{1,1} & a_{1,2} & \\cdots & a_{1,n} \\\\\n",
        "  a_{2,1} & a_{2,2} & \\cdots & a_{2,n} \\\\\n",
        "  \\vdots  & \\vdots  & \\ddots & \\vdots  \\\\\n",
        "  a_{m,1} & a_{m,2} & \\cdots & a_{m,n} \n",
        " \\end{vmatrix}$\n"
      ]
    },
    {
      "cell_type": "markdown",
      "metadata": {
        "id": "y0Na5r1WvyMp"
      },
      "source": [
        "Ahora con doble barras se logra con {Vmatrix}:\n",
        "~~~\n",
        "$A_{m,n} = \n",
        " \\begin{Vmatrix}\n",
        "  a_{1,1} & a_{1,2} & \\cdots & a_{1,n} \\\\\n",
        "  a_{2,1} & a_{2,2} & \\cdots & a_{2,n} \\\\\n",
        "  \\vdots  & \\vdots  & \\ddots & \\vdots  \\\\\n",
        "  a_{m,1} & a_{m,2} & \\cdots & a_{m,n} \n",
        " \\end{Vmatrix}$\n",
        " ~~~\n",
        "**y queda de la siguiente forma:**\n",
        "\n",
        "$A_{m,n} = \n",
        " \\begin{Vmatrix}\n",
        "  a_{1,1} & a_{1,2} & \\cdots & a_{1,n} \\\\\n",
        "  a_{2,1} & a_{2,2} & \\cdots & a_{2,n} \\\\\n",
        "  \\vdots  & \\vdots  & \\ddots & \\vdots  \\\\\n",
        "  a_{m,1} & a_{m,2} & \\cdots & a_{m,n} \n",
        " \\end{Vmatrix}$\n"
      ]
    },
    {
      "cell_type": "markdown",
      "metadata": {
        "id": "ubY2Hw4SwgK3"
      },
      "source": [
        "# Símbolos de Relación"
      ]
    },
    {
      "cell_type": "markdown",
      "metadata": {
        "id": "h5J2z99Qwj82"
      },
      "source": [
        "\n",
        "+ Se escribe \\leq para el símbolo $\\leq$\n",
        "+ Se escribe \\ll para el símbolo $\\ll$\n",
        "+ Se escribe \\subset para el símbolo $\\subset$\n",
        "+ Se escribe \\subseteq para el símbolo $\\subseteq$\n",
        "+ Se escribe \\nsubseteq para el símbolo $\\nsubseteq$\n",
        "+ Se escribe \\sqsubset para el símbolo $\\sqsubset$\n",
        "+ Se escribe \\sqsubseteq para el símbolo $\\sqsubseteq$\n",
        "+ Se escribe \\preceq para el símbolo $\\preceq$\n",
        "+ Se escribe \\therefore para el símbolo $\\therefore$\n",
        "+ Se escribe \\geq para el símbolo $\\geq$\n",
        "+ Se escribe \\gg para el símbolo $\\gg$\n",
        "+ Se escribe \\supset para el símbolo $\\supset$\n",
        "+ Se escribe \\supseteq para el símbolo $\\supseteq$\n",
        "+ Se escribe \\nsupseteq para el símbolo $\\nsupseteq$\n",
        "+ Se escribe \\sqsupset para el símbolo $\\sqsupset$\n",
        "+ Se escribe \\sqsupseteq para el símbolo $\\sqsupseteq$\n",
        "+ Se escribe \\succeq para el símbolo $\\succeq$\n",
        "+ Se escribe \\because para el símbolo $\\because$"
      ]
    },
    {
      "cell_type": "markdown",
      "metadata": {
        "id": "Ou4gNdkqxH2r"
      },
      "source": [
        "# Símbolos de Puntuación"
      ]
    },
    {
      "cell_type": "markdown",
      "metadata": {
        "id": "jUzf2EtRxQcj"
      },
      "source": [
        "+ Se escribe \\dots para el símbolo $\\dots$\n",
        "+ Se escribe \\cdots para el símbolo $\\cdots$ y quedan centrados en la línea\n",
        "+ Se escribe \\vdots para el símbolo $\\vdots$\n",
        "+ Se escribe \\ddots para el símbolo $\\ddots$"
      ]
    },
    {
      "cell_type": "markdown",
      "metadata": {
        "id": "OzsTqsEr5spw"
      },
      "source": [
        "# Símbolos de Operaciones Binarias"
      ]
    },
    {
      "cell_type": "markdown",
      "metadata": {
        "id": "SBnZtrsr51Bc"
      },
      "source": [
        "+ Se escribe \\times para el símbolo $\\times$\n",
        "+ Se escribe \\div para el símbolo $\\div$\n",
        "+ Se escribe \\ast para el símbolo $\\ast$\n",
        "+ Se escribe \\star para el símbolo $\\star$\n",
        "+ Se escribe \\vee para el símbolo $\\vee$\n",
        "+ Se escribe \\wedge para el símbolo $\\wedge$\n",
        "+ Se escribe \\cdot para el símbolo $\\cdot$\n",
        "+ Se escribe \\bullet para el símbolo $\\bullet$\n",
        "+ Se escribe \\otimes para el símbolo $\\otimes$\n",
        "+ Se escribe \\odot para el símbolo $\\odot$\n",
        "+ Se escribe \\setminus para el símbolo $\\setminus$\n",
        "+ Se escribe \\diamond para el símbolo $\\diamond$\n",
        "+ Se escribe \\bigtriangleup para el símbolo $\\bigtriangleup$\n",
        "+ Se escribe \\bigtriangledown para el símbolo $\\bigtriangledown$\n"
      ]
    },
    {
      "cell_type": "markdown",
      "metadata": {
        "id": "s0KrwCwq6Hlp"
      },
      "source": [
        "# Símbolos de Notaciones Lógicas"
      ]
    },
    {
      "cell_type": "markdown",
      "metadata": {
        "id": "4SgcM29_6UG2"
      },
      "source": [
        "+ Se escribe \\exists para el símbolo $\\exists$\n",
        "+ Se escribe \\nexists para el símbolo $\\nexists$\n",
        "+ Se escribe \\forall para el símbolo $\\forall$\n",
        "+ Se escribe \\subset para el símbolo $\\subset$\n",
        "+ Se escribe \\supset para el símbolo $\\supset$\n",
        "+ Se escribe \\in para el símbolo $\\in$\n",
        "+ Se escribe \\notin para el símbolo $\\notin$\n",
        "+ Se escribe \\ni para el símbolo $\\ni$\n",
        "+ Se escribe \\implies para el símbolo $\\implies$"
      ]
    },
    {
      "cell_type": "markdown",
      "metadata": {
        "id": "S0_Gww7u6-jk"
      },
      "source": [
        "# Algunas Letras Griegas"
      ]
    },
    {
      "cell_type": "markdown",
      "metadata": {
        "id": "kx-d4h8O7F-5"
      },
      "source": [
        "+ La letra alfa se escribe \\alpha y se visualiza $\\alpha$\n",
        "+ La letra beta se escribe \\beta y se visualiza $\\beta$\n",
        "+ La letra gama se escribe \\gamma y se visualiza $\\gamma$\n",
        "+ La letra delta se escribe \\delta y se visualiza $\\delta$\n",
        "+ La letra epsilon se escribe \\epsilon y se visualiza $\\epsilon$\n",
        "+ La letra omega se escribe \\omega y se visualiza $\\omega$\n",
        "+ La letra pi se escribe \\pi y se visualiza $\\pi$\n",
        "+ La letra tita se escribe \\theta y se visualiza $\\theta$\n",
        "+ La letra kapa se escribe \\kappa y se visualiza $\\kappa$\n",
        "+ La letra lambda se escribe \\lambda y se visualiza $\\lambda$\n",
        "+ La letra sigma se escribe \\sigma y se visualiza $\\sigma\\$\n"
      ]
    },
    {
      "cell_type": "markdown",
      "metadata": {
        "id": "UbQBKxCx7uWH"
      },
      "source": [
        "# Ejemplos"
      ]
    },
    {
      "cell_type": "markdown",
      "metadata": {
        "id": "b9EzRa-f7x1-"
      },
      "source": [
        "**Primer ejemplo:**\n",
        "~~~\n",
        "$ y_t = \\frac{\\sum_{i=0}^t w_i x_{t-i}}{\\sum_{i=0}^t w_i}$\n",
        "~~~\n",
        "\n",
        "$y_t = \\frac{\\sum_{i=0}^t w_i x_{t-i}}{\\sum_{i=0}^t w_i}$\n",
        "\n",
        "**Segundo ejemplo:**\n",
        "~~~\n",
        "$ y_t = \\frac{x_t + (1 - \\alpha)x_{t-1} + (1 - \\alpha)^2 x_{t-2} +(1 - \\alpha)^t x_{0}}{1 + (1 - \\alpha) + (1 - \\alpha)^2 + (1 - \\alpha)^t} $\n",
        "~~~\n",
        "\n",
        "$ y_t = \\frac{x_t + (1 - \\alpha)x_{t-1} + (1 - \\alpha)^2 x_{t-2} +(1 - \\alpha)^t x_{0}}{1 + (1 - \\alpha) + (1 - \\alpha)^2 + (1 - \\alpha)^t} $\n",
        "\n",
        "**Tercer ejemplo:**\n",
        "~~~\n",
        "$ \\begin{split}y_0 &= x_0 \\\\\n",
        "y_t &= (1 - \\alpha) y_{t-1} + \\alpha x_t,\\end{split}$\n",
        "~~~\n",
        "\n",
        "$ \\begin{split}y_0 &= x_0 \\\\\n",
        "y_t &= (1 - \\alpha) y_{t-1} + \\alpha x_t,\\end{split}$\n",
        "\n",
        "**Cuarto ejemplo:**\n",
        "~~~\n",
        "$\\begin{split}w_j = \\begin{cases}\n",
        "    \\alpha (1 - \\alpha)^j & \\text{si } j < t \\\\\n",
        "    (1 - \\alpha)^j        & \\text{si } j = t.\n",
        "\\end{cases}\\end{split}$\n",
        "~~~\n",
        "\n",
        "$\\begin{split}w_j = \\begin{cases}\n",
        "    \\alpha (1 - \\alpha)^j & \\text{si } j < t \\\\\n",
        "    (1 - \\alpha)^j        & \\text{si } j = t.\n",
        "\\end{cases}\\end{split}$\n"
      ]
    }
  ]
}